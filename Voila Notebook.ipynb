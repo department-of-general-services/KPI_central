{
 "cells": [
  {
   "cell_type": "code",
   "execution_count": 1,
   "id": "aea75913",
   "metadata": {},
   "outputs": [
    {
     "data": {
      "text/plain": [
       "<matplotlib.pyplot._IoffContext at 0x1122eb1f0>"
      ]
     },
     "execution_count": 1,
     "metadata": {},
     "output_type": "execute_result"
    }
   ],
   "source": [
    "# workhorse modules\n",
    "import pandas as pd\n",
    "from datetime import timedelta, datetime\n",
    "from pathlib import Path\n",
    "import ipywidgets as widgets\n",
    "from ipywidgets import interact, interactive, fixed, interact_manual\n",
    "from IPython.display import HTML\n",
    "import matplotlib.pyplot as plt\n",
    "\n",
    "\n",
    "# local utility functions\n",
    "from utils.general_utils import (\n",
    "    add_fiscal_year,\n",
    "    compute_is_on_time,\n",
    "    set_pd_params,\n",
    "    choose_pms_or_cms,\n",
    "    compute_pm_cm,\n",
    "    compute_pm_cm_by_month,\n",
    "    compute_kpi_table,\n",
    "    compute_kpi_table_by_month,\n",
    ")\n",
    "# local visualization functions\n",
    "from utils.vis_utils import set_plot_params, pointplot_with_barplot\n",
    "plt.ioff()"
   ]
  },
  {
   "cell_type": "code",
   "execution_count": 2,
   "id": "26f5b41b",
   "metadata": {},
   "outputs": [],
   "source": [
    "set_pd_params()\n",
    "set_plot_params(width=12, height=6)\n",
    "pd.options.mode.chained_assignment = None  # default='warn'"
   ]
  },
  {
   "cell_type": "code",
   "execution_count": 3,
   "id": "9f86c626",
   "metadata": {},
   "outputs": [],
   "source": [
    "DATA_URL = 'https://gist.githubusercontent.com/chriddyp/cb5392c35661370d95f300086accea51/raw/8e0768211f6b747c0db42a9ce9a0937dafcbd8b2/indicators.csv'\n",
    "\n",
    "\n",
    "EXPLANATION = \"\"\"\\\n",
    "<div class=\"app-sidebar\">\n",
    "<p><em>Compare different development indicators.</em><p>\n",
    "\n",
    "<p>Select what indicators to plot in the dropdowns, and use the slider\n",
    "to sub-select a fraction of years to include in the plot.</p>\n",
    "\n",
    "<p>Data and idea copied from the <a href=\"https://dash.plot.ly/getting-started-part-2\">\n",
    "Plotly Dash documentation</a>.</p>\n",
    "\n",
    "<p>This example demonstrates combining matplotlib with Jupyter widgets. For more interactive plots,\n",
    "consider using <a href=\"https://github.com/bloomberg/bqplot\">bqplot</a>.\n",
    "</div>\n",
    "\"\"\""
   ]
  },
  {
   "cell_type": "code",
   "execution_count": 4,
   "id": "30be7a9d",
   "metadata": {},
   "outputs": [
    {
     "data": {
      "text/html": [
       "<style>\n",
       ".app-subtitle {\n",
       "    font-size: 1.5em;\n",
       "}\n",
       "\n",
       ".app-subtitle a {\n",
       "    color: #106ba3;\n",
       "}\n",
       "\n",
       ".app-subtitle a:hover {\n",
       "    text-decoration: underline;\n",
       "}\n",
       "\n",
       ".app-sidebar p {\n",
       "    margin-bottom: 1em;\n",
       "    line-height: 1.7;\n",
       "}\n",
       "\n",
       ".app-sidebar a {\n",
       "    color: #106ba3;\n",
       "}\n",
       "\n",
       ".app-sidebar a:hover {\n",
       "    text-decoration: underline;\n",
       "}\n",
       "</style>\n"
      ],
      "text/plain": [
       "<IPython.core.display.HTML object>"
      ]
     },
     "execution_count": 4,
     "metadata": {},
     "output_type": "execute_result"
    }
   ],
   "source": [
    "HTML(\"\"\"\\\n",
    "<style>\n",
    ".app-subtitle {\n",
    "    font-size: 1.5em;\n",
    "}\n",
    "\n",
    ".app-subtitle a {\n",
    "    color: #106ba3;\n",
    "}\n",
    "\n",
    ".app-subtitle a:hover {\n",
    "    text-decoration: underline;\n",
    "}\n",
    "\n",
    ".app-sidebar p {\n",
    "    margin-bottom: 1em;\n",
    "    line-height: 1.7;\n",
    "}\n",
    "\n",
    ".app-sidebar a {\n",
    "    color: #106ba3;\n",
    "}\n",
    "\n",
    ".app-sidebar a:hover {\n",
    "    text-decoration: underline;\n",
    "}\n",
    "</style>\n",
    "\"\"\")"
   ]
  },
  {
   "cell_type": "code",
   "execution_count": 5,
   "id": "b08ea25e",
   "metadata": {},
   "outputs": [],
   "source": [
    "class App:\n",
    "    def __init__(self, df):\n",
    "        self._df = df\n",
    "        fy_choices = [\"Requested\", \"Completed\", \"Closed\"]\n",
    "        type_choices = [\"PMs\", \"CMs\", \"All WRs\"]\n",
    "        self._fy_dropdown = self._create_dropdown(fy_choices)\n",
    "        self._type_dropdown = self._create_dropdown(type_choices)\n",
    "        self._plot_container = widgets.Output()\n",
    "\n",
    "        _app_container = widgets.VBox(\n",
    "            [\n",
    "                widgets.HBox([self._fy_dropdown, self._type_dropdown]),\n",
    "                self._plot_container,\n",
    "            ],\n",
    "            layout=widgets.Layout(align_items=\"center\", flex=\"3 0 auto\"),\n",
    "        )\n",
    "        self.container = widgets.VBox(\n",
    "            [\n",
    "                widgets.HTML(\n",
    "                    (\n",
    "                        \"<h1>Development indicators</h1>\"\n",
    "                        '<h2 class=\"app-subtitle\"><a href=\"https://github.com/pbugnion/voila-gallery/blob/master/country-indicators/index.ipynb\">Link to code</a></h2>'\n",
    "                    ),\n",
    "                    layout=widgets.Layout(margin=\"0 0 5em 0\"),\n",
    "                ),\n",
    "                widgets.HBox(\n",
    "                    [\n",
    "                        _app_container,\n",
    "                        widgets.HTML(\n",
    "                            EXPLANATION, layout=widgets.Layout(margin=\"0 0 0 2em\")\n",
    "                        ),\n",
    "                    ]\n",
    "                ),\n",
    "            ],\n",
    "            layout=widgets.Layout(\n",
    "                flex=\"1 1 auto\", margin=\"0 auto 0 auto\", max_width=\"1024px\"\n",
    "            ),\n",
    "        )\n",
    "        self._update_app()\n",
    "\n",
    "    @classmethod\n",
    "    def from_pickle(cls):\n",
    "        scorecard_path = Path.cwd() / \"data\" / \"scorecard_data.pkl\"\n",
    "        df = pd.read_pickle(scorecard_path)\n",
    "        print(f\"The work request data contains {len(df):,} rows.\")\n",
    "        return cls(df)\n",
    "\n",
    "    def _create_dropdown(self, options, initial_index=0):\n",
    "        dropdown = widgets.Dropdown(options=options, value=options[initial_index])\n",
    "        dropdown.observe(self._on_change, names=[\"value\"])\n",
    "        return dropdown\n",
    "\n",
    "    def _create_plot(self, fy_option, type_option):\n",
    "        df = self._df\n",
    "        print(fy_option)\n",
    "        df = add_fiscal_year(self._df, assign_fy_on=fy_option)\n",
    "        df = choose_pms_or_cms(df, selection=type_option)\n",
    "        \n",
    "        compliance = compute_kpi_table(\n",
    "            df,\n",
    "            f\"percent_{type_option}_on_time\",\n",
    "            f\"total_{type_option}\",\n",
    "            grouping_var=\"fiscal_year\",\n",
    "        )\n",
    "\n",
    "        pointplot_with_barplot(\n",
    "            compliance,\n",
    "            x=compliance.index,\n",
    "            point_y=f\"percent_{type_option}_on_time\",\n",
    "            bar_y=f\"total_{type_option}\",\n",
    "            xlabel=f\"Fiscal Year {fy_option}\",\n",
    "            ylabel_point=f\"Percent {type_option} On Time (Red line)\",\n",
    "            ylabel_bar=f\"Total {type_option} (Grey bars)\",\n",
    "            title=f\"Percent of {type_option} Completed On Time\",\n",
    "        )\n",
    "\n",
    "    def _on_change(self, _):\n",
    "        self._update_app()\n",
    "\n",
    "    def _update_app(self):\n",
    "        fy_option = self._fy_dropdown.value\n",
    "        type_option = self._type_dropdown.value\n",
    "\n",
    "        self._plot_container.clear_output(wait=True)\n",
    "        with self._plot_container:\n",
    "            self._create_plot(fy_option, type_option)\n",
    "            plt.show()"
   ]
  },
  {
   "cell_type": "code",
   "execution_count": 6,
   "id": "dc8e6f50",
   "metadata": {},
   "outputs": [
    {
     "name": "stdout",
     "output_type": "stream",
     "text": [
      "The work request data contains 108,105 rows.\n"
     ]
    },
    {
     "data": {
      "application/vnd.jupyter.widget-view+json": {
       "model_id": "f80e34bfd05c47cea38e4f20d74c4a07",
       "version_major": 2,
       "version_minor": 0
      },
      "text/plain": [
       "VBox(children=(HTML(value='<h1>Development indicators</h1><h2 class=\"app-subtitle\"><a href=\"https://github.com…"
      ]
     },
     "metadata": {},
     "output_type": "display_data"
    }
   ],
   "source": [
    "app = App.from_pickle()\n",
    "\n",
    "app.container\n"
   ]
  }
 ],
 "metadata": {
  "kernelspec": {
   "display_name": "BPIO",
   "language": "python",
   "name": "bpio"
  },
  "language_info": {
   "codemirror_mode": {
    "name": "ipython",
    "version": 3
   },
   "file_extension": ".py",
   "mimetype": "text/x-python",
   "name": "python",
   "nbconvert_exporter": "python",
   "pygments_lexer": "ipython3",
   "version": "3.8.5"
  },
  "toc": {
   "base_numbering": 1,
   "nav_menu": {},
   "number_sections": true,
   "sideBar": true,
   "skip_h1_title": false,
   "title_cell": "Table of Contents",
   "title_sidebar": "Contents",
   "toc_cell": false,
   "toc_position": {},
   "toc_section_display": true,
   "toc_window_display": false
  }
 },
 "nbformat": 4,
 "nbformat_minor": 5
}
