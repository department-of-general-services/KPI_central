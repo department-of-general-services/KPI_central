{
 "cells": [
  {
   "cell_type": "markdown",
   "metadata": {},
   "source": [
    "# FMD Scorecard KPIs\n",
    "This notebook has a few objectives. \n",
    "\n",
    "- Come as close as we can to replicating the results reported in previous years. This lets us know that we are all looking at the same data and seeing the same thing\n",
    "- Show the results we'll get with modified results \n",
    "\n",
    "Note that in the past, the Department of General Services has used a multi-phase process to compute KPIs, including SQL Queries and Excel formulas. No one person could see the entire process, beginning with the data in the database (the input) and ending with reported KPI. \n",
    "\n",
    "Part of the intention of this notebook is to build _transparency_ and _reproducibility_ by capturing the entire end-to-end process in one place."
   ]
  },
  {
   "cell_type": "markdown",
   "metadata": {},
   "source": [
    "## Setup"
   ]
  },
  {
   "cell_type": "markdown",
   "metadata": {},
   "source": [
    "### Import packages"
   ]
  },
  {
   "cell_type": "code",
   "execution_count": 1,
   "metadata": {},
   "outputs": [],
   "source": [
    "# workhorse modules\n",
    "import pandas as pd\n",
    "import numpy as np\n",
    "from datetime import timedelta, datetime\n",
    "import re\n",
    "from pathlib import Path\n",
    "\n",
    "# import datadotworld as dw\n",
    "import pyodbc  # for accessing the database directly\n",
    "import seaborn as sns\n",
    "\n",
    "# local utility functions\n",
    "from utils import *\n",
    "from private.config import config"
   ]
  },
  {
   "cell_type": "markdown",
   "metadata": {},
   "source": [
    "### Set pandas options\n",
    "This makes Pandas print all rows and columns to the output when requested."
   ]
  },
  {
   "cell_type": "code",
   "execution_count": 2,
   "metadata": {},
   "outputs": [],
   "source": [
    "set_pd_params()\n",
    "\n",
    "pd.options.mode.chained_assignment = None  # default='warn'"
   ]
  },
  {
   "cell_type": "markdown",
   "metadata": {},
   "source": [
    "### Import the data from Archibus database\n",
    "Data is a copy of Archibus's `wrhwr` table. To see the exact query used to generate the input data, see `/sql/input_for_FMD_KPIs.sql`."
   ]
  },
  {
   "cell_type": "code",
   "execution_count": 3,
   "metadata": {},
   "outputs": [
    {
     "name": "stdout",
     "output_type": "stream",
     "text": [
      "The KPIs raw dataframe has 104,495 rows.\n"
     ]
    },
    {
     "data": {
      "text/html": [
       "<div>\n",
       "<style scoped>\n",
       "    .dataframe tbody tr th:only-of-type {\n",
       "        vertical-align: middle;\n",
       "    }\n",
       "\n",
       "    .dataframe tbody tr th {\n",
       "        vertical-align: top;\n",
       "    }\n",
       "\n",
       "    .dataframe thead th {\n",
       "        text-align: right;\n",
       "    }\n",
       "</style>\n",
       "<table border=\"1\" class=\"dataframe\">\n",
       "  <thead>\n",
       "    <tr style=\"text-align: right;\">\n",
       "      <th></th>\n",
       "      <th>wr_id</th>\n",
       "      <th>date_requested</th>\n",
       "      <th>time_requested</th>\n",
       "      <th>date_completed</th>\n",
       "      <th>time_completed</th>\n",
       "      <th>date_closed</th>\n",
       "      <th>pmp_id</th>\n",
       "      <th>bl_id</th>\n",
       "      <th>cost_total</th>\n",
       "      <th>cost_labor</th>\n",
       "      <th>cost_parts</th>\n",
       "      <th>problem_type</th>\n",
       "      <th>requestor</th>\n",
       "      <th>supervisor</th>\n",
       "      <th>po_number</th>\n",
       "      <th>invoice_number</th>\n",
       "      <th>release_number</th>\n",
       "      <th>name</th>\n",
       "      <th>pmp_id</th>\n",
       "      <th>status</th>\n",
       "    </tr>\n",
       "  </thead>\n",
       "  <tbody>\n",
       "    <tr>\n",
       "      <th>92667</th>\n",
       "      <td>125800</td>\n",
       "      <td>2019-09-13</td>\n",
       "      <td>1899-12-30 10:24:21</td>\n",
       "      <td>2019-09-16</td>\n",
       "      <td>1899-12-30 05:45:51</td>\n",
       "      <td>2019-10-08 07:22:40.450</td>\n",
       "      <td>None</td>\n",
       "      <td>B00163</td>\n",
       "      <td>60.0</td>\n",
       "      <td>60.0</td>\n",
       "      <td>0.0</td>\n",
       "      <td>PLUMB/OTHER</td>\n",
       "      <td>JIMMY.HOLTHAUS</td>\n",
       "      <td>JOHN.HAMMOCK</td>\n",
       "      <td>None</td>\n",
       "      <td>None</td>\n",
       "      <td>None</td>\n",
       "      <td>The Weinberg Housing and Resource Center</td>\n",
       "      <td>None</td>\n",
       "      <td>Clo</td>\n",
       "    </tr>\n",
       "    <tr>\n",
       "      <th>77987</th>\n",
       "      <td>108006</td>\n",
       "      <td>2018-07-11</td>\n",
       "      <td>1899-12-30 16:17:44</td>\n",
       "      <td>2018-08-06</td>\n",
       "      <td>1899-12-30 13:33:39</td>\n",
       "      <td>2018-10-01 09:57:37.600</td>\n",
       "      <td>None</td>\n",
       "      <td>B00057</td>\n",
       "      <td>120.0</td>\n",
       "      <td>120.0</td>\n",
       "      <td>0.0</td>\n",
       "      <td>OTHER</td>\n",
       "      <td>LORETTA.BROWN</td>\n",
       "      <td>JIMMY.HOLTHAUS</td>\n",
       "      <td>None</td>\n",
       "      <td>None</td>\n",
       "      <td>None</td>\n",
       "      <td>Abel Wolman Muncipal Building</td>\n",
       "      <td>None</td>\n",
       "      <td>Clo</td>\n",
       "    </tr>\n",
       "    <tr>\n",
       "      <th>62630</th>\n",
       "      <td>91707</td>\n",
       "      <td>2017-08-01</td>\n",
       "      <td>1899-12-30 13:26:56</td>\n",
       "      <td>NaT</td>\n",
       "      <td>NaT</td>\n",
       "      <td>NaT</td>\n",
       "      <td>None</td>\n",
       "      <td>B00030</td>\n",
       "      <td>0.0</td>\n",
       "      <td>0.0</td>\n",
       "      <td>0.0</td>\n",
       "      <td>HVAC</td>\n",
       "      <td>CYNTHIA.GORDON</td>\n",
       "      <td>None</td>\n",
       "      <td>None</td>\n",
       "      <td>None</td>\n",
       "      <td>None</td>\n",
       "      <td>Baltimore City Police South Western District</td>\n",
       "      <td>None</td>\n",
       "      <td>Can</td>\n",
       "    </tr>\n",
       "  </tbody>\n",
       "</table>\n",
       "</div>"
      ],
      "text/plain": [
       "        wr_id date_requested      time_requested date_completed  \\\n",
       "92667  125800     2019-09-13 1899-12-30 10:24:21     2019-09-16   \n",
       "77987  108006     2018-07-11 1899-12-30 16:17:44     2018-08-06   \n",
       "62630   91707     2017-08-01 1899-12-30 13:26:56            NaT   \n",
       "\n",
       "           time_completed             date_closed pmp_id     bl_id  \\\n",
       "92667 1899-12-30 05:45:51 2019-10-08 07:22:40.450   None  B00163     \n",
       "77987 1899-12-30 13:33:39 2018-10-01 09:57:37.600   None  B00057     \n",
       "62630                 NaT                     NaT   None  B00030     \n",
       "\n",
       "       cost_total  cost_labor  cost_parts                      problem_type  \\\n",
       "92667        60.0        60.0         0.0  PLUMB/OTHER                        \n",
       "77987       120.0       120.0         0.0  OTHER                              \n",
       "62630         0.0         0.0         0.0  HVAC                               \n",
       "\n",
       "                                 requestor  \\\n",
       "92667  JIMMY.HOLTHAUS                        \n",
       "77987  LORETTA.BROWN                         \n",
       "62630  CYNTHIA.GORDON                        \n",
       "\n",
       "                                supervisor po_number invoice_number  \\\n",
       "92667  JOHN.HAMMOCK                             None           None   \n",
       "77987  JIMMY.HOLTHAUS                           None           None   \n",
       "62630                                 None      None           None   \n",
       "\n",
       "      release_number                                          name pmp_id  \\\n",
       "92667           None      The Weinberg Housing and Resource Center   None   \n",
       "77987           None                 Abel Wolman Muncipal Building   None   \n",
       "62630           None  Baltimore City Police South Western District   None   \n",
       "\n",
       "      status  \n",
       "92667    Clo  \n",
       "77987    Clo  \n",
       "62630    Can  "
      ]
     },
     "execution_count": 3,
     "metadata": {},
     "output_type": "execute_result"
    }
   ],
   "source": [
    "query_path = Path.cwd() / \"sql\" / \"input_for_FMD_KPIs.sql\"\n",
    "kpis_raw = get_kpi_data(config, query_path)\n",
    "\n",
    "print(f\"The KPIs raw dataframe has {kpis_raw.shape[0]:,} rows.\")\n",
    "kpis_raw.sample(3, random_state=444)"
   ]
  },
  {
   "cell_type": "markdown",
   "metadata": {},
   "source": [
    "## Data cleaning"
   ]
  },
  {
   "cell_type": "markdown",
   "metadata": {},
   "source": [
    "### Basic cleaning\n",
    "- removes white spaces in strings to facilitate matching, \n",
    "- drops rows with no problem type, \n",
    "- renames a few columns"
   ]
  },
  {
   "cell_type": "code",
   "execution_count": 4,
   "metadata": {},
   "outputs": [
    {
     "name": "stdout",
     "output_type": "stream",
     "text": [
      "The tidied work orders dataframe has 104,105 rows.\n"
     ]
    }
   ],
   "source": [
    "# apply the tidy up function\n",
    "wr_tidy = tidy_up_wr(kpis_raw)\n",
    "\n",
    "print(f\"The tidied work orders dataframe has {wr_tidy.shape[0]:,} rows.\")"
   ]
  },
  {
   "cell_type": "markdown",
   "metadata": {},
   "source": [
    "### Remove duplicate work orders\n",
    "Removes rows where technician says WR is a duplicate in the description, and the status is \"Canceled\", \"Closed\", or \"Rejected\". Let's hold off on this step while replicating the traditional KPI."
   ]
  },
  {
   "cell_type": "code",
   "execution_count": 5,
   "metadata": {},
   "outputs": [],
   "source": [
    "# This copies the previous step instead of applying deduplication.\n",
    "wr_deduped = wr_tidy.copy()\n",
    "\n",
    "# wr_deduped = drop_dupes(wr_tidy)\n",
    "# print(f\"The deduped work orders dataframe has {wr_deduped.shape[0]:,} rows.\")\n",
    "# print(\n",
    "#     f\"Removing duplicates has cut {wr_tidy.shape[0] - wr_deduped.shape[0]:,} rows from the work orders dataframe.\"\n",
    "# )"
   ]
  },
  {
   "cell_type": "markdown",
   "metadata": {},
   "source": [
    "### Combine date and time columns to get timestamps\n",
    "This takes the date from a date column and the time from a time column and combines them into a single timestamp.\n",
    "\n",
    "This transformation allows us to know the time to completion with greater precision. "
   ]
  },
  {
   "cell_type": "code",
   "execution_count": 6,
   "metadata": {},
   "outputs": [],
   "source": [
    "# glue the date and time for request\n",
    "wr_dt = glue_date_time(wr_deduped, \"date_requested\", \"time_requested\", \"requested_dt\")\n",
    "\n",
    "# glue the date and time for completion\n",
    "wr_dt = glue_date_time(wr_dt, \"date_completed\", \"time_completed\", \"completed_dt\")\n",
    "\n",
    "# convert \"date closed_order\" to date time (this column has no time information)\n",
    "wr_dt[\"date_closed\"] = wr_dt[\"date_closed\"].astype(\"datetime64\")"
   ]
  },
  {
   "cell_type": "markdown",
   "metadata": {},
   "source": [
    "### Examine the cleaned data"
   ]
  },
  {
   "cell_type": "code",
   "execution_count": 7,
   "metadata": {},
   "outputs": [
    {
     "data": {
      "text/html": [
       "<div>\n",
       "<style scoped>\n",
       "    .dataframe tbody tr th:only-of-type {\n",
       "        vertical-align: middle;\n",
       "    }\n",
       "\n",
       "    .dataframe tbody tr th {\n",
       "        vertical-align: top;\n",
       "    }\n",
       "\n",
       "    .dataframe thead th {\n",
       "        text-align: right;\n",
       "    }\n",
       "</style>\n",
       "<table border=\"1\" class=\"dataframe\">\n",
       "  <thead>\n",
       "    <tr style=\"text-align: right;\">\n",
       "      <th></th>\n",
       "      <th>wr_id</th>\n",
       "      <th>problem_type</th>\n",
       "      <th>requested_dt</th>\n",
       "      <th>completed_dt</th>\n",
       "      <th>date_closed</th>\n",
       "      <th>status</th>\n",
       "    </tr>\n",
       "  </thead>\n",
       "  <tbody>\n",
       "    <tr>\n",
       "      <th>63082</th>\n",
       "      <td>92156</td>\n",
       "      <td>CARPENTRY</td>\n",
       "      <td>2017-08-10 12:15:29</td>\n",
       "      <td>2017-08-29 14:29:27</td>\n",
       "      <td>2017-10-02 11:40:12.807</td>\n",
       "      <td>Clo</td>\n",
       "    </tr>\n",
       "    <tr>\n",
       "      <th>42753</th>\n",
       "      <td>67440</td>\n",
       "      <td>OTHER</td>\n",
       "      <td>2016-06-10 14:13:18</td>\n",
       "      <td>2016-06-10 14:14:07</td>\n",
       "      <td>2016-06-30 10:58:33.043</td>\n",
       "      <td>Clo</td>\n",
       "    </tr>\n",
       "    <tr>\n",
       "      <th>94171</th>\n",
       "      <td>127327</td>\n",
       "      <td>PREVENTIVE MAINT</td>\n",
       "      <td>2019-10-23 07:00:10</td>\n",
       "      <td>2019-10-24 09:49:01</td>\n",
       "      <td>NaT</td>\n",
       "      <td>Com</td>\n",
       "    </tr>\n",
       "  </tbody>\n",
       "</table>\n",
       "</div>"
      ],
      "text/plain": [
       "        wr_id      problem_type        requested_dt        completed_dt  \\\n",
       "63082   92156         CARPENTRY 2017-08-10 12:15:29 2017-08-29 14:29:27   \n",
       "42753   67440             OTHER 2016-06-10 14:13:18 2016-06-10 14:14:07   \n",
       "94171  127327  PREVENTIVE MAINT 2019-10-23 07:00:10 2019-10-24 09:49:01   \n",
       "\n",
       "                  date_closed status  \n",
       "63082 2017-10-02 11:40:12.807    Clo  \n",
       "42753 2016-06-30 10:58:33.043    Clo  \n",
       "94171                     NaT    Com  "
      ]
     },
     "execution_count": 7,
     "metadata": {},
     "output_type": "execute_result"
    }
   ],
   "source": [
    "wr_dt[\n",
    "    [\"wr_id\", \"problem_type\", \"requested_dt\", \"completed_dt\", \"date_closed\", \"status\",]\n",
    "].sample(3, random_state=451)"
   ]
  },
  {
   "cell_type": "markdown",
   "metadata": {},
   "source": [
    "## Data preparation"
   ]
  },
  {
   "cell_type": "markdown",
   "metadata": {},
   "source": [
    "### Include days to completion"
   ]
  },
  {
   "cell_type": "code",
   "execution_count": 11,
   "metadata": {},
   "outputs": [],
   "source": [
    "wr_durations = compute_days_to_completion(wr_dt)"
   ]
  },
  {
   "cell_type": "code",
   "execution_count": 12,
   "metadata": {},
   "outputs": [
    {
     "data": {
      "text/html": [
       "<div>\n",
       "<style scoped>\n",
       "    .dataframe tbody tr th:only-of-type {\n",
       "        vertical-align: middle;\n",
       "    }\n",
       "\n",
       "    .dataframe tbody tr th {\n",
       "        vertical-align: top;\n",
       "    }\n",
       "\n",
       "    .dataframe thead th {\n",
       "        text-align: right;\n",
       "    }\n",
       "</style>\n",
       "<table border=\"1\" class=\"dataframe\">\n",
       "  <thead>\n",
       "    <tr style=\"text-align: right;\">\n",
       "      <th></th>\n",
       "      <th>wr_id</th>\n",
       "      <th>problem_type</th>\n",
       "      <th>requested_dt</th>\n",
       "      <th>completed_dt</th>\n",
       "      <th>date_closed</th>\n",
       "      <th>days_to_completion</th>\n",
       "      <th>status</th>\n",
       "    </tr>\n",
       "    <tr>\n",
       "      <th>requested_dt</th>\n",
       "      <th></th>\n",
       "      <th></th>\n",
       "      <th></th>\n",
       "      <th></th>\n",
       "      <th></th>\n",
       "      <th></th>\n",
       "      <th></th>\n",
       "    </tr>\n",
       "  </thead>\n",
       "  <tbody>\n",
       "    <tr>\n",
       "      <th>2016-10-05 11:24:17</th>\n",
       "      <td>75820</td>\n",
       "      <td>DOOR</td>\n",
       "      <td>2016-10-05 11:24:17</td>\n",
       "      <td>2016-10-21 05:37:41</td>\n",
       "      <td>2016-10-21 06:29:18.977</td>\n",
       "      <td>15.76</td>\n",
       "      <td>Clo</td>\n",
       "    </tr>\n",
       "    <tr>\n",
       "      <th>2017-01-25 16:32:56</th>\n",
       "      <td>82811</td>\n",
       "      <td>PAINT</td>\n",
       "      <td>2017-01-25 16:32:56</td>\n",
       "      <td>2017-01-31 07:29:11</td>\n",
       "      <td>2017-02-02 05:54:49.913</td>\n",
       "      <td>5.62</td>\n",
       "      <td>Clo</td>\n",
       "    </tr>\n",
       "    <tr>\n",
       "      <th>2018-03-07 10:28:06</th>\n",
       "      <td>102240</td>\n",
       "      <td>ELEC/GENERAL</td>\n",
       "      <td>2018-03-07 10:28:06</td>\n",
       "      <td>2018-03-07 10:29:09</td>\n",
       "      <td>2018-03-14 08:30:18.777</td>\n",
       "      <td>0.00</td>\n",
       "      <td>Clo</td>\n",
       "    </tr>\n",
       "  </tbody>\n",
       "</table>\n",
       "</div>"
      ],
      "text/plain": [
       "                      wr_id  problem_type        requested_dt  \\\n",
       "requested_dt                                                    \n",
       "2016-10-05 11:24:17   75820          DOOR 2016-10-05 11:24:17   \n",
       "2017-01-25 16:32:56   82811         PAINT 2017-01-25 16:32:56   \n",
       "2018-03-07 10:28:06  102240  ELEC/GENERAL 2018-03-07 10:28:06   \n",
       "\n",
       "                           completed_dt             date_closed  \\\n",
       "requested_dt                                                      \n",
       "2016-10-05 11:24:17 2016-10-21 05:37:41 2016-10-21 06:29:18.977   \n",
       "2017-01-25 16:32:56 2017-01-31 07:29:11 2017-02-02 05:54:49.913   \n",
       "2018-03-07 10:28:06 2018-03-07 10:29:09 2018-03-14 08:30:18.777   \n",
       "\n",
       "                     days_to_completion status  \n",
       "requested_dt                                    \n",
       "2016-10-05 11:24:17               15.76    Clo  \n",
       "2017-01-25 16:32:56                5.62    Clo  \n",
       "2018-03-07 10:28:06                0.00    Clo  "
      ]
     },
     "execution_count": 12,
     "metadata": {},
     "output_type": "execute_result"
    }
   ],
   "source": [
    "wr_durations[\n",
    "    [\n",
    "        \"wr_id\",\n",
    "        \"problem_type\",\n",
    "        \"requested_dt\",\n",
    "        \"completed_dt\",\n",
    "        \"date_closed\",\n",
    "        \"days_to_completion\",\n",
    "        \"status\",\n",
    "    ]\n",
    "].sample(3, random_state=446)"
   ]
  },
  {
   "cell_type": "markdown",
   "metadata": {},
   "source": [
    "### Decision point: fiscal year\n",
    "Note that the function `entirely_within_fiscal_year()` keeps only those rows where the work order was requested and closed in the same fiscal year. __Other rows that straddle two fiscal years are dropped__.\n",
    "\n",
    "For comparison, I've included the function `add_fiscal_year()`, which derives the fiscal year from the request date or from the completion date — and drops no rows."
   ]
  },
  {
   "cell_type": "code",
   "execution_count": 13,
   "metadata": {},
   "outputs": [],
   "source": [
    "# this is the traditional way\n",
    "wr_fy, dropped_rows = entirely_within_fiscal_year(wr_durations)\n",
    "\n",
    "# this is a new way\n",
    "# wr_fy = add_fiscal_year(wr_durations)"
   ]
  },
  {
   "cell_type": "code",
   "execution_count": 25,
   "metadata": {},
   "outputs": [
    {
     "name": "stdout",
     "output_type": "stream",
     "text": [
      "30.072454381617483\n",
      "254.0545239520958\n"
     ]
    }
   ],
   "source": [
    "print(wr_fy[wr_fy['requested_dt'] >= '07-01-2018']['days_to_completion'].mean())\n",
    "print(dropped_rows[dropped_rows['requested_dt'] >= '07-01-2018']['days_to_completion'].mean())"
   ]
  },
  {
   "cell_type": "code",
   "execution_count": null,
   "metadata": {},
   "outputs": [],
   "source": [
    "dropped_row_count = len(wr_durations) - len(wr_fy)\n",
    "percent_rows_dropped = round(dropped_row_count / len(wr_durations) * 100, 2)\n",
    "\n",
    "print(\n",
    "    f\"Limiting analysis to work orders entirely within one FY drops {dropped_row_count:,} rows from the data.\"\n",
    ")\n",
    "print(f\"The dropped rows account for {percent_rows_dropped:,}% of the data.\")\n",
    "print(f\"The prepared dataset contains {len(wr_fy):,} rows.\")"
   ]
  },
  {
   "cell_type": "code",
   "execution_count": null,
   "metadata": {},
   "outputs": [],
   "source": [
    "wr_fy[\n",
    "    [\n",
    "        \"wr_id\",\n",
    "        \"problem_type\",\n",
    "        \"days_to_completion\",\n",
    "        \"requested_dt\",\n",
    "        \"completed_dt\",\n",
    "        \"fiscal_year\",\n",
    "    ]\n",
    "].sample(3, random_state=444)"
   ]
  },
  {
   "cell_type": "markdown",
   "metadata": {},
   "source": [
    "## KPI 1: % PMs completed on time \n",
    "The goal here is to filter the data down to preventive maintenance only, and then show how many are completed before a given benchmark."
   ]
  },
  {
   "cell_type": "markdown",
   "metadata": {},
   "source": [
    "### Filter to PM only, and for relevant fiscal years only"
   ]
  },
  {
   "cell_type": "code",
   "execution_count": null,
   "metadata": {},
   "outputs": [],
   "source": [
    "PM_list = [\n",
    "    \"HVAC|PM\",\n",
    "    \"BUILDING|PM\",\n",
    "    \"PREVENTIVE MAINT\",\n",
    "    \"FUEL INSPECTION\",\n",
    "    \"BUILDING INTERIOR INSPECTION\",\n",
    "    \"INSPECTION\",\n",
    "    \"FUEL INSPECTION\",\n",
    "]\n",
    "\n",
    "cond_fy = wr_fy[\"fiscal_year\"].isin(range(2016, 2021))\n",
    "cond_pm = wr_fy[\"problem_type\"].isin(PM_list)\n",
    "\n",
    "wr_filtered = wr_fy[cond_fy & cond_pm]\n",
    "\n",
    "print(f\"The filtered work orders dataframe has {wr_filtered.shape[0]:,} rows.\")"
   ]
  },
  {
   "cell_type": "markdown",
   "metadata": {},
   "source": [
    "#### Compute the benchmark and add 'is_on_time' column"
   ]
  },
  {
   "cell_type": "code",
   "execution_count": null,
   "metadata": {},
   "outputs": [],
   "source": [
    "def compute_is_on_time(df, benchmark):\n",
    "    df = df.copy()\n",
    "    df[\"is_on_time\"] = df[\"days_to_completion\"] <= benchmark\n",
    "    return df\n",
    "\n",
    "\n",
    "wr_on_time = compute_is_on_time(wr_filtered, 26)"
   ]
  },
  {
   "cell_type": "markdown",
   "metadata": {},
   "source": [
    "#### Group by fiscal year and get % on time"
   ]
  },
  {
   "cell_type": "code",
   "execution_count": null,
   "metadata": {},
   "outputs": [],
   "source": [
    "def compute_kpi_table(df, label_for_totals):\n",
    "    df = df.copy()\n",
    "    table_df = df.groupby(\"fiscal_year\")[[\"is_on_time\"]].agg([\"mean\", \"count\"])\n",
    "    table_df.columns = table_df.columns.droplevel(0)\n",
    "    # table_df[\"mean\"] = pm_compliance[\"mean\"].round(2)\n",
    "    table_df[\"mean\"] = table_df[\"mean\"].apply(lambda x: round(x * 100, 2))\n",
    "    table_df = table_df.rename(\n",
    "        columns={\"mean\": \"percent_on_time\", \"count\": label_for_totals}\n",
    "    )\n",
    "    return table_df\n",
    "\n",
    "\n",
    "pm_compliance = compute_kpi_table(wr_on_time, \"total_PMs\")\n",
    "pm_compliance"
   ]
  },
  {
   "cell_type": "markdown",
   "metadata": {},
   "source": [
    "## KPI 2: PM:CM ratio"
   ]
  },
  {
   "cell_type": "markdown",
   "metadata": {},
   "source": [
    "The two lists below contain the exact same problem types mentioned in last year's scorecard. So we would expect to be able to replicate last year's results closely."
   ]
  },
  {
   "cell_type": "code",
   "execution_count": null,
   "metadata": {},
   "outputs": [],
   "source": [
    "CM_list = [\n",
    "    \"BOILER\",\n",
    "    \"CHILLERS\",\n",
    "    \"COOLING TOWERS\",\n",
    "    \"HVAC\",\n",
    "    \"HVAC INFRASTRUCTURE\",\n",
    "    \"HVAC|REPAIR\",\n",
    "]\n",
    "\n",
    "PM_list = [\n",
    "    \"HVAC|PM\",\n",
    "    \"PREVENTIVE MAINT\",\n",
    "    # \"BUILDING|PM\",\n",
    "    # \"FUEL INSPECTION\",\n",
    "    # \"BUILDING INTERIOR INSPECTION\",\n",
    "    # \"INSPECTION\",\n",
    "]"
   ]
  },
  {
   "cell_type": "markdown",
   "metadata": {},
   "source": [
    "### Filter to HVAC rows only"
   ]
  },
  {
   "cell_type": "code",
   "execution_count": null,
   "metadata": {},
   "outputs": [],
   "source": [
    "cond_cm = wr_fy[\"problem_type\"].isin(CM_list)\n",
    "cond_pm = wr_fy[\"problem_type\"].isin(PM_list)\n",
    "\n",
    "wr_HVAC = wr_fy[cond_cm | cond_pm]\n",
    "wr_HVAC[\"is_pm\"] = wr_HVAC[\"problem_type\"].isin(PM_list)\n",
    "\n",
    "print(f\"We've gone from {len(wr_fy):,} rows to {len(wr_HVAC):,} rows.\")"
   ]
  },
  {
   "cell_type": "markdown",
   "metadata": {},
   "source": [
    "### Compute all PM/CM stats by fiscal year"
   ]
  },
  {
   "cell_type": "code",
   "execution_count": null,
   "metadata": {},
   "outputs": [],
   "source": [
    "def compute_pm_cm(df, PM_list):\n",
    "    df = df.copy().sort_values(\"fiscal_year\")\n",
    "    results_df = pd.DataFrame(\n",
    "        columns=[\n",
    "            \"year\",\n",
    "            # \"percent_pm\",\n",
    "            \"pm_cm_ratio\",\n",
    "            \"count_cm\",\n",
    "            \"count_pm\",\n",
    "            \"count_hvac\",\n",
    "        ]\n",
    "    )\n",
    "    for year in df[\"fiscal_year\"].unique():\n",
    "        results_dict = {}\n",
    "        df_fy = df[df[\"fiscal_year\"] == year]\n",
    "        cond_pm = df_fy[\"is_pm\"] == True\n",
    "        count_pm = len(df_fy[cond_pm])\n",
    "        count_hvac = len(df_fy)\n",
    "        count_cm = count_hvac - count_pm\n",
    "        results_dict[\"year\"] = year\n",
    "        # results_dict[\"percent_pm\"] = (count_pm / count_hvac) * 100\n",
    "        results_dict[\"pm_cm_ratio\"] = count_pm / count_cm\n",
    "        results_dict[\"count_pm\"] = count_pm\n",
    "        results_dict[\"count_cm\"] = count_cm\n",
    "        results_dict[\"count_hvac\"] = count_hvac\n",
    "        results_df = results_df.append(results_dict, ignore_index=True)\n",
    "    results_df[[\"year\", \"count_cm\", \"count_pm\", \"count_hvac\"]] = results_df[\n",
    "        [\"year\", \"count_cm\", \"count_pm\", \"count_hvac\"]\n",
    "    ].astype(int)\n",
    "    return results_df.round(2)\n",
    "\n",
    "\n",
    "pm_cm_results = compute_pm_cm(wr_HVAC, PM_list)"
   ]
  },
  {
   "cell_type": "code",
   "execution_count": null,
   "metadata": {
    "scrolled": true
   },
   "outputs": [],
   "source": [
    "cond_complete_FY = pm_cm_results[\"year\"] <= 2020\n",
    "pm_cm_results = pm_cm_results[cond_complete_FY]\n",
    "\n",
    "pm_cm_results"
   ]
  },
  {
   "cell_type": "code",
   "execution_count": null,
   "metadata": {},
   "outputs": [],
   "source": [
    "count_plot_data = pd.melt(\n",
    "    pm_cm_results, id_vars=[\"year\"], value_vars=[\"count_cm\", \"count_pm\"]\n",
    ")\n",
    "\n",
    "sns.lineplot(data=count_plot_data, y=\"value\", x=\"year\", hue=\"variable\")\n",
    "\n",
    "sns.despine()"
   ]
  },
  {
   "cell_type": "code",
   "execution_count": null,
   "metadata": {},
   "outputs": [],
   "source": [
    "ax = sns.lineplot(data=pm_cm_results, y=\"pm_cm_ratio\", x=\"year\",)\n",
    "ax.set(title=\"Percent PM By Fiscal Year\")\n",
    "sns.despine()"
   ]
  },
  {
   "cell_type": "markdown",
   "metadata": {},
   "source": [
    "## KPI 3: % of Work Orders Completed On-Time (CM)\n",
    "Here are the key facts needed to understand the agency's traditional method for computing this KPI:\n",
    "\n",
    "- Only CM problem types are considered, so all PM work orders are dropped.\n",
    "- The on-time benchmark is 24 days"
   ]
  },
  {
   "cell_type": "code",
   "execution_count": null,
   "metadata": {},
   "outputs": [],
   "source": [
    "wr_cm = wr_fy[~cond_pm]\n",
    "\n",
    "print(f\"We've gone from {len(wr_fy):,} rows to {len(wr_cm):,} rows.\")"
   ]
  },
  {
   "cell_type": "code",
   "execution_count": null,
   "metadata": {},
   "outputs": [],
   "source": [
    "wr_cm_on_time = compute_is_on_time(wr_cm, 24)"
   ]
  },
  {
   "cell_type": "code",
   "execution_count": null,
   "metadata": {},
   "outputs": [],
   "source": [
    "pm_compliance = compute_kpi_table(wr_cm_on_time)\n",
    "pm_compliance"
   ]
  },
  {
   "cell_type": "code",
   "execution_count": null,
   "metadata": {},
   "outputs": [],
   "source": []
  }
 ],
 "metadata": {
  "kernelspec": {
   "display_name": "Python 3",
   "language": "python",
   "name": "python3"
  },
  "language_info": {
   "codemirror_mode": {
    "name": "ipython",
    "version": 3
   },
   "file_extension": ".py",
   "mimetype": "text/x-python",
   "name": "python",
   "nbconvert_exporter": "python",
   "pygments_lexer": "ipython3",
   "version": "3.6.10"
  },
  "toc": {
   "base_numbering": 1,
   "nav_menu": {},
   "number_sections": true,
   "sideBar": true,
   "skip_h1_title": true,
   "title_cell": "Table of Contents",
   "title_sidebar": "Contents",
   "toc_cell": false,
   "toc_position": {
    "height": "calc(100% - 180px)",
    "left": "10px",
    "top": "150px",
    "width": "315.104px"
   },
   "toc_section_display": true,
   "toc_window_display": true
  }
 },
 "nbformat": 4,
 "nbformat_minor": 4
}
