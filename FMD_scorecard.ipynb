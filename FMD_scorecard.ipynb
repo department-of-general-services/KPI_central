{
 "cells": [
  {
   "cell_type": "markdown",
   "metadata": {},
   "source": [
    "# FMD Scorecard KPIs"
   ]
  },
  {
   "cell_type": "markdown",
   "metadata": {},
   "source": [
    "## Setup"
   ]
  },
  {
   "cell_type": "markdown",
   "metadata": {},
   "source": [
    "### Import packages"
   ]
  },
  {
   "cell_type": "code",
   "execution_count": 1,
   "metadata": {},
   "outputs": [],
   "source": [
    "# workhorse modules\n",
    "import pandas as pd\n",
    "import numpy as np\n",
    "from datetime import timedelta, datetime\n",
    "import re\n",
    "from pathlib import Path\n",
    "import datadotworld as dw\n",
    "import pyodbc \n",
    "\n",
    "# local utility functions\n",
    "from utils import *\n",
    "from private.config import config"
   ]
  },
  {
   "cell_type": "markdown",
   "metadata": {},
   "source": [
    "### Set pandas options\n",
    "This makes Pandas print all rows and columns to the output when requested."
   ]
  },
  {
   "cell_type": "code",
   "execution_count": 2,
   "metadata": {},
   "outputs": [],
   "source": [
    "set_pd_params()\n",
    "\n",
    "pd.options.mode.chained_assignment = None  # default='warn'"
   ]
  },
  {
   "cell_type": "markdown",
   "metadata": {},
   "source": [
    "### Import the data\n",
    "Data is a copy of Archibus's `wrhwr` table, with some irrelevant columns left out. "
   ]
  },
  {
   "cell_type": "code",
   "execution_count": 11,
   "metadata": {},
   "outputs": [
    {
     "name": "stdout",
     "output_type": "stream",
     "text": [
      "The KPIs raw dataframe has 133,070 rows.\n"
     ]
    },
    {
     "data": {
      "text/html": [
       "<div>\n",
       "<style scoped>\n",
       "    .dataframe tbody tr th:only-of-type {\n",
       "        vertical-align: middle;\n",
       "    }\n",
       "\n",
       "    .dataframe tbody tr th {\n",
       "        vertical-align: top;\n",
       "    }\n",
       "\n",
       "    .dataframe thead th {\n",
       "        text-align: right;\n",
       "    }\n",
       "</style>\n",
       "<table border=\"1\" class=\"dataframe\">\n",
       "  <thead>\n",
       "    <tr style=\"text-align: right;\">\n",
       "      <th></th>\n",
       "      <th>wo_id</th>\n",
       "      <th>date_requested</th>\n",
       "      <th>time_requested</th>\n",
       "      <th>date_completed</th>\n",
       "      <th>time_completed</th>\n",
       "      <th>date_closed</th>\n",
       "      <th>pmp_id</th>\n",
       "      <th>bl_id</th>\n",
       "      <th>cost_total</th>\n",
       "      <th>cost_labor</th>\n",
       "      <th>cost_parts</th>\n",
       "      <th>problem_type</th>\n",
       "      <th>requestor</th>\n",
       "      <th>supervisor</th>\n",
       "      <th>po_number</th>\n",
       "      <th>invoice_number</th>\n",
       "      <th>release_number</th>\n",
       "      <th>name</th>\n",
       "      <th>pmp_id</th>\n",
       "      <th>status</th>\n",
       "    </tr>\n",
       "  </thead>\n",
       "  <tbody>\n",
       "    <tr>\n",
       "      <th>55591</th>\n",
       "      <td>42291</td>\n",
       "      <td>2015-08-05</td>\n",
       "      <td>1899-12-30 12:02:36</td>\n",
       "      <td>2015-08-10</td>\n",
       "      <td>1899-12-30 14:22:36</td>\n",
       "      <td>2015-08-21 00:00:00.000</td>\n",
       "      <td>None</td>\n",
       "      <td>B00163</td>\n",
       "      <td>0.0</td>\n",
       "      <td>0.0</td>\n",
       "      <td>0.0</td>\n",
       "      <td>BATHROOM_FIXT</td>\n",
       "      <td>MARTIN.POTTER</td>\n",
       "      <td>JIMMY.HOLTHAUS</td>\n",
       "      <td>None</td>\n",
       "      <td>None</td>\n",
       "      <td>None</td>\n",
       "      <td>The Weinberg Housing and Resource Center</td>\n",
       "      <td>None</td>\n",
       "      <td>Clo</td>\n",
       "    </tr>\n",
       "    <tr>\n",
       "      <th>16261</th>\n",
       "      <td>8202</td>\n",
       "      <td>2014-04-01</td>\n",
       "      <td>1899-12-30 11:45:10</td>\n",
       "      <td>2014-04-01</td>\n",
       "      <td>1899-12-30 11:46:07</td>\n",
       "      <td>2014-04-02 00:00:00.000</td>\n",
       "      <td>None</td>\n",
       "      <td>B00056</td>\n",
       "      <td>0.0</td>\n",
       "      <td>0.0</td>\n",
       "      <td>0.0</td>\n",
       "      <td>SERV/CUSTODIAL</td>\n",
       "      <td>JIMMY.HOLTHAUS</td>\n",
       "      <td>JIMMY.HOLTHAUS</td>\n",
       "      <td>None</td>\n",
       "      <td>None</td>\n",
       "      <td>None</td>\n",
       "      <td>City Hall</td>\n",
       "      <td>None</td>\n",
       "      <td>Clo</td>\n",
       "    </tr>\n",
       "    <tr>\n",
       "      <th>120150</th>\n",
       "      <td>123381</td>\n",
       "      <td>2019-08-08</td>\n",
       "      <td>1899-12-30 11:27:30</td>\n",
       "      <td>2019-10-01</td>\n",
       "      <td>1899-12-30 09:08:49</td>\n",
       "      <td>2020-03-26 11:04:05.183</td>\n",
       "      <td>None</td>\n",
       "      <td>B00050</td>\n",
       "      <td>0.0</td>\n",
       "      <td>0.0</td>\n",
       "      <td>0.0</td>\n",
       "      <td>FLOOR</td>\n",
       "      <td>JAY.STURGIS</td>\n",
       "      <td>CHARLES.CLARIDY</td>\n",
       "      <td>None</td>\n",
       "      <td>None</td>\n",
       "      <td>None</td>\n",
       "      <td>Charles L. Benton Jr. Building</td>\n",
       "      <td>None</td>\n",
       "      <td>Clo</td>\n",
       "    </tr>\n",
       "  </tbody>\n",
       "</table>\n",
       "</div>"
      ],
      "text/plain": [
       "         wo_id date_requested      time_requested date_completed  \\\n",
       "55591    42291     2015-08-05 1899-12-30 12:02:36     2015-08-10   \n",
       "16261     8202     2014-04-01 1899-12-30 11:45:10     2014-04-01   \n",
       "120150  123381     2019-08-08 1899-12-30 11:27:30     2019-10-01   \n",
       "\n",
       "            time_completed             date_closed pmp_id     bl_id  \\\n",
       "55591  1899-12-30 14:22:36 2015-08-21 00:00:00.000   None  B00163     \n",
       "16261  1899-12-30 11:46:07 2014-04-02 00:00:00.000   None  B00056     \n",
       "120150 1899-12-30 09:08:49 2020-03-26 11:04:05.183   None  B00050     \n",
       "\n",
       "        cost_total  cost_labor  cost_parts                      problem_type  \\\n",
       "55591          0.0         0.0         0.0  BATHROOM_FIXT                      \n",
       "16261          0.0         0.0         0.0  SERV/CUSTODIAL                     \n",
       "120150         0.0         0.0         0.0  FLOOR                              \n",
       "\n",
       "                                  requestor  \\\n",
       "55591   MARTIN.POTTER                         \n",
       "16261   JIMMY.HOLTHAUS                        \n",
       "120150  JAY.STURGIS                           \n",
       "\n",
       "                                 supervisor po_number invoice_number  \\\n",
       "55591   JIMMY.HOLTHAUS                           None           None   \n",
       "16261   JIMMY.HOLTHAUS                           None           None   \n",
       "120150  CHARLES.CLARIDY                          None           None   \n",
       "\n",
       "       release_number                                      name pmp_id status  \n",
       "55591            None  The Weinberg Housing and Resource Center   None    Clo  \n",
       "16261            None                                 City Hall   None    Clo  \n",
       "120150           None            Charles L. Benton Jr. Building   None    Clo  "
      ]
     },
     "execution_count": 11,
     "metadata": {},
     "output_type": "execute_result"
    }
   ],
   "source": [
    "# Get private credentials using dotenv system\n",
    "server = config[\"SERVER\"]\n",
    "user = config[\"USER\"]\n",
    "password = config[\"PASSWORD\"]\n",
    "db = config[\"DB\"]\n",
    "\n",
    "# Connect to Archibus database\n",
    "conn = pyodbc.connect(f\"DRIVER=ODBC Driver 17 for SQL Server;SERVER={server};DATABASE={db};UID={user};PWD={password}\")\n",
    "cursor = conn.cursor()\n",
    "\n",
    "# Open a file with our basic SQL query\n",
    "query_path = Path.cwd() / \"sql\" / \"input_for_FMD_KPIs.sql\"\n",
    "fd = open(query_path, 'r')\n",
    "sqlFile = fd.read()\n",
    "fd.close()\n",
    "\n",
    "# Query the database\n",
    "kpis_raw = pd.read_sql(sqlFile, conn, parse_dates=['date_requested', 'date_completed', 'date_closed'] )\n",
    "conn.close()\n",
    "\n",
    "print(f\"The KPIs raw dataframe has {kpis_raw.shape[0]:,} rows.\")\n",
    "kpis_raw.sample(3, random_state=444)"
   ]
  },
  {
   "cell_type": "markdown",
   "metadata": {},
   "source": [
    "## Data cleaning"
   ]
  },
  {
   "cell_type": "markdown",
   "metadata": {},
   "source": [
    "### Basic cleaning\n",
    "- removes white spaces in strings to facilitate matching, \n",
    "- drops rows with no problem type, \n",
    "- renames a few columns"
   ]
  },
  {
   "cell_type": "code",
   "execution_count": 27,
   "metadata": {},
   "outputs": [
    {
     "name": "stdout",
     "output_type": "stream",
     "text": [
      "The tidied work orders dataframe has 132,543 rows.\n"
     ]
    }
   ],
   "source": [
    "def tidy_up_wr(df):\n",
    "    df = df.copy()\n",
    "    df = df.loc[:, ~df.columns.duplicated()]\n",
    "    df = df.dropna(subset=[\"wo_id\", \"problem_type\"])\n",
    "    df = df.applymap(lambda x: x.strip() if isinstance(x, str) else x)\n",
    "    df[\"wo_id\"] = df[\"wo_id\"].astype(int).astype(str)\n",
    "    cond_valid = ~df[\"problem_type\"].str.contains(\"TEST\")\n",
    "    df = df[cond_valid]\n",
    "    df[\"status\"] = df[\"status\"].replace(\"A\", \"AA\", regex=False)\n",
    "    return df\n",
    "\n",
    "# apply the tidy up function\n",
    "wr_tidy = tidy_up_wr(kpis_raw)\n",
    "\n",
    "print(f\"The tidied work orders dataframe has {wr_tidy.shape[0]:,} rows.\")"
   ]
  },
  {
   "cell_type": "markdown",
   "metadata": {},
   "source": [
    "### Fix repeated ID numbers"
   ]
  },
  {
   "cell_type": "code",
   "execution_count": 28,
   "metadata": {},
   "outputs": [
    {
     "name": "stdout",
     "output_type": "stream",
     "text": [
      "The tidied work orders dataframe has 102,430 rows.\n"
     ]
    },
    {
     "data": {
      "text/html": [
       "<div>\n",
       "<style scoped>\n",
       "    .dataframe tbody tr th:only-of-type {\n",
       "        vertical-align: middle;\n",
       "    }\n",
       "\n",
       "    .dataframe tbody tr th {\n",
       "        vertical-align: top;\n",
       "    }\n",
       "\n",
       "    .dataframe thead th {\n",
       "        text-align: right;\n",
       "    }\n",
       "</style>\n",
       "<table border=\"1\" class=\"dataframe\">\n",
       "  <thead>\n",
       "    <tr style=\"text-align: right;\">\n",
       "      <th></th>\n",
       "      <th>wo_id</th>\n",
       "      <th>date_requested</th>\n",
       "      <th>time_requested</th>\n",
       "      <th>date_completed</th>\n",
       "      <th>time_completed</th>\n",
       "      <th>date_closed</th>\n",
       "      <th>pmp_id</th>\n",
       "      <th>bl_id</th>\n",
       "      <th>cost_total</th>\n",
       "      <th>cost_labor</th>\n",
       "      <th>cost_parts</th>\n",
       "      <th>problem_type</th>\n",
       "      <th>requestor</th>\n",
       "      <th>supervisor</th>\n",
       "      <th>po_number</th>\n",
       "      <th>invoice_number</th>\n",
       "      <th>release_number</th>\n",
       "      <th>name</th>\n",
       "      <th>status</th>\n",
       "    </tr>\n",
       "  </thead>\n",
       "  <tbody>\n",
       "    <tr>\n",
       "      <th>97600</th>\n",
       "      <td>96794</td>\n",
       "      <td>2017-12-20</td>\n",
       "      <td>1899-12-30 14:41:52</td>\n",
       "      <td>2017-12-28</td>\n",
       "      <td>1899-12-30 11:14:39</td>\n",
       "      <td>2018-01-11 11:45:38.417</td>\n",
       "      <td>None</td>\n",
       "      <td>B00163</td>\n",
       "      <td>0.0</td>\n",
       "      <td>0.0</td>\n",
       "      <td>0.0</td>\n",
       "      <td>PREVENTIVE MAINT</td>\n",
       "      <td>MARTIN.POTTER</td>\n",
       "      <td>JIMMY.HOLTHAUS</td>\n",
       "      <td>None</td>\n",
       "      <td>None</td>\n",
       "      <td>None</td>\n",
       "      <td>The Weinberg Housing and Resource Center</td>\n",
       "      <td>Clo</td>\n",
       "    </tr>\n",
       "    <tr>\n",
       "      <th>1106</th>\n",
       "      <td>568</td>\n",
       "      <td>2013-10-29</td>\n",
       "      <td>1899-12-30 07:29:53</td>\n",
       "      <td>2013-10-29</td>\n",
       "      <td>1899-12-30 07:54:17</td>\n",
       "      <td>2013-10-29 00:00:00.000</td>\n",
       "      <td>None</td>\n",
       "      <td>B00021</td>\n",
       "      <td>0.0</td>\n",
       "      <td>0.0</td>\n",
       "      <td>0.0</td>\n",
       "      <td>OTHER</td>\n",
       "      <td>CHARLES.CLARIDY</td>\n",
       "      <td>None</td>\n",
       "      <td>None</td>\n",
       "      <td>None</td>\n",
       "      <td>None</td>\n",
       "      <td>Baltimore City Police Headquarters Annex</td>\n",
       "      <td>Clo</td>\n",
       "    </tr>\n",
       "    <tr>\n",
       "      <th>23924</th>\n",
       "      <td>12125</td>\n",
       "      <td>2014-06-23</td>\n",
       "      <td>1899-12-30 14:30:55</td>\n",
       "      <td>2014-06-23</td>\n",
       "      <td>1899-12-30 14:31:40</td>\n",
       "      <td>2014-06-23 00:00:00.000</td>\n",
       "      <td>None</td>\n",
       "      <td>B00062</td>\n",
       "      <td>0.0</td>\n",
       "      <td>0.0</td>\n",
       "      <td>0.0</td>\n",
       "      <td>OTHER</td>\n",
       "      <td>JIMMY.HOLTHAUS</td>\n",
       "      <td>JIMMY.HOLTHAUS</td>\n",
       "      <td>None</td>\n",
       "      <td>None</td>\n",
       "      <td>None</td>\n",
       "      <td>Elijah E. Cummings Courthouse and Old Post Office</td>\n",
       "      <td>Clo</td>\n",
       "    </tr>\n",
       "  </tbody>\n",
       "</table>\n",
       "</div>"
      ],
      "text/plain": [
       "       wo_id date_requested      time_requested date_completed  \\\n",
       "97600  96794     2017-12-20 1899-12-30 14:41:52     2017-12-28   \n",
       "1106     568     2013-10-29 1899-12-30 07:29:53     2013-10-29   \n",
       "23924  12125     2014-06-23 1899-12-30 14:30:55     2014-06-23   \n",
       "\n",
       "           time_completed             date_closed pmp_id   bl_id  cost_total  \\\n",
       "97600 1899-12-30 11:14:39 2018-01-11 11:45:38.417   None  B00163         0.0   \n",
       "1106  1899-12-30 07:54:17 2013-10-29 00:00:00.000   None  B00021         0.0   \n",
       "23924 1899-12-30 14:31:40 2014-06-23 00:00:00.000   None  B00062         0.0   \n",
       "\n",
       "       cost_labor  cost_parts      problem_type        requestor  \\\n",
       "97600         0.0         0.0  PREVENTIVE MAINT    MARTIN.POTTER   \n",
       "1106          0.0         0.0             OTHER  CHARLES.CLARIDY   \n",
       "23924         0.0         0.0             OTHER   JIMMY.HOLTHAUS   \n",
       "\n",
       "           supervisor po_number invoice_number release_number  \\\n",
       "97600  JIMMY.HOLTHAUS      None           None           None   \n",
       "1106             None      None           None           None   \n",
       "23924  JIMMY.HOLTHAUS      None           None           None   \n",
       "\n",
       "                                                    name status  \n",
       "97600           The Weinberg Housing and Resource Center    Clo  \n",
       "1106            Baltimore City Police Headquarters Annex    Clo  \n",
       "23924  Elijah E. Cummings Courthouse and Old Post Office    Clo  "
      ]
     },
     "execution_count": 28,
     "metadata": {},
     "output_type": "execute_result"
    }
   ],
   "source": [
    "def unique_ids(df):\n",
    "    df = df.copy()\n",
    "    df = df.sort_values(['wo_id', 'supervisor'])\n",
    "    df = df.drop_duplicates(subset=['wo_id', 'date_requested'], keep='first')\n",
    "    return df\n",
    "    \n",
    "wr_unique_ids = unique_ids(wr_tidy)\n",
    "\n",
    "print(f\"The tidied work orders dataframe has {wr_unique_ids.shape[0]:,} rows.\")\n",
    "#print(wr_unique_ids.info())\n",
    "wr_unique_ids.sample(3, random_state=444)"
   ]
  },
  {
   "cell_type": "markdown",
   "metadata": {},
   "source": [
    "### Remove duplicate work orders\n",
    "Removes rows where technician says WR is a duplicate in the description, and the status is \"Canceled\", \"Closed\", or \"Rejected\". "
   ]
  },
  {
   "cell_type": "code",
   "execution_count": 29,
   "metadata": {},
   "outputs": [],
   "source": [
    "# wr_deduped = drop_dupes(wr_unique_ids)\n",
    "wr_deduped = wr_unique_ids.copy()\n",
    "# print(f\"The deduped work orders dataframe has {wr_deduped.shape[0]:,} rows.\")\n",
    "# print(\n",
    "#     f\"Removing duplicates has cut {wr_tidy.shape[0] - wr_deduped.shape[0]:,} rows from the work orders dataframe.\"\n",
    "# )"
   ]
  },
  {
   "cell_type": "markdown",
   "metadata": {},
   "source": [
    "### Combine date and time columns to get timestamps\n",
    "This takes the date from a date column and the time from a time column and combines them into a single timestamp.\n",
    "\n",
    "This transformation allows us to know the time to completion with greater precision. "
   ]
  },
  {
   "cell_type": "code",
   "execution_count": 31,
   "metadata": {},
   "outputs": [
    {
     "data": {
      "text/html": [
       "<div>\n",
       "<style scoped>\n",
       "    .dataframe tbody tr th:only-of-type {\n",
       "        vertical-align: middle;\n",
       "    }\n",
       "\n",
       "    .dataframe tbody tr th {\n",
       "        vertical-align: top;\n",
       "    }\n",
       "\n",
       "    .dataframe thead th {\n",
       "        text-align: right;\n",
       "    }\n",
       "</style>\n",
       "<table border=\"1\" class=\"dataframe\">\n",
       "  <thead>\n",
       "    <tr style=\"text-align: right;\">\n",
       "      <th></th>\n",
       "      <th>wo_id</th>\n",
       "      <th>requested_dt</th>\n",
       "      <th>completed_dt</th>\n",
       "      <th>date_closed</th>\n",
       "    </tr>\n",
       "  </thead>\n",
       "  <tbody>\n",
       "    <tr>\n",
       "      <th>123319</th>\n",
       "      <td>126683</td>\n",
       "      <td>2019-11-04 09:56:13</td>\n",
       "      <td>2019-11-06 08:28:47</td>\n",
       "      <td>2020-03-24 08:26:10.187</td>\n",
       "    </tr>\n",
       "    <tr>\n",
       "      <th>77177</th>\n",
       "      <td>74751</td>\n",
       "      <td>2016-09-28 10:05:49</td>\n",
       "      <td>2016-09-28 10:39:52</td>\n",
       "      <td>2016-09-29 06:28:43.980</td>\n",
       "    </tr>\n",
       "    <tr>\n",
       "      <th>114123</th>\n",
       "      <td>113969</td>\n",
       "      <td>2019-01-15 12:07:47</td>\n",
       "      <td>2019-01-25 10:52:42</td>\n",
       "      <td>2019-07-15 10:15:44.577</td>\n",
       "    </tr>\n",
       "  </tbody>\n",
       "</table>\n",
       "</div>"
      ],
      "text/plain": [
       "         wo_id        requested_dt        completed_dt             date_closed\n",
       "123319  126683 2019-11-04 09:56:13 2019-11-06 08:28:47 2020-03-24 08:26:10.187\n",
       "77177    74751 2016-09-28 10:05:49 2016-09-28 10:39:52 2016-09-29 06:28:43.980\n",
       "114123  113969 2019-01-15 12:07:47 2019-01-25 10:52:42 2019-07-15 10:15:44.577"
      ]
     },
     "execution_count": 31,
     "metadata": {},
     "output_type": "execute_result"
    }
   ],
   "source": [
    "# glue the date and time for request\n",
    "wr_dt = glue_date_time(wr_deduped, \"date_requested\", \"time_requested\", \"requested_dt\")\n",
    "\n",
    "# glue the date and time for completion\n",
    "wr_dt = glue_date_time(wr_dt, \"date_completed\", \"time_completed\", \"completed_dt\")\n",
    "\n",
    "# convert \"date closed\" to date time (this column has no time information)\n",
    "wr_dt[\"date_closed\"] = wr_dt[\"date_closed\"].astype(\"datetime64\")\n",
    "\n",
    "wr_dt[[\"wo_id\", \"requested_dt\", \"completed_dt\", \"date_closed\"]].sample(3)"
   ]
  },
  {
   "cell_type": "markdown",
   "metadata": {},
   "source": [
    "## Data preparation"
   ]
  },
  {
   "cell_type": "markdown",
   "metadata": {},
   "source": [
    "### Include days to completion"
   ]
  },
  {
   "cell_type": "code",
   "execution_count": 20,
   "metadata": {},
   "outputs": [],
   "source": [
    "wr_durations = compute_days_to_completion(wr_dt)"
   ]
  },
  {
   "cell_type": "code",
   "execution_count": 22,
   "metadata": {},
   "outputs": [
    {
     "data": {
      "text/html": [
       "<div>\n",
       "<style scoped>\n",
       "    .dataframe tbody tr th:only-of-type {\n",
       "        vertical-align: middle;\n",
       "    }\n",
       "\n",
       "    .dataframe tbody tr th {\n",
       "        vertical-align: top;\n",
       "    }\n",
       "\n",
       "    .dataframe thead th {\n",
       "        text-align: right;\n",
       "    }\n",
       "</style>\n",
       "<table border=\"1\" class=\"dataframe\">\n",
       "  <thead>\n",
       "    <tr style=\"text-align: right;\">\n",
       "      <th></th>\n",
       "      <th>wr_id</th>\n",
       "      <th>problem_type</th>\n",
       "      <th>requested_dt</th>\n",
       "      <th>completed_dt</th>\n",
       "      <th>days_to_completion</th>\n",
       "    </tr>\n",
       "    <tr>\n",
       "      <th>requested_dt</th>\n",
       "      <th></th>\n",
       "      <th></th>\n",
       "      <th></th>\n",
       "      <th></th>\n",
       "      <th></th>\n",
       "    </tr>\n",
       "  </thead>\n",
       "  <tbody>\n",
       "    <tr>\n",
       "      <th>2018-08-13 11:16:06</th>\n",
       "      <td>109375</td>\n",
       "      <td>OTHER</td>\n",
       "      <td>2018-08-13 11:16:06</td>\n",
       "      <td>2018-09-05 11:45:26</td>\n",
       "      <td>23.02</td>\n",
       "    </tr>\n",
       "    <tr>\n",
       "      <th>2015-08-04 14:45:02</th>\n",
       "      <td>42258</td>\n",
       "      <td>SERV/CUSTODIAL</td>\n",
       "      <td>2015-08-04 14:45:02</td>\n",
       "      <td>2015-08-04 14:46:16</td>\n",
       "      <td>0.00</td>\n",
       "    </tr>\n",
       "    <tr>\n",
       "      <th>2015-07-22 16:32:12</th>\n",
       "      <td>41664</td>\n",
       "      <td>ELEC/LIGHT</td>\n",
       "      <td>2015-07-22 16:32:12</td>\n",
       "      <td>2015-07-27 07:52:24</td>\n",
       "      <td>4.64</td>\n",
       "    </tr>\n",
       "    <tr>\n",
       "      <th>2014-05-13 17:16:04</th>\n",
       "      <td>10292</td>\n",
       "      <td>HVAC</td>\n",
       "      <td>2014-05-13 17:16:04</td>\n",
       "      <td>NaT</td>\n",
       "      <td>NaN</td>\n",
       "    </tr>\n",
       "    <tr>\n",
       "      <th>2016-09-23 15:25:57</th>\n",
       "      <td>75334</td>\n",
       "      <td>CEILTILE</td>\n",
       "      <td>2016-09-23 15:25:57</td>\n",
       "      <td>NaT</td>\n",
       "      <td>NaN</td>\n",
       "    </tr>\n",
       "    <tr>\n",
       "      <th>2019-01-18 11:27:20</th>\n",
       "      <td>115369</td>\n",
       "      <td>WINDOW</td>\n",
       "      <td>2019-01-18 11:27:20</td>\n",
       "      <td>2019-02-04 06:04:51</td>\n",
       "      <td>16.78</td>\n",
       "    </tr>\n",
       "  </tbody>\n",
       "</table>\n",
       "</div>"
      ],
      "text/plain": [
       "                      wr_id    problem_type        requested_dt  \\\n",
       "requested_dt                                                      \n",
       "2018-08-13 11:16:06  109375           OTHER 2018-08-13 11:16:06   \n",
       "2015-08-04 14:45:02   42258  SERV/CUSTODIAL 2015-08-04 14:45:02   \n",
       "2015-07-22 16:32:12   41664      ELEC/LIGHT 2015-07-22 16:32:12   \n",
       "2014-05-13 17:16:04   10292            HVAC 2014-05-13 17:16:04   \n",
       "2016-09-23 15:25:57   75334        CEILTILE 2016-09-23 15:25:57   \n",
       "2019-01-18 11:27:20  115369          WINDOW 2019-01-18 11:27:20   \n",
       "\n",
       "                           completed_dt  days_to_completion  \n",
       "requested_dt                                                 \n",
       "2018-08-13 11:16:06 2018-09-05 11:45:26               23.02  \n",
       "2015-08-04 14:45:02 2015-08-04 14:46:16                0.00  \n",
       "2015-07-22 16:32:12 2015-07-27 07:52:24                4.64  \n",
       "2014-05-13 17:16:04                 NaT                 NaN  \n",
       "2016-09-23 15:25:57                 NaT                 NaN  \n",
       "2019-01-18 11:27:20 2019-02-04 06:04:51               16.78  "
      ]
     },
     "execution_count": 22,
     "metadata": {},
     "output_type": "execute_result"
    }
   ],
   "source": [
    "wr_durations[\n",
    "    [\"wr_id\", \"problem_type\", \"requested_dt\", \"completed_dt\", \"days_to_completion\"]\n",
    "].sample(6, random_state=444)"
   ]
  },
  {
   "cell_type": "markdown",
   "metadata": {},
   "source": [
    "### Decision point: fiscal year\n",
    "Note that the function `entirely_within_fiscal_year()` keeps only those rows where the work order was requested and closed in the same fiscal year. __Other rows that straddle two fiscal years are dropped__.\n",
    "\n",
    "For comparison, I've included the function `add_fiscal_year()`, which derives the fiscal year from the request date and drops no rows."
   ]
  },
  {
   "cell_type": "code",
   "execution_count": 90,
   "metadata": {},
   "outputs": [
    {
     "name": "stdout",
     "output_type": "stream",
     "text": [
      "Limiting analysis to work orders entirely within one FY drops 33,578 rows from the data.\n"
     ]
    },
    {
     "data": {
      "text/html": [
       "<div>\n",
       "<style scoped>\n",
       "    .dataframe tbody tr th:only-of-type {\n",
       "        vertical-align: middle;\n",
       "    }\n",
       "\n",
       "    .dataframe tbody tr th {\n",
       "        vertical-align: top;\n",
       "    }\n",
       "\n",
       "    .dataframe thead th {\n",
       "        text-align: right;\n",
       "    }\n",
       "</style>\n",
       "<table border=\"1\" class=\"dataframe\">\n",
       "  <thead>\n",
       "    <tr style=\"text-align: right;\">\n",
       "      <th></th>\n",
       "      <th>wr_id</th>\n",
       "      <th>problem_type</th>\n",
       "      <th>days_to_completion</th>\n",
       "      <th>requested_dt</th>\n",
       "      <th>completed_dt</th>\n",
       "      <th>date_closed</th>\n",
       "      <th>fiscal_year</th>\n",
       "    </tr>\n",
       "    <tr>\n",
       "      <th>requested_dt</th>\n",
       "      <th></th>\n",
       "      <th></th>\n",
       "      <th></th>\n",
       "      <th></th>\n",
       "      <th></th>\n",
       "      <th></th>\n",
       "      <th></th>\n",
       "    </tr>\n",
       "  </thead>\n",
       "  <tbody>\n",
       "    <tr>\n",
       "      <th>2015-10-07 12:56:41</th>\n",
       "      <td>53264</td>\n",
       "      <td>HVAC</td>\n",
       "      <td>43.97</td>\n",
       "      <td>2015-10-07 12:56:41</td>\n",
       "      <td>2015-11-20 12:12:11</td>\n",
       "      <td>2015-12-03 13:20:44.220</td>\n",
       "      <td>2016</td>\n",
       "    </tr>\n",
       "    <tr>\n",
       "      <th>2014-08-29 11:40:11</th>\n",
       "      <td>15003</td>\n",
       "      <td>HVAC</td>\n",
       "      <td>0.00</td>\n",
       "      <td>2014-08-29 11:40:11</td>\n",
       "      <td>2014-08-29 11:43:00</td>\n",
       "      <td>2014-08-29 00:00:00.000</td>\n",
       "      <td>2015</td>\n",
       "    </tr>\n",
       "    <tr>\n",
       "      <th>2015-07-21 09:10:56</th>\n",
       "      <td>41558</td>\n",
       "      <td>OTHER</td>\n",
       "      <td>0.01</td>\n",
       "      <td>2015-07-21 09:10:56</td>\n",
       "      <td>2015-07-21 09:29:24</td>\n",
       "      <td>2015-08-02 00:00:00.000</td>\n",
       "      <td>2016</td>\n",
       "    </tr>\n",
       "    <tr>\n",
       "      <th>2018-09-21 11:11:15</th>\n",
       "      <td>111134</td>\n",
       "      <td>PLUMB/UNCLOG</td>\n",
       "      <td>2.85</td>\n",
       "      <td>2018-09-21 11:11:15</td>\n",
       "      <td>2018-09-24 07:37:02</td>\n",
       "      <td>2018-09-26 13:07:34.060</td>\n",
       "      <td>2019</td>\n",
       "    </tr>\n",
       "    <tr>\n",
       "      <th>2017-10-17 11:08:45</th>\n",
       "      <td>94992</td>\n",
       "      <td>LOCK</td>\n",
       "      <td>0.00</td>\n",
       "      <td>2017-10-17 11:08:45</td>\n",
       "      <td>2017-10-17 11:10:10</td>\n",
       "      <td>2017-10-20 08:43:22.557</td>\n",
       "      <td>2018</td>\n",
       "    </tr>\n",
       "    <tr>\n",
       "      <th>2016-12-21 12:03:46</th>\n",
       "      <td>80359</td>\n",
       "      <td>_DELIVERY</td>\n",
       "      <td>0.91</td>\n",
       "      <td>2016-12-21 12:03:46</td>\n",
       "      <td>2016-12-22 09:47:21</td>\n",
       "      <td>2017-01-06 15:11:49.823</td>\n",
       "      <td>2017</td>\n",
       "    </tr>\n",
       "  </tbody>\n",
       "</table>\n",
       "</div>"
      ],
      "text/plain": [
       "                      wr_id  problem_type  days_to_completion  \\\n",
       "requested_dt                                                    \n",
       "2015-10-07 12:56:41   53264          HVAC               43.97   \n",
       "2014-08-29 11:40:11   15003          HVAC                0.00   \n",
       "2015-07-21 09:10:56   41558         OTHER                0.01   \n",
       "2018-09-21 11:11:15  111134  PLUMB/UNCLOG                2.85   \n",
       "2017-10-17 11:08:45   94992          LOCK                0.00   \n",
       "2016-12-21 12:03:46   80359     _DELIVERY                0.91   \n",
       "\n",
       "                           requested_dt        completed_dt  \\\n",
       "requested_dt                                                  \n",
       "2015-10-07 12:56:41 2015-10-07 12:56:41 2015-11-20 12:12:11   \n",
       "2014-08-29 11:40:11 2014-08-29 11:40:11 2014-08-29 11:43:00   \n",
       "2015-07-21 09:10:56 2015-07-21 09:10:56 2015-07-21 09:29:24   \n",
       "2018-09-21 11:11:15 2018-09-21 11:11:15 2018-09-24 07:37:02   \n",
       "2017-10-17 11:08:45 2017-10-17 11:08:45 2017-10-17 11:10:10   \n",
       "2016-12-21 12:03:46 2016-12-21 12:03:46 2016-12-22 09:47:21   \n",
       "\n",
       "                                date_closed  fiscal_year  \n",
       "requested_dt                                              \n",
       "2015-10-07 12:56:41 2015-12-03 13:20:44.220         2016  \n",
       "2014-08-29 11:40:11 2014-08-29 00:00:00.000         2015  \n",
       "2015-07-21 09:10:56 2015-08-02 00:00:00.000         2016  \n",
       "2018-09-21 11:11:15 2018-09-26 13:07:34.060         2019  \n",
       "2017-10-17 11:08:45 2017-10-20 08:43:22.557         2018  \n",
       "2016-12-21 12:03:46 2017-01-06 15:11:49.823         2017  "
      ]
     },
     "execution_count": 90,
     "metadata": {},
     "output_type": "execute_result"
    }
   ],
   "source": [
    "wr_fy = entirely_within_fiscal_year(wr_durations)\n",
    "# wr_fy = add_fiscal_year(wr_durations)\n",
    "\n",
    "print(\n",
    "    f\"Limiting analysis to work orders entirely within one FY drops {len(wr_durations) - len(wr_fy):,} rows from the data.\"\n",
    ")\n",
    "\n",
    "wr_fy[\n",
    "    [\n",
    "        \"wr_id\",\n",
    "        \"problem_type\",\n",
    "        \"days_to_completion\",\n",
    "        \"requested_dt\",\n",
    "        \"completed_dt\",\n",
    "        \"date_closed\",\n",
    "        \"fiscal_year\",\n",
    "    ]\n",
    "].sample(6, random_state=444)"
   ]
  },
  {
   "cell_type": "markdown",
   "metadata": {},
   "source": [
    "### Filter to PM only, and for relevant fiscal years only"
   ]
  },
  {
   "cell_type": "code",
   "execution_count": 91,
   "metadata": {},
   "outputs": [
    {
     "name": "stdout",
     "output_type": "stream",
     "text": [
      "The filtered work orders dataframe has 4,194 rows.\n"
     ]
    }
   ],
   "source": [
    "PM_list = [\n",
    "    \"HVAC|PM\",\n",
    "    \"BUILDING|PM\",\n",
    "    \"PREVENTIVE MAINT\",\n",
    "    \"FUEL INSPECTION\",\n",
    "    \"BUILDING INTERIOR INSPECTION\",\n",
    "    \"INSPECTION\",\n",
    "    \"FUEL INSPECTION\",\n",
    "]\n",
    "\n",
    "cond_fy = wr_fy[\"fiscal_year\"].isin(range(2016, 2021))\n",
    "cond_pm = wr_fy[\"problem_type\"].isin(PM_list)\n",
    "\n",
    "wr_filtered = wr_fy[cond_fy & cond_pm]\n",
    "\n",
    "print(f\"The filtered work orders dataframe has {wr_filtered.shape[0]:,} rows.\")"
   ]
  },
  {
   "cell_type": "markdown",
   "metadata": {},
   "source": [
    "## KPI: % PMs completed on time \n",
    "The goal here is to filter the data down to preventive maintenance only, and then show how many are completed before a given benchmark."
   ]
  },
  {
   "cell_type": "markdown",
   "metadata": {},
   "source": [
    "### Reproduce last year's work"
   ]
  },
  {
   "cell_type": "markdown",
   "metadata": {},
   "source": [
    "#### Define the years of the benchmark period"
   ]
  },
  {
   "cell_type": "code",
   "execution_count": 93,
   "metadata": {},
   "outputs": [
    {
     "name": "stdout",
     "output_type": "stream",
     "text": [
      "The on-time benchmark will be computing using only rows from years [2016, 2017, 2018]\n"
     ]
    }
   ],
   "source": [
    "cond_benchmark = wr_filtered[\"fiscal_year\"].isin(range(2015, 2019))\n",
    "print(\n",
    "    f\"The on-time benchmark will be computing using only rows from years {list(wr_filtered[cond_test]['fiscal_year'].unique())}\"\n",
    ")"
   ]
  },
  {
   "cell_type": "markdown",
   "metadata": {},
   "source": [
    "#### Compute the benchmark and add 'is_on_time' column"
   ]
  },
  {
   "cell_type": "code",
   "execution_count": 94,
   "metadata": {},
   "outputs": [
    {
     "name": "stdout",
     "output_type": "stream",
     "text": [
      "PM work orders are on time if completed within 10.74 days.\n"
     ]
    }
   ],
   "source": [
    "on_time_benchmark = wr_filtered[cond_benchmark][\"days_to_completion\"].median()\n",
    "print(f\"PM work orders are on time if completed within {on_time_benchmark} days.\")\n",
    "\n",
    "\n",
    "def compute_is_on_time(df, benchmark):\n",
    "    df = df.copy()\n",
    "    df[\"is_on_time\"] = df[\"days_to_completion\"] <= benchmark\n",
    "    return df\n",
    "\n",
    "\n",
    "wr_on_time = compute_is_on_time(wr_filtered, on_time_benchmark)"
   ]
  },
  {
   "cell_type": "markdown",
   "metadata": {},
   "source": [
    "#### Group by fiscal year and get % on time"
   ]
  },
  {
   "cell_type": "code",
   "execution_count": 95,
   "metadata": {},
   "outputs": [
    {
     "data": {
      "text/html": [
       "<div>\n",
       "<style scoped>\n",
       "    .dataframe tbody tr th:only-of-type {\n",
       "        vertical-align: middle;\n",
       "    }\n",
       "\n",
       "    .dataframe tbody tr th {\n",
       "        vertical-align: top;\n",
       "    }\n",
       "\n",
       "    .dataframe thead th {\n",
       "        text-align: right;\n",
       "    }\n",
       "</style>\n",
       "<table border=\"1\" class=\"dataframe\">\n",
       "  <thead>\n",
       "    <tr style=\"text-align: right;\">\n",
       "      <th></th>\n",
       "      <th>is_on_time</th>\n",
       "    </tr>\n",
       "    <tr>\n",
       "      <th>fiscal_year</th>\n",
       "      <th></th>\n",
       "    </tr>\n",
       "  </thead>\n",
       "  <tbody>\n",
       "    <tr>\n",
       "      <th>2016</th>\n",
       "      <td>0.41</td>\n",
       "    </tr>\n",
       "    <tr>\n",
       "      <th>2017</th>\n",
       "      <td>0.37</td>\n",
       "    </tr>\n",
       "    <tr>\n",
       "      <th>2018</th>\n",
       "      <td>0.66</td>\n",
       "    </tr>\n",
       "    <tr>\n",
       "      <th>2019</th>\n",
       "      <td>0.78</td>\n",
       "    </tr>\n",
       "    <tr>\n",
       "      <th>2020</th>\n",
       "      <td>0.25</td>\n",
       "    </tr>\n",
       "  </tbody>\n",
       "</table>\n",
       "</div>"
      ],
      "text/plain": [
       "             is_on_time\n",
       "fiscal_year            \n",
       "2016               0.41\n",
       "2017               0.37\n",
       "2018               0.66\n",
       "2019               0.78\n",
       "2020               0.25"
      ]
     },
     "execution_count": 95,
     "metadata": {},
     "output_type": "execute_result"
    }
   ],
   "source": [
    "wr_on_time.groupby(\"fiscal_year\")[[\"is_on_time\"]].mean().round(2)"
   ]
  },
  {
   "cell_type": "markdown",
   "metadata": {},
   "source": [
    "Note that there are some __large differences__ between the results reported last year and the results we get here. For reference, this is what DGS reported last year:\n",
    "\n",
    "\n",
    "| Year|Last year's reported result|New computed result|\n",
    "|---|---|---|\n",
    "|2016 |61|41|\n",
    "|2017|49|37|\n",
    "|2018|66|66|\n",
    "|2019|73|78|"
   ]
  },
  {
   "cell_type": "markdown",
   "metadata": {},
   "source": [
    "### Compute this year's results\n",
    "We move the benchmarking period forward by one year. That gives us a slightly lower benchmark."
   ]
  },
  {
   "cell_type": "code",
   "execution_count": 96,
   "metadata": {},
   "outputs": [
    {
     "name": "stdout",
     "output_type": "stream",
     "text": [
      "PM work orders are on time if completed within 9.04 days.\n"
     ]
    }
   ],
   "source": [
    "cond_new_benchmark = wr_filtered[\"fiscal_year\"].isin(range(2016, 2020))\n",
    "on_time_benchmark = wr_filtered[cond_new_benchmark][\"days_to_completion\"].median()\n",
    "print(f\"PM work orders are on time if completed within {on_time_benchmark} days.\")\n",
    "\n",
    "wr_on_time = compute_is_on_time(wr_filtered, on_time_benchmark)"
   ]
  },
  {
   "cell_type": "code",
   "execution_count": 98,
   "metadata": {},
   "outputs": [
    {
     "data": {
      "text/html": [
       "<div>\n",
       "<style scoped>\n",
       "    .dataframe tbody tr th:only-of-type {\n",
       "        vertical-align: middle;\n",
       "    }\n",
       "\n",
       "    .dataframe tbody tr th {\n",
       "        vertical-align: top;\n",
       "    }\n",
       "\n",
       "    .dataframe thead th {\n",
       "        text-align: right;\n",
       "    }\n",
       "</style>\n",
       "<table border=\"1\" class=\"dataframe\">\n",
       "  <thead>\n",
       "    <tr style=\"text-align: right;\">\n",
       "      <th></th>\n",
       "      <th>is_on_time</th>\n",
       "    </tr>\n",
       "    <tr>\n",
       "      <th>fiscal_year</th>\n",
       "      <th></th>\n",
       "    </tr>\n",
       "  </thead>\n",
       "  <tbody>\n",
       "    <tr>\n",
       "      <th>2016</th>\n",
       "      <td>0.326284</td>\n",
       "    </tr>\n",
       "    <tr>\n",
       "      <th>2017</th>\n",
       "      <td>0.361831</td>\n",
       "    </tr>\n",
       "    <tr>\n",
       "      <th>2018</th>\n",
       "      <td>0.618327</td>\n",
       "    </tr>\n",
       "    <tr>\n",
       "      <th>2019</th>\n",
       "      <td>0.760125</td>\n",
       "    </tr>\n",
       "    <tr>\n",
       "      <th>2020</th>\n",
       "      <td>0.231432</td>\n",
       "    </tr>\n",
       "  </tbody>\n",
       "</table>\n",
       "</div>"
      ],
      "text/plain": [
       "             is_on_time\n",
       "fiscal_year            \n",
       "2016           0.326284\n",
       "2017           0.361831\n",
       "2018           0.618327\n",
       "2019           0.760125\n",
       "2020           0.231432"
      ]
     },
     "execution_count": 98,
     "metadata": {},
     "output_type": "execute_result"
    }
   ],
   "source": [
    "wr_on_time.groupby(\"fiscal_year\")[[\"is_on_time\"]].mean()"
   ]
  },
  {
   "cell_type": "markdown",
   "metadata": {},
   "source": [
    "## KPI: % of preventative maintenance out of HVAC work orders"
   ]
  },
  {
   "cell_type": "markdown",
   "metadata": {},
   "source": [
    "The two lists below contain the exact same problem types mentioned in last year's scorecard. So we would expect to be able to replicate last year's results closely."
   ]
  },
  {
   "cell_type": "code",
   "execution_count": 71,
   "metadata": {},
   "outputs": [],
   "source": [
    "CM_list = [\n",
    "    \"BOILER\",\n",
    "    \"CHILLERS\",\n",
    "    \"COOLING TOWERS\",\n",
    "    \"HVAC\",\n",
    "    \"HVAC INFRASTRUCTURE\",\n",
    "    \"HVAC|REPAIR\",\n",
    "]\n",
    "\n",
    "PM_list = [\n",
    "    \"HVAC|PM\",\n",
    "    \"PREVENTIVE MAINT\",\n",
    "    # \"BUILDING|PM\",\n",
    "    # \"FUEL INSPECTION\",\n",
    "    # \"BUILDING INTERIOR INSPECTION\",\n",
    "    # \"INSPECTION\",\n",
    "]"
   ]
  },
  {
   "cell_type": "markdown",
   "metadata": {},
   "source": [
    "### Filter to HVAC rows only"
   ]
  },
  {
   "cell_type": "code",
   "execution_count": 99,
   "metadata": {},
   "outputs": [
    {
     "name": "stdout",
     "output_type": "stream",
     "text": [
      "We've gone from 69,357 rows to 12,979 rows.\n"
     ]
    }
   ],
   "source": [
    "cond_cm = wr_fy[\"problem_type\"].isin(CM_list)\n",
    "cond_pm = wr_fy[\"problem_type\"].isin(PM_list)\n",
    "\n",
    "wr_HVAC = wr_fy[cond_cm | cond_pm]\n",
    "\n",
    "print(f\"We've gone from {len(wr_fy):,} rows to {len(wr_HVAC):,} rows.\")"
   ]
  },
  {
   "cell_type": "markdown",
   "metadata": {},
   "source": [
    "### Compute all PM/CM stats by fiscal year"
   ]
  },
  {
   "cell_type": "code",
   "execution_count": 126,
   "metadata": {},
   "outputs": [],
   "source": [
    "def compute_pm_cm(df, PM_list):\n",
    "    df = df.copy().sort_values(\"fiscal_year\")\n",
    "    df[\"is_pm\"] = df[\"problem_type\"].isin(PM_list)\n",
    "    results_df = pd.DataFrame(\n",
    "        columns=[\n",
    "            \"year\",\n",
    "            \"percent_pm\",\n",
    "            \"pm_cm_ratio\",\n",
    "            \"count_cm\",\n",
    "            \"count_pm\",\n",
    "            \"count_hvac\",\n",
    "        ]\n",
    "    )\n",
    "    for year in df[\"fiscal_year\"].unique():\n",
    "        results_dict = {}\n",
    "        df_fy = df[df[\"fiscal_year\"] == year]\n",
    "        count_pm = len(df_fy[df_fy[\"problem_type\"].isin(PM_list)])\n",
    "        count_hvac = len(df_fy)\n",
    "        count_cm = count_hvac - count_pm\n",
    "        results_dict[\"year\"] = year\n",
    "        results_dict[\"percent_pm\"] = (count_pm / count_hvac) * 100\n",
    "        results_dict[\"pm_cm_ratio\"] = count_pm / count_cm\n",
    "        results_dict[\"count_pm\"] = count_pm\n",
    "        results_dict[\"count_cm\"] = count_cm\n",
    "        results_dict[\"count_hvac\"] = count_hvac\n",
    "        results_df = results_df.append(results_dict, ignore_index=True)\n",
    "    results_df[[\"year\", \"count_cm\", \"count_pm\", \"count_hvac\"]] = results_df[\n",
    "        [\"year\", \"count_cm\", \"count_pm\", \"count_hvac\"]\n",
    "    ].astype(int)\n",
    "    return results_df.round(2)\n",
    "\n",
    "\n",
    "pm_cm_results = compute_pm_cm(wr_HVAC, PM_list)"
   ]
  },
  {
   "cell_type": "code",
   "execution_count": 127,
   "metadata": {},
   "outputs": [
    {
     "data": {
      "text/html": [
       "<div>\n",
       "<style scoped>\n",
       "    .dataframe tbody tr th:only-of-type {\n",
       "        vertical-align: middle;\n",
       "    }\n",
       "\n",
       "    .dataframe tbody tr th {\n",
       "        vertical-align: top;\n",
       "    }\n",
       "\n",
       "    .dataframe thead th {\n",
       "        text-align: right;\n",
       "    }\n",
       "</style>\n",
       "<table border=\"1\" class=\"dataframe\">\n",
       "  <thead>\n",
       "    <tr style=\"text-align: right;\">\n",
       "      <th></th>\n",
       "      <th>year</th>\n",
       "      <th>percent_pm</th>\n",
       "      <th>pm_cm_ratio</th>\n",
       "      <th>count_cm</th>\n",
       "      <th>count_pm</th>\n",
       "      <th>count_hvac</th>\n",
       "    </tr>\n",
       "  </thead>\n",
       "  <tbody>\n",
       "    <tr>\n",
       "      <th>0</th>\n",
       "      <td>2014</td>\n",
       "      <td>0.00</td>\n",
       "      <td>0.00</td>\n",
       "      <td>972</td>\n",
       "      <td>0</td>\n",
       "      <td>972</td>\n",
       "    </tr>\n",
       "    <tr>\n",
       "      <th>1</th>\n",
       "      <td>2015</td>\n",
       "      <td>3.53</td>\n",
       "      <td>0.04</td>\n",
       "      <td>1366</td>\n",
       "      <td>50</td>\n",
       "      <td>1416</td>\n",
       "    </tr>\n",
       "    <tr>\n",
       "      <th>2</th>\n",
       "      <td>2016</td>\n",
       "      <td>35.75</td>\n",
       "      <td>0.56</td>\n",
       "      <td>1190</td>\n",
       "      <td>662</td>\n",
       "      <td>1852</td>\n",
       "    </tr>\n",
       "    <tr>\n",
       "      <th>3</th>\n",
       "      <td>2017</td>\n",
       "      <td>41.56</td>\n",
       "      <td>0.71</td>\n",
       "      <td>1628</td>\n",
       "      <td>1158</td>\n",
       "      <td>2786</td>\n",
       "    </tr>\n",
       "    <tr>\n",
       "      <th>4</th>\n",
       "      <td>2018</td>\n",
       "      <td>46.33</td>\n",
       "      <td>0.86</td>\n",
       "      <td>1302</td>\n",
       "      <td>1124</td>\n",
       "      <td>2426</td>\n",
       "    </tr>\n",
       "    <tr>\n",
       "      <th>5</th>\n",
       "      <td>2019</td>\n",
       "      <td>26.01</td>\n",
       "      <td>0.35</td>\n",
       "      <td>913</td>\n",
       "      <td>321</td>\n",
       "      <td>1234</td>\n",
       "    </tr>\n",
       "    <tr>\n",
       "      <th>6</th>\n",
       "      <td>2020</td>\n",
       "      <td>44.81</td>\n",
       "      <td>0.81</td>\n",
       "      <td>1144</td>\n",
       "      <td>929</td>\n",
       "      <td>2073</td>\n",
       "    </tr>\n",
       "  </tbody>\n",
       "</table>\n",
       "</div>"
      ],
      "text/plain": [
       "   year  percent_pm  pm_cm_ratio  count_cm  count_pm  count_hvac\n",
       "0  2014        0.00         0.00       972         0         972\n",
       "1  2015        3.53         0.04      1366        50        1416\n",
       "2  2016       35.75         0.56      1190       662        1852\n",
       "3  2017       41.56         0.71      1628      1158        2786\n",
       "4  2018       46.33         0.86      1302      1124        2426\n",
       "5  2019       26.01         0.35       913       321        1234\n",
       "6  2020       44.81         0.81      1144       929        2073"
      ]
     },
     "execution_count": 127,
     "metadata": {},
     "output_type": "execute_result"
    }
   ],
   "source": [
    "cond_complete_FY = pm_cm_results['year'] <= 2020\n",
    "pm_cm_results = pm_cm_results[cond_complete_FY]\n",
    "\n",
    "pm_cm_results"
   ]
  },
  {
   "cell_type": "code",
   "execution_count": 128,
   "metadata": {},
   "outputs": [
    {
     "data": {
      "image/png": "[encoded data removed]",
      "text/plain": [
       "<Figure size 432x288 with 1 Axes>"
      ]
     },
     "metadata": {
      "needs_background": "light"
     },
     "output_type": "display_data"
    }
   ],
   "source": [
    "count_plot_data = pd.melt(pm_cm_results, id_vars=['year'], value_vars=['count_cm', 'count_pm'])\n",
    "\n",
    "sns.lineplot(data=count_plot_data, y='value', x='year', hue='variable')\n",
    "\n",
    "sns.despine()"
   ]
  },
  {
   "cell_type": "code",
   "execution_count": 129,
   "metadata": {},
   "outputs": [
    {
     "data": {
      "image/png": "[encoded data removed]",
      "text/plain": [
       "<Figure size 432x288 with 1 Axes>"
      ]
     },
     "metadata": {
      "needs_background": "light"
     },
     "output_type": "display_data"
    }
   ],
   "source": [
    "ax = sns.lineplot(data=pm_cm_results, y='percent_pm', x='year',)\n",
    "ax.set(title = \"Percent PM By Fiscal Year\")\n",
    "sns.despine()"
   ]
  },
  {
   "cell_type": "code",
   "execution_count": null,
   "metadata": {},
   "outputs": [],
   "source": []
  }
 ],
 "metadata": {
  "kernelspec": {
   "display_name": "Python 3",
   "language": "python",
   "name": "python3"
  },
  "language_info": {
   "codemirror_mode": {
    "name": "ipython",
    "version": 3
   },
   "file_extension": ".py",
   "mimetype": "text/x-python",
   "name": "python",
   "nbconvert_exporter": "python",
   "pygments_lexer": "ipython3",
   "version": "3.6.10"
  },
  "toc": {
   "base_numbering": 1,
   "nav_menu": {},
   "number_sections": true,
   "sideBar": true,
   "skip_h1_title": true,
   "title_cell": "Table of Contents",
   "title_sidebar": "Contents",
   "toc_cell": false,
   "toc_position": {
    "height": "calc(100% - 180px)",
    "left": "10px",
    "top": "150px",
    "width": "315.104px"
   },
   "toc_section_display": true,
   "toc_window_display": true
  }
 },
 "nbformat": 4,
 "nbformat_minor": 4
}
