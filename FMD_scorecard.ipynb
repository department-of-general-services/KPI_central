{
 "cells": [
  {
   "cell_type": "markdown",
   "metadata": {
    "hideCode": false,
    "hidePrompt": false
   },
   "source": [
    "# Facilities KPI Scorecard\n",
    "This notebook serves as a repository of public-facing KPIs for the Department of General Services' Facilities Division. The purpose of this notebook is to have, in a single public place, the entire pipeline for calculating the division's three KPIs that are based in Archibus. Those KPIs are:\n",
    "\n",
    "1. % of Corrective Maintenance Work Requests Completed On Time\n",
    "2. % of Preventive Maintenance Work Requests Completed On Time\n",
    "3. Preventive Maintenace to Corrective Maintenance Ratio\n",
    "\n",
    "Part of the intention of this notebook is to build _transparency_ and _reproducibility_ by capturing the entire end-to-end process used to calculate these metrics in one place."
   ]
  },
  {
   "cell_type": "markdown",
   "metadata": {
    "hideCode": false,
    "hideOutput": false,
    "hidePrompt": false
   },
   "source": [
    "## Setup"
   ]
  },
  {
   "cell_type": "markdown",
   "metadata": {
    "hideCode": false,
    "hideOutput": false,
    "hidePrompt": false
   },
   "source": [
    "### Import packages"
   ]
  },
  {
   "cell_type": "code",
   "execution_count": 1,
   "metadata": {
    "hideCode": false,
    "hideOutput": false,
    "hidePrompt": false,
    "tags": [
     "hide-input"
    ]
   },
   "outputs": [],
   "source": [
    "# workhorse modules\n",
    "import pandas as pd\n",
    "import numpy as np\n",
    "from datetime import timedelta, datetime\n",
    "import re\n",
    "from pathlib import Path\n",
    "import seaborn as sns\n",
    "import datadotworld as dw\n",
    "import matplotlib.pyplot as plt\n",
    "\n",
    "# local utility functions\n",
    "from utils import (\n",
    "    add_cm_benchmarks,\n",
    "    add_fiscal_year,\n",
    "    set_pd_params,\n",
    "    tidy_up_df,\n",
    "    cast_dtypes,\n",
    "    glue_date_time,\n",
    "    compute_days_to_completion,\n",
    "    consolidate_prob_types,\n",
    "    compute_pm_cm,\n",
    "    compute_kpi_table,\n",
    ")\n",
    "\n",
    "from vis_utils import set_plot_params, pointplot_with_barplot"
   ]
  },
  {
   "cell_type": "markdown",
   "metadata": {
    "hideCode": false,
    "hideOutput": false,
    "hidePrompt": false
   },
   "source": [
    "### Set pandas options\n",
    "This makes Pandas print all rows and columns to the output when requested."
   ]
  },
  {
   "cell_type": "code",
   "execution_count": 2,
   "metadata": {
    "hideCode": false,
    "hidePrompt": false
   },
   "outputs": [],
   "source": [
    "set_pd_params()\n",
    "set_plot_params()\n",
    "pd.options.mode.chained_assignment = None  # default='warn'"
   ]
  },
  {
   "cell_type": "markdown",
   "metadata": {
    "hideCode": false,
    "hidePrompt": false
   },
   "source": [
    "### Import the work order data from Data.World\n",
    "This data is a copy of Archibus's `wrhwr` table stored at DGS's account on Data.World. To see the exact query used to generate the input data, see `/sql/input_for_FMD_KPIs.sql`."
   ]
  },
  {
   "cell_type": "code",
   "execution_count": 3,
   "metadata": {
    "hideCode": false,
    "hidePrompt": false
   },
   "outputs": [],
   "source": [
    "kpis_raw = dw.query(\n",
    "    dataset_key=\"dgsbpio/auditfinding3\", query=\"select * from wrhwr_01072021\"\n",
    ").dataframe"
   ]
  },
  {
   "cell_type": "code",
   "execution_count": 4,
   "metadata": {},
   "outputs": [
    {
     "name": "stdout",
     "output_type": "stream",
     "text": [
      "The work orders dataframe has 105,391 rows.\n"
     ]
    },
    {
     "data": {
      "text/html": [
       "<div>\n",
       "<style scoped>\n",
       "    .dataframe tbody tr th:only-of-type {\n",
       "        vertical-align: middle;\n",
       "    }\n",
       "\n",
       "    .dataframe tbody tr th {\n",
       "        vertical-align: top;\n",
       "    }\n",
       "\n",
       "    .dataframe thead th {\n",
       "        text-align: right;\n",
       "    }\n",
       "</style>\n",
       "<table border=\"1\" class=\"dataframe\">\n",
       "  <thead>\n",
       "    <tr style=\"text-align: right;\">\n",
       "      <th></th>\n",
       "      <th>wr_id</th>\n",
       "      <th>prob_type</th>\n",
       "      <th>date_requested</th>\n",
       "    </tr>\n",
       "  </thead>\n",
       "  <tbody>\n",
       "    <tr>\n",
       "      <th>12670</th>\n",
       "      <td>12855</td>\n",
       "      <td>_DELIVERY</td>\n",
       "      <td>2014-07-09</td>\n",
       "    </tr>\n",
       "    <tr>\n",
       "      <th>77427</th>\n",
       "      <td>107443</td>\n",
       "      <td>OTHER</td>\n",
       "      <td>2018-06-27</td>\n",
       "    </tr>\n",
       "    <tr>\n",
       "      <th>39319</th>\n",
       "      <td>63972</td>\n",
       "      <td>DOOR</td>\n",
       "      <td>2016-03-29</td>\n",
       "    </tr>\n",
       "  </tbody>\n",
       "</table>\n",
       "</div>"
      ],
      "text/plain": [
       "        wr_id                         prob_type date_requested\n",
       "12670   12855  _DELIVERY                            2014-07-09\n",
       "77427  107443  OTHER                                2018-06-27\n",
       "39319   63972  DOOR                                 2016-03-29"
      ]
     },
     "execution_count": 4,
     "metadata": {},
     "output_type": "execute_result"
    }
   ],
   "source": [
    "print(f\"The work orders dataframe has {kpis_raw.shape[0]:,} rows.\")\n",
    "\n",
    "kpis_raw.sample(3, random_state=444)[[\"wr_id\", \"prob_type\", \"date_requested\"]]"
   ]
  },
  {
   "cell_type": "markdown",
   "metadata": {},
   "source": [
    "### Import the users table\n",
    "The only reason why we need this second table is to figure out which work requests of type \"OTHER\" were requested by FMD staff and which were requested by a Service Request Liaison. \n",
    "\n",
    "OTHERs requested internally will be given the primary problem type \"OTHER-INTERNAL\", while OTHERs requested by SRLs will be given the primary problem type \"OTHER-EXTERNAL\"."
   ]
  },
  {
   "cell_type": "code",
   "execution_count": 5,
   "metadata": {
    "hideCode": false,
    "hidePrompt": false
   },
   "outputs": [],
   "source": [
    "users = dw.query(\n",
    "    dataset_key=\"dgsbpio/auditfinding3\", query=\"select * from archibus_user_roles\"\n",
    ").dataframe\n",
    "\n",
    "users = users.applymap(lambda x: x.strip() if isinstance(x, str) else x)"
   ]
  },
  {
   "cell_type": "markdown",
   "metadata": {
    "hideCode": false,
    "hidePrompt": false
   },
   "source": [
    "## Data cleaning\n",
    "For the purposes of this project, DGS is keeping the cleaning stage very simple. We're not attempting to remove duplicates or outliers, both of which involve relatively complex operations. "
   ]
  },
  {
   "cell_type": "markdown",
   "metadata": {
    "hideCode": false,
    "hidePrompt": false
   },
   "source": [
    "### Basic cleaning\n",
    "- removes white spaces in strings to facilitate matching, \n",
    "- drops rows with no problem type, or rows created by a test,\n",
    "- renames a few columns"
   ]
  },
  {
   "cell_type": "code",
   "execution_count": 6,
   "metadata": {
    "hideCode": false,
    "hidePrompt": false
   },
   "outputs": [
    {
     "name": "stdout",
     "output_type": "stream",
     "text": [
      "The tidied work orders dataframe has 105,266 rows.\n",
      "By tidying the data, we have removed 125 rows.\n"
     ]
    }
   ],
   "source": [
    "# make sure each column is of the correct data type\n",
    "wr_tidy = cast_dtypes(kpis_raw)\n",
    "# basic cleaning\n",
    "wr_tidy = tidy_up_df(wr_tidy)\n",
    "\n",
    "print(f\"The tidied work orders dataframe has {len(wr_tidy):,} rows.\")\n",
    "print(f\"By tidying the data, we have removed {len(kpis_raw) - len(wr_tidy):,} rows.\")"
   ]
  },
  {
   "cell_type": "markdown",
   "metadata": {},
   "source": [
    "### Drop canceled work orders\n",
    "The data comes to us with many canceled work orders. Those shouldn't count against us as not having been completed on time. So we drop them here. "
   ]
  },
  {
   "cell_type": "code",
   "execution_count": 7,
   "metadata": {},
   "outputs": [
    {
     "name": "stdout",
     "output_type": "stream",
     "text": [
      "By dropping canceled work ordered, we have removed 3,274 rows.\n"
     ]
    }
   ],
   "source": [
    "# drop rows that were canceled\n",
    "cond_valid = wr_tidy[\"status\"] != \"Can\"\n",
    "\n",
    "wr_valid = wr_tidy[cond_valid]\n",
    "\n",
    "print(f\"By dropping canceled work ordered, we have removed {len(wr_tidy) - len(wr_valid):,} rows.\")"
   ]
  },
  {
   "cell_type": "markdown",
   "metadata": {
    "hideCode": false,
    "hidePrompt": false
   },
   "source": [
    "### Combine date and time columns to get timestamps\n",
    "This takes the date from a date column and the time from a time column and combines them into a single timestamp.\n",
    "\n",
    "This transformation allows us to know the time to completion with greater precision. "
   ]
  },
  {
   "cell_type": "code",
   "execution_count": 8,
   "metadata": {
    "hideCode": false,
    "hidePrompt": false
   },
   "outputs": [],
   "source": [
    "# glue the date and time for request\n",
    "wr_dt = glue_date_time(wr_valid, \"date_requested\", \"time_requested\", \"requested_dt\")\n",
    "\n",
    "# glue the date and time for completion\n",
    "wr_dt = glue_date_time(wr_dt, \"date_completed\", \"time_completed\", \"completed_dt\")\n",
    "\n",
    "# convert \"date closed\" to a valid datetime (this column has no time information)\n",
    "wr_dt[\"date_closed\"] = wr_dt[\"date_closed\"].astype(\"datetime64\")"
   ]
  },
  {
   "cell_type": "markdown",
   "metadata": {
    "hideCode": false,
    "hidePrompt": false
   },
   "source": [
    "### Examine the cleaned data\n",
    "The display below gives us a sense of what some key columns in the data now look like. "
   ]
  },
  {
   "cell_type": "code",
   "execution_count": 9,
   "metadata": {
    "hideCode": false,
    "hidePrompt": false
   },
   "outputs": [
    {
     "data": {
      "text/html": [
       "<div>\n",
       "<style scoped>\n",
       "    .dataframe tbody tr th:only-of-type {\n",
       "        vertical-align: middle;\n",
       "    }\n",
       "\n",
       "    .dataframe tbody tr th {\n",
       "        vertical-align: top;\n",
       "    }\n",
       "\n",
       "    .dataframe thead th {\n",
       "        text-align: right;\n",
       "    }\n",
       "</style>\n",
       "<table border=\"1\" class=\"dataframe\">\n",
       "  <thead>\n",
       "    <tr style=\"text-align: right;\">\n",
       "      <th></th>\n",
       "      <th>wr_id</th>\n",
       "      <th>problem_type</th>\n",
       "      <th>requested_dt</th>\n",
       "      <th>completed_dt</th>\n",
       "      <th>date_closed</th>\n",
       "      <th>status</th>\n",
       "    </tr>\n",
       "  </thead>\n",
       "  <tbody>\n",
       "    <tr>\n",
       "      <th>10115</th>\n",
       "      <td>10309</td>\n",
       "      <td>DOOR</td>\n",
       "      <td>2014-05-14 10:17:33</td>\n",
       "      <td>2014-05-19 06:24:40</td>\n",
       "      <td>2014-05-20 00:00:00.000</td>\n",
       "      <td>Clo</td>\n",
       "    </tr>\n",
       "    <tr>\n",
       "      <th>81221</th>\n",
       "      <td>111223</td>\n",
       "      <td>SERV/PEST</td>\n",
       "      <td>2018-09-25 10:15:24</td>\n",
       "      <td>2018-10-10 12:10:53</td>\n",
       "      <td>NaT</td>\n",
       "      <td>Com</td>\n",
       "    </tr>\n",
       "    <tr>\n",
       "      <th>68729</th>\n",
       "      <td>97836</td>\n",
       "      <td>INSPECTION</td>\n",
       "      <td>2017-12-22 10:52:39</td>\n",
       "      <td>2017-12-22 10:53:26</td>\n",
       "      <td>2018-06-12 09:53:32.740</td>\n",
       "      <td>Clo</td>\n",
       "    </tr>\n",
       "  </tbody>\n",
       "</table>\n",
       "</div>"
      ],
      "text/plain": [
       "        wr_id problem_type        requested_dt        completed_dt  \\\n",
       "10115   10309         DOOR 2014-05-14 10:17:33 2014-05-19 06:24:40   \n",
       "81221  111223    SERV/PEST 2018-09-25 10:15:24 2018-10-10 12:10:53   \n",
       "68729   97836   INSPECTION 2017-12-22 10:52:39 2017-12-22 10:53:26   \n",
       "\n",
       "                  date_closed status  \n",
       "10115 2014-05-20 00:00:00.000    Clo  \n",
       "81221                     NaT    Com  \n",
       "68729 2018-06-12 09:53:32.740    Clo  "
      ]
     },
     "execution_count": 9,
     "metadata": {},
     "output_type": "execute_result"
    }
   ],
   "source": [
    "wr_dt[\n",
    "    [\n",
    "        \"wr_id\",\n",
    "        \"problem_type\",\n",
    "        \"requested_dt\",\n",
    "        \"completed_dt\",\n",
    "        \"date_closed\",\n",
    "        \"status\",\n",
    "    ]\n",
    "].sample(3, random_state=451)"
   ]
  },
  {
   "cell_type": "markdown",
   "metadata": {
    "hideCode": false,
    "hidePrompt": false
   },
   "source": [
    "## Data preparation"
   ]
  },
  {
   "cell_type": "markdown",
   "metadata": {},
   "source": [
    "### Merge work requests and user data\n",
    "Now we bring the data from the users table into the work request table. This lets us figure out the rose of the user who requested each work request. "
   ]
  },
  {
   "cell_type": "code",
   "execution_count": 10,
   "metadata": {
    "hideCode": false,
    "hidePrompt": false
   },
   "outputs": [],
   "source": [
    "wr_joined = wr_dt.merge(\n",
    "    users[[\"user_name\", \"role_name\"]],\n",
    "    how=\"left\",\n",
    "    left_on=\"requestor\",\n",
    "    right_on=\"user_name\",\n",
    ")"
   ]
  },
  {
   "cell_type": "markdown",
   "metadata": {
    "hideCode": false,
    "hidePrompt": false
   },
   "source": [
    "### Add days to completion\n",
    "Next, we compute the duration of time between the request and completion, for each job. We store that number in a column called \"days_to_completion\". "
   ]
  },
  {
   "cell_type": "code",
   "execution_count": 11,
   "metadata": {
    "hideCode": false,
    "hidePrompt": false
   },
   "outputs": [],
   "source": [
    "wr_durations = compute_days_to_completion(wr_joined)"
   ]
  },
  {
   "cell_type": "markdown",
   "metadata": {},
   "source": [
    "Let's check out three rows of the data, now that we've added some columns. Notice that `days_to_completion` is empty if the work request hasn't been marked completed yet. "
   ]
  },
  {
   "cell_type": "code",
   "execution_count": 12,
   "metadata": {
    "hideCode": false,
    "hidePrompt": false
   },
   "outputs": [
    {
     "data": {
      "text/html": [
       "<div>\n",
       "<style scoped>\n",
       "    .dataframe tbody tr th:only-of-type {\n",
       "        vertical-align: middle;\n",
       "    }\n",
       "\n",
       "    .dataframe tbody tr th {\n",
       "        vertical-align: top;\n",
       "    }\n",
       "\n",
       "    .dataframe thead th {\n",
       "        text-align: right;\n",
       "    }\n",
       "</style>\n",
       "<table border=\"1\" class=\"dataframe\">\n",
       "  <thead>\n",
       "    <tr style=\"text-align: right;\">\n",
       "      <th></th>\n",
       "      <th>wr_id</th>\n",
       "      <th>role_name</th>\n",
       "      <th>problem_type</th>\n",
       "      <th>requested_dt</th>\n",
       "      <th>completed_dt</th>\n",
       "      <th>date_closed</th>\n",
       "      <th>days_to_completion</th>\n",
       "      <th>status</th>\n",
       "    </tr>\n",
       "    <tr>\n",
       "      <th>requested_dt</th>\n",
       "      <th></th>\n",
       "      <th></th>\n",
       "      <th></th>\n",
       "      <th></th>\n",
       "      <th></th>\n",
       "      <th></th>\n",
       "      <th></th>\n",
       "      <th></th>\n",
       "    </tr>\n",
       "  </thead>\n",
       "  <tbody>\n",
       "    <tr>\n",
       "      <th>2014-07-21 11:23:05</th>\n",
       "      <td>13377</td>\n",
       "      <td>SUPERVISOR - BOC</td>\n",
       "      <td>ELEC/GENERAL</td>\n",
       "      <td>2014-07-21 11:23:05</td>\n",
       "      <td>2014-07-21 11:23:52</td>\n",
       "      <td>2014-07-22 00:00:00.000</td>\n",
       "      <td>0.00</td>\n",
       "      <td>Clo</td>\n",
       "    </tr>\n",
       "    <tr>\n",
       "      <th>2017-07-06 08:25:28</th>\n",
       "      <td>90387</td>\n",
       "      <td>GATEKEEPER - BOC</td>\n",
       "      <td>DOOR</td>\n",
       "      <td>2017-07-06 08:25:28</td>\n",
       "      <td>NaT</td>\n",
       "      <td>NaT</td>\n",
       "      <td>NaN</td>\n",
       "      <td>R</td>\n",
       "    </tr>\n",
       "    <tr>\n",
       "      <th>2018-12-12 12:01:47</th>\n",
       "      <td>114135</td>\n",
       "      <td>DISPATCHER - BOC</td>\n",
       "      <td>HVAC</td>\n",
       "      <td>2018-12-12 12:01:47</td>\n",
       "      <td>2018-12-31 08:41:43</td>\n",
       "      <td>2020-03-24 13:42:15.700</td>\n",
       "      <td>18.86</td>\n",
       "      <td>Clo</td>\n",
       "    </tr>\n",
       "  </tbody>\n",
       "</table>\n",
       "</div>"
      ],
      "text/plain": [
       "                      wr_id         role_name  problem_type  \\\n",
       "requested_dt                                                  \n",
       "2014-07-21 11:23:05   13377  SUPERVISOR - BOC  ELEC/GENERAL   \n",
       "2017-07-06 08:25:28   90387  GATEKEEPER - BOC          DOOR   \n",
       "2018-12-12 12:01:47  114135  DISPATCHER - BOC          HVAC   \n",
       "\n",
       "                           requested_dt        completed_dt  \\\n",
       "requested_dt                                                  \n",
       "2014-07-21 11:23:05 2014-07-21 11:23:05 2014-07-21 11:23:52   \n",
       "2017-07-06 08:25:28 2017-07-06 08:25:28                 NaT   \n",
       "2018-12-12 12:01:47 2018-12-12 12:01:47 2018-12-31 08:41:43   \n",
       "\n",
       "                                date_closed  days_to_completion status  \n",
       "requested_dt                                                            \n",
       "2014-07-21 11:23:05 2014-07-22 00:00:00.000                0.00    Clo  \n",
       "2017-07-06 08:25:28                     NaT                 NaN      R  \n",
       "2018-12-12 12:01:47 2020-03-24 13:42:15.700               18.86    Clo  "
      ]
     },
     "execution_count": 12,
     "metadata": {},
     "output_type": "execute_result"
    }
   ],
   "source": [
    "wr_durations[\n",
    "    [\n",
    "        \"wr_id\",\n",
    "        \"role_name\",\n",
    "        \"problem_type\",\n",
    "        \"requested_dt\",\n",
    "        \"completed_dt\",\n",
    "        \"date_closed\",\n",
    "        \"days_to_completion\",\n",
    "        \"status\",\n",
    "    ]\n",
    "].sample(3, random_state=446)"
   ]
  },
  {
   "cell_type": "markdown",
   "metadata": {
    "hideCode": false,
    "hidePrompt": false
   },
   "source": [
    "### Add fiscal year\n",
    "There are different ways to assign a fiscal year to a work request. Currently, we're doing it by the fiscal year in which the work request was closed. Other options would include the fiscal year of the request. \n"
   ]
  },
  {
   "cell_type": "code",
   "execution_count": 13,
   "metadata": {
    "hideCode": false,
    "hidePrompt": false
   },
   "outputs": [],
   "source": [
    "wr_fy = add_fiscal_year(wr_durations, assign_fy_on=\"closure\")"
   ]
  },
  {
   "cell_type": "markdown",
   "metadata": {},
   "source": [
    "After assigning the fiscal year, we can drop work requests from FY15 and older. "
   ]
  },
  {
   "cell_type": "code",
   "execution_count": 14,
   "metadata": {
    "hideCode": false,
    "hidePrompt": false
   },
   "outputs": [],
   "source": [
    "cond_fy = wr_fy[\"fiscal_year\"].isin(range(2016, 2022))\n",
    "wr_fy = wr_fy[cond_fy]"
   ]
  },
  {
   "cell_type": "markdown",
   "metadata": {
    "hideCode": false,
    "hidePrompt": false
   },
   "source": [
    "## KPI: % PMs Completed On Time \n",
    "The goal here is to filter the data down to preventive maintenance only, and then show how many are completed on or before the benchmark (21 days)."
   ]
  },
  {
   "cell_type": "markdown",
   "metadata": {
    "hideCode": false,
    "hidePrompt": false
   },
   "source": [
    "### Filter to valid PM only, and for relevant fiscal years only\n",
    "After noticing that many PMs have the status \"Can\" — meaning they were canceled — we fil"
   ]
  },
  {
   "cell_type": "code",
   "execution_count": 15,
   "metadata": {
    "hideCode": false,
    "hidePrompt": false
   },
   "outputs": [
    {
     "name": "stdout",
     "output_type": "stream",
     "text": [
      "The filtered PMs dataframe has 6,707 rows.\n"
     ]
    }
   ],
   "source": [
    "# this defines which problem types are considered PMs\n",
    "pm_list = [\n",
    "    \"BUILDING INTERIOR INSPECTION\",\n",
    "    \"BUILDING PM\",\n",
    "    \"HVAC|PM\",\n",
    "    \"INSEPCTION\",\n",
    "    \"PREVENTIVE MAINT\",\n",
    "]\n",
    "\n",
    "# filter data to PM types only\n",
    "cond_pm = wr_fy[\"problem_type\"].isin(pm_list)\n",
    "\n",
    "# apply filter conditions\n",
    "wr_pm = wr_fy[cond_pm]\n",
    "\n",
    "print(f\"The filtered PMs dataframe has {wr_pm.shape[0]:,} rows.\")"
   ]
  },
  {
   "cell_type": "markdown",
   "metadata": {
    "hideCode": false,
    "hidePrompt": false
   },
   "source": [
    "#### Compute the benchmark and add `is_on_time` column\n",
    "Here we tell Python that PMs are on-time if completed in 21 days. \n",
    "\n",
    "Then the function `compute_is_on_time` compares the column `days_to_completion` to the benchmark and writes down whether the work request was completed on time. "
   ]
  },
  {
   "cell_type": "code",
   "execution_count": 16,
   "metadata": {
    "hideCode": false,
    "hidePrompt": false
   },
   "outputs": [],
   "source": [
    "def compute_is_on_time(row):\n",
    "    row[\"is_on_time\"] = row[\"days_to_completion\"] <= row[\"benchmark\"]\n",
    "    return row\n",
    "\n",
    "\n",
    "# assign benchmark\n",
    "wr_pm[\"benchmark\"] = 21\n",
    "\n",
    "# add \"is_on_time\" column with performance data\n",
    "pms_on_time = wr_pm.apply(compute_is_on_time, axis=1)"
   ]
  },
  {
   "cell_type": "code",
   "execution_count": 17,
   "metadata": {},
   "outputs": [
    {
     "data": {
      "text/html": [
       "<div>\n",
       "<style scoped>\n",
       "    .dataframe tbody tr th:only-of-type {\n",
       "        vertical-align: middle;\n",
       "    }\n",
       "\n",
       "    .dataframe tbody tr th {\n",
       "        vertical-align: top;\n",
       "    }\n",
       "\n",
       "    .dataframe thead th {\n",
       "        text-align: right;\n",
       "    }\n",
       "</style>\n",
       "<table border=\"1\" class=\"dataframe\">\n",
       "  <thead>\n",
       "    <tr style=\"text-align: right;\">\n",
       "      <th></th>\n",
       "      <th>wr_id</th>\n",
       "      <th>problem_type</th>\n",
       "      <th>requested_dt</th>\n",
       "      <th>completed_dt</th>\n",
       "      <th>days_to_completion</th>\n",
       "      <th>is_on_time</th>\n",
       "      <th>status</th>\n",
       "    </tr>\n",
       "    <tr>\n",
       "      <th>requested_dt</th>\n",
       "      <th></th>\n",
       "      <th></th>\n",
       "      <th></th>\n",
       "      <th></th>\n",
       "      <th></th>\n",
       "      <th></th>\n",
       "      <th></th>\n",
       "    </tr>\n",
       "  </thead>\n",
       "  <tbody>\n",
       "    <tr>\n",
       "      <th>2017-01-10 06:00:07</th>\n",
       "      <td>82094</td>\n",
       "      <td>PREVENTIVE MAINT</td>\n",
       "      <td>2017-01-10 06:00:07</td>\n",
       "      <td>2017-01-18 09:13:29</td>\n",
       "      <td>8.13</td>\n",
       "      <td>True</td>\n",
       "      <td>Clo</td>\n",
       "    </tr>\n",
       "    <tr>\n",
       "      <th>2018-10-10 07:41:13</th>\n",
       "      <td>111790</td>\n",
       "      <td>BUILDING INTERIOR INSPECTION</td>\n",
       "      <td>2018-10-10 07:41:13</td>\n",
       "      <td>2018-10-11 10:03:40</td>\n",
       "      <td>1.10</td>\n",
       "      <td>True</td>\n",
       "      <td>Clo</td>\n",
       "    </tr>\n",
       "    <tr>\n",
       "      <th>2019-08-29 07:09:15</th>\n",
       "      <td>125250</td>\n",
       "      <td>PREVENTIVE MAINT</td>\n",
       "      <td>2019-08-29 07:09:15</td>\n",
       "      <td>2019-10-03 10:04:04</td>\n",
       "      <td>35.12</td>\n",
       "      <td>False</td>\n",
       "      <td>Clo</td>\n",
       "    </tr>\n",
       "  </tbody>\n",
       "</table>\n",
       "</div>"
      ],
      "text/plain": [
       "                      wr_id                  problem_type        requested_dt  \\\n",
       "requested_dt                                                                    \n",
       "2017-01-10 06:00:07   82094              PREVENTIVE MAINT 2017-01-10 06:00:07   \n",
       "2018-10-10 07:41:13  111790  BUILDING INTERIOR INSPECTION 2018-10-10 07:41:13   \n",
       "2019-08-29 07:09:15  125250              PREVENTIVE MAINT 2019-08-29 07:09:15   \n",
       "\n",
       "                           completed_dt  days_to_completion  is_on_time status  \n",
       "requested_dt                                                                    \n",
       "2017-01-10 06:00:07 2017-01-18 09:13:29                8.13        True    Clo  \n",
       "2018-10-10 07:41:13 2018-10-11 10:03:40                1.10        True    Clo  \n",
       "2019-08-29 07:09:15 2019-10-03 10:04:04               35.12       False    Clo  "
      ]
     },
     "execution_count": 17,
     "metadata": {},
     "output_type": "execute_result"
    }
   ],
   "source": [
    "pms_on_time[\n",
    "    [\n",
    "        \"wr_id\",\n",
    "        \"problem_type\",\n",
    "        \"requested_dt\",\n",
    "        \"completed_dt\",\n",
    "        \"days_to_completion\",\n",
    "        \"is_on_time\",\n",
    "        \"status\", \n",
    "    ]\n",
    "].sample(3, random_state=446)"
   ]
  },
  {
   "cell_type": "markdown",
   "metadata": {
    "hideCode": false,
    "hidePrompt": false
   },
   "source": [
    "#### Group by fiscal year and get % on time\n",
    "Now that we've stored all this information, we can group by the fiscal year to get each year's KPI, together with a count of how many PMs "
   ]
  },
  {
   "cell_type": "code",
   "execution_count": 18,
   "metadata": {
    "hideCode": false,
    "hidePrompt": false
   },
   "outputs": [
    {
     "data": {
      "text/html": [
       "<div>\n",
       "<style scoped>\n",
       "    .dataframe tbody tr th:only-of-type {\n",
       "        vertical-align: middle;\n",
       "    }\n",
       "\n",
       "    .dataframe tbody tr th {\n",
       "        vertical-align: top;\n",
       "    }\n",
       "\n",
       "    .dataframe thead th {\n",
       "        text-align: right;\n",
       "    }\n",
       "</style>\n",
       "<table border=\"1\" class=\"dataframe\">\n",
       "  <thead>\n",
       "    <tr style=\"text-align: right;\">\n",
       "      <th></th>\n",
       "      <th>percent_PMs_on_time</th>\n",
       "      <th>total_PMs</th>\n",
       "    </tr>\n",
       "    <tr>\n",
       "      <th>fiscal_year</th>\n",
       "      <th></th>\n",
       "      <th></th>\n",
       "    </tr>\n",
       "  </thead>\n",
       "  <tbody>\n",
       "    <tr>\n",
       "      <th>2016</th>\n",
       "      <td>73.28</td>\n",
       "      <td>741</td>\n",
       "    </tr>\n",
       "    <tr>\n",
       "      <th>2017</th>\n",
       "      <td>50.63</td>\n",
       "      <td>1341</td>\n",
       "    </tr>\n",
       "    <tr>\n",
       "      <th>2018</th>\n",
       "      <td>79.24</td>\n",
       "      <td>1137</td>\n",
       "    </tr>\n",
       "    <tr>\n",
       "      <th>2019</th>\n",
       "      <td>92.15</td>\n",
       "      <td>764</td>\n",
       "    </tr>\n",
       "    <tr>\n",
       "      <th>2020</th>\n",
       "      <td>48.75</td>\n",
       "      <td>1955</td>\n",
       "    </tr>\n",
       "    <tr>\n",
       "      <th>2021</th>\n",
       "      <td>32.51</td>\n",
       "      <td>769</td>\n",
       "    </tr>\n",
       "  </tbody>\n",
       "</table>\n",
       "</div>"
      ],
      "text/plain": [
       "             percent_PMs_on_time  total_PMs\n",
       "fiscal_year                                \n",
       "2016                       73.28        741\n",
       "2017                       50.63       1341\n",
       "2018                       79.24       1137\n",
       "2019                       92.15        764\n",
       "2020                       48.75       1955\n",
       "2021                       32.51        769"
      ]
     },
     "execution_count": 18,
     "metadata": {},
     "output_type": "execute_result"
    }
   ],
   "source": [
    "pm_compliance = compute_kpi_table(pms_on_time, \"percent_PMs_on_time\", \"total_PMs\")\n",
    "pm_compliance"
   ]
  },
  {
   "cell_type": "code",
   "execution_count": 19,
   "metadata": {},
   "outputs": [
    {
     "data": {
      "image/png": "[encoded data removed]",
      "text/plain": [
       "<Figure size 1008x432 with 2 Axes>"
      ]
     },
     "metadata": {},
     "output_type": "display_data"
    }
   ],
   "source": [
    "pointplot_with_barplot(\n",
    "    pm_compliance,\n",
    "    x=\"fiscal_year\",\n",
    "    point_y=\"percent_PMs_on_time\",\n",
    "    bar_y=\"total_PMs\",\n",
    "    ymax_bar=2_500,\n",
    "    ylabel_point=\"Percent PMs On Time\",\n",
    "    ylabel_bar=\"Total PMs\",\n",
    "    title=\"Percent of PMs On Time By Fiscal Year\",\n",
    ")"
   ]
  },
  {
   "cell_type": "markdown",
   "metadata": {
    "hideCode": false,
    "hidePrompt": false
   },
   "source": [
    "## KPI: PM:CM Ratio"
   ]
  },
  {
   "cell_type": "markdown",
   "metadata": {
    "hideCode": false,
    "hidePrompt": false
   },
   "source": [
    "The two lists below contain the exact same problem types mentioned in last year's scorecard. So we would expect to be able to replicate last year's results closely."
   ]
  },
  {
   "cell_type": "code",
   "execution_count": 20,
   "metadata": {
    "hideCode": false,
    "hidePrompt": false
   },
   "outputs": [],
   "source": [
    "CM_list = [\n",
    "    \"BOILER\",\n",
    "    \"CHILLERS\",\n",
    "    \"COOLING TOWERS\",\n",
    "    \"HVAC\",\n",
    "    \"HVAC INFRASTRUCTURE\",\n",
    "    \"HVAC|REPAIR\",\n",
    "]\n",
    "\n",
    "PM_list = [\n",
    "    \"HVAC|PM\",\n",
    "    \"PREVENTIVE MAINT\",\n",
    "]"
   ]
  },
  {
   "cell_type": "markdown",
   "metadata": {
    "hideCode": false,
    "hidePrompt": false
   },
   "source": [
    "### Filter to HVAC rows only"
   ]
  },
  {
   "cell_type": "code",
   "execution_count": 21,
   "metadata": {
    "hideCode": false,
    "hidePrompt": false
   },
   "outputs": [
    {
     "name": "stdout",
     "output_type": "stream",
     "text": [
      "We've gone from 64,724 rows to 16,488 rows.\n"
     ]
    }
   ],
   "source": [
    "cond_cm = wr_fy[\"problem_type\"].isin(CM_list)\n",
    "cond_pm = wr_fy[\"problem_type\"].isin(PM_list)\n",
    "\n",
    "wr_HVAC = wr_fy[cond_cm | cond_pm]\n",
    "wr_HVAC[\"is_pm\"] = wr_HVAC[\"problem_type\"].isin(PM_list)\n",
    "\n",
    "print(f\"We've gone from {len(wr_fy):,} rows to {len(wr_HVAC):,} rows.\")"
   ]
  },
  {
   "cell_type": "markdown",
   "metadata": {
    "hideCode": false,
    "hidePrompt": false
   },
   "source": [
    "### Compute all PM/CM stats by fiscal year"
   ]
  },
  {
   "cell_type": "code",
   "execution_count": 22,
   "metadata": {
    "hideCode": false,
    "hidePrompt": false
   },
   "outputs": [],
   "source": [
    "def compute_pm_cm(df, PM_list):\n",
    "    df = df.copy().sort_values(\"fiscal_year\")\n",
    "    results_df = pd.DataFrame(\n",
    "        columns=[\n",
    "            \"fiscal_year\",\n",
    "            # \"percent_pm\",\n",
    "            \"pm_cm_ratio\",\n",
    "            \"count_cm\",\n",
    "            \"count_pm\",\n",
    "            \"count_hvac\",\n",
    "        ]\n",
    "    )\n",
    "    for fiscal_year in df[\"fiscal_year\"].unique():\n",
    "        results_dict = {}\n",
    "        df_fy = df[df[\"fiscal_year\"] == fiscal_year]\n",
    "        cond_pm = df_fy[\"is_pm\"] == True\n",
    "        count_pm = len(df_fy[cond_pm])\n",
    "        count_hvac = len(df_fy)\n",
    "        count_cm = count_hvac - count_pm\n",
    "        results_dict[\"fiscal_year\"] = fiscal_year\n",
    "        results_dict[\"pm_cm_ratio\"] = (count_pm / count_cm) * 100\n",
    "        results_dict[\"count_pm\"] = count_pm\n",
    "        results_dict[\"count_cm\"] = count_cm\n",
    "        results_dict[\"count_hvac\"] = count_hvac\n",
    "        results_df = results_df.append(results_dict, ignore_index=True)\n",
    "    results_df[[\"fiscal_year\", \"count_cm\", \"count_pm\", \"count_hvac\"]] = results_df[\n",
    "        [\"fiscal_year\", \"count_cm\", \"count_pm\", \"count_hvac\"]\n",
    "    ].astype(int)\n",
    "    return results_df.round(2)\n",
    "\n",
    "pm_cm_results = compute_pm_cm(wr_HVAC, PM_list)"
   ]
  },
  {
   "cell_type": "code",
   "execution_count": 23,
   "metadata": {
    "hideCode": false,
    "hidePrompt": false,
    "scrolled": true
   },
   "outputs": [
    {
     "data": {
      "text/html": [
       "<div>\n",
       "<style scoped>\n",
       "    .dataframe tbody tr th:only-of-type {\n",
       "        vertical-align: middle;\n",
       "    }\n",
       "\n",
       "    .dataframe tbody tr th {\n",
       "        vertical-align: top;\n",
       "    }\n",
       "\n",
       "    .dataframe thead th {\n",
       "        text-align: right;\n",
       "    }\n",
       "</style>\n",
       "<table border=\"1\" class=\"dataframe\">\n",
       "  <thead>\n",
       "    <tr style=\"text-align: right;\">\n",
       "      <th></th>\n",
       "      <th>fiscal_year</th>\n",
       "      <th>pm_cm_ratio</th>\n",
       "      <th>count_cm</th>\n",
       "      <th>count_pm</th>\n",
       "      <th>count_hvac</th>\n",
       "    </tr>\n",
       "  </thead>\n",
       "  <tbody>\n",
       "    <tr>\n",
       "      <th>0</th>\n",
       "      <td>2016</td>\n",
       "      <td>49.07</td>\n",
       "      <td>1400</td>\n",
       "      <td>687</td>\n",
       "      <td>2087</td>\n",
       "    </tr>\n",
       "    <tr>\n",
       "      <th>1</th>\n",
       "      <td>2017</td>\n",
       "      <td>47.25</td>\n",
       "      <td>2671</td>\n",
       "      <td>1262</td>\n",
       "      <td>3933</td>\n",
       "    </tr>\n",
       "    <tr>\n",
       "      <th>2</th>\n",
       "      <td>2018</td>\n",
       "      <td>61.39</td>\n",
       "      <td>1764</td>\n",
       "      <td>1083</td>\n",
       "      <td>2847</td>\n",
       "    </tr>\n",
       "    <tr>\n",
       "      <th>3</th>\n",
       "      <td>2019</td>\n",
       "      <td>31.83</td>\n",
       "      <td>1304</td>\n",
       "      <td>415</td>\n",
       "      <td>1719</td>\n",
       "    </tr>\n",
       "    <tr>\n",
       "      <th>4</th>\n",
       "      <td>2020</td>\n",
       "      <td>71.88</td>\n",
       "      <td>2507</td>\n",
       "      <td>1802</td>\n",
       "      <td>4309</td>\n",
       "    </tr>\n",
       "    <tr>\n",
       "      <th>5</th>\n",
       "      <td>2021</td>\n",
       "      <td>91.24</td>\n",
       "      <td>833</td>\n",
       "      <td>760</td>\n",
       "      <td>1593</td>\n",
       "    </tr>\n",
       "  </tbody>\n",
       "</table>\n",
       "</div>"
      ],
      "text/plain": [
       "   fiscal_year  pm_cm_ratio  count_cm  count_pm  count_hvac\n",
       "0         2016        49.07      1400       687        2087\n",
       "1         2017        47.25      2671      1262        3933\n",
       "2         2018        61.39      1764      1083        2847\n",
       "3         2019        31.83      1304       415        1719\n",
       "4         2020        71.88      2507      1802        4309\n",
       "5         2021        91.24       833       760        1593"
      ]
     },
     "execution_count": 23,
     "metadata": {},
     "output_type": "execute_result"
    }
   ],
   "source": [
    "pm_cm_results"
   ]
  },
  {
   "cell_type": "code",
   "execution_count": 24,
   "metadata": {
    "hideCode": false,
    "hidePrompt": false
   },
   "outputs": [
    {
     "data": {
      "image/png": "[encoded data removed]",
      "text/plain": [
       "<Figure size 1008x432 with 2 Axes>"
      ]
     },
     "metadata": {},
     "output_type": "display_data"
    }
   ],
   "source": [
    "# plt.figure(figsize=(14,6)) \n",
    "# count_plot_data = pd.melt(\n",
    "#     pm_cm_results, id_vars=[\"year\"], value_vars=[\"count_cm\", \"count_pm\"]\n",
    "# )\n",
    "\n",
    "# ax = sns.lineplot(data=count_plot_data, y=\"value\", x=\"year\", hue=\"variable\")\n",
    "# ax.set(title=\"Volume of HVAC PM and CM Work Requests Per Fiscal Year\", ylim = (0, 3000))\n",
    "# sns.despine()\n",
    "\n",
    "pointplot_with_barplot(\n",
    "    pm_cm_results,\n",
    "    x=\"fiscal_year\",\n",
    "    point_y=\"pm_cm_ratio\",\n",
    "    bar_y=\"count_hvac\",\n",
    "    ymax_bar=5_000,\n",
    "    title=\"Preventive to Corrective Ratio By Fiscal Year\",\n",
    ")"
   ]
  },
  {
   "cell_type": "markdown",
   "metadata": {
    "hideCode": false,
    "hidePrompt": false
   },
   "source": [
    "## KPI: Percent of CM Work Requests Completed On-Time\n",
    "Here are the key facts needed to understand the agency's new method for computing this KPI:\n",
    "\n",
    "- Only CM problem types are considered, so all PM work orders are dropped.\n",
    "- The work orders are first assigned a \"primary\" problem type, which consolidates the number of problem types\n",
    "- Each of these primary problem types has a benchmark, which is then added to the work request's row\n",
    "- Finally, the work order is determined to be on-time based on comparing its time to completion to its benchmark"
   ]
  },
  {
   "cell_type": "code",
   "execution_count": 25,
   "metadata": {
    "hideCode": false,
    "hidePrompt": false
   },
   "outputs": [
    {
     "name": "stdout",
     "output_type": "stream",
     "text": [
      "Dropping some unbenchmarked small categories takes us from 64,724 rows to 57,919 rows.\n"
     ]
    }
   ],
   "source": [
    "wr_cm = wr_fy.copy()\n",
    "\n",
    "consolidated_wrs = wr_cm.apply(consolidate_prob_types, axis=1)\n",
    "\n",
    "cond_cm = consolidated_wrs[\"primary\"] != \"PREVENTIVE\"\n",
    "consolidated_cms = consolidated_wrs[cond_cm]\n",
    "\n",
    "print(\n",
    "    f\"Dropping some unbenchmarked small categories takes us from {len(consolidated_wrs):,} rows to {len(consolidated_cms):,} rows.\"\n",
    ")"
   ]
  },
  {
   "cell_type": "code",
   "execution_count": 26,
   "metadata": {
    "hideCode": false,
    "hidePrompt": false
   },
   "outputs": [
    {
     "data": {
      "text/html": [
       "<div>\n",
       "<style scoped>\n",
       "    .dataframe tbody tr th:only-of-type {\n",
       "        vertical-align: middle;\n",
       "    }\n",
       "\n",
       "    .dataframe tbody tr th {\n",
       "        vertical-align: top;\n",
       "    }\n",
       "\n",
       "    .dataframe thead th {\n",
       "        text-align: right;\n",
       "    }\n",
       "</style>\n",
       "<table border=\"1\" class=\"dataframe\">\n",
       "  <thead>\n",
       "    <tr style=\"text-align: right;\">\n",
       "      <th></th>\n",
       "      <th>problem_type</th>\n",
       "      <th>primary</th>\n",
       "      <th>benchmark</th>\n",
       "      <th>days_to_completion</th>\n",
       "    </tr>\n",
       "    <tr>\n",
       "      <th>requested_dt</th>\n",
       "      <th></th>\n",
       "      <th></th>\n",
       "      <th></th>\n",
       "      <th></th>\n",
       "    </tr>\n",
       "  </thead>\n",
       "  <tbody>\n",
       "    <tr>\n",
       "      <th>2016-10-21 09:37:29</th>\n",
       "      <td>ELECTRICAL</td>\n",
       "      <td>ELECTRICAL</td>\n",
       "      <td>14.0</td>\n",
       "      <td>208.05</td>\n",
       "    </tr>\n",
       "    <tr>\n",
       "      <th>2018-10-31 12:37:25</th>\n",
       "      <td>ELEC/LIGHT</td>\n",
       "      <td>ELECTRICAL</td>\n",
       "      <td>14.0</td>\n",
       "      <td>96.29</td>\n",
       "    </tr>\n",
       "    <tr>\n",
       "      <th>2016-11-22 07:54:06</th>\n",
       "      <td>LOCK</td>\n",
       "      <td>LOCK</td>\n",
       "      <td>7.0</td>\n",
       "      <td>64.30</td>\n",
       "    </tr>\n",
       "    <tr>\n",
       "      <th>2016-01-13 08:37:44</th>\n",
       "      <td>ENVIR/MOLD</td>\n",
       "      <td>ENVIRONMENTAL</td>\n",
       "      <td>45.0</td>\n",
       "      <td>36.99</td>\n",
       "    </tr>\n",
       "    <tr>\n",
       "      <th>2016-02-05 14:55:14</th>\n",
       "      <td>HVAC</td>\n",
       "      <td>HVAC</td>\n",
       "      <td>30.0</td>\n",
       "      <td>14.00</td>\n",
       "    </tr>\n",
       "    <tr>\n",
       "      <th>2017-04-25 15:24:01</th>\n",
       "      <td>PLUMB/OTHER</td>\n",
       "      <td>PLUMBING</td>\n",
       "      <td>14.0</td>\n",
       "      <td>8.69</td>\n",
       "    </tr>\n",
       "  </tbody>\n",
       "</table>\n",
       "</div>"
      ],
      "text/plain": [
       "                    problem_type        primary  benchmark  days_to_completion\n",
       "requested_dt                                                                  \n",
       "2016-10-21 09:37:29   ELECTRICAL     ELECTRICAL       14.0              208.05\n",
       "2018-10-31 12:37:25   ELEC/LIGHT     ELECTRICAL       14.0               96.29\n",
       "2016-11-22 07:54:06         LOCK           LOCK        7.0               64.30\n",
       "2016-01-13 08:37:44   ENVIR/MOLD  ENVIRONMENTAL       45.0               36.99\n",
       "2016-02-05 14:55:14         HVAC           HVAC       30.0               14.00\n",
       "2017-04-25 15:24:01  PLUMB/OTHER       PLUMBING       14.0                8.69"
      ]
     },
     "execution_count": 26,
     "metadata": {},
     "output_type": "execute_result"
    }
   ],
   "source": [
    "cms_benchmarked = consolidated_cms.apply(add_cm_benchmarks, axis=1)\n",
    "\n",
    "cms_benchmarked.sample(6, random_state=444)[\n",
    "    [\"problem_type\", \"primary\", \"benchmark\", \"days_to_completion\"]\n",
    "]"
   ]
  },
  {
   "cell_type": "code",
   "execution_count": 27,
   "metadata": {
    "hideCode": false,
    "hidePrompt": false
   },
   "outputs": [],
   "source": [
    "cms_on_time = cms_benchmarked.apply(compute_is_on_time, axis=1)"
   ]
  },
  {
   "cell_type": "code",
   "execution_count": 28,
   "metadata": {
    "hideCode": false,
    "hidePrompt": false
   },
   "outputs": [
    {
     "data": {
      "text/html": [
       "<div>\n",
       "<style scoped>\n",
       "    .dataframe tbody tr th:only-of-type {\n",
       "        vertical-align: middle;\n",
       "    }\n",
       "\n",
       "    .dataframe tbody tr th {\n",
       "        vertical-align: top;\n",
       "    }\n",
       "\n",
       "    .dataframe thead th {\n",
       "        text-align: right;\n",
       "    }\n",
       "</style>\n",
       "<table border=\"1\" class=\"dataframe\">\n",
       "  <thead>\n",
       "    <tr style=\"text-align: right;\">\n",
       "      <th></th>\n",
       "      <th>percent_CMs_on_time</th>\n",
       "      <th>total_CMs</th>\n",
       "    </tr>\n",
       "    <tr>\n",
       "      <th>fiscal_year</th>\n",
       "      <th></th>\n",
       "      <th></th>\n",
       "    </tr>\n",
       "  </thead>\n",
       "  <tbody>\n",
       "    <tr>\n",
       "      <th>2016</th>\n",
       "      <td>78.04</td>\n",
       "      <td>13384</td>\n",
       "    </tr>\n",
       "    <tr>\n",
       "      <th>2017</th>\n",
       "      <td>70.55</td>\n",
       "      <td>13979</td>\n",
       "    </tr>\n",
       "    <tr>\n",
       "      <th>2018</th>\n",
       "      <td>70.62</td>\n",
       "      <td>10021</td>\n",
       "    </tr>\n",
       "    <tr>\n",
       "      <th>2019</th>\n",
       "      <td>65.82</td>\n",
       "      <td>5693</td>\n",
       "    </tr>\n",
       "    <tr>\n",
       "      <th>2020</th>\n",
       "      <td>53.24</td>\n",
       "      <td>9076</td>\n",
       "    </tr>\n",
       "    <tr>\n",
       "      <th>2021</th>\n",
       "      <td>30.71</td>\n",
       "      <td>5766</td>\n",
       "    </tr>\n",
       "  </tbody>\n",
       "</table>\n",
       "</div>"
      ],
      "text/plain": [
       "             percent_CMs_on_time  total_CMs\n",
       "fiscal_year                                \n",
       "2016                       78.04      13384\n",
       "2017                       70.55      13979\n",
       "2018                       70.62      10021\n",
       "2019                       65.82       5693\n",
       "2020                       53.24       9076\n",
       "2021                       30.71       5766"
      ]
     },
     "execution_count": 28,
     "metadata": {},
     "output_type": "execute_result"
    }
   ],
   "source": [
    "cm_compliance = compute_kpi_table(cms_on_time, \"percent_CMs_on_time\", \"total_CMs\")\n",
    "cm_compliance"
   ]
  },
  {
   "cell_type": "code",
   "execution_count": 29,
   "metadata": {
    "hideCode": false,
    "hidePrompt": false
   },
   "outputs": [
    {
     "data": {
      "image/png": "[encoded data removed]",
      "text/plain": [
       "<Figure size 1008x432 with 2 Axes>"
      ]
     },
     "metadata": {},
     "output_type": "display_data"
    }
   ],
   "source": [
    "pointplot_with_barplot(\n",
    "    cm_compliance,\n",
    "    x=\"fiscal_year\",\n",
    "    point_y=\"percent_CMs_on_time\",\n",
    "    bar_y=\"total_CMs\",\n",
    "    ymax_bar=15_000,\n",
    "    ylabel_point=\"Percent CMs On Time\",\n",
    "    ylabel_bar=\"Total CMs\",\n",
    "    title=\"Percent of PMs On Time By Fiscal Year\",\n",
    ")"
   ]
  }
 ],
 "metadata": {
  "hide_code_all_hidden": false,
  "kernelspec": {
   "display_name": "Python 3",
   "language": "python",
   "name": "python3"
  },
  "language_info": {
   "codemirror_mode": {
    "name": "ipython",
    "version": 3
   },
   "file_extension": ".py",
   "mimetype": "text/x-python",
   "name": "python",
   "nbconvert_exporter": "python",
   "pygments_lexer": "ipython3",
   "version": "3.7.7"
  },
  "toc": {
   "base_numbering": 1,
   "nav_menu": {},
   "number_sections": true,
   "sideBar": true,
   "skip_h1_title": true,
   "title_cell": "Table of Contents",
   "title_sidebar": "Contents",
   "toc_cell": false,
   "toc_position": {
    "height": "calc(100% - 180px)",
    "left": "10px",
    "top": "150px",
    "width": "315.087px"
   },
   "toc_section_display": true,
   "toc_window_display": true
  }
 },
 "nbformat": 4,
 "nbformat_minor": 4
}
