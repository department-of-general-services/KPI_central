{
 "cells": [
  {
   "cell_type": "markdown",
   "metadata": {
    "hideCode": false,
    "hidePrompt": false
   },
   "source": [
    "# Facilities KPI Scorecard\n",
    "This notebook serves as a repository of public-facing KPIs for the Department of General Services' Facilities Division. The purpose of this notebook is to have, in a single public place, the entire pipeline for calculating the division's three KPIs that are based in Archibus. Those KPIs are:\n",
    "\n",
    "1. % of Corrective Maintenance Work Requests Completed On Time\n",
    "2. % of Preventive Maintenance Work Requests Completed On Time\n",
    "3. Preventive Maintenace to Corrective Maintenance Ratio\n",
    "\n",
    "Part of the intention of this notebook is to build _transparency_ and _reproducibility_ by capturing the entire end-to-end process used to calculate these metrics in one place."
   ]
  },
  {
   "cell_type": "markdown",
   "metadata": {
    "hideCode": false,
    "hideOutput": false,
    "hidePrompt": false
   },
   "source": [
    "## Setup"
   ]
  },
  {
   "cell_type": "markdown",
   "metadata": {
    "hideCode": false,
    "hideOutput": false,
    "hidePrompt": false
   },
   "source": [
    "### Import packages"
   ]
  },
  {
   "cell_type": "code",
   "execution_count": 1,
   "metadata": {
    "hideCode": false,
    "hideOutput": false,
    "hidePrompt": false,
    "tags": [
     "hide-input"
    ]
   },
   "outputs": [],
   "source": [
    "# workhorse modules\n",
    "import pandas as pd\n",
    "import numpy as np\n",
    "from datetime import timedelta, datetime\n",
    "import re\n",
    "from pathlib import Path\n",
    "import seaborn as sns\n",
    "import datadotworld as dw\n",
    "import matplotlib.pyplot as plt\n",
    "\n",
    "# local utility functions\n",
    "from utils import (\n",
    "    add_cm_benchmarks,\n",
    "    add_fiscal_year,\n",
    "    set_pd_params,\n",
    "    tidy_up_df,\n",
    "    cast_dtypes,\n",
    "    glue_date_time,\n",
    "    compute_days_to_completion,\n",
    "    consolidate_prob_types,\n",
    "    compute_pm_cm,\n",
    "    compute_pm_cm_by_month,\n",
    "    compute_kpi_table,\n",
    ")\n",
    "\n",
    "from vis_utils import set_plot_params, pointplot_with_barplot"
   ]
  },
  {
   "cell_type": "markdown",
   "metadata": {
    "hideCode": false,
    "hideOutput": false,
    "hidePrompt": false
   },
   "source": [
    "### Set pandas options\n",
    "This makes Pandas print all rows and columns to the output when requested."
   ]
  },
  {
   "cell_type": "code",
   "execution_count": 2,
   "metadata": {
    "hideCode": false,
    "hidePrompt": false
   },
   "outputs": [],
   "source": [
    "set_pd_params()\n",
    "set_plot_params()\n",
    "pd.options.mode.chained_assignment = None  # default='warn'"
   ]
  },
  {
   "cell_type": "markdown",
   "metadata": {
    "hideCode": false,
    "hidePrompt": false
   },
   "source": [
    "### Import the work order data from Data.World\n",
    "This data is a copy of Archibus's `wrhwr` table stored at DGS's account on Data.World. To see the exact query used to generate the input data, see `/sql/input_for_FMD_KPIs.sql`."
   ]
  },
  {
   "cell_type": "code",
   "execution_count": 3,
   "metadata": {
    "hideCode": false,
    "hidePrompt": false
   },
   "outputs": [],
   "source": [
    "kpis_raw = dw.query(\n",
    "    dataset_key=\"dgsbpio/auditfinding3\", query=\"select * from wrhwr_02042021\"\n",
    ").dataframe"
   ]
  },
  {
   "cell_type": "code",
   "execution_count": 4,
   "metadata": {},
   "outputs": [
    {
     "name": "stdout",
     "output_type": "stream",
     "text": [
      "The work orders dataframe has 105,994 rows.\n"
     ]
    },
    {
     "data": {
      "text/html": [
       "<div>\n",
       "<style scoped>\n",
       "    .dataframe tbody tr th:only-of-type {\n",
       "        vertical-align: middle;\n",
       "    }\n",
       "\n",
       "    .dataframe tbody tr th {\n",
       "        vertical-align: top;\n",
       "    }\n",
       "\n",
       "    .dataframe thead th {\n",
       "        text-align: right;\n",
       "    }\n",
       "</style>\n",
       "<table border=\"1\" class=\"dataframe\">\n",
       "  <thead>\n",
       "    <tr style=\"text-align: right;\">\n",
       "      <th></th>\n",
       "      <th>wr_id</th>\n",
       "      <th>prob_type</th>\n",
       "      <th>date_requested</th>\n",
       "    </tr>\n",
       "  </thead>\n",
       "  <tbody>\n",
       "    <tr>\n",
       "      <th>43021</th>\n",
       "      <td>67692</td>\n",
       "      <td>LAWN</td>\n",
       "      <td>2016-06-15</td>\n",
       "    </tr>\n",
       "    <tr>\n",
       "      <th>38037</th>\n",
       "      <td>62755</td>\n",
       "      <td>ELEC/LIGHT</td>\n",
       "      <td>2016-03-03</td>\n",
       "    </tr>\n",
       "    <tr>\n",
       "      <th>86771</th>\n",
       "      <td>117819</td>\n",
       "      <td>PLUMB/LEAK</td>\n",
       "      <td>2019-02-27</td>\n",
       "    </tr>\n",
       "  </tbody>\n",
       "</table>\n",
       "</div>"
      ],
      "text/plain": [
       "        wr_id                         prob_type date_requested\n",
       "43021   67692  LAWN                                 2016-06-15\n",
       "38037   62755  ELEC/LIGHT                           2016-03-03\n",
       "86771  117819  PLUMB/LEAK                           2019-02-27"
      ]
     },
     "execution_count": 4,
     "metadata": {},
     "output_type": "execute_result"
    }
   ],
   "source": [
    "print(f\"The work orders dataframe has {kpis_raw.shape[0]:,} rows.\")\n",
    "\n",
    "kpis_raw.sample(3, random_state=444)[[\"wr_id\", \"prob_type\", \"date_requested\"]]"
   ]
  },
  {
   "cell_type": "markdown",
   "metadata": {},
   "source": [
    "### Import the users table\n",
    "The only reason why we need this second table is to figure out which work requests of type \"OTHER\" were requested by FMD staff and which were requested by a Service Request Liaison. \n",
    "\n",
    "OTHERs requested internally will be given the primary problem type \"OTHER-INTERNAL\", while OTHERs requested by SRLs will be given the primary problem type \"OTHER-EXTERNAL\"."
   ]
  },
  {
   "cell_type": "code",
   "execution_count": 5,
   "metadata": {
    "hideCode": false,
    "hidePrompt": false
   },
   "outputs": [],
   "source": [
    "users = dw.query(\n",
    "    dataset_key=\"dgsbpio/auditfinding3\", query=\"select * from archibus_user_roles\"\n",
    ").dataframe\n",
    "\n",
    "users = users.applymap(lambda x: x.strip() if isinstance(x, str) else x)"
   ]
  },
  {
   "cell_type": "markdown",
   "metadata": {
    "hideCode": false,
    "hidePrompt": false
   },
   "source": [
    "## Data cleaning\n",
    "For the purposes of this project, DGS is keeping the cleaning stage very simple. We're not attempting to remove duplicates or outliers, both of which involve relatively complex operations. "
   ]
  },
  {
   "cell_type": "markdown",
   "metadata": {
    "hideCode": false,
    "hidePrompt": false
   },
   "source": [
    "### Basic cleaning\n",
    "- removes white spaces in strings to facilitate matching, \n",
    "- drops rows with no problem type, or rows created by a test,\n",
    "- renames a few columns"
   ]
  },
  {
   "cell_type": "code",
   "execution_count": 6,
   "metadata": {
    "hideCode": false,
    "hidePrompt": false
   },
   "outputs": [
    {
     "name": "stdout",
     "output_type": "stream",
     "text": [
      "The tidied work orders dataframe has 105,867 rows.\n",
      "By tidying the data, we have removed 127 rows.\n"
     ]
    }
   ],
   "source": [
    "# make sure each column is of the correct data type\n",
    "wr_tidy = cast_dtypes(kpis_raw)\n",
    "# basic cleaning\n",
    "wr_tidy = tidy_up_df(wr_tidy)\n",
    "\n",
    "print(f\"The tidied work orders dataframe has {len(wr_tidy):,} rows.\")\n",
    "print(f\"By tidying the data, we have removed {len(kpis_raw) - len(wr_tidy):,} rows.\")"
   ]
  },
  {
   "cell_type": "markdown",
   "metadata": {},
   "source": [
    "### Drop canceled work orders\n",
    "The data comes to us with many canceled work orders. Those shouldn't count against us as not having been completed on time. So we drop them here. "
   ]
  },
  {
   "cell_type": "code",
   "execution_count": 7,
   "metadata": {},
   "outputs": [
    {
     "name": "stdout",
     "output_type": "stream",
     "text": [
      "By dropping canceled work orders, we have removed 3,328 rows.\n"
     ]
    }
   ],
   "source": [
    "# drop rows that were canceled\n",
    "cond_valid = wr_tidy[\"status\"] != \"Can\"\n",
    "\n",
    "wr_valid = wr_tidy[cond_valid]\n",
    "\n",
    "print(\n",
    "    f\"By dropping canceled work orders, we have removed {len(wr_tidy) - len(wr_valid):,} rows.\"\n",
    ")"
   ]
  },
  {
   "cell_type": "markdown",
   "metadata": {
    "hideCode": false,
    "hidePrompt": false
   },
   "source": [
    "### Combine date and time columns to get timestamps\n",
    "This takes the date from a date column and the time from a time column and combines them into a single timestamp.\n",
    "\n",
    "This transformation allows us to know the time to completion with greater precision. "
   ]
  },
  {
   "cell_type": "code",
   "execution_count": 8,
   "metadata": {
    "hideCode": false,
    "hidePrompt": false
   },
   "outputs": [],
   "source": [
    "# glue the date and time for request\n",
    "wr_dt = glue_date_time(wr_valid, \"date_requested\", \"time_requested\", \"requested_dt\")\n",
    "\n",
    "# glue the date and time for completion\n",
    "wr_dt = glue_date_time(wr_dt, \"date_completed\", \"time_completed\", \"completed_dt\")\n",
    "\n",
    "# convert \"date closed\" to a valid datetime (this column has no time information)\n",
    "wr_dt[\"date_closed\"] = wr_dt[\"date_closed\"].astype(\"datetime64\")"
   ]
  },
  {
   "cell_type": "markdown",
   "metadata": {
    "hideCode": false,
    "hidePrompt": false
   },
   "source": [
    "### Examine the cleaned data\n",
    "The display below gives us a sense of what some key columns in the data now look like. "
   ]
  },
  {
   "cell_type": "code",
   "execution_count": 9,
   "metadata": {
    "hideCode": false,
    "hidePrompt": false
   },
   "outputs": [
    {
     "data": {
      "text/html": [
       "<div>\n",
       "<style scoped>\n",
       "    .dataframe tbody tr th:only-of-type {\n",
       "        vertical-align: middle;\n",
       "    }\n",
       "\n",
       "    .dataframe tbody tr th {\n",
       "        vertical-align: top;\n",
       "    }\n",
       "\n",
       "    .dataframe thead th {\n",
       "        text-align: right;\n",
       "    }\n",
       "</style>\n",
       "<table border=\"1\" class=\"dataframe\">\n",
       "  <thead>\n",
       "    <tr style=\"text-align: right;\">\n",
       "      <th></th>\n",
       "      <th>wr_id</th>\n",
       "      <th>problem_type</th>\n",
       "      <th>requested_dt</th>\n",
       "      <th>completed_dt</th>\n",
       "      <th>date_closed</th>\n",
       "      <th>status</th>\n",
       "    </tr>\n",
       "  </thead>\n",
       "  <tbody>\n",
       "    <tr>\n",
       "      <th>87362</th>\n",
       "      <td>118433</td>\n",
       "      <td>ELECTRICAL</td>\n",
       "      <td>2019-03-14 15:17:14</td>\n",
       "      <td>2019-03-29 12:02:12</td>\n",
       "      <td>2019-04-10 12:16:29.303</td>\n",
       "      <td>Clo</td>\n",
       "    </tr>\n",
       "    <tr>\n",
       "      <th>49206</th>\n",
       "      <td>76409</td>\n",
       "      <td>PLUMB/OTHER</td>\n",
       "      <td>2016-10-18 07:17:23</td>\n",
       "      <td>2016-10-26 08:44:34</td>\n",
       "      <td>2017-01-11 10:14:13.230</td>\n",
       "      <td>Clo</td>\n",
       "    </tr>\n",
       "    <tr>\n",
       "      <th>90634</th>\n",
       "      <td>123723</td>\n",
       "      <td>LOCK</td>\n",
       "      <td>2019-07-22 11:45:08</td>\n",
       "      <td>2019-10-30 09:55:31</td>\n",
       "      <td>2020-01-27 10:42:19.447</td>\n",
       "      <td>Clo</td>\n",
       "    </tr>\n",
       "  </tbody>\n",
       "</table>\n",
       "</div>"
      ],
      "text/plain": [
       "        wr_id problem_type        requested_dt        completed_dt  \\\n",
       "87362  118433   ELECTRICAL 2019-03-14 15:17:14 2019-03-29 12:02:12   \n",
       "49206   76409  PLUMB/OTHER 2016-10-18 07:17:23 2016-10-26 08:44:34   \n",
       "90634  123723         LOCK 2019-07-22 11:45:08 2019-10-30 09:55:31   \n",
       "\n",
       "                  date_closed status  \n",
       "87362 2019-04-10 12:16:29.303    Clo  \n",
       "49206 2017-01-11 10:14:13.230    Clo  \n",
       "90634 2020-01-27 10:42:19.447    Clo  "
      ]
     },
     "execution_count": 9,
     "metadata": {},
     "output_type": "execute_result"
    }
   ],
   "source": [
    "wr_dt[\n",
    "    [\n",
    "        \"wr_id\",\n",
    "        \"problem_type\",\n",
    "        \"requested_dt\",\n",
    "        \"completed_dt\",\n",
    "        \"date_closed\",\n",
    "        \"status\",\n",
    "    ]\n",
    "].sample(3, random_state=451)"
   ]
  },
  {
   "cell_type": "markdown",
   "metadata": {
    "hideCode": false,
    "hidePrompt": false
   },
   "source": [
    "## Data preparation"
   ]
  },
  {
   "cell_type": "markdown",
   "metadata": {},
   "source": [
    "### Merge work requests and user data\n",
    "Now we bring the data from the users table into the work request table. This lets us figure out the rose of the user who requested each work request. "
   ]
  },
  {
   "cell_type": "code",
   "execution_count": 10,
   "metadata": {
    "hideCode": false,
    "hidePrompt": false
   },
   "outputs": [],
   "source": [
    "wr_joined = wr_dt.merge(\n",
    "    users[[\"user_name\", \"role_name\"]],\n",
    "    how=\"left\",\n",
    "    left_on=\"requestor\",\n",
    "    right_on=\"user_name\",\n",
    ")"
   ]
  },
  {
   "cell_type": "markdown",
   "metadata": {
    "hideCode": false,
    "hidePrompt": false
   },
   "source": [
    "### Add days to completion\n",
    "Next, we compute the duration of time between the request and completion, for each job. We store that number in a column called \"days_to_completion\". "
   ]
  },
  {
   "cell_type": "code",
   "execution_count": 11,
   "metadata": {
    "hideCode": false,
    "hidePrompt": false
   },
   "outputs": [],
   "source": [
    "wr_durations = compute_days_to_completion(wr_joined)"
   ]
  },
  {
   "cell_type": "markdown",
   "metadata": {},
   "source": [
    "Let's check out three rows of the data, now that we've added some columns. Notice that `days_to_completion` is empty if the work request hasn't been marked completed yet. "
   ]
  },
  {
   "cell_type": "code",
   "execution_count": 12,
   "metadata": {
    "hideCode": false,
    "hidePrompt": false
   },
   "outputs": [
    {
     "data": {
      "text/html": [
       "<div>\n",
       "<style scoped>\n",
       "    .dataframe tbody tr th:only-of-type {\n",
       "        vertical-align: middle;\n",
       "    }\n",
       "\n",
       "    .dataframe tbody tr th {\n",
       "        vertical-align: top;\n",
       "    }\n",
       "\n",
       "    .dataframe thead th {\n",
       "        text-align: right;\n",
       "    }\n",
       "</style>\n",
       "<table border=\"1\" class=\"dataframe\">\n",
       "  <thead>\n",
       "    <tr style=\"text-align: right;\">\n",
       "      <th></th>\n",
       "      <th>wr_id</th>\n",
       "      <th>role_name</th>\n",
       "      <th>problem_type</th>\n",
       "      <th>requested_dt</th>\n",
       "      <th>completed_dt</th>\n",
       "      <th>date_closed</th>\n",
       "      <th>days_to_completion</th>\n",
       "      <th>status</th>\n",
       "    </tr>\n",
       "    <tr>\n",
       "      <th>requested_dt</th>\n",
       "      <th></th>\n",
       "      <th></th>\n",
       "      <th></th>\n",
       "      <th></th>\n",
       "      <th></th>\n",
       "      <th></th>\n",
       "      <th></th>\n",
       "      <th></th>\n",
       "    </tr>\n",
       "  </thead>\n",
       "  <tbody>\n",
       "    <tr>\n",
       "      <th>2014-02-06 13:41:41</th>\n",
       "      <td>5516</td>\n",
       "      <td>CRAFTSPERSON - BOC</td>\n",
       "      <td>_DELIVERY</td>\n",
       "      <td>2014-02-06 13:41:41</td>\n",
       "      <td>2014-02-07 07:42:59</td>\n",
       "      <td>2014-02-07 00:00:00.000</td>\n",
       "      <td>0.75</td>\n",
       "      <td>Clo</td>\n",
       "    </tr>\n",
       "    <tr>\n",
       "      <th>2018-10-15 14:24:27</th>\n",
       "      <td>112088</td>\n",
       "      <td>GATEKEEPER-RESTRICTED - BOC</td>\n",
       "      <td>HVAC</td>\n",
       "      <td>2018-10-15 14:24:27</td>\n",
       "      <td>2018-11-14 14:48:12</td>\n",
       "      <td>2019-01-29 10:21:36.630</td>\n",
       "      <td>30.02</td>\n",
       "      <td>Clo</td>\n",
       "    </tr>\n",
       "    <tr>\n",
       "      <th>2018-11-08 15:54:55</th>\n",
       "      <td>112983</td>\n",
       "      <td>GATEKEEPER - BOC</td>\n",
       "      <td>PLUMBING-SANITARY</td>\n",
       "      <td>2018-11-08 15:54:55</td>\n",
       "      <td>2019-01-02 11:58:59</td>\n",
       "      <td>2019-01-03 13:05:22.103</td>\n",
       "      <td>54.84</td>\n",
       "      <td>Clo</td>\n",
       "    </tr>\n",
       "  </tbody>\n",
       "</table>\n",
       "</div>"
      ],
      "text/plain": [
       "                      wr_id                    role_name       problem_type  \\\n",
       "requested_dt                                                                  \n",
       "2014-02-06 13:41:41    5516           CRAFTSPERSON - BOC          _DELIVERY   \n",
       "2018-10-15 14:24:27  112088  GATEKEEPER-RESTRICTED - BOC               HVAC   \n",
       "2018-11-08 15:54:55  112983             GATEKEEPER - BOC  PLUMBING-SANITARY   \n",
       "\n",
       "                           requested_dt        completed_dt  \\\n",
       "requested_dt                                                  \n",
       "2014-02-06 13:41:41 2014-02-06 13:41:41 2014-02-07 07:42:59   \n",
       "2018-10-15 14:24:27 2018-10-15 14:24:27 2018-11-14 14:48:12   \n",
       "2018-11-08 15:54:55 2018-11-08 15:54:55 2019-01-02 11:58:59   \n",
       "\n",
       "                                date_closed  days_to_completion status  \n",
       "requested_dt                                                            \n",
       "2014-02-06 13:41:41 2014-02-07 00:00:00.000                0.75    Clo  \n",
       "2018-10-15 14:24:27 2019-01-29 10:21:36.630               30.02    Clo  \n",
       "2018-11-08 15:54:55 2019-01-03 13:05:22.103               54.84    Clo  "
      ]
     },
     "execution_count": 12,
     "metadata": {},
     "output_type": "execute_result"
    }
   ],
   "source": [
    "wr_durations[\n",
    "    [\n",
    "        \"wr_id\",\n",
    "        \"role_name\",\n",
    "        \"problem_type\",\n",
    "        \"requested_dt\",\n",
    "        \"completed_dt\",\n",
    "        \"date_closed\",\n",
    "        \"days_to_completion\",\n",
    "        \"status\",\n",
    "    ]\n",
    "].sample(3, random_state=446)"
   ]
  },
  {
   "cell_type": "markdown",
   "metadata": {
    "hideCode": false,
    "hidePrompt": false
   },
   "source": [
    "### Add fiscal year\n",
    "There are different ways to assign a fiscal year to a work request. Currently, we're doing it by the fiscal year in which the work request was closed. Other options would include the fiscal year of the request. \n"
   ]
  },
  {
   "cell_type": "code",
   "execution_count": 13,
   "metadata": {
    "hideCode": false,
    "hidePrompt": false
   },
   "outputs": [],
   "source": [
    "wr_fy = add_fiscal_year(wr_durations, assign_fy_on=\"closure\")"
   ]
  },
  {
   "cell_type": "markdown",
   "metadata": {},
   "source": [
    "After assigning the fiscal year, we can drop work requests from FY15 and older. "
   ]
  },
  {
   "cell_type": "code",
   "execution_count": 14,
   "metadata": {
    "hideCode": false,
    "hidePrompt": false
   },
   "outputs": [],
   "source": [
    "cond_fy = wr_fy[\"fiscal_year\"].isin(range(2016, 2022))\n",
    "wr_fy = wr_fy[cond_fy]"
   ]
  },
  {
   "cell_type": "markdown",
   "metadata": {
    "hideCode": false,
    "hidePrompt": false
   },
   "source": [
    "## KPI: % PMs Completed On Time \n",
    "The goal here is to filter the data down to preventive maintenance only, and then show how many are completed on or before the benchmark (21 days)."
   ]
  },
  {
   "cell_type": "markdown",
   "metadata": {
    "hideCode": false,
    "hidePrompt": false
   },
   "source": [
    "### Filter to valid PM only, and for relevant fiscal years only\n",
    "After noticing that many PMs have the status \"Can\" — meaning they were canceled — we fil"
   ]
  },
  {
   "cell_type": "code",
   "execution_count": 15,
   "metadata": {
    "hideCode": false,
    "hidePrompt": false
   },
   "outputs": [
    {
     "name": "stdout",
     "output_type": "stream",
     "text": [
      "The filtered PMs dataframe has 6,717 rows.\n"
     ]
    }
   ],
   "source": [
    "# this defines which problem types are considered PMs\n",
    "pm_list = [\n",
    "    \"BUILDING INTERIOR INSPECTION\",\n",
    "    \"BUILDING PM\",\n",
    "    \"HVAC|PM\",\n",
    "    \"INSEPCTION\",\n",
    "    \"PREVENTIVE MAINT\",\n",
    "]\n",
    "\n",
    "# filter data to PM types only\n",
    "cond_pm = wr_fy[\"problem_type\"].isin(pm_list)\n",
    "\n",
    "# apply filter conditions\n",
    "wr_pm = wr_fy[cond_pm]\n",
    "\n",
    "print(f\"The filtered PMs dataframe has {wr_pm.shape[0]:,} rows.\")"
   ]
  },
  {
   "cell_type": "markdown",
   "metadata": {
    "hideCode": false,
    "hidePrompt": false
   },
   "source": [
    "#### Compute the benchmark and add `is_on_time` column\n",
    "Here we tell Python that PMs are on-time if completed in 21 days. \n",
    "\n",
    "Then the function `compute_is_on_time` compares the column `days_to_completion` to the benchmark and writes down whether the work request was completed on time. "
   ]
  },
  {
   "cell_type": "code",
   "execution_count": 16,
   "metadata": {
    "hideCode": false,
    "hidePrompt": false
   },
   "outputs": [],
   "source": [
    "def compute_is_on_time(row):\n",
    "    row[\"is_on_time\"] = row[\"days_to_completion\"] <= row[\"benchmark\"]\n",
    "    return row\n",
    "\n",
    "\n",
    "# assign benchmark\n",
    "wr_pm[\"benchmark\"] = 21\n",
    "\n",
    "# add \"is_on_time\" column with performance data\n",
    "pms_on_time = wr_pm.apply(compute_is_on_time, axis=1)"
   ]
  },
  {
   "cell_type": "code",
   "execution_count": 17,
   "metadata": {},
   "outputs": [
    {
     "data": {
      "text/html": [
       "<div>\n",
       "<style scoped>\n",
       "    .dataframe tbody tr th:only-of-type {\n",
       "        vertical-align: middle;\n",
       "    }\n",
       "\n",
       "    .dataframe tbody tr th {\n",
       "        vertical-align: top;\n",
       "    }\n",
       "\n",
       "    .dataframe thead th {\n",
       "        text-align: right;\n",
       "    }\n",
       "</style>\n",
       "<table border=\"1\" class=\"dataframe\">\n",
       "  <thead>\n",
       "    <tr style=\"text-align: right;\">\n",
       "      <th></th>\n",
       "      <th>wr_id</th>\n",
       "      <th>problem_type</th>\n",
       "      <th>requested_dt</th>\n",
       "      <th>completed_dt</th>\n",
       "      <th>days_to_completion</th>\n",
       "      <th>is_on_time</th>\n",
       "      <th>status</th>\n",
       "    </tr>\n",
       "    <tr>\n",
       "      <th>requested_dt</th>\n",
       "      <th></th>\n",
       "      <th></th>\n",
       "      <th></th>\n",
       "      <th></th>\n",
       "      <th></th>\n",
       "      <th></th>\n",
       "      <th></th>\n",
       "    </tr>\n",
       "  </thead>\n",
       "  <tbody>\n",
       "    <tr>\n",
       "      <th>2016-09-01 22:03:03</th>\n",
       "      <td>74111</td>\n",
       "      <td>PREVENTIVE MAINT</td>\n",
       "      <td>2016-09-01 22:03:03</td>\n",
       "      <td>2016-10-20 09:16:19</td>\n",
       "      <td>48.47</td>\n",
       "      <td>False</td>\n",
       "      <td>Clo</td>\n",
       "    </tr>\n",
       "    <tr>\n",
       "      <th>2017-06-01 13:14:21</th>\n",
       "      <td>88762</td>\n",
       "      <td>BUILDING PM</td>\n",
       "      <td>2017-06-01 13:14:21</td>\n",
       "      <td>2017-06-01 13:14:24</td>\n",
       "      <td>0.00</td>\n",
       "      <td>True</td>\n",
       "      <td>Clo</td>\n",
       "    </tr>\n",
       "    <tr>\n",
       "      <th>2019-01-26 06:00:47</th>\n",
       "      <td>115642</td>\n",
       "      <td>PREVENTIVE MAINT</td>\n",
       "      <td>2019-01-26 06:00:47</td>\n",
       "      <td>2019-01-28 08:08:14</td>\n",
       "      <td>2.09</td>\n",
       "      <td>True</td>\n",
       "      <td>Clo</td>\n",
       "    </tr>\n",
       "  </tbody>\n",
       "</table>\n",
       "</div>"
      ],
      "text/plain": [
       "                      wr_id      problem_type        requested_dt  \\\n",
       "requested_dt                                                        \n",
       "2016-09-01 22:03:03   74111  PREVENTIVE MAINT 2016-09-01 22:03:03   \n",
       "2017-06-01 13:14:21   88762       BUILDING PM 2017-06-01 13:14:21   \n",
       "2019-01-26 06:00:47  115642  PREVENTIVE MAINT 2019-01-26 06:00:47   \n",
       "\n",
       "                           completed_dt  days_to_completion  is_on_time status  \n",
       "requested_dt                                                                    \n",
       "2016-09-01 22:03:03 2016-10-20 09:16:19               48.47       False    Clo  \n",
       "2017-06-01 13:14:21 2017-06-01 13:14:24                0.00        True    Clo  \n",
       "2019-01-26 06:00:47 2019-01-28 08:08:14                2.09        True    Clo  "
      ]
     },
     "execution_count": 17,
     "metadata": {},
     "output_type": "execute_result"
    }
   ],
   "source": [
    "pms_on_time[\n",
    "    [\n",
    "        \"wr_id\",\n",
    "        \"problem_type\",\n",
    "        \"requested_dt\",\n",
    "        \"completed_dt\",\n",
    "        \"days_to_completion\",\n",
    "        \"is_on_time\",\n",
    "        \"status\",\n",
    "    ]\n",
    "].sample(3, random_state=446)"
   ]
  },
  {
   "cell_type": "markdown",
   "metadata": {
    "hideCode": false,
    "hidePrompt": false
   },
   "source": [
    "#### Group by fiscal year and get % on time\n",
    "Now that we've stored all this information, we can group by the fiscal year to get each year's KPI, together with a count of how many PMs "
   ]
  },
  {
   "cell_type": "code",
   "execution_count": 18,
   "metadata": {
    "hideCode": false,
    "hidePrompt": false
   },
   "outputs": [
    {
     "data": {
      "text/html": [
       "<div>\n",
       "<style scoped>\n",
       "    .dataframe tbody tr th:only-of-type {\n",
       "        vertical-align: middle;\n",
       "    }\n",
       "\n",
       "    .dataframe tbody tr th {\n",
       "        vertical-align: top;\n",
       "    }\n",
       "\n",
       "    .dataframe thead th {\n",
       "        text-align: right;\n",
       "    }\n",
       "</style>\n",
       "<table border=\"1\" class=\"dataframe\">\n",
       "  <thead>\n",
       "    <tr style=\"text-align: right;\">\n",
       "      <th></th>\n",
       "      <th>percent_PMs_on_time</th>\n",
       "      <th>total_PMs</th>\n",
       "    </tr>\n",
       "    <tr>\n",
       "      <th>fiscal_year</th>\n",
       "      <th></th>\n",
       "      <th></th>\n",
       "    </tr>\n",
       "  </thead>\n",
       "  <tbody>\n",
       "    <tr>\n",
       "      <th>2016</th>\n",
       "      <td>73.28</td>\n",
       "      <td>741</td>\n",
       "    </tr>\n",
       "    <tr>\n",
       "      <th>2017</th>\n",
       "      <td>50.63</td>\n",
       "      <td>1341</td>\n",
       "    </tr>\n",
       "    <tr>\n",
       "      <th>2018</th>\n",
       "      <td>79.24</td>\n",
       "      <td>1137</td>\n",
       "    </tr>\n",
       "    <tr>\n",
       "      <th>2019</th>\n",
       "      <td>92.15</td>\n",
       "      <td>764</td>\n",
       "    </tr>\n",
       "    <tr>\n",
       "      <th>2020</th>\n",
       "      <td>48.67</td>\n",
       "      <td>1952</td>\n",
       "    </tr>\n",
       "    <tr>\n",
       "      <th>2021</th>\n",
       "      <td>32.35</td>\n",
       "      <td>782</td>\n",
       "    </tr>\n",
       "  </tbody>\n",
       "</table>\n",
       "</div>"
      ],
      "text/plain": [
       "             percent_PMs_on_time  total_PMs\n",
       "fiscal_year                                \n",
       "2016                       73.28        741\n",
       "2017                       50.63       1341\n",
       "2018                       79.24       1137\n",
       "2019                       92.15        764\n",
       "2020                       48.67       1952\n",
       "2021                       32.35        782"
      ]
     },
     "execution_count": 18,
     "metadata": {},
     "output_type": "execute_result"
    }
   ],
   "source": [
    "pm_compliance = compute_kpi_table(pms_on_time, \"percent_PMs_on_time\", \"total_PMs\")\n",
    "pm_compliance"
   ]
  },
  {
   "cell_type": "code",
   "execution_count": 19,
   "metadata": {},
   "outputs": [
    {
     "data": {
      "image/png": "[encoded data removed]",
      "text/plain": [
       "<Figure size 1008x432 with 2 Axes>"
      ]
     },
     "metadata": {},
     "output_type": "display_data"
    }
   ],
   "source": [
    "pointplot_with_barplot(\n",
    "    pm_compliance,\n",
    "    x=\"fiscal_year\",\n",
    "    point_y=\"percent_PMs_on_time\",\n",
    "    bar_y=\"total_PMs\",\n",
    "    ymax_bar=2_500,\n",
    "    ylabel_point=\"Percent PMs On Time\",\n",
    "    ylabel_bar=\"Total PMs\",\n",
    "    title=\"Percent of PMs On Time By Fiscal Year\",\n",
    ")"
   ]
  },
  {
   "cell_type": "markdown",
   "metadata": {
    "hideCode": false,
    "hidePrompt": false
   },
   "source": [
    "## KPI: PM:CM Ratio"
   ]
  },
  {
   "cell_type": "markdown",
   "metadata": {
    "hideCode": false,
    "hidePrompt": false
   },
   "source": [
    "The two lists below contain the exact same problem types mentioned in last year's scorecard. So we would expect to be able to replicate last year's results closely."
   ]
  },
  {
   "cell_type": "code",
   "execution_count": 20,
   "metadata": {
    "hideCode": false,
    "hidePrompt": false
   },
   "outputs": [],
   "source": [
    "CM_list = [\n",
    "    \"BOILER\",\n",
    "    \"CHILLERS\",\n",
    "    \"COOLING TOWERS\",\n",
    "    \"HVAC\",\n",
    "    \"HVAC INFRASTRUCTURE\",\n",
    "    \"HVAC|REPAIR\",\n",
    "]\n",
    "\n",
    "PM_list = [\n",
    "    \"HVAC|PM\",\n",
    "    \"PREVENTIVE MAINT\",\n",
    "]"
   ]
  },
  {
   "cell_type": "markdown",
   "metadata": {
    "hideCode": false,
    "hidePrompt": false
   },
   "source": [
    "### Filter to HVAC rows only"
   ]
  },
  {
   "cell_type": "code",
   "execution_count": 21,
   "metadata": {
    "hideCode": false,
    "hidePrompt": false
   },
   "outputs": [
    {
     "name": "stdout",
     "output_type": "stream",
     "text": [
      "Filtering to HVAC request only takes us from 65,211 rows to 16,630 rows.\n"
     ]
    }
   ],
   "source": [
    "cond_cm = wr_fy[\"problem_type\"].isin(CM_list)\n",
    "cond_pm = wr_fy[\"problem_type\"].isin(PM_list)\n",
    "\n",
    "wr_HVAC = wr_fy[cond_cm | cond_pm]\n",
    "wr_HVAC[\"is_pm\"] = wr_HVAC[\"problem_type\"].isin(PM_list)\n",
    "\n",
    "print(\n",
    "    f\"Filtering to HVAC request only takes us from {len(wr_fy):,} rows to {len(wr_HVAC):,} rows.\"\n",
    ")"
   ]
  },
  {
   "cell_type": "markdown",
   "metadata": {
    "hideCode": false,
    "hidePrompt": false
   },
   "source": [
    "### Compute all PM/CM stats by fiscal year\n",
    "First we deploy a custom function that counts the PMs and CMs in each fiscal year and then calculates the PM:CM ratio."
   ]
  },
  {
   "cell_type": "code",
   "execution_count": 22,
   "metadata": {
    "hideCode": false,
    "hidePrompt": false
   },
   "outputs": [],
   "source": [
    "pm_cm_results = compute_pm_cm(wr_HVAC, PM_list)"
   ]
  },
  {
   "cell_type": "code",
   "execution_count": 23,
   "metadata": {
    "hideCode": false,
    "hidePrompt": false,
    "scrolled": true
   },
   "outputs": [
    {
     "data": {
      "text/html": [
       "<div>\n",
       "<style scoped>\n",
       "    .dataframe tbody tr th:only-of-type {\n",
       "        vertical-align: middle;\n",
       "    }\n",
       "\n",
       "    .dataframe tbody tr th {\n",
       "        vertical-align: top;\n",
       "    }\n",
       "\n",
       "    .dataframe thead th {\n",
       "        text-align: right;\n",
       "    }\n",
       "</style>\n",
       "<table border=\"1\" class=\"dataframe\">\n",
       "  <thead>\n",
       "    <tr style=\"text-align: right;\">\n",
       "      <th></th>\n",
       "      <th>fiscal_year</th>\n",
       "      <th>pm_cm_ratio</th>\n",
       "      <th>count_cm</th>\n",
       "      <th>count_pm</th>\n",
       "      <th>count_hvac</th>\n",
       "    </tr>\n",
       "  </thead>\n",
       "  <tbody>\n",
       "    <tr>\n",
       "      <th>0</th>\n",
       "      <td>2016</td>\n",
       "      <td>49.07</td>\n",
       "      <td>1400</td>\n",
       "      <td>687</td>\n",
       "      <td>2087</td>\n",
       "    </tr>\n",
       "    <tr>\n",
       "      <th>1</th>\n",
       "      <td>2017</td>\n",
       "      <td>47.25</td>\n",
       "      <td>2671</td>\n",
       "      <td>1262</td>\n",
       "      <td>3933</td>\n",
       "    </tr>\n",
       "    <tr>\n",
       "      <th>2</th>\n",
       "      <td>2018</td>\n",
       "      <td>61.39</td>\n",
       "      <td>1764</td>\n",
       "      <td>1083</td>\n",
       "      <td>2847</td>\n",
       "    </tr>\n",
       "    <tr>\n",
       "      <th>3</th>\n",
       "      <td>2019</td>\n",
       "      <td>31.83</td>\n",
       "      <td>1304</td>\n",
       "      <td>415</td>\n",
       "      <td>1719</td>\n",
       "    </tr>\n",
       "    <tr>\n",
       "      <th>4</th>\n",
       "      <td>2020</td>\n",
       "      <td>71.76</td>\n",
       "      <td>2507</td>\n",
       "      <td>1799</td>\n",
       "      <td>4306</td>\n",
       "    </tr>\n",
       "    <tr>\n",
       "      <th>5</th>\n",
       "      <td>2021</td>\n",
       "      <td>80.10</td>\n",
       "      <td>965</td>\n",
       "      <td>773</td>\n",
       "      <td>1738</td>\n",
       "    </tr>\n",
       "  </tbody>\n",
       "</table>\n",
       "</div>"
      ],
      "text/plain": [
       "   fiscal_year  pm_cm_ratio  count_cm  count_pm  count_hvac\n",
       "0         2016        49.07      1400       687        2087\n",
       "1         2017        47.25      2671      1262        3933\n",
       "2         2018        61.39      1764      1083        2847\n",
       "3         2019        31.83      1304       415        1719\n",
       "4         2020        71.76      2507      1799        4306\n",
       "5         2021        80.10       965       773        1738"
      ]
     },
     "execution_count": 23,
     "metadata": {},
     "output_type": "execute_result"
    }
   ],
   "source": [
    "pm_cm_results"
   ]
  },
  {
   "cell_type": "markdown",
   "metadata": {},
   "source": [
    "### Plot PM:CM ratio by fiscal year"
   ]
  },
  {
   "cell_type": "code",
   "execution_count": 24,
   "metadata": {},
   "outputs": [
    {
     "name": "stderr",
     "output_type": "stream",
     "text": [
      "/Users/james/Documents/Bmore/repos/KPI_central/vis_utils.py:77: UserWarning: FixedFormatter should only be used together with FixedLocator\n",
      "  ax2.set_yticklabels(yticklabels)\n"
     ]
    },
    {
     "data": {
      "image/png": "[encoded data removed]",
      "text/plain": [
       "<Figure size 1008x432 with 2 Axes>"
      ]
     },
     "metadata": {},
     "output_type": "display_data"
    }
   ],
   "source": [
    "pointplot_with_barplot(\n",
    "    pm_cm_results,\n",
    "    x=\"fiscal_year\",\n",
    "    point_y=\"pm_cm_ratio\",\n",
    "    bar_y=\"count_hvac\",\n",
    "    ymax_bar=5_000,\n",
    "    ylabel_point=\"PM:CM Ratio\",\n",
    "    ylabel_bar=\"Total HVAC Work Requests\",\n",
    "    title=\"Preventive to Corrective Ratio By Fiscal Year\",\n",
    "    yticklabels=[\"0\", \"0\", \"0.25:1\", \"0.5:1\", \"0.75:1\", \"1:1\"],\n",
    ")"
   ]
  },
  {
   "cell_type": "markdown",
   "metadata": {},
   "source": [
    "### Plot the number of PMs and CMs by fiscal year\n",
    "We can get a little more insight into what's going on with the ratio by checking out the raw counts of preventive and corrective maintenance work requests by fiscal year. "
   ]
  },
  {
   "cell_type": "code",
   "execution_count": 25,
   "metadata": {},
   "outputs": [
    {
     "data": {
      "image/png": "[encoded data removed]",
      "text/plain": [
       "<Figure size 1152x432 with 1 Axes>"
      ]
     },
     "metadata": {},
     "output_type": "display_data"
    }
   ],
   "source": [
    "count_plot_data = pd.melt(\n",
    "    pm_cm_results, id_vars=[\"fiscal_year\"], value_vars=[\"count_cm\", \"count_pm\"]\n",
    ")\n",
    "\n",
    "ax = sns.lineplot(data=count_plot_data, y=\"value\", x=\"fiscal_year\", hue=\"variable\")\n",
    "new_labels = [\"Corrective\", \"Preventive\"]\n",
    "plt.legend(title=\"Number of Work Orders\", loc=\"upper left\", labels=new_labels)\n",
    "\n",
    "ax.set(\n",
    "    title=\"Volume of HVAC PMs And CMs By Fiscal Year\",\n",
    "    xlabel=\"Fiscal Year\",\n",
    "    ylim=(0, 3000),\n",
    ")\n",
    "sns.despine()"
   ]
  },
  {
   "cell_type": "markdown",
   "metadata": {
    "hideCode": false,
    "hidePrompt": false
   },
   "source": [
    "## KPI: Percent of CM Work Requests Completed On-Time\n",
    "Here are the key facts needed to understand the agency's new method for computing this KPI:\n",
    "\n",
    "- Only CM problem types are considered, so all PM work orders are dropped.\n",
    "- The work orders are first assigned a \"primary\" problem type, which consolidates the number of problem types\n",
    "- Each of these primary problem types has a benchmark, which is then added to the work request's row\n",
    "- Finally, the work order is determined to be on-time based on comparing its time to completion to its benchmark"
   ]
  },
  {
   "cell_type": "markdown",
   "metadata": {},
   "source": [
    "### Consolidate many problem types into primary types\n",
    "As shown below, consolidating all the different problem types gets us from a starting place of 110 problem types to only 30. Much more manageable to have 30 benchmarks than 110."
   ]
  },
  {
   "cell_type": "code",
   "execution_count": 26,
   "metadata": {
    "hideCode": false,
    "hidePrompt": false
   },
   "outputs": [
    {
     "name": "stdout",
     "output_type": "stream",
     "text": [
      "Dropping some unbenchmarked small categories takes us from 65,211 rows to 58,396 rows.\n"
     ]
    }
   ],
   "source": [
    "wr_cm = wr_fy.copy()\n",
    "\n",
    "consolidated_wrs = wr_cm.apply(consolidate_prob_types, axis=1)\n",
    "\n",
    "cond_cm = consolidated_wrs[\"primary\"] != \"PREVENTIVE\"\n",
    "consolidated_cms = consolidated_wrs[cond_cm]\n",
    "\n",
    "print(\n",
    "    f\"Dropping some unbenchmarked small categories takes us from {len(consolidated_wrs):,} rows to {len(consolidated_cms):,} rows.\"\n",
    ")"
   ]
  },
  {
   "cell_type": "code",
   "execution_count": 27,
   "metadata": {},
   "outputs": [
    {
     "name": "stdout",
     "output_type": "stream",
     "text": [
      "Consolidation takes us from 110 problem types to only 30.\n"
     ]
    }
   ],
   "source": [
    "print(\n",
    "    f\"Consolidation takes us from {consolidated_wrs['problem_type'].nunique()} problem types to only {consolidated_wrs['primary'].nunique():,}.\"\n",
    ")"
   ]
  },
  {
   "cell_type": "markdown",
   "metadata": {},
   "source": [
    "### Apply benchmarks\n",
    "Now we look up the benchmark for each work request and add it in a new column. The function `add_cm_benchmarks()` contains the list of benchmarks and problem types."
   ]
  },
  {
   "cell_type": "code",
   "execution_count": 28,
   "metadata": {
    "hideCode": false,
    "hidePrompt": false
   },
   "outputs": [
    {
     "data": {
      "text/html": [
       "<div>\n",
       "<style scoped>\n",
       "    .dataframe tbody tr th:only-of-type {\n",
       "        vertical-align: middle;\n",
       "    }\n",
       "\n",
       "    .dataframe tbody tr th {\n",
       "        vertical-align: top;\n",
       "    }\n",
       "\n",
       "    .dataframe thead th {\n",
       "        text-align: right;\n",
       "    }\n",
       "</style>\n",
       "<table border=\"1\" class=\"dataframe\">\n",
       "  <thead>\n",
       "    <tr style=\"text-align: right;\">\n",
       "      <th></th>\n",
       "      <th>problem_type</th>\n",
       "      <th>primary</th>\n",
       "      <th>benchmark</th>\n",
       "      <th>days_to_completion</th>\n",
       "    </tr>\n",
       "    <tr>\n",
       "      <th>requested_dt</th>\n",
       "      <th></th>\n",
       "      <th></th>\n",
       "      <th></th>\n",
       "      <th></th>\n",
       "    </tr>\n",
       "  </thead>\n",
       "  <tbody>\n",
       "    <tr>\n",
       "      <th>2016-06-20 10:03:20</th>\n",
       "      <td>HVAC</td>\n",
       "      <td>HVAC</td>\n",
       "      <td>30.0</td>\n",
       "      <td>51.01</td>\n",
       "    </tr>\n",
       "    <tr>\n",
       "      <th>2019-10-15 11:04:28</th>\n",
       "      <td>HVAC</td>\n",
       "      <td>HVAC</td>\n",
       "      <td>30.0</td>\n",
       "      <td>91.09</td>\n",
       "    </tr>\n",
       "    <tr>\n",
       "      <th>2018-10-23 15:21:02</th>\n",
       "      <td>SERV/CUSTODIAL</td>\n",
       "      <td>SERVICE</td>\n",
       "      <td>14.0</td>\n",
       "      <td>119.66</td>\n",
       "    </tr>\n",
       "    <tr>\n",
       "      <th>2015-06-05 09:58:49</th>\n",
       "      <td>PLUMB/OTHER</td>\n",
       "      <td>PLUMBING</td>\n",
       "      <td>14.0</td>\n",
       "      <td>0.00</td>\n",
       "    </tr>\n",
       "    <tr>\n",
       "      <th>2019-03-07 08:45:49</th>\n",
       "      <td>BATHROOM_FIXT</td>\n",
       "      <td>BATHROOM</td>\n",
       "      <td>14.0</td>\n",
       "      <td>419.10</td>\n",
       "    </tr>\n",
       "    <tr>\n",
       "      <th>2016-04-14 10:05:14</th>\n",
       "      <td>ENVIR/ASBESTOS</td>\n",
       "      <td>ENVIRONMENTAL</td>\n",
       "      <td>45.0</td>\n",
       "      <td>130.97</td>\n",
       "    </tr>\n",
       "  </tbody>\n",
       "</table>\n",
       "</div>"
      ],
      "text/plain": [
       "                       problem_type        primary  benchmark  \\\n",
       "requested_dt                                                    \n",
       "2016-06-20 10:03:20            HVAC           HVAC       30.0   \n",
       "2019-10-15 11:04:28            HVAC           HVAC       30.0   \n",
       "2018-10-23 15:21:02  SERV/CUSTODIAL        SERVICE       14.0   \n",
       "2015-06-05 09:58:49     PLUMB/OTHER       PLUMBING       14.0   \n",
       "2019-03-07 08:45:49   BATHROOM_FIXT       BATHROOM       14.0   \n",
       "2016-04-14 10:05:14  ENVIR/ASBESTOS  ENVIRONMENTAL       45.0   \n",
       "\n",
       "                     days_to_completion  \n",
       "requested_dt                             \n",
       "2016-06-20 10:03:20               51.01  \n",
       "2019-10-15 11:04:28               91.09  \n",
       "2018-10-23 15:21:02              119.66  \n",
       "2015-06-05 09:58:49                0.00  \n",
       "2019-03-07 08:45:49              419.10  \n",
       "2016-04-14 10:05:14              130.97  "
      ]
     },
     "execution_count": 28,
     "metadata": {},
     "output_type": "execute_result"
    }
   ],
   "source": [
    "cms_benchmarked = consolidated_cms.apply(add_cm_benchmarks, axis=1)\n",
    "\n",
    "cms_benchmarked.sample(6, random_state=444)[\n",
    "    [\"problem_type\", \"primary\", \"benchmark\", \"days_to_completion\"]\n",
    "]"
   ]
  },
  {
   "cell_type": "markdown",
   "metadata": {},
   "source": [
    "### Compute whether requests are on time"
   ]
  },
  {
   "cell_type": "code",
   "execution_count": 29,
   "metadata": {
    "hideCode": false,
    "hidePrompt": false
   },
   "outputs": [],
   "source": [
    "cms_on_time = cms_benchmarked.apply(compute_is_on_time, axis=1)"
   ]
  },
  {
   "cell_type": "markdown",
   "metadata": {},
   "source": [
    "### Group by fiscal year to get KPI"
   ]
  },
  {
   "cell_type": "code",
   "execution_count": 30,
   "metadata": {
    "hideCode": false,
    "hidePrompt": false
   },
   "outputs": [
    {
     "data": {
      "text/html": [
       "<div>\n",
       "<style scoped>\n",
       "    .dataframe tbody tr th:only-of-type {\n",
       "        vertical-align: middle;\n",
       "    }\n",
       "\n",
       "    .dataframe tbody tr th {\n",
       "        vertical-align: top;\n",
       "    }\n",
       "\n",
       "    .dataframe thead th {\n",
       "        text-align: right;\n",
       "    }\n",
       "</style>\n",
       "<table border=\"1\" class=\"dataframe\">\n",
       "  <thead>\n",
       "    <tr style=\"text-align: right;\">\n",
       "      <th></th>\n",
       "      <th>percent_CMs_on_time</th>\n",
       "      <th>total_CMs</th>\n",
       "    </tr>\n",
       "    <tr>\n",
       "      <th>fiscal_year</th>\n",
       "      <th></th>\n",
       "      <th></th>\n",
       "    </tr>\n",
       "  </thead>\n",
       "  <tbody>\n",
       "    <tr>\n",
       "      <th>2016</th>\n",
       "      <td>78.04</td>\n",
       "      <td>13384</td>\n",
       "    </tr>\n",
       "    <tr>\n",
       "      <th>2017</th>\n",
       "      <td>70.55</td>\n",
       "      <td>13979</td>\n",
       "    </tr>\n",
       "    <tr>\n",
       "      <th>2018</th>\n",
       "      <td>70.62</td>\n",
       "      <td>10021</td>\n",
       "    </tr>\n",
       "    <tr>\n",
       "      <th>2019</th>\n",
       "      <td>65.82</td>\n",
       "      <td>5693</td>\n",
       "    </tr>\n",
       "    <tr>\n",
       "      <th>2020</th>\n",
       "      <td>53.24</td>\n",
       "      <td>9076</td>\n",
       "    </tr>\n",
       "    <tr>\n",
       "      <th>2021</th>\n",
       "      <td>30.79</td>\n",
       "      <td>6243</td>\n",
       "    </tr>\n",
       "  </tbody>\n",
       "</table>\n",
       "</div>"
      ],
      "text/plain": [
       "             percent_CMs_on_time  total_CMs\n",
       "fiscal_year                                \n",
       "2016                       78.04      13384\n",
       "2017                       70.55      13979\n",
       "2018                       70.62      10021\n",
       "2019                       65.82       5693\n",
       "2020                       53.24       9076\n",
       "2021                       30.79       6243"
      ]
     },
     "execution_count": 30,
     "metadata": {},
     "output_type": "execute_result"
    }
   ],
   "source": [
    "cm_compliance = compute_kpi_table(cms_on_time, \"percent_CMs_on_time\", \"total_CMs\")\n",
    "cm_compliance"
   ]
  },
  {
   "cell_type": "markdown",
   "metadata": {},
   "source": [
    "### Plot % CMs on time by fiscal year"
   ]
  },
  {
   "cell_type": "code",
   "execution_count": 31,
   "metadata": {
    "hideCode": false,
    "hidePrompt": false
   },
   "outputs": [
    {
     "data": {
      "image/png": "[encoded data removed]",
      "text/plain": [
       "<Figure size 1008x432 with 2 Axes>"
      ]
     },
     "metadata": {},
     "output_type": "display_data"
    }
   ],
   "source": [
    "pointplot_with_barplot(\n",
    "    cm_compliance,\n",
    "    x=\"fiscal_year\",\n",
    "    point_y=\"percent_CMs_on_time\",\n",
    "    bar_y=\"total_CMs\",\n",
    "    ymax_bar=15_000,\n",
    "    ylabel_point=\"Percent CMs On Time\",\n",
    "    ylabel_bar=\"Total CMs\",\n",
    "    title=\"Percent of CMs On Time By Fiscal Year\",\n",
    ")"
   ]
  },
  {
   "cell_type": "markdown",
   "metadata": {},
   "source": [
    "## Monthly figures for current FY"
   ]
  },
  {
   "cell_type": "markdown",
   "metadata": {},
   "source": [
    "### PMs on Time"
   ]
  },
  {
   "cell_type": "code",
   "execution_count": 32,
   "metadata": {},
   "outputs": [
    {
     "data": {
      "text/html": [
       "<div>\n",
       "<style scoped>\n",
       "    .dataframe tbody tr th:only-of-type {\n",
       "        vertical-align: middle;\n",
       "    }\n",
       "\n",
       "    .dataframe tbody tr th {\n",
       "        vertical-align: top;\n",
       "    }\n",
       "\n",
       "    .dataframe thead th {\n",
       "        text-align: right;\n",
       "    }\n",
       "</style>\n",
       "<table border=\"1\" class=\"dataframe\">\n",
       "  <thead>\n",
       "    <tr style=\"text-align: right;\">\n",
       "      <th></th>\n",
       "      <th>percent_PMs_on_time</th>\n",
       "      <th>total_PMs</th>\n",
       "      <th>year_month</th>\n",
       "    </tr>\n",
       "    <tr>\n",
       "      <th>date_closed</th>\n",
       "      <th></th>\n",
       "      <th></th>\n",
       "      <th></th>\n",
       "    </tr>\n",
       "  </thead>\n",
       "  <tbody>\n",
       "    <tr>\n",
       "      <th>2020-07-31</th>\n",
       "      <td>78.46</td>\n",
       "      <td>65</td>\n",
       "      <td>Jul-20</td>\n",
       "    </tr>\n",
       "    <tr>\n",
       "      <th>2020-08-31</th>\n",
       "      <td>46.15</td>\n",
       "      <td>13</td>\n",
       "      <td>Aug-20</td>\n",
       "    </tr>\n",
       "    <tr>\n",
       "      <th>2020-09-30</th>\n",
       "      <td>37.50</td>\n",
       "      <td>8</td>\n",
       "      <td>Sep-20</td>\n",
       "    </tr>\n",
       "    <tr>\n",
       "      <th>2020-10-31</th>\n",
       "      <td>NaN</td>\n",
       "      <td>0</td>\n",
       "      <td>Oct-20</td>\n",
       "    </tr>\n",
       "    <tr>\n",
       "      <th>2020-11-30</th>\n",
       "      <td>27.89</td>\n",
       "      <td>649</td>\n",
       "      <td>Nov-20</td>\n",
       "    </tr>\n",
       "    <tr>\n",
       "      <th>2020-12-31</th>\n",
       "      <td>9.09</td>\n",
       "      <td>22</td>\n",
       "      <td>Dec-20</td>\n",
       "    </tr>\n",
       "    <tr>\n",
       "      <th>2021-01-31</th>\n",
       "      <td>40.00</td>\n",
       "      <td>25</td>\n",
       "      <td>Jan-21</td>\n",
       "    </tr>\n",
       "  </tbody>\n",
       "</table>\n",
       "</div>"
      ],
      "text/plain": [
       "             percent_PMs_on_time  total_PMs year_month\n",
       "date_closed                                           \n",
       "2020-07-31                 78.46         65     Jul-20\n",
       "2020-08-31                 46.15         13     Aug-20\n",
       "2020-09-30                 37.50          8     Sep-20\n",
       "2020-10-31                   NaN          0     Oct-20\n",
       "2020-11-30                 27.89        649     Nov-20\n",
       "2020-12-31                  9.09         22     Dec-20\n",
       "2021-01-31                 40.00         25     Jan-21"
      ]
     },
     "execution_count": 32,
     "metadata": {},
     "output_type": "execute_result"
    }
   ],
   "source": [
    "def compute_kpi_table_by_month(df, label_for_KPI=None, label_for_totals=None):\n",
    "    df = df.copy()\n",
    "    # filter to current fy\n",
    "    cond_current_fy = df[\"fiscal_year\"] == 2021\n",
    "    df = df[cond_current_fy]\n",
    "    table_df = (\n",
    "        df[[\"wr_id\", \"date_closed\", \"is_on_time\"]]\n",
    "        .resample(\"M\", on=\"date_closed\")\n",
    "        .agg({\"is_on_time\": \"mean\", \"wr_id\": \"count\"})\n",
    "    )\n",
    "    table_df[\"year_month\"] = table_df.index.strftime(\"%b-%y\")\n",
    "    table_df[\"is_on_time\"] = table_df[\"is_on_time\"].apply(lambda x: round(x * 100, 2))\n",
    "    table_df = table_df.rename(\n",
    "        columns={\"is_on_time\": label_for_KPI, \"wr_id\": label_for_totals}\n",
    "    )\n",
    "    return table_df\n",
    "\n",
    "\n",
    "pms_on_time_current_fy = compute_kpi_table_by_month(\n",
    "    pms_on_time, \"percent_PMs_on_time\", \"total_PMs\"\n",
    ")\n",
    "pms_on_time_current_fy"
   ]
  },
  {
   "cell_type": "code",
   "execution_count": 33,
   "metadata": {
    "scrolled": true
   },
   "outputs": [
    {
     "data": {
      "image/png": "[encoded data removed]",
      "text/plain": [
       "<Figure size 1008x432 with 2 Axes>"
      ]
     },
     "metadata": {},
     "output_type": "display_data"
    }
   ],
   "source": [
    "pointplot_with_barplot(\n",
    "    pms_on_time_current_fy,\n",
    "    x=\"year_month\",\n",
    "    point_y=\"percent_PMs_on_time\",\n",
    "    bar_y=\"total_PMs\",\n",
    "    ymax_bar=700,\n",
    "    ylabel_point=\"% PMs Completed On Time (Lines)\",\n",
    "    ylabel_bar=\"Total PMs Closed (Bars)\",\n",
    "    title=\"Percent of PMs Completed On Time By Month (FY21)\",\n",
    ")"
   ]
  },
  {
   "cell_type": "markdown",
   "metadata": {},
   "source": [
    "### PM:CM Ratio"
   ]
  },
  {
   "cell_type": "code",
   "execution_count": 34,
   "metadata": {
    "scrolled": true
   },
   "outputs": [
    {
     "data": {
      "text/html": [
       "<div>\n",
       "<style scoped>\n",
       "    .dataframe tbody tr th:only-of-type {\n",
       "        vertical-align: middle;\n",
       "    }\n",
       "\n",
       "    .dataframe tbody tr th {\n",
       "        vertical-align: top;\n",
       "    }\n",
       "\n",
       "    .dataframe thead th {\n",
       "        text-align: right;\n",
       "    }\n",
       "</style>\n",
       "<table border=\"1\" class=\"dataframe\">\n",
       "  <thead>\n",
       "    <tr style=\"text-align: right;\">\n",
       "      <th></th>\n",
       "      <th>year_month</th>\n",
       "      <th>pm_cm_ratio</th>\n",
       "      <th>count_cm</th>\n",
       "      <th>count_pm</th>\n",
       "      <th>count_hvac</th>\n",
       "    </tr>\n",
       "  </thead>\n",
       "  <tbody>\n",
       "    <tr>\n",
       "      <th>0</th>\n",
       "      <td>Jul-20</td>\n",
       "      <td>900.00</td>\n",
       "      <td>7</td>\n",
       "      <td>63</td>\n",
       "      <td>70</td>\n",
       "    </tr>\n",
       "    <tr>\n",
       "      <th>1</th>\n",
       "      <td>Aug-20</td>\n",
       "      <td>28.89</td>\n",
       "      <td>45</td>\n",
       "      <td>13</td>\n",
       "      <td>58</td>\n",
       "    </tr>\n",
       "    <tr>\n",
       "      <th>2</th>\n",
       "      <td>Sep-20</td>\n",
       "      <td>9.62</td>\n",
       "      <td>52</td>\n",
       "      <td>5</td>\n",
       "      <td>57</td>\n",
       "    </tr>\n",
       "    <tr>\n",
       "      <th>3</th>\n",
       "      <td>Oct-20</td>\n",
       "      <td>0.00</td>\n",
       "      <td>23</td>\n",
       "      <td>0</td>\n",
       "      <td>23</td>\n",
       "    </tr>\n",
       "    <tr>\n",
       "      <th>4</th>\n",
       "      <td>Nov-20</td>\n",
       "      <td>156.04</td>\n",
       "      <td>414</td>\n",
       "      <td>646</td>\n",
       "      <td>1060</td>\n",
       "    </tr>\n",
       "    <tr>\n",
       "      <th>5</th>\n",
       "      <td>Dec-20</td>\n",
       "      <td>7.39</td>\n",
       "      <td>284</td>\n",
       "      <td>21</td>\n",
       "      <td>305</td>\n",
       "    </tr>\n",
       "    <tr>\n",
       "      <th>6</th>\n",
       "      <td>Jan-21</td>\n",
       "      <td>33.33</td>\n",
       "      <td>75</td>\n",
       "      <td>25</td>\n",
       "      <td>100</td>\n",
       "    </tr>\n",
       "  </tbody>\n",
       "</table>\n",
       "</div>"
      ],
      "text/plain": [
       "  year_month  pm_cm_ratio  count_cm  count_pm  count_hvac\n",
       "0     Jul-20       900.00         7        63          70\n",
       "1     Aug-20        28.89        45        13          58\n",
       "2     Sep-20         9.62        52         5          57\n",
       "3     Oct-20         0.00        23         0          23\n",
       "4     Nov-20       156.04       414       646        1060\n",
       "5     Dec-20         7.39       284        21         305\n",
       "6     Jan-21        33.33        75        25         100"
      ]
     },
     "execution_count": 34,
     "metadata": {},
     "output_type": "execute_result"
    }
   ],
   "source": [
    "pm_cm_ratio_current_fy = compute_pm_cm_by_month(wr_HVAC, PM_list)\n",
    "pm_cm_ratio_current_fy"
   ]
  },
  {
   "cell_type": "code",
   "execution_count": 35,
   "metadata": {
    "scrolled": true
   },
   "outputs": [
    {
     "name": "stderr",
     "output_type": "stream",
     "text": [
      "/Users/james/Documents/Bmore/repos/KPI_central/vis_utils.py:77: UserWarning: FixedFormatter should only be used together with FixedLocator\n",
      "  ax2.set_yticklabels(yticklabels)\n"
     ]
    },
    {
     "data": {
      "image/png": "[encoded data removed]",
      "text/plain": [
       "<Figure size 1008x432 with 2 Axes>"
      ]
     },
     "metadata": {},
     "output_type": "display_data"
    }
   ],
   "source": [
    "pointplot_with_barplot(\n",
    "    pm_cm_ratio_current_fy,\n",
    "    x=\"year_month\",\n",
    "    point_y=\"pm_cm_ratio\",\n",
    "    bar_y=\"count_hvac\",\n",
    "    yaxis_freq=200,\n",
    "    ymax_point=1_000,\n",
    "    ymax_bar=1_200,\n",
    "    ylabel_point=\"PM:CM Ratio (Lines)\",\n",
    "    ylabel_bar=\"Total HVAC Work Requests (Bars)\",\n",
    "    title=\"Preventive to Corrective Ratio By Month (FY21)\",\n",
    "    yticklabels=[\n",
    "        \"0\",\n",
    "        \"0\",\n",
    "        \"2:1\",\n",
    "        \"4:1\",\n",
    "        \"6:1\",\n",
    "        \"8:1\",\n",
    "    ],\n",
    ")"
   ]
  },
  {
   "cell_type": "code",
   "execution_count": 36,
   "metadata": {},
   "outputs": [
    {
     "data": {
      "image/png": "[encoded data removed]",
      "text/plain": [
       "<Figure size 1152x432 with 1 Axes>"
      ]
     },
     "metadata": {},
     "output_type": "display_data"
    }
   ],
   "source": [
    "count_plot_data = pd.melt(\n",
    "    pm_cm_ratio_current_fy, id_vars=[\"year_month\"], value_vars=[\"count_cm\", \"count_pm\"]\n",
    ")\n",
    "\n",
    "ax = sns.lineplot(data=count_plot_data, y=\"value\", x=\"year_month\", hue=\"variable\")\n",
    "new_labels = [\"Corrective\", \"Preventive\"]\n",
    "plt.legend(title=\"Number of Work Orders\", loc=\"upper left\", labels=new_labels)\n",
    "\n",
    "ax.set(\n",
    "    title=\"Volume of HVAC PMs And CMs By Fiscal Year\",\n",
    "    xlabel=\"Fiscal Year\",\n",
    "    ylim=(0, 800),\n",
    ")\n",
    "sns.despine()"
   ]
  }
 ],
 "metadata": {
  "hide_code_all_hidden": false,
  "kernelspec": {
   "display_name": "Python 3",
   "language": "python",
   "name": "python3"
  },
  "language_info": {
   "codemirror_mode": {
    "name": "ipython",
    "version": 3
   },
   "file_extension": ".py",
   "mimetype": "text/x-python",
   "name": "python",
   "nbconvert_exporter": "python",
   "pygments_lexer": "ipython3",
   "version": "3.7.7"
  },
  "toc": {
   "base_numbering": 1,
   "nav_menu": {},
   "number_sections": true,
   "sideBar": true,
   "skip_h1_title": true,
   "title_cell": "Table of Contents",
   "title_sidebar": "Contents",
   "toc_cell": false,
   "toc_position": {
    "height": "calc(100% - 180px)",
    "left": "10px",
    "top": "150px",
    "width": "315.087px"
   },
   "toc_section_display": true,
   "toc_window_display": true
  }
 },
 "nbformat": 4,
 "nbformat_minor": 4
}
