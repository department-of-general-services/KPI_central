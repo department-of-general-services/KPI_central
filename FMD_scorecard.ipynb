{
 "cells": [
  {
   "cell_type": "markdown",
   "metadata": {
    "hideCode": false,
    "hidePrompt": false
   },
   "source": [
    "# Facilities KPI Scorecard\n",
    "This notebook serves as a repository of public-facing KPIs for the Department of General Services' Facilities Division. The purpose of this notebook is to have, in a single public place, the entire pipeline for calculating the division's three KPIs that are based in Archibus. Those KPIs are:\n",
    "\n",
    "1. % of Corrective Maintenance Work Requests Completed On Time\n",
    "2. % of Preventive Maintenance Work Requests Completed On Time\n",
    "3. Preventive Maintenace to Corrective Maintenance Ratio\n",
    "\n",
    "Part of the intention of this notebook is to build _transparency_ and _reproducibility_ by capturing the entire end-to-end process used to calculate these metrics in one place."
   ]
  },
  {
   "cell_type": "markdown",
   "metadata": {
    "hideCode": false,
    "hideOutput": true,
    "hidePrompt": true
   },
   "source": [
    "## Setup"
   ]
  },
  {
   "cell_type": "markdown",
   "metadata": {
    "hideCode": false,
    "hideOutput": true,
    "hidePrompt": false
   },
   "source": [
    "### Import packages"
   ]
  },
  {
   "cell_type": "code",
   "execution_count": null,
   "metadata": {
    "hideCode": true,
    "hideOutput": true,
    "hidePrompt": false,
    "tags": [
     "hide-input"
    ]
   },
   "outputs": [],
   "source": [
    "# workhorse modules\n",
    "import pandas as pd\n",
    "import numpy as np\n",
    "from datetime import timedelta, datetime\n",
    "import re\n",
    "from pathlib import Path\n",
    "import seaborn as sns\n",
    "\n",
    "import datadotworld as dw\n",
    "\n",
    "# local utility functions\n",
    "from utils import (\n",
    "    add_cm_benchmarks,\n",
    "    add_fiscal_year,\n",
    "    set_pd_params,\n",
    "    tidy_up_df,\n",
    "    cast_dtypes,\n",
    "    glue_date_time,\n",
    "    compute_days_to_completion,\n",
    "    consolidate_prob_types,\n",
    "    compute_pm_cm,\n",
    "    compute_kpi_table,\n",
    ")"
   ]
  },
  {
   "cell_type": "markdown",
   "metadata": {
    "hideCode": false,
    "hideOutput": true,
    "hidePrompt": false
   },
   "source": [
    "### Set pandas options\n",
    "This makes Pandas print all rows and columns to the output when requested."
   ]
  },
  {
   "cell_type": "code",
   "execution_count": null,
   "metadata": {
    "hideCode": true,
    "hidePrompt": false
   },
   "outputs": [],
   "source": [
    "set_pd_params()\n",
    "\n",
    "pd.options.mode.chained_assignment = None  # default='warn'"
   ]
  },
  {
   "cell_type": "markdown",
   "metadata": {
    "hideCode": false,
    "hidePrompt": false
   },
   "source": [
    "### Import the data from Data.World\n",
    "Data is a copy of Archibus's `wrhwr` table. To see the exact query used to generate the input data, see `/sql/input_for_FMD_KPIs.sql`."
   ]
  },
  {
   "cell_type": "code",
   "execution_count": null,
   "metadata": {
    "hideCode": false,
    "hidePrompt": false
   },
   "outputs": [],
   "source": [
    "kpis_raw = dw.query(\n",
    "    dataset_key=\"dgsbpio/auditfinding3\", query=\"select * from wrhwr_01072021\"\n",
    ").dataframe\n",
    "\n",
    "print(f\"The work orders dataframe has {kpis_raw.shape[0]:,} rows.\")\n",
    "\n",
    "kpis_raw.sample(3, random_state=444)[[\"wr_id\", \"prob_type\"]]"
   ]
  },
  {
   "cell_type": "code",
   "execution_count": null,
   "metadata": {
    "hideCode": false,
    "hidePrompt": false
   },
   "outputs": [],
   "source": [
    "users = dw.query(\n",
    "    dataset_key=\"dgsbpio/auditfinding3\", query=\"select * from archibus_user_roles\"\n",
    ").dataframe\n",
    "\n",
    "users = users.applymap(lambda x: x.strip() if isinstance(x, str) else x)"
   ]
  },
  {
   "cell_type": "markdown",
   "metadata": {
    "hideCode": false,
    "hidePrompt": false
   },
   "source": [
    "## Data cleaning"
   ]
  },
  {
   "cell_type": "markdown",
   "metadata": {
    "hideCode": false,
    "hidePrompt": false
   },
   "source": [
    "### Basic cleaning\n",
    "- removes white spaces in strings to facilitate matching, \n",
    "- drops rows with no problem type, \n",
    "- renames a few columns"
   ]
  },
  {
   "cell_type": "code",
   "execution_count": null,
   "metadata": {
    "hideCode": false,
    "hidePrompt": false
   },
   "outputs": [],
   "source": [
    "wr_tidy = cast_dtypes(kpis_raw)\n",
    "wr_tidy = tidy_up_df(wr_tidy)\n",
    "\n",
    "print(f\"The tidied work orders dataframe has {wr_tidy.shape[0]:,} rows.\")"
   ]
  },
  {
   "cell_type": "markdown",
   "metadata": {
    "hideCode": false,
    "hidePrompt": false
   },
   "source": [
    "### Combine date and time columns to get timestamps\n",
    "This takes the date from a date column and the time from a time column and combines them into a single timestamp.\n",
    "\n",
    "This transformation allows us to know the time to completion with greater precision. "
   ]
  },
  {
   "cell_type": "code",
   "execution_count": null,
   "metadata": {
    "hideCode": false,
    "hidePrompt": false
   },
   "outputs": [],
   "source": [
    "# glue the date and time for request\n",
    "wr_dt = glue_date_time(wr_tidy, \"date_requested\", \"time_requested\", \"requested_dt\")\n",
    "\n",
    "# glue the date and time for completion\n",
    "wr_dt = glue_date_time(wr_dt, \"date_completed\", \"time_completed\", \"completed_dt\")\n",
    "\n",
    "# convert \"date closed_order\" to date time (this column has no time information)\n",
    "wr_dt[\"date_closed\"] = wr_dt[\"date_closed\"].astype(\"datetime64\")"
   ]
  },
  {
   "cell_type": "markdown",
   "metadata": {
    "hideCode": false,
    "hidePrompt": false
   },
   "source": [
    "### Examine the cleaned data"
   ]
  },
  {
   "cell_type": "code",
   "execution_count": null,
   "metadata": {
    "hideCode": false,
    "hidePrompt": false
   },
   "outputs": [],
   "source": [
    "wr_dt[\n",
    "    [\n",
    "        \"wr_id\",\n",
    "        \"problem_type\",\n",
    "        \"requested_dt\",\n",
    "        \"completed_dt\",\n",
    "        \"date_closed\",\n",
    "        \"status\",\n",
    "    ]\n",
    "].sample(3, random_state=451)"
   ]
  },
  {
   "cell_type": "markdown",
   "metadata": {
    "hideCode": false,
    "hidePrompt": false
   },
   "source": [
    "## Data preparation"
   ]
  },
  {
   "cell_type": "code",
   "execution_count": null,
   "metadata": {
    "hideCode": false,
    "hidePrompt": false
   },
   "outputs": [],
   "source": [
    "wr_joined = wr_dt.merge(\n",
    "    users[[\"user_name\", \"role_name\"]],\n",
    "    how=\"left\",\n",
    "    left_on=\"requestor\",\n",
    "    right_on=\"user_name\",\n",
    ")"
   ]
  },
  {
   "cell_type": "markdown",
   "metadata": {
    "hideCode": false,
    "hidePrompt": false
   },
   "source": [
    "### Include days to completion"
   ]
  },
  {
   "cell_type": "code",
   "execution_count": null,
   "metadata": {
    "hideCode": false,
    "hidePrompt": false
   },
   "outputs": [],
   "source": [
    "wr_durations = compute_days_to_completion(wr_joined)"
   ]
  },
  {
   "cell_type": "code",
   "execution_count": null,
   "metadata": {
    "hideCode": false,
    "hidePrompt": false
   },
   "outputs": [],
   "source": [
    "wr_durations[\n",
    "    [\n",
    "        \"wr_id\",\n",
    "        \"role_name\",\n",
    "        \"problem_type\",\n",
    "        \"requested_dt\",\n",
    "        \"completed_dt\",\n",
    "        \"date_closed\",\n",
    "        \"days_to_completion\",\n",
    "        \"status\",\n",
    "    ]\n",
    "].sample(3, random_state=446)"
   ]
  },
  {
   "cell_type": "markdown",
   "metadata": {
    "hideCode": false,
    "hidePrompt": false
   },
   "source": [
    "### Add fiscal year\n",
    "Note that the function `entirely_within_fiscal_year()` keeps only those rows where the work order was requested and closed in the same fiscal year. __Other rows that straddle two fiscal years are dropped__.\n",
    "\n",
    "For comparison, I've included the function `add_fiscal_year()`, which derives the fiscal year from the request date or from the completion date — and drops no rows."
   ]
  },
  {
   "cell_type": "code",
   "execution_count": null,
   "metadata": {
    "hideCode": false,
    "hidePrompt": false
   },
   "outputs": [],
   "source": [
    "wr_fy = add_fiscal_year(wr_durations, assign_fy_on=\"closure\")"
   ]
  },
  {
   "cell_type": "code",
   "execution_count": null,
   "metadata": {
    "hideCode": false,
    "hidePrompt": false
   },
   "outputs": [],
   "source": [
    "cond_fy = wr_fy[\"fiscal_year\"].isin(range(2016, 2022))\n",
    "wr_fy = wr_fy[cond_fy]"
   ]
  },
  {
   "cell_type": "markdown",
   "metadata": {
    "hideCode": false,
    "hidePrompt": false
   },
   "source": [
    "## KPI: % PMs Completed On Time \n",
    "The goal here is to filter the data down to preventive maintenance only, and then show how many are completed before a given benchmark."
   ]
  },
  {
   "cell_type": "markdown",
   "metadata": {
    "hideCode": false,
    "hidePrompt": false
   },
   "source": [
    "### Filter to PM only, and for relevant fiscal years only"
   ]
  },
  {
   "cell_type": "code",
   "execution_count": null,
   "metadata": {
    "hideCode": false,
    "hidePrompt": false
   },
   "outputs": [],
   "source": [
    "pm_list = [\n",
    "    \"BUILDING INTERIOR INSPECTION\",\n",
    "    \"BUILDING PM\",\n",
    "    \"HVAC|PM\",\n",
    "    \"INSEPCTION\",\n",
    "    \"PREVENTIVE MAINT\",\n",
    "]\n",
    "\n",
    "\n",
    "cond_pm = wr_fy[\"problem_type\"].isin(pm_list)\n",
    "\n",
    "wr_pm = wr_fy[cond_pm]\n",
    "wr_pm[\"benchmark\"] = 21\n",
    "\n",
    "print(f\"The filtered work orders dataframe has {wr_pm.shape[0]:,} rows.\")"
   ]
  },
  {
   "cell_type": "markdown",
   "metadata": {
    "hideCode": false,
    "hidePrompt": false
   },
   "source": [
    "#### Compute the benchmark and add 'is_on_time' column"
   ]
  },
  {
   "cell_type": "code",
   "execution_count": null,
   "metadata": {
    "hideCode": false,
    "hidePrompt": false
   },
   "outputs": [],
   "source": [
    "def compute_is_on_time(row):\n",
    "    row[\"is_on_time\"] = row[\"days_to_completion\"] <= row[\"benchmark\"]\n",
    "    return row\n",
    "\n",
    "\n",
    "pms_on_time = wr_pm.apply(compute_is_on_time, axis=1)"
   ]
  },
  {
   "cell_type": "markdown",
   "metadata": {
    "hideCode": false,
    "hidePrompt": false
   },
   "source": [
    "#### Group by fiscal year and get % on time"
   ]
  },
  {
   "cell_type": "code",
   "execution_count": null,
   "metadata": {
    "hideCode": false,
    "hidePrompt": false
   },
   "outputs": [],
   "source": [
    "pm_compliance = compute_kpi_table(pms_on_time, \"percent_PMs_on_time\", \"total_PMs\")\n",
    "pm_compliance"
   ]
  },
  {
   "cell_type": "markdown",
   "metadata": {
    "hideCode": false,
    "hidePrompt": false
   },
   "source": [
    "## KPI: PM:CM Ratio"
   ]
  },
  {
   "cell_type": "markdown",
   "metadata": {
    "hideCode": false,
    "hidePrompt": false
   },
   "source": [
    "The two lists below contain the exact same problem types mentioned in last year's scorecard. So we would expect to be able to replicate last year's results closely."
   ]
  },
  {
   "cell_type": "code",
   "execution_count": null,
   "metadata": {
    "hideCode": false,
    "hidePrompt": false
   },
   "outputs": [],
   "source": [
    "CM_list = [\n",
    "    \"BOILER\",\n",
    "    \"CHILLERS\",\n",
    "    \"COOLING TOWERS\",\n",
    "    \"HVAC\",\n",
    "    \"HVAC INFRASTRUCTURE\",\n",
    "    \"HVAC|REPAIR\",\n",
    "]\n",
    "\n",
    "PM_list = [\n",
    "    \"HVAC|PM\",\n",
    "    \"PREVENTIVE MAINT\",\n",
    "]"
   ]
  },
  {
   "cell_type": "markdown",
   "metadata": {
    "hideCode": false,
    "hidePrompt": false
   },
   "source": [
    "### Filter to HVAC rows only"
   ]
  },
  {
   "cell_type": "code",
   "execution_count": null,
   "metadata": {
    "hideCode": false,
    "hidePrompt": false
   },
   "outputs": [],
   "source": [
    "cond_cm = wr_fy[\"problem_type\"].isin(CM_list)\n",
    "cond_pm = wr_fy[\"problem_type\"].isin(PM_list)\n",
    "\n",
    "wr_HVAC = wr_fy[cond_cm | cond_pm]\n",
    "wr_HVAC[\"is_pm\"] = wr_HVAC[\"problem_type\"].isin(PM_list)\n",
    "\n",
    "print(f\"We've gone from {len(wr_fy):,} rows to {len(wr_HVAC):,} rows.\")"
   ]
  },
  {
   "cell_type": "markdown",
   "metadata": {
    "hideCode": false,
    "hidePrompt": false
   },
   "source": [
    "### Compute all PM/CM stats by fiscal year"
   ]
  },
  {
   "cell_type": "code",
   "execution_count": null,
   "metadata": {
    "hideCode": false,
    "hidePrompt": false
   },
   "outputs": [],
   "source": [
    "pm_cm_results = compute_pm_cm(wr_HVAC, PM_list)"
   ]
  },
  {
   "cell_type": "code",
   "execution_count": null,
   "metadata": {
    "hideCode": false,
    "hidePrompt": false,
    "scrolled": true
   },
   "outputs": [],
   "source": [
    "pm_cm_results"
   ]
  },
  {
   "cell_type": "code",
   "execution_count": null,
   "metadata": {
    "hideCode": false,
    "hidePrompt": false
   },
   "outputs": [],
   "source": [
    "count_plot_data = pd.melt(\n",
    "    pm_cm_results, id_vars=[\"year\"], value_vars=[\"count_cm\", \"count_pm\"]\n",
    ")\n",
    "\n",
    "sns.lineplot(data=count_plot_data, y=\"value\", x=\"year\", hue=\"variable\")\n",
    "\n",
    "sns.despine()"
   ]
  },
  {
   "cell_type": "markdown",
   "metadata": {
    "hideCode": false,
    "hidePrompt": false
   },
   "source": [
    "## KPI: Percent of CM Work Requests Completed On-Time\n",
    "Here are the key facts needed to understand the agency's new method for computing this KPI:\n",
    "\n",
    "- Only CM problem types are considered, so all PM work orders are dropped.\n",
    "- The work orders are first assigned a \"primary\" problem type, which consolidates the number of problem types\n",
    "- Each of these primary problem types has a benchmark, which is then added to the work request's row\n",
    "- Finally, the work order is determined to be on-time based on comparing its time to completion to its benchmark"
   ]
  },
  {
   "cell_type": "code",
   "execution_count": null,
   "metadata": {
    "hideCode": false,
    "hidePrompt": false
   },
   "outputs": [],
   "source": [
    "wr_cm = wr_fy.copy()\n",
    "\n",
    "consolidated_wrs = wr_cm.apply(consolidate_prob_types, axis=1)\n",
    "\n",
    "cond_cm = consolidated_wrs[\"primary\"] != \"PREVENTIVE\"\n",
    "consolidated_cms = consolidated_wrs[cond_cm]\n",
    "\n",
    "print(\n",
    "    f\"Dropping some unbenchmarked small categories takes us from {len(consolidated_wrs):,} rows to {len(consolidated_cms):,} rows.\"\n",
    ")"
   ]
  },
  {
   "cell_type": "code",
   "execution_count": null,
   "metadata": {
    "hideCode": false,
    "hidePrompt": false
   },
   "outputs": [],
   "source": [
    "cms_benchmarked = consolidated_cms.apply(add_cm_benchmarks, axis=1)\n",
    "\n",
    "cms_benchmarked.sample(6, random_state=444)[\n",
    "    [\"problem_type\", \"primary\", \"benchmark\", \"days_to_completion\"]\n",
    "]"
   ]
  },
  {
   "cell_type": "code",
   "execution_count": null,
   "metadata": {
    "hideCode": false,
    "hidePrompt": false
   },
   "outputs": [],
   "source": [
    "cms_on_time = cms_benchmarked.apply(compute_is_on_time, axis=1)"
   ]
  },
  {
   "cell_type": "code",
   "execution_count": null,
   "metadata": {
    "hideCode": false,
    "hidePrompt": false
   },
   "outputs": [],
   "source": [
    "cm_compliance = compute_kpi_table(cms_on_time, \"Percent CMs on Time\", \"Count of CMs\")\n",
    "cm_compliance"
   ]
  },
  {
   "cell_type": "code",
   "execution_count": null,
   "metadata": {
    "hideCode": false,
    "hidePrompt": false
   },
   "outputs": [],
   "source": [
    "# kpis_fy = add_fiscal_year(kpis_raw, assign_fy_on=\"closure\")\n",
    "\n",
    "# table_df = kpis_fy.groupby(\"fiscal_year\")[[\"wr_id\"]].count()\n",
    "# table_df"
   ]
  },
  {
   "cell_type": "code",
   "execution_count": null,
   "metadata": {
    "hideCode": false,
    "hidePrompt": false
   },
   "outputs": [],
   "source": []
  }
 ],
 "metadata": {
  "celltoolbar": "Hide code",
  "hide_code_all_hidden": false,
  "kernelspec": {
   "display_name": "Python 3",
   "language": "python",
   "name": "python3"
  },
  "language_info": {
   "codemirror_mode": {
    "name": "ipython",
    "version": 3
   },
   "file_extension": ".py",
   "mimetype": "text/x-python",
   "name": "python",
   "nbconvert_exporter": "python",
   "pygments_lexer": "ipython3",
   "version": "3.7.7"
  },
  "toc": {
   "base_numbering": 1,
   "nav_menu": {},
   "number_sections": true,
   "sideBar": true,
   "skip_h1_title": true,
   "title_cell": "Table of Contents",
   "title_sidebar": "Contents",
   "toc_cell": false,
   "toc_position": {
    "height": "calc(100% - 180px)",
    "left": "10px",
    "top": "150px",
    "width": "315.087px"
   },
   "toc_section_display": true,
   "toc_window_display": true
  }
 },
 "nbformat": 4,
 "nbformat_minor": 4
}
