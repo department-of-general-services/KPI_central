{
 "cells": [
  {
   "cell_type": "markdown",
   "metadata": {},
   "source": [
    "# FMD Scorecard KPIs\n",
    "This notebook has a few objectives. \n",
    "\n",
    "- Come as close as we can to replicating the results reported in previous years. This lets us know that we are all looking at the same data and seeing the same thing\n",
    "- Show the results we'll get with modified results \n",
    "\n",
    "Note that in the past, the Department of General Services has used a multi-phase process to compute KPIs, including SQL Queries and Excel formulas. No one person could see the entire process, beginning with the data in the database (the input) and ending with reported KPI. \n",
    "\n",
    "Part of the intention of this notebook is to build _transparency_ and _reproducibility_ by capturing the entire end-to-end process in one place."
   ]
  },
  {
   "cell_type": "markdown",
   "metadata": {},
   "source": [
    "## Setup"
   ]
  },
  {
   "cell_type": "markdown",
   "metadata": {},
   "source": [
    "### Import packages"
   ]
  },
  {
   "cell_type": "code",
   "execution_count": 1,
   "metadata": {},
   "outputs": [],
   "source": [
    "# workhorse modules\n",
    "import pandas as pd\n",
    "import numpy as np\n",
    "from datetime import timedelta, datetime\n",
    "import re\n",
    "from pathlib import Path\n",
    "# import datadotworld as dw\n",
    "import pyodbc  # for accessing the database directly\n",
    "import seaborn as sns\n",
    "\n",
    "# local utility functions\n",
    "from utils import *\n",
    "from private.config import config"
   ]
  },
  {
   "cell_type": "markdown",
   "metadata": {},
   "source": [
    "### Set pandas options\n",
    "This makes Pandas print all rows and columns to the output when requested."
   ]
  },
  {
   "cell_type": "code",
   "execution_count": 2,
   "metadata": {},
   "outputs": [],
   "source": [
    "set_pd_params()\n",
    "\n",
    "pd.options.mode.chained_assignment = None  # default='warn'"
   ]
  },
  {
   "cell_type": "markdown",
   "metadata": {},
   "source": [
    "### Import the data from Archibus database\n",
    "Data is a copy of Archibus's `wrhwr` table. To see the exact query used to generate the input data, see `/sql/input_for_FMD_KPIs.sql`."
   ]
  },
  {
   "cell_type": "code",
   "execution_count": 3,
   "metadata": {},
   "outputs": [
    {
     "name": "stdout",
     "output_type": "stream",
     "text": [
      "The KPIs raw dataframe has 104,420 rows.\n"
     ]
    },
    {
     "data": {
      "text/html": [
       "<div>\n",
       "<style scoped>\n",
       "    .dataframe tbody tr th:only-of-type {\n",
       "        vertical-align: middle;\n",
       "    }\n",
       "\n",
       "    .dataframe tbody tr th {\n",
       "        vertical-align: top;\n",
       "    }\n",
       "\n",
       "    .dataframe thead th {\n",
       "        text-align: right;\n",
       "    }\n",
       "</style>\n",
       "<table border=\"1\" class=\"dataframe\">\n",
       "  <thead>\n",
       "    <tr style=\"text-align: right;\">\n",
       "      <th></th>\n",
       "      <th>wr_id</th>\n",
       "      <th>date_requested</th>\n",
       "      <th>time_requested</th>\n",
       "      <th>date_completed</th>\n",
       "      <th>time_completed</th>\n",
       "      <th>date_closed</th>\n",
       "      <th>pmp_id</th>\n",
       "      <th>bl_id</th>\n",
       "      <th>cost_total</th>\n",
       "      <th>cost_labor</th>\n",
       "      <th>cost_parts</th>\n",
       "      <th>problem_type</th>\n",
       "      <th>requestor</th>\n",
       "      <th>supervisor</th>\n",
       "      <th>po_number</th>\n",
       "      <th>invoice_number</th>\n",
       "      <th>release_number</th>\n",
       "      <th>name</th>\n",
       "      <th>pmp_id</th>\n",
       "      <th>status</th>\n",
       "    </tr>\n",
       "  </thead>\n",
       "  <tbody>\n",
       "    <tr>\n",
       "      <th>65500</th>\n",
       "      <td>94565</td>\n",
       "      <td>2017-10-06</td>\n",
       "      <td>1899-12-30 09:23:35</td>\n",
       "      <td>2017-10-11</td>\n",
       "      <td>1899-12-30 05:25:35</td>\n",
       "      <td>2017-10-12 06:48:23.870</td>\n",
       "      <td>None</td>\n",
       "      <td>B00167</td>\n",
       "      <td>400.20</td>\n",
       "      <td>400.2</td>\n",
       "      <td>0.0</td>\n",
       "      <td>PLUMBING-SINK</td>\n",
       "      <td>SANDRA.DOWNS</td>\n",
       "      <td>JOHN.HAMMOCK</td>\n",
       "      <td>None</td>\n",
       "      <td>None</td>\n",
       "      <td>None</td>\n",
       "      <td>Parking Authority Offices</td>\n",
       "      <td>None</td>\n",
       "      <td>Clo</td>\n",
       "    </tr>\n",
       "    <tr>\n",
       "      <th>45398</th>\n",
       "      <td>71083</td>\n",
       "      <td>2016-08-08</td>\n",
       "      <td>1899-12-30 11:24:32</td>\n",
       "      <td>2016-08-08</td>\n",
       "      <td>1899-12-30 14:12:40</td>\n",
       "      <td>2016-08-29 12:37:35.927</td>\n",
       "      <td>ELEVATOR TEST</td>\n",
       "      <td>B00056</td>\n",
       "      <td>0.00</td>\n",
       "      <td>0.0</td>\n",
       "      <td>0.0</td>\n",
       "      <td>PREVENTIVE MAINT</td>\n",
       "      <td>JIMMY.HOLTHAUS</td>\n",
       "      <td>JIMMY.HOLTHAUS</td>\n",
       "      <td>None</td>\n",
       "      <td>None</td>\n",
       "      <td>None</td>\n",
       "      <td>City Hall</td>\n",
       "      <td>ELEVATOR TEST</td>\n",
       "      <td>Clo</td>\n",
       "    </tr>\n",
       "    <tr>\n",
       "      <th>57233</th>\n",
       "      <td>86388</td>\n",
       "      <td>2017-04-11</td>\n",
       "      <td>1899-12-30 08:28:41</td>\n",
       "      <td>2017-04-21</td>\n",
       "      <td>1899-12-30 14:39:08</td>\n",
       "      <td>2017-06-13 06:50:03.220</td>\n",
       "      <td>None</td>\n",
       "      <td>B00020</td>\n",
       "      <td>859.74</td>\n",
       "      <td>0.0</td>\n",
       "      <td>0.0</td>\n",
       "      <td>ELEC/OTHER</td>\n",
       "      <td>JIM.FISHER</td>\n",
       "      <td>JIM.FISHER</td>\n",
       "      <td>522751</td>\n",
       "      <td>55764</td>\n",
       "      <td>240</td>\n",
       "      <td>Baltimore City Police Headquarters</td>\n",
       "      <td>None</td>\n",
       "      <td>Clo</td>\n",
       "    </tr>\n",
       "  </tbody>\n",
       "</table>\n",
       "</div>"
      ],
      "text/plain": [
       "       wr_id date_requested      time_requested date_completed  \\\n",
       "65500  94565     2017-10-06 1899-12-30 09:23:35     2017-10-11   \n",
       "45398  71083     2016-08-08 1899-12-30 11:24:32     2016-08-08   \n",
       "57233  86388     2017-04-11 1899-12-30 08:28:41     2017-04-21   \n",
       "\n",
       "           time_completed             date_closed            pmp_id     bl_id  \\\n",
       "65500 1899-12-30 05:25:35 2017-10-12 06:48:23.870              None  B00167     \n",
       "45398 1899-12-30 14:12:40 2016-08-29 12:37:35.927  ELEVATOR TEST     B00056     \n",
       "57233 1899-12-30 14:39:08 2017-06-13 06:50:03.220              None  B00020     \n",
       "\n",
       "       cost_total  cost_labor  cost_parts                      problem_type  \\\n",
       "65500      400.20       400.2         0.0  PLUMBING-SINK                      \n",
       "45398        0.00         0.0         0.0  PREVENTIVE MAINT                   \n",
       "57233      859.74         0.0         0.0  ELEC/OTHER                         \n",
       "\n",
       "                                 requestor  \\\n",
       "65500  SANDRA.DOWNS                          \n",
       "45398  JIMMY.HOLTHAUS                        \n",
       "57233  JIM.FISHER                            \n",
       "\n",
       "                                supervisor         po_number  \\\n",
       "65500  JOHN.HAMMOCK                                     None   \n",
       "45398  JIMMY.HOLTHAUS                                   None   \n",
       "57233  JIM.FISHER                           522751             \n",
       "\n",
       "         invoice_number release_number                                name  \\\n",
       "65500              None           None           Parking Authority Offices   \n",
       "45398              None           None                           City Hall   \n",
       "57233  55764                     240    Baltimore City Police Headquarters   \n",
       "\n",
       "                 pmp_id status  \n",
       "65500              None    Clo  \n",
       "45398  ELEVATOR TEST       Clo  \n",
       "57233              None    Clo  "
      ]
     },
     "execution_count": 3,
     "metadata": {},
     "output_type": "execute_result"
    }
   ],
   "source": [
    "query_path = Path.cwd() / \"sql\" / \"input_for_FMD_KPIs.sql\"\n",
    "kpis_raw = get_kpi_data(config, query_path)\n",
    "\n",
    "print(f\"The KPIs raw dataframe has {kpis_raw.shape[0]:,} rows.\")\n",
    "kpis_raw.sample(3, random_state=444)"
   ]
  },
  {
   "cell_type": "markdown",
   "metadata": {},
   "source": [
    "## Data cleaning"
   ]
  },
  {
   "cell_type": "markdown",
   "metadata": {},
   "source": [
    "### Basic cleaning\n",
    "- removes white spaces in strings to facilitate matching, \n",
    "- drops rows with no problem type, \n",
    "- renames a few columns"
   ]
  },
  {
   "cell_type": "code",
   "execution_count": 4,
   "metadata": {},
   "outputs": [
    {
     "name": "stdout",
     "output_type": "stream",
     "text": [
      "The tidied work orders dataframe has 104,030 rows.\n"
     ]
    }
   ],
   "source": [
    "# apply the tidy up function\n",
    "wr_tidy = tidy_up_wr(kpis_raw)\n",
    "\n",
    "print(f\"The tidied work orders dataframe has {wr_tidy.shape[0]:,} rows.\")"
   ]
  },
  {
   "cell_type": "markdown",
   "metadata": {},
   "source": [
    "### Remove duplicate work orders\n",
    "Removes rows where technician says WR is a duplicate in the description, and the status is \"Canceled\", \"Closed\", or \"Rejected\". Let's hold off on this step while replicating the traditional KPI."
   ]
  },
  {
   "cell_type": "code",
   "execution_count": 5,
   "metadata": {},
   "outputs": [],
   "source": [
    "# This copies the previous step instead of applying deduplication.\n",
    "wr_deduped = wr_tidy.copy()\n",
    "\n",
    "# wr_deduped = drop_dupes(wr_tidy)\n",
    "# print(f\"The deduped work orders dataframe has {wr_deduped.shape[0]:,} rows.\")\n",
    "# print(\n",
    "#     f\"Removing duplicates has cut {wr_tidy.shape[0] - wr_deduped.shape[0]:,} rows from the work orders dataframe.\"\n",
    "# )"
   ]
  },
  {
   "cell_type": "markdown",
   "metadata": {},
   "source": [
    "### Combine date and time columns to get timestamps\n",
    "This takes the date from a date column and the time from a time column and combines them into a single timestamp.\n",
    "\n",
    "This transformation allows us to know the time to completion with greater precision. "
   ]
  },
  {
   "cell_type": "code",
   "execution_count": 6,
   "metadata": {},
   "outputs": [],
   "source": [
    "# glue the date and time for request\n",
    "wr_dt = glue_date_time(wr_deduped, \"date_requested\", \"time_requested\", \"requested_dt\")\n",
    "\n",
    "# glue the date and time for completion\n",
    "wr_dt = glue_date_time(wr_dt, \"date_completed\", \"time_completed\", \"completed_dt\")\n",
    "\n",
    "# convert \"date closed_order\" to date time (this column has no time information)\n",
    "wr_dt[\"date_closed\"] = wr_dt[\"date_closed\"].astype(\"datetime64\")"
   ]
  },
  {
   "cell_type": "markdown",
   "metadata": {},
   "source": [
    "### Examine the cleaned data"
   ]
  },
  {
   "cell_type": "code",
   "execution_count": 7,
   "metadata": {},
   "outputs": [
    {
     "data": {
      "text/html": [
       "<div>\n",
       "<style scoped>\n",
       "    .dataframe tbody tr th:only-of-type {\n",
       "        vertical-align: middle;\n",
       "    }\n",
       "\n",
       "    .dataframe tbody tr th {\n",
       "        vertical-align: top;\n",
       "    }\n",
       "\n",
       "    .dataframe thead th {\n",
       "        text-align: right;\n",
       "    }\n",
       "</style>\n",
       "<table border=\"1\" class=\"dataframe\">\n",
       "  <thead>\n",
       "    <tr style=\"text-align: right;\">\n",
       "      <th></th>\n",
       "      <th>wr_id</th>\n",
       "      <th>problem_type</th>\n",
       "      <th>requested_dt</th>\n",
       "      <th>completed_dt</th>\n",
       "      <th>date_closed</th>\n",
       "      <th>status</th>\n",
       "    </tr>\n",
       "  </thead>\n",
       "  <tbody>\n",
       "    <tr>\n",
       "      <th>101004</th>\n",
       "      <td>134234</td>\n",
       "      <td>HVAC</td>\n",
       "      <td>2020-07-06 08:50:33</td>\n",
       "      <td>NaT</td>\n",
       "      <td>NaT</td>\n",
       "      <td>HC</td>\n",
       "    </tr>\n",
       "    <tr>\n",
       "      <th>47619</th>\n",
       "      <td>74818</td>\n",
       "      <td>PLUMB/LEAK</td>\n",
       "      <td>2016-09-14 12:03:31</td>\n",
       "      <td>2016-09-14 12:04:14</td>\n",
       "      <td>2016-09-14 13:43:46.763</td>\n",
       "      <td>Clo</td>\n",
       "    </tr>\n",
       "    <tr>\n",
       "      <th>2458</th>\n",
       "      <td>2504</td>\n",
       "      <td>PAINT</td>\n",
       "      <td>2013-12-07 09:54:33</td>\n",
       "      <td>2013-12-07 10:07:32</td>\n",
       "      <td>2013-12-07 00:00:00.000</td>\n",
       "      <td>Clo</td>\n",
       "    </tr>\n",
       "  </tbody>\n",
       "</table>\n",
       "</div>"
      ],
      "text/plain": [
       "         wr_id problem_type        requested_dt        completed_dt  \\\n",
       "101004  134234         HVAC 2020-07-06 08:50:33                 NaT   \n",
       "47619    74818   PLUMB/LEAK 2016-09-14 12:03:31 2016-09-14 12:04:14   \n",
       "2458      2504        PAINT 2013-12-07 09:54:33 2013-12-07 10:07:32   \n",
       "\n",
       "                   date_closed status  \n",
       "101004                     NaT     HC  \n",
       "47619  2016-09-14 13:43:46.763    Clo  \n",
       "2458   2013-12-07 00:00:00.000    Clo  "
      ]
     },
     "execution_count": 7,
     "metadata": {},
     "output_type": "execute_result"
    }
   ],
   "source": [
    "wr_dt[\n",
    "    [\"wr_id\", \"problem_type\", \"requested_dt\", \"completed_dt\", \"date_closed\", \"status\",]\n",
    "].sample(3, random_state=451)"
   ]
  },
  {
   "cell_type": "markdown",
   "metadata": {},
   "source": [
    "## Data preparation"
   ]
  },
  {
   "cell_type": "markdown",
   "metadata": {},
   "source": [
    "### Include days to completion"
   ]
  },
  {
   "cell_type": "code",
   "execution_count": 8,
   "metadata": {},
   "outputs": [],
   "source": [
    "wr_durations = compute_days_to_completion(wr_dt)"
   ]
  },
  {
   "cell_type": "code",
   "execution_count": 9,
   "metadata": {},
   "outputs": [
    {
     "data": {
      "text/html": [
       "<div>\n",
       "<style scoped>\n",
       "    .dataframe tbody tr th:only-of-type {\n",
       "        vertical-align: middle;\n",
       "    }\n",
       "\n",
       "    .dataframe tbody tr th {\n",
       "        vertical-align: top;\n",
       "    }\n",
       "\n",
       "    .dataframe thead th {\n",
       "        text-align: right;\n",
       "    }\n",
       "</style>\n",
       "<table border=\"1\" class=\"dataframe\">\n",
       "  <thead>\n",
       "    <tr style=\"text-align: right;\">\n",
       "      <th></th>\n",
       "      <th>wr_id</th>\n",
       "      <th>problem_type</th>\n",
       "      <th>requested_dt</th>\n",
       "      <th>completed_dt</th>\n",
       "      <th>date_closed</th>\n",
       "      <th>days_to_completion</th>\n",
       "      <th>status</th>\n",
       "    </tr>\n",
       "    <tr>\n",
       "      <th>requested_dt</th>\n",
       "      <th></th>\n",
       "      <th></th>\n",
       "      <th></th>\n",
       "      <th></th>\n",
       "      <th></th>\n",
       "      <th></th>\n",
       "      <th></th>\n",
       "    </tr>\n",
       "  </thead>\n",
       "  <tbody>\n",
       "    <tr>\n",
       "      <th>2017-08-16 15:45:11</th>\n",
       "      <td>92404</td>\n",
       "      <td>ELEC/GENERAL</td>\n",
       "      <td>2017-08-16 15:45:11</td>\n",
       "      <td>2017-09-11 08:46:51</td>\n",
       "      <td>2017-10-05 07:58:07.770</td>\n",
       "      <td>25.71</td>\n",
       "      <td>Clo</td>\n",
       "    </tr>\n",
       "    <tr>\n",
       "      <th>2015-05-13 13:37:40</th>\n",
       "      <td>31728</td>\n",
       "      <td>DOOR</td>\n",
       "      <td>2015-05-13 13:37:40</td>\n",
       "      <td>2015-05-22 08:23:45</td>\n",
       "      <td>2015-06-01 00:00:00.000</td>\n",
       "      <td>8.78</td>\n",
       "      <td>Clo</td>\n",
       "    </tr>\n",
       "    <tr>\n",
       "      <th>2018-01-08 07:24:52</th>\n",
       "      <td>98458</td>\n",
       "      <td>OTHER</td>\n",
       "      <td>2018-01-08 07:24:52</td>\n",
       "      <td>2018-01-08 07:27:10</td>\n",
       "      <td>2018-01-11 11:42:52.580</td>\n",
       "      <td>0.00</td>\n",
       "      <td>Clo</td>\n",
       "    </tr>\n",
       "  </tbody>\n",
       "</table>\n",
       "</div>"
      ],
      "text/plain": [
       "                     wr_id  problem_type        requested_dt  \\\n",
       "requested_dt                                                   \n",
       "2017-08-16 15:45:11  92404  ELEC/GENERAL 2017-08-16 15:45:11   \n",
       "2015-05-13 13:37:40  31728          DOOR 2015-05-13 13:37:40   \n",
       "2018-01-08 07:24:52  98458         OTHER 2018-01-08 07:24:52   \n",
       "\n",
       "                           completed_dt             date_closed  \\\n",
       "requested_dt                                                      \n",
       "2017-08-16 15:45:11 2017-09-11 08:46:51 2017-10-05 07:58:07.770   \n",
       "2015-05-13 13:37:40 2015-05-22 08:23:45 2015-06-01 00:00:00.000   \n",
       "2018-01-08 07:24:52 2018-01-08 07:27:10 2018-01-11 11:42:52.580   \n",
       "\n",
       "                     days_to_completion status  \n",
       "requested_dt                                    \n",
       "2017-08-16 15:45:11               25.71    Clo  \n",
       "2015-05-13 13:37:40                8.78    Clo  \n",
       "2018-01-08 07:24:52                0.00    Clo  "
      ]
     },
     "execution_count": 9,
     "metadata": {},
     "output_type": "execute_result"
    }
   ],
   "source": [
    "wr_durations[\n",
    "    [\n",
    "        \"wr_id\",\n",
    "        \"problem_type\",\n",
    "        \"requested_dt\",\n",
    "        \"completed_dt\",\n",
    "        \"date_closed\",\n",
    "        \"days_to_completion\",\n",
    "        \"status\",\n",
    "    ]\n",
    "].sample(3, random_state=446)"
   ]
  },
  {
   "cell_type": "markdown",
   "metadata": {},
   "source": [
    "### Decision point: fiscal year\n",
    "Note that the function `entirely_within_fiscal_year()` keeps only those rows where the work order was requested and closed in the same fiscal year. __Other rows that straddle two fiscal years are dropped__.\n",
    "\n",
    "For comparison, I've included the function `add_fiscal_year()`, which derives the fiscal year from the request date or from the completion date — and drops no rows."
   ]
  },
  {
   "cell_type": "code",
   "execution_count": 10,
   "metadata": {},
   "outputs": [],
   "source": [
    "# this is the traditional way\n",
    "wr_fy = entirely_within_fiscal_year(wr_durations)\n",
    "\n",
    "# this is a new way\n",
    "# wr_fy = add_fiscal_year(wr_durations)"
   ]
  },
  {
   "cell_type": "code",
   "execution_count": 11,
   "metadata": {},
   "outputs": [
    {
     "name": "stdout",
     "output_type": "stream",
     "text": [
      "Limiting analysis to work orders entirely within one FY drops 18,161 rows from the data.\n",
      "The dropped rows account for 17.46% of the data.\n",
      "The prepared dataset contains 85,869 rows.\n"
     ]
    }
   ],
   "source": [
    "dropped_row_count = len(wr_durations) - len(wr_fy)\n",
    "percent_rows_dropped = round(dropped_row_count / len(wr_durations) * 100, 2)\n",
    "\n",
    "print(\n",
    "    f\"Limiting analysis to work orders entirely within one FY drops {dropped_row_count:,} rows from the data.\"\n",
    ")\n",
    "print(f\"The dropped rows account for {percent_rows_dropped:,}% of the data.\")\n",
    "print(f\"The prepared dataset contains {len(wr_fy):,} rows.\")"
   ]
  },
  {
   "cell_type": "code",
   "execution_count": 12,
   "metadata": {},
   "outputs": [
    {
     "data": {
      "text/html": [
       "<div>\n",
       "<style scoped>\n",
       "    .dataframe tbody tr th:only-of-type {\n",
       "        vertical-align: middle;\n",
       "    }\n",
       "\n",
       "    .dataframe tbody tr th {\n",
       "        vertical-align: top;\n",
       "    }\n",
       "\n",
       "    .dataframe thead th {\n",
       "        text-align: right;\n",
       "    }\n",
       "</style>\n",
       "<table border=\"1\" class=\"dataframe\">\n",
       "  <thead>\n",
       "    <tr style=\"text-align: right;\">\n",
       "      <th></th>\n",
       "      <th>wr_id</th>\n",
       "      <th>problem_type</th>\n",
       "      <th>days_to_completion</th>\n",
       "      <th>requested_dt</th>\n",
       "      <th>completed_dt</th>\n",
       "      <th>fiscal_year</th>\n",
       "    </tr>\n",
       "    <tr>\n",
       "      <th>requested_dt</th>\n",
       "      <th></th>\n",
       "      <th></th>\n",
       "      <th></th>\n",
       "      <th></th>\n",
       "      <th></th>\n",
       "      <th></th>\n",
       "    </tr>\n",
       "  </thead>\n",
       "  <tbody>\n",
       "    <tr>\n",
       "      <th>2015-02-24 10:55:48</th>\n",
       "      <td>24685</td>\n",
       "      <td>SERV/CUSTODIAL</td>\n",
       "      <td>0.00</td>\n",
       "      <td>2015-02-24 10:55:48</td>\n",
       "      <td>2015-02-24 10:56:38</td>\n",
       "      <td>2015</td>\n",
       "    </tr>\n",
       "    <tr>\n",
       "      <th>2016-12-12 14:22:39</th>\n",
       "      <td>79848</td>\n",
       "      <td>HVAC</td>\n",
       "      <td>32.01</td>\n",
       "      <td>2016-12-12 14:22:39</td>\n",
       "      <td>2017-01-13 14:33:01</td>\n",
       "      <td>2017</td>\n",
       "    </tr>\n",
       "    <tr>\n",
       "      <th>2017-06-20 08:54:05</th>\n",
       "      <td>89616</td>\n",
       "      <td>DOOR</td>\n",
       "      <td>9.98</td>\n",
       "      <td>2017-06-20 08:54:05</td>\n",
       "      <td>2017-06-30 08:25:30</td>\n",
       "      <td>2017</td>\n",
       "    </tr>\n",
       "  </tbody>\n",
       "</table>\n",
       "</div>"
      ],
      "text/plain": [
       "                     wr_id    problem_type  days_to_completion  \\\n",
       "requested_dt                                                     \n",
       "2015-02-24 10:55:48  24685  SERV/CUSTODIAL                0.00   \n",
       "2016-12-12 14:22:39  79848            HVAC               32.01   \n",
       "2017-06-20 08:54:05  89616            DOOR                9.98   \n",
       "\n",
       "                           requested_dt        completed_dt  fiscal_year  \n",
       "requested_dt                                                              \n",
       "2015-02-24 10:55:48 2015-02-24 10:55:48 2015-02-24 10:56:38         2015  \n",
       "2016-12-12 14:22:39 2016-12-12 14:22:39 2017-01-13 14:33:01         2017  \n",
       "2017-06-20 08:54:05 2017-06-20 08:54:05 2017-06-30 08:25:30         2017  "
      ]
     },
     "execution_count": 12,
     "metadata": {},
     "output_type": "execute_result"
    }
   ],
   "source": [
    "wr_fy[\n",
    "    [\n",
    "        \"wr_id\",\n",
    "        \"problem_type\",\n",
    "        \"days_to_completion\",\n",
    "        \"requested_dt\",\n",
    "        \"completed_dt\",\n",
    "        \"fiscal_year\",\n",
    "    ]\n",
    "].sample(3, random_state=444)"
   ]
  },
  {
   "cell_type": "markdown",
   "metadata": {},
   "source": [
    "## KPI 1: % PMs completed on time \n",
    "The goal here is to filter the data down to preventive maintenance only, and then show how many are completed before a given benchmark."
   ]
  },
  {
   "cell_type": "markdown",
   "metadata": {},
   "source": [
    "### Filter to PM only, and for relevant fiscal years only"
   ]
  },
  {
   "cell_type": "code",
   "execution_count": 13,
   "metadata": {},
   "outputs": [
    {
     "name": "stdout",
     "output_type": "stream",
     "text": [
      "The filtered work orders dataframe has 6,153 rows.\n"
     ]
    }
   ],
   "source": [
    "PM_list = [\n",
    "    \"HVAC|PM\",\n",
    "    \"BUILDING|PM\",\n",
    "    \"PREVENTIVE MAINT\",\n",
    "    \"FUEL INSPECTION\",\n",
    "    \"BUILDING INTERIOR INSPECTION\",\n",
    "    \"INSPECTION\",\n",
    "    \"FUEL INSPECTION\",\n",
    "]\n",
    "\n",
    "cond_fy = wr_fy[\"fiscal_year\"].isin(range(2016, 2021))\n",
    "cond_pm = wr_fy[\"problem_type\"].isin(PM_list)\n",
    "\n",
    "wr_filtered = wr_fy[cond_fy & cond_pm]\n",
    "\n",
    "print(f\"The filtered work orders dataframe has {wr_filtered.shape[0]:,} rows.\")"
   ]
  },
  {
   "cell_type": "markdown",
   "metadata": {},
   "source": [
    "#### Compute the benchmark and add 'is_on_time' column"
   ]
  },
  {
   "cell_type": "code",
   "execution_count": 14,
   "metadata": {},
   "outputs": [],
   "source": [
    "def compute_is_on_time(df, benchmark):\n",
    "    df = df.copy()\n",
    "    df[\"is_on_time\"] = df[\"days_to_completion\"] <= benchmark\n",
    "    return df\n",
    "\n",
    "\n",
    "wr_on_time = compute_is_on_time(wr_filtered, 26)"
   ]
  },
  {
   "cell_type": "markdown",
   "metadata": {},
   "source": [
    "#### Group by fiscal year and get % on time"
   ]
  },
  {
   "cell_type": "code",
   "execution_count": 32,
   "metadata": {},
   "outputs": [
    {
     "data": {
      "text/html": [
       "<div>\n",
       "<style scoped>\n",
       "    .dataframe tbody tr th:only-of-type {\n",
       "        vertical-align: middle;\n",
       "    }\n",
       "\n",
       "    .dataframe tbody tr th {\n",
       "        vertical-align: top;\n",
       "    }\n",
       "\n",
       "    .dataframe thead th {\n",
       "        text-align: right;\n",
       "    }\n",
       "</style>\n",
       "<table border=\"1\" class=\"dataframe\">\n",
       "  <thead>\n",
       "    <tr style=\"text-align: right;\">\n",
       "      <th></th>\n",
       "      <th>percent_on_time</th>\n",
       "      <th>total_PMs</th>\n",
       "    </tr>\n",
       "    <tr>\n",
       "      <th>fiscal_year</th>\n",
       "      <th></th>\n",
       "      <th></th>\n",
       "    </tr>\n",
       "  </thead>\n",
       "  <tbody>\n",
       "    <tr>\n",
       "      <th>2016</th>\n",
       "      <td>84.18</td>\n",
       "      <td>828</td>\n",
       "    </tr>\n",
       "    <tr>\n",
       "      <th>2017</th>\n",
       "      <td>57.30</td>\n",
       "      <td>1309</td>\n",
       "    </tr>\n",
       "    <tr>\n",
       "      <th>2018</th>\n",
       "      <td>78.49</td>\n",
       "      <td>1841</td>\n",
       "    </tr>\n",
       "    <tr>\n",
       "      <th>2019</th>\n",
       "      <td>71.81</td>\n",
       "      <td>1096</td>\n",
       "    </tr>\n",
       "    <tr>\n",
       "      <th>2020</th>\n",
       "      <td>44.95</td>\n",
       "      <td>1079</td>\n",
       "    </tr>\n",
       "  </tbody>\n",
       "</table>\n",
       "</div>"
      ],
      "text/plain": [
       "             percent_on_time  total_PMs\n",
       "fiscal_year                            \n",
       "2016                   84.18        828\n",
       "2017                   57.30       1309\n",
       "2018                   78.49       1841\n",
       "2019                   71.81       1096\n",
       "2020                   44.95       1079"
      ]
     },
     "execution_count": 32,
     "metadata": {},
     "output_type": "execute_result"
    }
   ],
   "source": [
    "def compute_kpi_table(df, label_for_totals):\n",
    "    df = df.copy()\n",
    "    table_df = df.groupby(\"fiscal_year\")[[\"is_on_time\"]].agg([\"mean\", \"count\"])\n",
    "    table_df.columns = table_df.columns.droplevel(0)\n",
    "    # table_df[\"mean\"] = pm_compliance[\"mean\"].round(2)\n",
    "    table_df[\"mean\"] = table_df[\"mean\"].apply(lambda x: round(x * 100, 2))\n",
    "    table_df = table_df.rename(\n",
    "        columns={\"mean\": \"percent_on_time\", \"count\": label_for_totals}\n",
    "    )\n",
    "    return table_df\n",
    "\n",
    "\n",
    "pm_compliance = compute_kpi_table(wr_on_time, \"total_PMs\")\n",
    "pm_compliance"
   ]
  },
  {
   "cell_type": "markdown",
   "metadata": {},
   "source": [
    "## KPI 2: PM:CM ratio"
   ]
  },
  {
   "cell_type": "markdown",
   "metadata": {},
   "source": [
    "The two lists below contain the exact same problem types mentioned in last year's scorecard. So we would expect to be able to replicate last year's results closely."
   ]
  },
  {
   "cell_type": "code",
   "execution_count": 16,
   "metadata": {},
   "outputs": [],
   "source": [
    "CM_list = [\n",
    "    \"BOILER\",\n",
    "    \"CHILLERS\",\n",
    "    \"COOLING TOWERS\",\n",
    "    \"HVAC\",\n",
    "    \"HVAC INFRASTRUCTURE\",\n",
    "    \"HVAC|REPAIR\",\n",
    "]\n",
    "\n",
    "PM_list = [\n",
    "    \"HVAC|PM\",\n",
    "    \"PREVENTIVE MAINT\",\n",
    "    # \"BUILDING|PM\",\n",
    "    # \"FUEL INSPECTION\",\n",
    "    # \"BUILDING INTERIOR INSPECTION\",\n",
    "    # \"INSPECTION\",\n",
    "]"
   ]
  },
  {
   "cell_type": "markdown",
   "metadata": {},
   "source": [
    "### Filter to HVAC rows only"
   ]
  },
  {
   "cell_type": "code",
   "execution_count": 17,
   "metadata": {},
   "outputs": [
    {
     "name": "stdout",
     "output_type": "stream",
     "text": [
      "85869\n",
      "We've gone from 85,869 rows to 18,476 rows.\n"
     ]
    }
   ],
   "source": [
    "cond_cm = wr_fy[\"problem_type\"].isin(CM_list)\n",
    "cond_pm = wr_fy[\"problem_type\"].isin(PM_list)\n",
    "\n",
    "wr_HVAC = wr_fy[cond_cm | cond_pm]\n",
    "wr_HVAC[\"is_pm\"] = wr_HVAC[\"problem_type\"].isin(PM_list)\n",
    "\n",
    "print(f\"We've gone from {len(wr_fy):,} rows to {len(wr_HVAC):,} rows.\")"
   ]
  },
  {
   "cell_type": "markdown",
   "metadata": {},
   "source": [
    "### Compute all PM/CM stats by fiscal year"
   ]
  },
  {
   "cell_type": "code",
   "execution_count": 22,
   "metadata": {},
   "outputs": [],
   "source": [
    "def compute_pm_cm(df, PM_list):\n",
    "    df = df.copy().sort_values(\"fiscal_year\")\n",
    "    results_df = pd.DataFrame(\n",
    "        columns=[\n",
    "            \"year\",\n",
    "            # \"percent_pm\",\n",
    "            \"pm_cm_ratio\",\n",
    "            \"count_cm\",\n",
    "            \"count_pm\",\n",
    "            \"count_hvac\",\n",
    "        ]\n",
    "    )\n",
    "    for year in df[\"fiscal_year\"].unique():\n",
    "        results_dict = {}\n",
    "        df_fy = df[df[\"fiscal_year\"] == year]\n",
    "        cond_pm = df_fy['is_pm'] == True\n",
    "        count_pm = len(df_fy[cond_pm])\n",
    "        count_hvac = len(df_fy)\n",
    "        count_cm = count_hvac - count_pm\n",
    "        results_dict[\"year\"] = year\n",
    "        # results_dict[\"percent_pm\"] = (count_pm / count_hvac) * 100\n",
    "        results_dict[\"pm_cm_ratio\"] = count_pm / count_cm\n",
    "        results_dict[\"count_pm\"] = count_pm\n",
    "        results_dict[\"count_cm\"] = count_cm\n",
    "        results_dict[\"count_hvac\"] = count_hvac\n",
    "        results_df = results_df.append(results_dict, ignore_index=True)\n",
    "    results_df[[\"year\", \"count_cm\", \"count_pm\", \"count_hvac\"]] = results_df[\n",
    "        [\"year\", \"count_cm\", \"count_pm\", \"count_hvac\"]\n",
    "    ].astype(int)\n",
    "    return results_df.round(2)\n",
    "\n",
    "\n",
    "pm_cm_results = compute_pm_cm(wr_HVAC, PM_list)"
   ]
  },
  {
   "cell_type": "code",
   "execution_count": 23,
   "metadata": {
    "scrolled": true
   },
   "outputs": [
    {
     "data": {
      "text/html": [
       "<div>\n",
       "<style scoped>\n",
       "    .dataframe tbody tr th:only-of-type {\n",
       "        vertical-align: middle;\n",
       "    }\n",
       "\n",
       "    .dataframe tbody tr th {\n",
       "        vertical-align: top;\n",
       "    }\n",
       "\n",
       "    .dataframe thead th {\n",
       "        text-align: right;\n",
       "    }\n",
       "</style>\n",
       "<table border=\"1\" class=\"dataframe\">\n",
       "  <thead>\n",
       "    <tr style=\"text-align: right;\">\n",
       "      <th></th>\n",
       "      <th>year</th>\n",
       "      <th>pm_cm_ratio</th>\n",
       "      <th>count_cm</th>\n",
       "      <th>count_pm</th>\n",
       "      <th>count_hvac</th>\n",
       "    </tr>\n",
       "  </thead>\n",
       "  <tbody>\n",
       "    <tr>\n",
       "      <th>0</th>\n",
       "      <td>2014</td>\n",
       "      <td>0.00</td>\n",
       "      <td>1073</td>\n",
       "      <td>0</td>\n",
       "      <td>1073</td>\n",
       "    </tr>\n",
       "    <tr>\n",
       "      <th>1</th>\n",
       "      <td>2015</td>\n",
       "      <td>0.03</td>\n",
       "      <td>1785</td>\n",
       "      <td>55</td>\n",
       "      <td>1840</td>\n",
       "    </tr>\n",
       "    <tr>\n",
       "      <th>2</th>\n",
       "      <td>2016</td>\n",
       "      <td>0.45</td>\n",
       "      <td>1775</td>\n",
       "      <td>796</td>\n",
       "      <td>2571</td>\n",
       "    </tr>\n",
       "    <tr>\n",
       "      <th>3</th>\n",
       "      <td>2017</td>\n",
       "      <td>0.62</td>\n",
       "      <td>1942</td>\n",
       "      <td>1207</td>\n",
       "      <td>3149</td>\n",
       "    </tr>\n",
       "    <tr>\n",
       "      <th>4</th>\n",
       "      <td>2018</td>\n",
       "      <td>0.70</td>\n",
       "      <td>2348</td>\n",
       "      <td>1643</td>\n",
       "      <td>3991</td>\n",
       "    </tr>\n",
       "    <tr>\n",
       "      <th>5</th>\n",
       "      <td>2019</td>\n",
       "      <td>0.60</td>\n",
       "      <td>1661</td>\n",
       "      <td>1002</td>\n",
       "      <td>2663</td>\n",
       "    </tr>\n",
       "    <tr>\n",
       "      <th>6</th>\n",
       "      <td>2020</td>\n",
       "      <td>0.66</td>\n",
       "      <td>1616</td>\n",
       "      <td>1066</td>\n",
       "      <td>2682</td>\n",
       "    </tr>\n",
       "  </tbody>\n",
       "</table>\n",
       "</div>"
      ],
      "text/plain": [
       "   year  pm_cm_ratio  count_cm  count_pm  count_hvac\n",
       "0  2014         0.00      1073         0        1073\n",
       "1  2015         0.03      1785        55        1840\n",
       "2  2016         0.45      1775       796        2571\n",
       "3  2017         0.62      1942      1207        3149\n",
       "4  2018         0.70      2348      1643        3991\n",
       "5  2019         0.60      1661      1002        2663\n",
       "6  2020         0.66      1616      1066        2682"
      ]
     },
     "execution_count": 23,
     "metadata": {},
     "output_type": "execute_result"
    }
   ],
   "source": [
    "cond_complete_FY = pm_cm_results[\"year\"] <= 2020\n",
    "pm_cm_results = pm_cm_results[cond_complete_FY]\n",
    "\n",
    "pm_cm_results"
   ]
  },
  {
   "cell_type": "code",
   "execution_count": 24,
   "metadata": {},
   "outputs": [
    {
     "data": {
      "image/png": "[encoded data removed]",
      "text/plain": [
       "<Figure size 432x288 with 1 Axes>"
      ]
     },
     "metadata": {
      "needs_background": "light"
     },
     "output_type": "display_data"
    }
   ],
   "source": [
    "count_plot_data = pd.melt(\n",
    "    pm_cm_results, id_vars=[\"year\"], value_vars=[\"count_cm\", \"count_pm\"]\n",
    ")\n",
    "\n",
    "sns.lineplot(data=count_plot_data, y=\"value\", x=\"year\", hue=\"variable\")\n",
    "\n",
    "sns.despine()"
   ]
  },
  {
   "cell_type": "code",
   "execution_count": 25,
   "metadata": {},
   "outputs": [
    {
     "data": {
      "image/png": "[encoded data removed]",
      "text/plain": [
       "<Figure size 432x288 with 1 Axes>"
      ]
     },
     "metadata": {
      "needs_background": "light"
     },
     "output_type": "display_data"
    }
   ],
   "source": [
    "ax = sns.lineplot(data=pm_cm_results, y=\"pm_cm_ratio\", x=\"year\",)\n",
    "ax.set(title=\"Percent PM By Fiscal Year\")\n",
    "sns.despine()"
   ]
  },
  {
   "cell_type": "markdown",
   "metadata": {},
   "source": [
    "## KPI 3: % of Work Orders Completed On-Time (CM)\n",
    "Here are the key facts needed to understand the agency's traditional method for computing this KPI:\n",
    "\n",
    "- Only CM problem types are considered, so all PM work orders are dropped.\n",
    "- The on-time benchmark is 24 days"
   ]
  },
  {
   "cell_type": "code",
   "execution_count": 29,
   "metadata": {},
   "outputs": [
    {
     "name": "stdout",
     "output_type": "stream",
     "text": [
      "We've gone from 85,869 rows to 79,935 rows.\n"
     ]
    }
   ],
   "source": [
    "wr_cm = wr_fy[~cond_pm]\n",
    "\n",
    "print(f\"We've gone from {len(wr_fy):,} rows to {len(wr_cm):,} rows.\")"
   ]
  },
  {
   "cell_type": "code",
   "execution_count": 30,
   "metadata": {},
   "outputs": [],
   "source": [
    "wr_cm_on_time = compute_is_on_time(wr_cm, 24)"
   ]
  },
  {
   "cell_type": "code",
   "execution_count": 31,
   "metadata": {},
   "outputs": [
    {
     "data": {
      "text/html": [
       "<div>\n",
       "<style scoped>\n",
       "    .dataframe tbody tr th:only-of-type {\n",
       "        vertical-align: middle;\n",
       "    }\n",
       "\n",
       "    .dataframe tbody tr th {\n",
       "        vertical-align: top;\n",
       "    }\n",
       "\n",
       "    .dataframe thead th {\n",
       "        text-align: right;\n",
       "    }\n",
       "</style>\n",
       "<table border=\"1\" class=\"dataframe\">\n",
       "  <thead>\n",
       "    <tr style=\"text-align: right;\">\n",
       "      <th></th>\n",
       "      <th>percent_on_time</th>\n",
       "      <th>total_pms</th>\n",
       "    </tr>\n",
       "    <tr>\n",
       "      <th>fiscal_year</th>\n",
       "      <th></th>\n",
       "      <th></th>\n",
       "    </tr>\n",
       "  </thead>\n",
       "  <tbody>\n",
       "    <tr>\n",
       "      <th>2014</th>\n",
       "      <td>85.59</td>\n",
       "      <td>9453</td>\n",
       "    </tr>\n",
       "    <tr>\n",
       "      <th>2015</th>\n",
       "      <td>83.41</td>\n",
       "      <td>13488</td>\n",
       "    </tr>\n",
       "    <tr>\n",
       "      <th>2016</th>\n",
       "      <td>84.49</td>\n",
       "      <td>14761</td>\n",
       "    </tr>\n",
       "    <tr>\n",
       "      <th>2017</th>\n",
       "      <td>78.45</td>\n",
       "      <td>14261</td>\n",
       "    </tr>\n",
       "    <tr>\n",
       "      <th>2018</th>\n",
       "      <td>77.62</td>\n",
       "      <td>12485</td>\n",
       "    </tr>\n",
       "    <tr>\n",
       "      <th>2019</th>\n",
       "      <td>70.60</td>\n",
       "      <td>7174</td>\n",
       "    </tr>\n",
       "    <tr>\n",
       "      <th>2020</th>\n",
       "      <td>61.58</td>\n",
       "      <td>6770</td>\n",
       "    </tr>\n",
       "    <tr>\n",
       "      <th>2021</th>\n",
       "      <td>53.47</td>\n",
       "      <td>1543</td>\n",
       "    </tr>\n",
       "  </tbody>\n",
       "</table>\n",
       "</div>"
      ],
      "text/plain": [
       "             percent_on_time  total_pms\n",
       "fiscal_year                            \n",
       "2014                   85.59       9453\n",
       "2015                   83.41      13488\n",
       "2016                   84.49      14761\n",
       "2017                   78.45      14261\n",
       "2018                   77.62      12485\n",
       "2019                   70.60       7174\n",
       "2020                   61.58       6770\n",
       "2021                   53.47       1543"
      ]
     },
     "execution_count": 31,
     "metadata": {},
     "output_type": "execute_result"
    }
   ],
   "source": [
    "pm_compliance = compute_kpi_table(wr_cm_on_time)\n",
    "pm_compliance"
   ]
  },
  {
   "cell_type": "code",
   "execution_count": null,
   "metadata": {},
   "outputs": [],
   "source": []
  }
 ],
 "metadata": {
  "kernelspec": {
   "display_name": "Python 3",
   "language": "python",
   "name": "python3"
  },
  "language_info": {
   "codemirror_mode": {
    "name": "ipython",
    "version": 3
   },
   "file_extension": ".py",
   "mimetype": "text/x-python",
   "name": "python",
   "nbconvert_exporter": "python",
   "pygments_lexer": "ipython3",
   "version": "3.6.10"
  },
  "toc": {
   "base_numbering": 1,
   "nav_menu": {},
   "number_sections": true,
   "sideBar": true,
   "skip_h1_title": true,
   "title_cell": "Table of Contents",
   "title_sidebar": "Contents",
   "toc_cell": false,
   "toc_position": {
    "height": "calc(100% - 180px)",
    "left": "10px",
    "top": "150px",
    "width": "315.104px"
   },
   "toc_section_display": true,
   "toc_window_display": true
  }
 },
 "nbformat": 4,
 "nbformat_minor": 4
}
