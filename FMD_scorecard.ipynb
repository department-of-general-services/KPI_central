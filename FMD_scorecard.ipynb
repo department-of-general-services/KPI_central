{
 "cells": [
  {
   "cell_type": "markdown",
   "metadata": {
    "hideCode": false,
    "hidePrompt": false
   },
   "source": [
    "# Facilities KPI Scorecard\n",
    "This notebook serves as a repository of public-facing KPIs for the Department of General Services' Facilities Division. The purpose of this notebook is to make available, in a single public place, the entire pipeline for calculating the division's three KPIs that are based in Archibus. Those KPIs are:\n",
    "\n",
    "1. % of Corrective Maintenance Work Requests Completed On Time\n",
    "2. % of Preventive Maintenance Work Requests Completed On Time\n",
    "3. Preventive Maintenance to Corrective Maintenance Ratio\n",
    "\n",
    "Part of the intention of this notebook is to build _transparency_ and _reproducibility_ by capturing the entire end-to-end process used to calculate these metrics in one place.\n",
    "\n",
    "The actuals for previous year for KPIs 1 and 2 shown here are slightly higher than those reported in the Clear Impact budget book. That is because a coding error caused us to undercount the data. That error has now been fixed and the numbers shown here are more accurate. \n",
    "\n",
    "__Questions__: This notebook was last modified by James Trimarco, DGS Research Analyst, on May 11 2021. Questions and concerns about this work can be directed to james.trimarco@baltimorecity.gov.\n",
    "\n",
    "__Note__: After the implementation of our Archibus dashboards and their incorporation into management workflows, DGS became aware of the need to further improve the third metric (Preventive Maintenance to Corrective Maintenance Ratio). Because this metric is still under construction, it is not shown here. "
   ]
  },
  {
   "cell_type": "markdown",
   "metadata": {
    "hideCode": false,
    "hideOutput": false,
    "hidePrompt": false
   },
   "source": [
    "## Setup"
   ]
  },
  {
   "cell_type": "markdown",
   "metadata": {
    "hideCode": false,
    "hideOutput": false,
    "hidePrompt": false
   },
   "source": [
    "### Import packages\n",
    "This step imports a group of common analysis packages, as well as a few custom functions. "
   ]
  },
  {
   "cell_type": "code",
   "execution_count": 1,
   "metadata": {
    "hideCode": false,
    "hideOutput": false,
    "hidePrompt": false,
    "scrolled": false,
    "tags": [
     "hide-input"
    ]
   },
   "outputs": [],
   "source": [
    "# workhorse modules\n",
    "import pandas as pd\n",
    "from datetime import timedelta, datetime\n",
    "import re\n",
    "from pathlib import Path\n",
    "import seaborn as sns\n",
    "import matplotlib.pyplot as plt\n",
    "\n",
    "from matplotlib.dates import DateFormatter\n",
    "import matplotlib.ticker as ticker\n",
    "\n",
    "# local utility functions\n",
    "from utils.general_utils import (\n",
    "    add_fiscal_year,\n",
    "    compute_is_on_time,\n",
    "    set_pd_params,\n",
    "    tidy_up_df,\n",
    "    cast_dtypes,\n",
    "    compute_pm_cm,\n",
    "    compute_pm_cm_by_month,\n",
    "    compute_kpi_table,\n",
    "    compute_kpi_table_by_month,\n",
    ")\n",
    "from utils.sql_utils import mssql_engine, get_data_from_archibus\n",
    "from utils.vis_utils import set_plot_params, pointplot_with_barplot\n",
    "from utils.anonymization import split_names, replace_names"
   ]
  },
  {
   "cell_type": "markdown",
   "metadata": {
    "hideCode": false,
    "hideOutput": false,
    "hidePrompt": false
   },
   "source": [
    "### Set Pandas options\n",
    "This makes the Pandas library print all the rows and columns to the output, instead of truncating output. "
   ]
  },
  {
   "cell_type": "code",
   "execution_count": 2,
   "metadata": {
    "hideCode": false,
    "hidePrompt": false,
    "scrolled": false
   },
   "outputs": [],
   "source": [
    "set_pd_params()\n",
    "set_plot_params()\n",
    "pd.options.mode.chained_assignment = None  # default='warn'"
   ]
  },
  {
   "cell_type": "markdown",
   "metadata": {
    "hideCode": false,
    "hidePrompt": false
   },
   "source": [
    "### Import the work request data from Archibus database\n",
    "The command below pulls every row from Archibus's `dash_benchmarks` table, which enhances the raw operational data by adding several important columns including:\n",
    "\n",
    "- __primary_type__: Consolidates the `problem_type` down from more than 100 raw types into just 30 consolidated and benchmarked problem types.\n",
    "- __days_to_completion__: Number of days between the date a job was requested and the date it was marked completed.\n",
    "- __benchmark__: Number of days that can pass between request and completion before a job is marked late. \n",
    "\n",
    "The resulting data contains the entire work request history. No filtering by date has been applied yet. \n",
    "\n",
    "Readers interested in the steps used to create `dash_benchmarks` from the raw operational data can find [the SQL query used to do this here](https://raw.githubusercontent.com/department-of-general-services/fmd_archibus_dashboard/master/create_views_facilities_dashboard.sql).\n"
   ]
  },
  {
   "cell_type": "code",
   "execution_count": 3,
   "metadata": {
    "scrolled": false
   },
   "outputs": [
    {
     "name": "stdout",
     "output_type": "stream",
     "text": [
      "The work orders dataframe has 107,901 rows.\n"
     ]
    }
   ],
   "source": [
    "kpis_raw = get_data_from_archibus(mssql_engine())\n",
    "print(f\"The work orders dataframe has {kpis_raw.shape[0]:,} rows.\")"
   ]
  },
  {
   "cell_type": "markdown",
   "metadata": {},
   "source": [
    "Here's a sample of a few rows, showing some of the key columns."
   ]
  },
  {
   "cell_type": "code",
   "execution_count": 4,
   "metadata": {
    "scrolled": false
   },
   "outputs": [
    {
     "data": {
      "text/html": [
       "<div>\n",
       "<style scoped>\n",
       "    .dataframe tbody tr th:only-of-type {\n",
       "        vertical-align: middle;\n",
       "    }\n",
       "\n",
       "    .dataframe tbody tr th {\n",
       "        vertical-align: top;\n",
       "    }\n",
       "\n",
       "    .dataframe thead th {\n",
       "        text-align: right;\n",
       "    }\n",
       "</style>\n",
       "<table border=\"1\" class=\"dataframe\">\n",
       "  <thead>\n",
       "    <tr style=\"text-align: right;\">\n",
       "      <th></th>\n",
       "      <th>wr_id</th>\n",
       "      <th>status</th>\n",
       "      <th>primary_type</th>\n",
       "      <th>problem_type</th>\n",
       "      <th>status</th>\n",
       "      <th>date_requested</th>\n",
       "      <th>date_completed</th>\n",
       "      <th>days_to_completion</th>\n",
       "      <th>date_closed</th>\n",
       "      <th>benchmark</th>\n",
       "    </tr>\n",
       "  </thead>\n",
       "  <tbody>\n",
       "    <tr>\n",
       "      <th>21452</th>\n",
       "      <td>12989</td>\n",
       "      <td>Clo</td>\n",
       "      <td>LANDSCAPING</td>\n",
       "      <td>LAWN</td>\n",
       "      <td>Clo</td>\n",
       "      <td>2014-07-11</td>\n",
       "      <td>2014-07-21</td>\n",
       "      <td>10.0</td>\n",
       "      <td>2014-07-24 00:00:00.000</td>\n",
       "      <td>14.0</td>\n",
       "    </tr>\n",
       "    <tr>\n",
       "      <th>74973</th>\n",
       "      <td>97313</td>\n",
       "      <td>Clo</td>\n",
       "      <td>DELIVERY</td>\n",
       "      <td>_DELIVERY</td>\n",
       "      <td>Clo</td>\n",
       "      <td>2017-12-12</td>\n",
       "      <td>2017-12-13</td>\n",
       "      <td>1.0</td>\n",
       "      <td>2018-01-11 11:48:56.760</td>\n",
       "      <td>7.0</td>\n",
       "    </tr>\n",
       "    <tr>\n",
       "      <th>31137</th>\n",
       "      <td>27533</td>\n",
       "      <td>Clo</td>\n",
       "      <td>SERVICE</td>\n",
       "      <td>SERV/CUSTODIAL</td>\n",
       "      <td>Clo</td>\n",
       "      <td>2015-03-19</td>\n",
       "      <td>2015-03-19</td>\n",
       "      <td>0.0</td>\n",
       "      <td>2015-03-20 00:00:00.000</td>\n",
       "      <td>14.0</td>\n",
       "    </tr>\n",
       "  </tbody>\n",
       "</table>\n",
       "</div>"
      ],
      "text/plain": [
       "       wr_id status primary_type                      problem_type status  \\\n",
       "21452  12989    Clo  LANDSCAPING  LAWN                                Clo   \n",
       "74973  97313    Clo     DELIVERY  _DELIVERY                           Clo   \n",
       "31137  27533    Clo      SERVICE  SERV/CUSTODIAL                      Clo   \n",
       "\n",
       "      date_requested date_completed  days_to_completion  \\\n",
       "21452     2014-07-11     2014-07-21                10.0   \n",
       "74973     2017-12-12     2017-12-13                 1.0   \n",
       "31137     2015-03-19     2015-03-19                 0.0   \n",
       "\n",
       "                  date_closed  benchmark  \n",
       "21452 2014-07-24 00:00:00.000       14.0  \n",
       "74973 2018-01-11 11:48:56.760        7.0  \n",
       "31137 2015-03-20 00:00:00.000       14.0  "
      ]
     },
     "execution_count": 4,
     "metadata": {},
     "output_type": "execute_result"
    }
   ],
   "source": [
    "kpis_raw.sample(3, random_state=445)[\n",
    "    [\n",
    "        \"wr_id\",\n",
    "        \"status\",\n",
    "        \"primary_type\",\n",
    "        \"problem_type\",\n",
    "        \"status\",\n",
    "        \"date_requested\",\n",
    "        \"date_completed\",\n",
    "        \"days_to_completion\",\n",
    "        \"date_closed\",\n",
    "        \"benchmark\",\n",
    "    ]\n",
    "]"
   ]
  },
  {
   "cell_type": "markdown",
   "metadata": {
    "hideCode": false,
    "hidePrompt": false
   },
   "source": [
    "## Data cleaning\n",
    "For the purposes of this project, DGS is keeping the data-cleaning stage simple. We're not attempting to remove duplicates or outliers, both of which involve relatively complex operations. "
   ]
  },
  {
   "cell_type": "markdown",
   "metadata": {
    "hideCode": false,
    "hidePrompt": false
   },
   "source": [
    "### Basic cleaning\n",
    "- removes white spaces in strings to facilitate matching \n",
    "- drops rows with a problem type of \"TEST(DO NOT USE)\"\n",
    "- renames a few columns for clarity"
   ]
  },
  {
   "cell_type": "code",
   "execution_count": 5,
   "metadata": {
    "hideCode": false,
    "hidePrompt": false,
    "scrolled": false
   },
   "outputs": [
    {
     "name": "stdout",
     "output_type": "stream",
     "text": [
      "The tidied work orders dataframe has 107,774 rows.\n",
      "By tidying the data, we have removed 127 rows.\n"
     ]
    }
   ],
   "source": [
    "wr_tidy = tidy_up_df(kpis_raw)\n",
    "wr_tidy[\"year\"] = wr_tidy[\"calendar_month_request\"].str[:4].astype(int)\n",
    "wr_tidy[\"month\"] = wr_tidy[\"calendar_month_request\"].str[-2:].astype(int)\n",
    "wr_tidy[\"month_start\"] = pd.to_datetime(wr_tidy[[\"year\", \"month\"]].assign(DAY=1))\n",
    "\n",
    "\n",
    "print(f\"The tidied work orders dataframe has {len(wr_tidy):,} rows.\")\n",
    "print(f\"By tidying the data, we have removed {len(kpis_raw) - len(wr_tidy):,} rows.\")"
   ]
  },
  {
   "cell_type": "markdown",
   "metadata": {},
   "source": [
    "### Drop canceled and rejected work orders\n",
    "The data comes to us with many canceled work orders. Those shouldn't count against our KPIs as not having been completed on time. So we drop them here. "
   ]
  },
  {
   "cell_type": "code",
   "execution_count": 6,
   "metadata": {
    "scrolled": false
   },
   "outputs": [
    {
     "name": "stdout",
     "output_type": "stream",
     "text": [
      "By dropping canceled and rejected work orders, we have removed 4,011 rows.\n"
     ]
    }
   ],
   "source": [
    "# drop rows that were canceled\n",
    "cond_valid = ~wr_tidy[\"status\"].isin([\"Can\", \"Rej\", \"R\"])\n",
    "\n",
    "wr_valid = wr_tidy[cond_valid]\n",
    "\n",
    "print(\n",
    "    f\"By dropping canceled and rejected work orders, we have removed {len(wr_tidy) - len(wr_valid):,} rows.\"\n",
    ")"
   ]
  },
  {
   "cell_type": "markdown",
   "metadata": {},
   "source": [
    "### Assign fiscal year\n",
    "The Facilities Management Division has made the decision to compute KPIs based on the fiscal year when the job was _closed_, not the fiscal year when it was _requested_. There are pros and cons to either way, and our dashboards will show both views when they are complete. However, here are some of the advantages of assigning the fiscal year based on the date of closure:\n",
    "\n",
    "- __Historical numbers are stable__. Once a KPI is reported for a fiscal year, the number will not change (if we computed % on time based on the date of request, the results for previous years would continue to change significantly as old work requests get closed out). \n",
    "- __Accountability assigned to current year__. If we computed % on time based on the date of request, then old years would make the division look slow in the past. Assigning by the date of closure keeps accountability with the act of completion. "
   ]
  },
  {
   "cell_type": "code",
   "execution_count": 7,
   "metadata": {
    "scrolled": false
   },
   "outputs": [],
   "source": [
    "wr_fy = wr_valid.copy()\n",
    "cond_fy = wr_fy[\"fy_request\"].isin(range(2016, 2022))\n",
    "wr_fy = wr_fy[cond_fy]"
   ]
  },
  {
   "cell_type": "code",
   "execution_count": 11,
   "metadata": {},
   "outputs": [],
   "source": [
    "def compute_is_on_time(row):\n",
    "    row[\"is_on_time\"] = row[\"days_to_completion\"] <= row[\"benchmark\"]\n",
    "    return row\n",
    "\n",
    "\n",
    "wr_fy = wr_fy.dropna(subset=[\"days_to_completion\", \"benchmark\"]).apply(\n",
    "    compute_is_on_time, axis=1\n",
    ")"
   ]
  },
  {
   "cell_type": "code",
   "execution_count": 12,
   "metadata": {},
   "outputs": [
    {
     "data": {
      "text/plain": [
       "BLDG INSPECTION     1403\n",
       "GENERATOR TEST      1010\n",
       "ELEVATOR TEST        973\n",
       "HVAC INSPECTION      839\n",
       "BASEMENT INSPECT     689\n",
       "FUEL TANK TEST       517\n",
       "HEATING LEVELS       414\n",
       "HEAT CHECK TEST      180\n",
       "UTILITY ROOMS        113\n",
       "FLOOR BUFFING         62\n",
       "HVAC FILTER CHAN      21\n",
       "KITCHEN PM            15\n",
       "EXTERMINATION         10\n",
       "Name: PM_type, dtype: int64"
      ]
     },
     "execution_count": 12,
     "metadata": {},
     "output_type": "execute_result"
    }
   ],
   "source": [
    "wr_fy['PM_type'].value_counts()"
   ]
  },
  {
   "cell_type": "code",
   "execution_count": 13,
   "metadata": {},
   "outputs": [
    {
     "data": {
      "text/html": [
       "<div>\n",
       "<style scoped>\n",
       "    .dataframe tbody tr th:only-of-type {\n",
       "        vertical-align: middle;\n",
       "    }\n",
       "\n",
       "    .dataframe tbody tr th {\n",
       "        vertical-align: top;\n",
       "    }\n",
       "\n",
       "    .dataframe thead th {\n",
       "        text-align: right;\n",
       "    }\n",
       "</style>\n",
       "<table border=\"1\" class=\"dataframe\">\n",
       "  <thead>\n",
       "    <tr style=\"text-align: right;\">\n",
       "      <th></th>\n",
       "      <th>primary_type</th>\n",
       "      <th>date_requested</th>\n",
       "      <th>date_closed</th>\n",
       "      <th>fiscal_year</th>\n",
       "    </tr>\n",
       "  </thead>\n",
       "  <tbody>\n",
       "    <tr>\n",
       "      <th>11195</th>\n",
       "      <td>OTHER-INTERNAL</td>\n",
       "      <td>2013-12-09</td>\n",
       "      <td>2013-12-09 00:00:00.000</td>\n",
       "      <td>2014</td>\n",
       "    </tr>\n",
       "    <tr>\n",
       "      <th>18526</th>\n",
       "      <td>ELECTRICAL</td>\n",
       "      <td>2014-05-09</td>\n",
       "      <td>2014-05-16 00:00:00.000</td>\n",
       "      <td>2014</td>\n",
       "    </tr>\n",
       "    <tr>\n",
       "      <th>63014</th>\n",
       "      <td>OVERHDDOOR</td>\n",
       "      <td>2017-02-28</td>\n",
       "      <td>2020-12-22 08:25:28.970</td>\n",
       "      <td>2021</td>\n",
       "    </tr>\n",
       "  </tbody>\n",
       "</table>\n",
       "</div>"
      ],
      "text/plain": [
       "         primary_type date_requested             date_closed  fiscal_year\n",
       "11195  OTHER-INTERNAL     2013-12-09 2013-12-09 00:00:00.000         2014\n",
       "18526      ELECTRICAL     2014-05-09 2014-05-16 00:00:00.000         2014\n",
       "63014      OVERHDDOOR     2017-02-28 2020-12-22 08:25:28.970         2021"
      ]
     },
     "execution_count": 7,
     "metadata": {},
     "output_type": "execute_result"
    }
   ],
   "source": [
    "# add 'fiscal_year' column based on date_closed\n",
    "wr_fy = add_fiscal_year(wr_valid, assign_fy_on=\"closure\")\n",
    "\n",
    "wr_fy[[\"primary_type\", \"date_requested\", \"date_closed\", \"fiscal_year\"]].sample(\n",
    "    3, random_state=446\n",
    ")"
   ]
  },
  {
   "cell_type": "markdown",
   "metadata": {
    "hideCode": false,
    "hidePrompt": false
   },
   "source": [
    "## Data preparation"
   ]
  },
  {
   "cell_type": "markdown",
   "metadata": {},
   "source": [
    "After assigning the fiscal year, we can drop work requests from FY16 and older. This allows us to focus on recent history. "
   ]
  },
  {
   "cell_type": "code",
   "execution_count": 8,
   "metadata": {
    "hideCode": false,
    "hidePrompt": false,
    "scrolled": false
   },
   "outputs": [
    {
     "name": "stdout",
     "output_type": "stream",
     "text": [
      "Filtering to remove data requested before FY17 leaves us with 57,207 rows. \n",
      "We dropped 45.0% of the data at this stage.\n"
     ]
    }
   ],
   "source": [
    "cond_fy = wr_fy[\"fiscal_year\"].isin(range(2017, 2022))\n",
    "wr_valid = wr_fy[cond_fy]\n",
    "\n",
    "print(\n",
    "    f\"Filtering to remove data requested before FY17 leaves us with {len(wr_valid):,} rows.\",\n",
    "    f\"\\nWe dropped {100 * round((len(wr_fy) - len(wr_valid))/len(wr_fy), 2):}% of the data at this stage.\",\n",
    ")"
   ]
  },
  {
   "cell_type": "markdown",
   "metadata": {},
   "source": [
    "### Drop rows still in process\n",
    "First we need to drop all rows that haven't been marked completed yet, since we do not know whether those will be on time. \n",
    "\n",
    "\n",
    "\n"
   ]
  },
  {
   "cell_type": "code",
   "execution_count": 9,
   "metadata": {
    "scrolled": true
   },
   "outputs": [
    {
     "name": "stdout",
     "output_type": "stream",
     "text": [
      "Filtering to remove jobs with no data for `date_completed` drops 348 rows. \n",
      "We dropped 1.0% of the data at this stage.\n"
     ]
    }
   ],
   "source": [
    "wr_main = wr_valid.dropna(subset=[\"date_completed\"])\n",
    "\n",
    "print(\n",
    "    f\"Filtering to remove jobs with no data for `date_completed` drops {len(wr_valid) - len(wr_main):,} rows.\",\n",
    "    f\"\\nWe dropped {100 * round((len(wr_valid) - len(wr_main))/len(wr_valid), 2):}% of the data at this stage.\",\n",
    ")"
   ]
  },
  {
   "cell_type": "markdown",
   "metadata": {
    "hideCode": false,
    "hidePrompt": false
   },
   "source": [
    "## KPI 1: % PMs Completed On Time \n",
    "The goal here is to filter the data to preventive maintenance jobs only, and then show how many are completed on or before the benchmark (21 days)."
   ]
  },
  {
   "cell_type": "markdown",
   "metadata": {
    "hideCode": false,
    "hidePrompt": false
   },
   "source": [
    "### Filter to  preventive maintenance work requests only\n",
    "For this metric, we want to select every single PM that Facilities Management does. We can do this by selecting 5 values for the original, non-consolidated problem type. "
   ]
  },
  {
   "cell_type": "code",
   "execution_count": 10,
   "metadata": {
    "hideCode": false,
    "hidePrompt": false,
    "scrolled": false
   },
   "outputs": [
    {
     "name": "stdout",
     "output_type": "stream",
     "text": [
      "The filtered PMs dataframe has 7,094 rows.\n"
     ]
    }
   ],
   "source": [
    "wr_pm = wr_main.copy()\n",
    "\n",
    "# this defines which problem types are considered PMs\n",
    "pm_list = [\n",
    "    \"BUILDING INTERIOR INSPECTION\",\n",
    "    \"BUILDING PM\",\n",
    "    \"HVAC|PM\",\n",
    "    \"INSPECTION\",\n",
    "    \"PREVENTIVE MAINT\",\n",
    "]\n",
    "\n",
    "# filter data to PM types only\n",
    "cond_pm = wr_pm[\"problem_type\"].isin(pm_list)\n",
    "\n",
    "# apply filter conditions\n",
    "wr_pm = wr_pm[cond_pm]\n",
    "\n",
    "# the benchmark for all PMs is 21 days\n",
    "wr_pm[\"benchmark\"] = 21\n",
    "\n",
    "print(f\"The filtered PMs dataframe has {wr_pm.shape[0]:,} rows.\")"
   ]
  },
  {
   "cell_type": "markdown",
   "metadata": {
    "hideCode": false,
    "hidePrompt": false
   },
   "source": [
    "#### Compute whether each work request was completed on time\n",
    "\n",
    "Then the function `compute_is_on_time` compares the column `days_to_completion` to the benchmark and writes down whether the work request was completed on time. "
   ]
  },
  {
   "cell_type": "code",
   "execution_count": 11,
   "metadata": {
    "scrolled": false
   },
   "source": [
    "### Filter to valid PM only, and for relevant fiscal years only\n",
    "After noticing that many PMs have the status \"Can\" — meaning they were canceled — we fil"
   ]
  },
  {
   "cell_type": "code",
   "execution_count": 14,
   "metadata": {},
   "outputs": [],
   "source": [
    "# add \"is_on_time\" column with performance data\n",
    "pms_on_time = wr_pm.apply(compute_is_on_time, axis=1)"
   ]
  },
  {
   "cell_type": "code",
   "execution_count": 37,
   "metadata": {},
   "outputs": [
    {
     "data": {
      "text/plain": [
       "primary_type        PM_type         \n",
       "PREVENTIVE_HVAC     HVAC INSPECTION      839\n",
       "                    HEATING LEVELS       414\n",
       "                    HEAT CHECK TEST      180\n",
       "                    HVAC FILTER CHAN      21\n",
       "PREVENTIVE_GENERAL  BLDG INSPECTION     1403\n",
       "                    GENERATOR TEST      1010\n",
       "                    ELEVATOR TEST        973\n",
       "                    BASEMENT INSPECT     689\n",
       "                    FUEL TANK TEST       517\n",
       "                    UTILITY ROOMS        113\n",
       "                    FLOOR BUFFING         62\n",
       "                    KITCHEN PM            15\n",
       "                    EXTERMINATION         10\n",
       "Name: wr_id, dtype: int64"
      ]
     },
     "execution_count": 37,
     "metadata": {},
     "output_type": "execute_result"
    }
   ],
   "source": [
    "#### Inspect the relevant rows\n",
    "A look at the data shows that PMs that took longer than 21 days to complete now contain a value of False in the colum `is_on_time`. PMs that were completed in 21 days or fewer contain a True. "
   ]
  },
  {
   "cell_type": "code",
   "execution_count": 12,
   "metadata": {
    "hideCode": false,
    "hidePrompt": false,
    "scrolled": false
   },
   "outputs": [
    {
     "data": {
      "text/html": [
       "<div>\n",
       "<style scoped>\n",
       "    .dataframe tbody tr th:only-of-type {\n",
       "        vertical-align: middle;\n",
       "    }\n",
       "\n",
       "    .dataframe tbody tr th {\n",
       "        vertical-align: top;\n",
       "    }\n",
       "\n",
       "    .dataframe thead th {\n",
       "        text-align: right;\n",
       "    }\n",
       "</style>\n",
       "<table border=\"1\" class=\"dataframe\">\n",
       "  <thead>\n",
       "    <tr style=\"text-align: right;\">\n",
       "      <th></th>\n",
       "      <th>problem_type</th>\n",
       "      <th>PM_type</th>\n",
       "      <th>date_requested</th>\n",
       "      <th>date_completed</th>\n",
       "      <th>days_to_completion</th>\n",
       "      <th>benchmark</th>\n",
       "      <th>is_on_time</th>\n",
       "    </tr>\n",
       "  </thead>\n",
       "  <tbody>\n",
       "    <tr>\n",
       "      <th>54995</th>\n",
       "      <td>PREVENTIVE MAINT</td>\n",
       "      <td>HVAC INSPECTION</td>\n",
       "      <td>2016-09-01</td>\n",
       "      <td>2016-11-02</td>\n",
       "      <td>62.0</td>\n",
       "      <td>21</td>\n",
       "      <td>False</td>\n",
       "    </tr>\n",
       "    <tr>\n",
       "      <th>89777</th>\n",
       "      <td>PREVENTIVE MAINT</td>\n",
       "      <td>BLDG INSPECTION</td>\n",
       "      <td>2019-01-08</td>\n",
       "      <td>2019-01-28</td>\n",
       "      <td>20.0</td>\n",
       "      <td>21</td>\n",
       "      <td>True</td>\n",
       "    </tr>\n",
       "    <tr>\n",
       "      <th>80594</th>\n",
       "      <td>BUILDING INTERIOR INSPECTION</td>\n",
       "      <td>None</td>\n",
       "      <td>2018-04-26</td>\n",
       "      <td>2018-04-26</td>\n",
       "      <td>0.0</td>\n",
       "      <td>21</td>\n",
       "      <td>True</td>\n",
       "    </tr>\n",
       "  </tbody>\n",
       "</table>\n",
       "</div>"
      ],
      "text/plain": [
       "                       problem_type          PM_type date_requested  \\\n",
       "54995              PREVENTIVE MAINT  HVAC INSPECTION     2016-09-01   \n",
       "89777              PREVENTIVE MAINT  BLDG INSPECTION     2019-01-08   \n",
       "80594  BUILDING INTERIOR INSPECTION             None     2018-04-26   \n",
       "\n",
       "      date_completed  days_to_completion  benchmark  is_on_time  \n",
       "54995     2016-11-02                62.0         21       False  \n",
       "89777     2019-01-28                20.0         21        True  \n",
       "80594     2018-04-26                 0.0         21        True  "
      ]
     },
     "execution_count": 12,
     "metadata": {},
     "output_type": "execute_result"
    }
   ],
   "source": [
    "pms_on_time[[\"problem_type\", \"PM_type\", \"date_requested\", \"date_completed\", \"days_to_completion\", \"benchmark\", \"is_on_time\"]].sample(\n",
    "    3, random_state=446\n",
    ")"
   ]
  },
  {
   "cell_type": "markdown",
   "metadata": {
    "hideCode": false,
    "hidePrompt": false
   },
   "source": [
    "#### Group by fiscal year and get % on time\n",
    "Now that we've stored all this information, we can group by the fiscal year to get each year's KPI, together with a count of how many PMs were closed in that fiscal year."
   ]
  },
  {
   "cell_type": "code",
   "execution_count": 13,
   "metadata": {
    "hideCode": false,
    "hidePrompt": false,
    "scrolled": false
   },
   "outputs": [
    {
     "data": {
      "text/html": [
       "<div>\n",
       "<style scoped>\n",
       "    .dataframe tbody tr th:only-of-type {\n",
       "        vertical-align: middle;\n",
       "    }\n",
       "\n",
       "    .dataframe tbody tr th {\n",
       "        vertical-align: top;\n",
       "    }\n",
       "\n",
       "    .dataframe thead th {\n",
       "        text-align: right;\n",
       "    }\n",
       "</style>\n",
       "<table border=\"1\" class=\"dataframe\">\n",
       "  <thead>\n",
       "    <tr style=\"text-align: right;\">\n",
       "      <th></th>\n",
       "      <th>percent_PMs_on_time</th>\n",
       "      <th>total_PMs</th>\n",
       "    </tr>\n",
       "    <tr>\n",
       "      <th>fiscal_year</th>\n",
       "      <th></th>\n",
       "      <th></th>\n",
       "    </tr>\n",
       "  </thead>\n",
       "  <tbody>\n",
       "    <tr>\n",
       "      <th>2017</th>\n",
       "      <td>54.77</td>\n",
       "      <td>1289</td>\n",
       "    </tr>\n",
       "    <tr>\n",
       "      <th>2018</th>\n",
       "      <td>80.50</td>\n",
       "      <td>1195</td>\n",
       "    </tr>\n",
       "    <tr>\n",
       "      <th>2019</th>\n",
       "      <td>92.41</td>\n",
       "      <td>764</td>\n",
       "    </tr>\n",
       "    <tr>\n",
       "      <th>2020</th>\n",
       "      <td>50.31</td>\n",
       "      <td>1928</td>\n",
       "    </tr>\n",
       "    <tr>\n",
       "      <th>2021</th>\n",
       "      <td>30.40</td>\n",
       "      <td>1918</td>\n",
       "    </tr>\n",
       "  </tbody>\n",
       "</table>\n",
       "</div>"
      ],
      "text/plain": [
       "             percent_PMs_on_time  total_PMs\n",
       "fiscal_year                                \n",
       "2017                       54.77       1289\n",
       "2018                       80.50       1195\n",
       "2019                       92.41        764\n",
       "2020                       50.31       1928\n",
       "2021                       30.40       1918"
      ]
     },
     "execution_count": 13,
     "metadata": {},
     "output_type": "execute_result"
    }
   ],
   "source": [
    "pm_compliance = compute_kpi_table(\n",
    "    pms_on_time, \"percent_PMs_on_time\", \"total_PMs\", grouping_var=\"fiscal_year\"\n",
    ")\n",
    "pm_compliance"
   ]
  },
  {
   "cell_type": "markdown",
   "metadata": {},
   "source": [
    "### Visualization: % Preventive Work Requests on Time by Fiscal Year Closed\n",
    "Fiscal years 2020 and 2021 were characterized by the closing out of many backlog work requests, which lowered the percentage of work requests that are on time. "
   ]
  },
  {
   "cell_type": "code",
   "execution_count": 14,
   "metadata": {
    "scrolled": false
   },
   "outputs": [
    {
     "data": {
      "image/png": "[encoded data removed]",
      "text/plain": [
       "<Figure size 1008x432 with 2 Axes>"
      ]
     },
     "metadata": {},
     "output_type": "display_data"
    }
   ],
   "source": [
    "pointplot_with_barplot(\n",
    "    pm_compliance,\n",
    "    x=\"fiscal_year\",\n",
    "    point_y=\"percent_PMs_on_time\",\n",
    "    bar_y=\"total_PMs\",\n",
    "    ymax_bar=2_500,\n",
    "    xlabel=\"Fiscal Year Closed\",\n",
    "    ylabel_point=\"Percent CMs On Time (Red line)\",\n",
    "    ylabel_bar=\"Total CMs (Grey bars)\",\n",
    "    title=\"Percent of PMs On Time By Fiscal Year\",\n",
    ")"
   ]
  },
  {
   "cell_type": "markdown",
   "metadata": {
    "hideCode": false,
    "hidePrompt": false
   },
   "source": [
    "## KPI 2: Percent of Corrective Work Requests Completed On-Time\n",
    "Here are the key facts needed to understand the agency's new method for computing this KPI:\n",
    "\n",
    "- Only corrective problem types are considered, so all preventive work requests are dropped.\n",
    "- The work orders are first assigned a \"primary\" problem type, which reduces the number of problem types from about 110 to 30\n",
    "- Each of these primary problem types has an on-time benchmark \n",
    "- The work order is determined to be on-time based on comparing its time to completion to its benchmark"
   ]
  },
  {
   "cell_type": "markdown",
   "metadata": {},
   "source": [
    "### Filter to get CMs only"
   ]
  },
  {
   "cell_type": "code",
   "execution_count": 15,
   "metadata": {
    "scrolled": false
   },
   "outputs": [
    {
     "name": "stdout",
     "output_type": "stream",
     "text": [
      "Selecting only corrective maintenance jobs leaves us with 49,765 rows.\n"
     ]
    }
   ],
   "source": [
    "wr_cm = wr_main.copy()\n",
    "\n",
    "pm_list = [\n",
    "    \"BUILDING INTERIOR INSPECTION\",\n",
    "    \"BUILDING PM\",\n",
    "    \"HVAC|PM\",\n",
    "    \"INSPECTION\",\n",
    "    \"PREVENTIVE MAINT\",\n",
    "]\n",
    "\n",
    "cond_cm = ~wr_cm[\"problem_type\"].isin(pm_list)\n",
    "wr_cm = wr_cm[cond_cm]\n",
    "\n",
    "print(\n",
    "    f\"Selecting only corrective maintenance jobs leaves us with {len(wr_cm):,} rows.\"\n",
    ")"
   ]
  },
  {
   "cell_type": "code",
   "execution_count": 16,
   "metadata": {
    "hideCode": false,
    "hidePrompt": false,
    "scrolled": false
   },
   "outputs": [
    {
     "data": {
      "text/html": [
       "<div>\n",
       "<style scoped>\n",
       "    .dataframe tbody tr th:only-of-type {\n",
       "        vertical-align: middle;\n",
       "    }\n",
       "\n",
       "    .dataframe tbody tr th {\n",
       "        vertical-align: top;\n",
       "    }\n",
       "\n",
       "    .dataframe thead th {\n",
       "        text-align: right;\n",
       "    }\n",
       "</style>\n",
       "<table border=\"1\" class=\"dataframe\">\n",
       "  <thead>\n",
       "    <tr style=\"text-align: right;\">\n",
       "      <th></th>\n",
       "      <th>problem_type</th>\n",
       "      <th>primary_type</th>\n",
       "      <th>benchmark</th>\n",
       "      <th>days_to_completion</th>\n",
       "    </tr>\n",
       "  </thead>\n",
       "  <tbody>\n",
       "    <tr>\n",
       "      <th>58007</th>\n",
       "      <td>SERV/CUSTODIAL</td>\n",
       "      <td>SERVICE</td>\n",
       "      <td>14.0</td>\n",
       "      <td>0.0</td>\n",
       "    </tr>\n",
       "    <tr>\n",
       "      <th>90508</th>\n",
       "      <td>HVAC|REPAIR</td>\n",
       "      <td>HVAC</td>\n",
       "      <td>30.0</td>\n",
       "      <td>8.0</td>\n",
       "    </tr>\n",
       "    <tr>\n",
       "      <th>98141</th>\n",
       "      <td>HVAC</td>\n",
       "      <td>HVAC</td>\n",
       "      <td>30.0</td>\n",
       "      <td>29.0</td>\n",
       "    </tr>\n",
       "    <tr>\n",
       "      <th>94034</th>\n",
       "      <td>HVAC</td>\n",
       "      <td>HVAC</td>\n",
       "      <td>30.0</td>\n",
       "      <td>16.0</td>\n",
       "    </tr>\n",
       "    <tr>\n",
       "      <th>93184</th>\n",
       "      <td>BATHROOM_FIXT</td>\n",
       "      <td>BATHROOM</td>\n",
       "      <td>14.0</td>\n",
       "      <td>72.0</td>\n",
       "    </tr>\n",
       "    <tr>\n",
       "      <th>90776</th>\n",
       "      <td>PAINT</td>\n",
       "      <td>PAINTING</td>\n",
       "      <td>21.0</td>\n",
       "      <td>3.0</td>\n",
       "    </tr>\n",
       "  </tbody>\n",
       "</table>\n",
       "</div>"
      ],
      "text/plain": [
       "         problem_type primary_type  benchmark  days_to_completion\n",
       "58007  SERV/CUSTODIAL      SERVICE       14.0                 0.0\n",
       "90508     HVAC|REPAIR         HVAC       30.0                 8.0\n",
       "98141            HVAC         HVAC       30.0                29.0\n",
       "94034            HVAC         HVAC       30.0                16.0\n",
       "93184   BATHROOM_FIXT     BATHROOM       14.0                72.0\n",
       "90776           PAINT     PAINTING       21.0                 3.0"
      ]
     },
     "execution_count": 16,
     "metadata": {},
     "output_type": "execute_result"
    }
   ],
   "source": [
    "wr_cm.sample(6, random_state=444)[\n",
    "    [\"problem_type\", \"primary_type\", \"benchmark\", \"days_to_completion\"]\n",
    "]"
   ]
  },
  {
   "cell_type": "markdown",
   "metadata": {},
   "source": [
    "### Compute whether requests are on time"
   ]
  },
  {
   "cell_type": "code",
   "execution_count": 17,
   "metadata": {
    "hideCode": false,
    "hidePrompt": false,
    "scrolled": false
   },
   "outputs": [],
   "source": [
    "# assign a benchmark of 30 days for small number of WRs without benchmarks\n",
    "wr_cm[\"benchmark\"] = wr_cm[\"benchmark\"].fillna(30)\n",
    "# compute whether jobs are on time\n",
    "cms_on_time = wr_cm.apply(compute_is_on_time, axis=1)"
   ]
  },
  {
   "cell_type": "markdown",
   "metadata": {},
   "source": [
    "### Group by fiscal year to get % on time per fiscal year"
   ]
  },
  {
   "cell_type": "code",
   "execution_count": 18,
   "metadata": {
    "hideCode": false,
    "hidePrompt": false,
    "scrolled": false
   },
   "outputs": [
    {
     "data": {
      "text/html": [
       "<div>\n",
       "<style scoped>\n",
       "    .dataframe tbody tr th:only-of-type {\n",
       "        vertical-align: middle;\n",
       "    }\n",
       "\n",
       "    .dataframe tbody tr th {\n",
       "        vertical-align: top;\n",
       "    }\n",
       "\n",
       "    .dataframe thead th {\n",
       "        text-align: right;\n",
       "    }\n",
       "</style>\n",
       "<table border=\"1\" class=\"dataframe\">\n",
       "  <thead>\n",
       "    <tr style=\"text-align: right;\">\n",
       "      <th></th>\n",
       "      <th>percent_CMs_on_time</th>\n",
       "      <th>total_CMs</th>\n",
       "    </tr>\n",
       "    <tr>\n",
       "      <th>fiscal_year</th>\n",
       "      <th></th>\n",
       "      <th></th>\n",
       "    </tr>\n",
       "  </thead>\n",
       "  <tbody>\n",
       "    <tr>\n",
       "      <th>2017</th>\n",
       "      <td>72.55</td>\n",
       "      <td>13962</td>\n",
       "    </tr>\n",
       "    <tr>\n",
       "      <th>2018</th>\n",
       "      <td>71.85</td>\n",
       "      <td>10020</td>\n",
       "    </tr>\n",
       "    <tr>\n",
       "      <th>2019</th>\n",
       "      <td>67.43</td>\n",
       "      <td>5661</td>\n",
       "    </tr>\n",
       "    <tr>\n",
       "      <th>2020</th>\n",
       "      <td>54.66</td>\n",
       "      <td>9040</td>\n",
       "    </tr>\n",
       "    <tr>\n",
       "      <th>2021</th>\n",
       "      <td>40.40</td>\n",
       "      <td>11082</td>\n",
       "    </tr>\n",
       "  </tbody>\n",
       "</table>\n",
       "</div>"
      ],
      "text/plain": [
       "             percent_CMs_on_time  total_CMs\n",
       "fiscal_year                                \n",
       "2017                       72.55      13962\n",
       "2018                       71.85      10020\n",
       "2019                       67.43       5661\n",
       "2020                       54.66       9040\n",
       "2021                       40.40      11082"
      ]
     },
     "execution_count": 18,
     "metadata": {},
     "output_type": "execute_result"
    }
   ],
   "source": [
    "cm_compliance = compute_kpi_table(\n",
    "    cms_on_time, \"percent_CMs_on_time\", \"total_CMs\", grouping_var=\"fiscal_year\"\n",
    ")\n",
    "cm_compliance"
   ]
  },
  {
   "cell_type": "markdown",
   "metadata": {},
   "source": [
    "### Visualization: % Corrective Work Requests on Time by Fiscal Year Closed\n",
    "Efforts to close out the backlog bring the FY21 number down a bit. Facilities Maintenance expects FY22 figures to improve as "
   ]
  },
  {
   "cell_type": "code",
   "execution_count": 19,
   "metadata": {
    "hideCode": false,
    "hidePrompt": false,
    "scrolled": false
   },
   "outputs": [
    {
     "data": {
      "image/png": "[encoded data removed]",
      "text/plain": [
       "<Figure size 1008x432 with 2 Axes>"
      ]
     },
     "metadata": {},
     "output_type": "display_data"
    }
   ],
   "source": [
    "pointplot_with_barplot(\n",
    "    cm_compliance,\n",
    "    x=\"fiscal_year\",\n",
    "    point_y=\"percent_CMs_on_time\",\n",
    "    bar_y=\"total_CMs\",\n",
    "    ymax_bar=15_000,\n",
    "    xlabel=\"Fiscal Year Closed\",\n",
    "    ylabel_point=\"Percent CMs On Time (Red line)\",\n",
    "    ylabel_bar=\"Total CMs (Grey bars)\",\n",
    "    title=\"Percent of CMs On Time By Fiscal Year\",\n",
    ")"
   ]
  },
  {
   "cell_type": "markdown",
   "metadata": {
    "hideCode": false,
    "hidePrompt": false
   },
   "source": [
    "## KPI 3: PM:CM Ratio"
   ]
  },
  {
   "cell_type": "markdown",
   "metadata": {
    "hideCode": false,
    "hidePrompt": false
   },
   "source": [
    "This KPI remains under contstruction as DGS works to choose categories of related categories of preventive and corrective maintenance that extend beyond just HVAC. Therefore, we've commented out the code for this KPI. "
   ]
  },
  {
   "cell_type": "code",
   "execution_count": 20,
   "metadata": {
    "hideCode": false,
    "hidePrompt": false,
    "scrolled": false
   },
   "outputs": [],
   "source": [
    "# CM_list = [\n",
    "#     \"BOILER\",\n",
    "#     \"CHILLERS\",\n",
    "#     \"COOLING TOWERS\",\n",
    "#     \"HVAC\",\n",
    "#     \"HVAC INFRASTRUCTURE\",\n",
    "#     \"HVAC|REPAIR\",\n",
    "# ]\n",
    "\n",
    "# PM_list = [\n",
    "#     \"HVAC|PM\",\n",
    "#     \"PREVENTIVE MAINT\",\n",
    "# ]"
   ]
  },
  {
   "cell_type": "markdown",
   "metadata": {
    "hideCode": false,
    "hidePrompt": false
   },
   "source": [
    "### Filter to HVAC rows only"
   ]
  },
  {
   "cell_type": "code",
   "execution_count": 21,
   "metadata": {
    "hideCode": false,
    "hidePrompt": false,
    "scrolled": false
   },
   "outputs": [
    {
     "name": "stdout",
     "output_type": "stream",
     "text": [
      "Filtering to HVAC request only takes us from 70,948 rows to 12,980 rows.\n"
     ]
    }
   ],
   "source": [
    "# cond_cm = wr_main[\"problem_type\"].isin(CM_list)\n",
    "# cond_pm = wr_main[\"problem_type\"].isin(PM_list)\n",
    "\n",
    "# wr_HVAC = wr_main[cond_cm | cond_pm]\n",
    "# wr_HVAC[\"is_pm\"] = wr_HVAC[\"problem_type\"].isin(PM_list)\n",
    "\n",
    "# print(\n",
    "#     f\"Filtering to HVAC request only takes us from {len(wr_fy):,} rows to {len(wr_HVAC):,} rows.\"\n",
    "# )"
   ]
  },
  {
   "cell_type": "code",
   "execution_count": 28,
   "metadata": {},
   "outputs": [
    {
     "data": {
      "text/plain": [
       "HVAC INSPECTION     839\n",
       "HEATING LEVELS      414\n",
       "HEAT CHECK TEST     180\n",
       "HVAC FILTER CHAN     21\n",
       "Name: PM_type, dtype: int64"
      ]
     },
     "execution_count": 28,
     "metadata": {},
     "output_type": "execute_result"
    }
   ],
   "source": [
    "wr_HVAC['PM_type'].value_counts()"
   ]
  },
  {
   "cell_type": "markdown",
   "metadata": {
    "hideCode": false,
    "hidePrompt": false
   },
   "source": [
    "### Compute all PM/CM stats by fiscal year\n",
    "First we deploy a custom function that counts the PMs and CMs in each fiscal year and then calculates the PM:CM ratio."
   ]
  },
  {
   "cell_type": "code",
   "execution_count": 22,
   "metadata": {
    "hideCode": false,
    "hidePrompt": false,
    "scrolled": false
   },
   "outputs": [],
   "source": [
    "# pm_cm_results = compute_pm_cm(wr_HVAC, PM_list)"
   ]
  },
  {
   "cell_type": "code",
   "execution_count": 23,
   "metadata": {
    "hideCode": false,
    "hidePrompt": false,
    "scrolled": true
   },
   "outputs": [
    {
     "data": {
      "text/html": [
       "<div>\n",
       "<style scoped>\n",
       "    .dataframe tbody tr th:only-of-type {\n",
       "        vertical-align: middle;\n",
       "    }\n",
       "\n",
       "    .dataframe tbody tr th {\n",
       "        vertical-align: top;\n",
       "    }\n",
       "\n",
       "    .dataframe thead th {\n",
       "        text-align: right;\n",
       "    }\n",
       "</style>\n",
       "<table border=\"1\" class=\"dataframe\">\n",
       "  <thead>\n",
       "    <tr style=\"text-align: right;\">\n",
       "      <th></th>\n",
       "      <th>fiscal_year</th>\n",
       "      <th>pm_cm_ratio</th>\n",
       "      <th>count_cm</th>\n",
       "      <th>count_pm</th>\n",
       "      <th>count_hvac</th>\n",
       "    </tr>\n",
       "  </thead>\n",
       "  <tbody>\n",
       "    <tr>\n",
       "      <th>0</th>\n",
       "      <td>2016</td>\n",
       "      <td>1.301406</td>\n",
       "      <td>1921</td>\n",
       "      <td>25</td>\n",
       "      <td>1946</td>\n",
       "    </tr>\n",
       "    <tr>\n",
       "      <th>1</th>\n",
       "      <td>2017</td>\n",
       "      <td>11.901441</td>\n",
       "      <td>2151</td>\n",
       "      <td>256</td>\n",
       "      <td>2407</td>\n",
       "    </tr>\n",
       "    <tr>\n",
       "      <th>2</th>\n",
       "      <td>2018</td>\n",
       "      <td>17.055215</td>\n",
       "      <td>2445</td>\n",
       "      <td>417</td>\n",
       "      <td>2862</td>\n",
       "    </tr>\n",
       "    <tr>\n",
       "      <th>3</th>\n",
       "      <td>2019</td>\n",
       "      <td>18.277512</td>\n",
       "      <td>2090</td>\n",
       "      <td>382</td>\n",
       "      <td>2472</td>\n",
       "    </tr>\n",
       "    <tr>\n",
       "      <th>4</th>\n",
       "      <td>2020</td>\n",
       "      <td>25.510768</td>\n",
       "      <td>1811</td>\n",
       "      <td>462</td>\n",
       "      <td>2273</td>\n",
       "    </tr>\n",
       "    <tr>\n",
       "      <th>5</th>\n",
       "      <td>2021</td>\n",
       "      <td>9.913793</td>\n",
       "      <td>928</td>\n",
       "      <td>92</td>\n",
       "      <td>1020</td>\n",
       "    </tr>\n",
       "  </tbody>\n",
       "</table>\n",
       "</div>"
      ],
      "text/plain": [
       "   fiscal_year  pm_cm_ratio  count_cm  count_pm  count_hvac\n",
       "0         2016     1.301406      1921        25        1946\n",
       "1         2017    11.901441      2151       256        2407\n",
       "2         2018    17.055215      2445       417        2862\n",
       "3         2019    18.277512      2090       382        2472\n",
       "4         2020    25.510768      1811       462        2273\n",
       "5         2021     9.913793       928        92        1020"
      ]
     },
     "execution_count": 31,
     "metadata": {},
     "output_type": "execute_result"
    }
   ],
   "source": [
    "# pm_cm_results"
   ]
  },
  {
   "cell_type": "markdown",
   "metadata": {},
   "source": [
    "### Plot PM:CM ratio by fiscal year"
   ]
  },
  {
   "cell_type": "code",
   "execution_count": 24,
   "metadata": {
    "scrolled": false
   },
   "outputs": [],
   "source": [
    "# pointplot_with_barplot(\n",
    "#     pm_cm_results,\n",
    "#     x=\"fiscal_year\",\n",
    "#     point_y=\"pm_cm_ratio\",\n",
    "#     bar_y=\"count_hvac\",\n",
    "#     ymax_bar=5_000,\n",
    "#     ylabel_point=\"PM:CM Ratio\",\n",
    "#     ylabel_bar=\"Total HVAC Work Requests\",\n",
    "#     title=\"Preventive to Corrective Ratio By Fiscal Year\",\n",
    "#     yticklabels=[\"0\", \"0\", \"0.25:1\", \"0.5:1\", \"0.75:1\", \"1:1\"],\n",
    "# )"
   ]
  },
  {
   "cell_type": "markdown",
   "metadata": {},
   "source": [
    "### Plot the number of PMs and CMs by fiscal year\n",
    "We can get a little more insight into what's going on with the ratio by checking out the raw counts of preventive and corrective maintenance work requests by fiscal year. "
   ]
  },
  {
   "cell_type": "code",
   "execution_count": 25,
   "metadata": {
    "scrolled": false
   },
   "outputs": [],
   "source": [
    "# count_plot_data = pd.melt(\n",
    "#     pm_cm_results, id_vars=[\"fiscal_year\"], value_vars=[\"count_cm\", \"count_pm\"]\n",
    "# )\n",
    "\n",
    "# ax = sns.lineplot(data=count_plot_data, y=\"value\", x=\"fiscal_year\", hue=\"variable\")\n",
    "# new_labels = [\"Corrective\", \"Preventive\"]\n",
    "# plt.legend(title=\"Number of Work Orders\", loc=\"upper left\", labels=new_labels)\n",
    "\n",
    "# ax.set(\n",
    "#     title=\"Volume of HVAC PMs And CMs By Fiscal Year\",\n",
    "#     xlabel=\"Fiscal Year\",\n",
    "#     ylim=(0, 3000),\n",
    "# )\n",
    "# sns.despine()"
   ]
  }
 ],
 "metadata": {
  "hide_code_all_hidden": false,
  "kernelspec": {
   "display_name": "Python 3",
   "language": "python",
   "name": "python3"
  },
  "language_info": {
   "codemirror_mode": {
    "name": "ipython",
    "version": 3
   },
   "file_extension": ".py",
   "mimetype": "text/x-python",
   "name": "python",
   "nbconvert_exporter": "python",
   "pygments_lexer": "ipython3",
   "version": "3.8.5"
  },
  "toc": {
   "base_numbering": 1,
   "nav_menu": {},
   "number_sections": true,
   "sideBar": true,
   "skip_h1_title": true,
   "title_cell": "Table of Contents",
   "title_sidebar": "Contents",
   "toc_cell": false,
   "toc_position": {
    "height": "calc(100% - 180px)",
    "left": "10px",
    "top": "150px",
    "width": "315.99px"
   },
   "toc_section_display": true,
   "toc_window_display": true
  }
 },
 "nbformat": 4,
 "nbformat_minor": 4
}
