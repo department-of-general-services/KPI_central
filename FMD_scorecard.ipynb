{
 "cells": [
  {
   "cell_type": "markdown",
   "metadata": {},
   "source": [
    "# FMD Scorecard KPIs"
   ]
  },
  {
   "cell_type": "markdown",
   "metadata": {},
   "source": [
    "## Setup"
   ]
  },
  {
   "cell_type": "markdown",
   "metadata": {},
   "source": [
    "### Import packages"
   ]
  },
  {
   "cell_type": "code",
   "execution_count": 1,
   "metadata": {},
   "outputs": [],
   "source": [
    "# workhorse modules\n",
    "import pandas as pd\n",
    "import numpy as np\n",
    "from datetime import timedelta, datetime\n",
    "import re\n",
    "from pathlib import Path\n",
    "import datadotworld as dw\n",
    "\n",
    "# local utility functions\n",
    "from utils import *"
   ]
  },
  {
   "cell_type": "markdown",
   "metadata": {},
   "source": [
    "### Set pandas options\n",
    "This makes Pandas print all rows and columns to the output when requested."
   ]
  },
  {
   "cell_type": "code",
   "execution_count": 2,
   "metadata": {},
   "outputs": [],
   "source": [
    "set_pd_params()\n",
    "\n",
    "pd.options.mode.chained_assignment = None  # default='warn'"
   ]
  },
  {
   "cell_type": "markdown",
   "metadata": {},
   "source": [
    "### Import the data\n",
    "Data is a copy of Archibus's `wrhwr` table, with some irrelevant columns left out. "
   ]
  },
  {
   "cell_type": "code",
   "execution_count": null,
   "metadata": {},
   "outputs": [],
   "source": [
    "wr_raw = dw.query(\n",
    "    dataset_key=\"dgsbpio/auditfinding3\", query=\"select * from wrhwr_10072020\"\n",
    ").dataframe\n",
    "\n",
    "print(f\"The work orders dataframe has {wr_raw.shape[0]:,} rows.\")"
   ]
  },
  {
   "cell_type": "markdown",
   "metadata": {},
   "source": [
    "## Data cleaning"
   ]
  },
  {
   "cell_type": "markdown",
   "metadata": {},
   "source": [
    "### Basic cleaning\n",
    "Removes white spaces in strings to facilitate matching, and renames a few columns."
   ]
  },
  {
   "cell_type": "code",
   "execution_count": null,
   "metadata": {},
   "outputs": [],
   "source": [
    "# apply the tidy up function\n",
    "wr_tidy = tidy_up_wr(wr_raw)\n",
    "\n",
    "print(f\"The tidied work orders dataframe has {wr_tidy.shape[0]:,} rows.\")"
   ]
  },
  {
   "cell_type": "markdown",
   "metadata": {},
   "source": [
    "### Remove duplicate work orders\n",
    "Removes rows where technician says WR is a duplicate in the description, and the status is \"Canceled\", \"Closed\", or \"Rejected\". "
   ]
  },
  {
   "cell_type": "code",
   "execution_count": null,
   "metadata": {},
   "outputs": [],
   "source": [
    "wr_deduped = drop_dupes(wr_tidy)\n",
    "\n",
    "print(f\"The deduped work orders dataframe has {wr_deduped.shape[0]:,} rows.\")\n",
    "print(\n",
    "    f\"Removing duplicates has cut {wr_tidy.shape[0] - wr_deduped.shape[0]:,} rows from the work orders dataframe.\"\n",
    ")"
   ]
  },
  {
   "cell_type": "markdown",
   "metadata": {},
   "source": [
    "### Combine date and time columns to get timestamps\n",
    "This takes the date from a date column and the time from a time column and combines them into a single timestamp.\n",
    "\n",
    "This transformation allows us to know the time to completion with greater precision. "
   ]
  },
  {
   "cell_type": "code",
   "execution_count": null,
   "metadata": {},
   "outputs": [],
   "source": [
    "# glue the date and time for request\n",
    "wr_dt = glue_date_time(wr_deduped, \"date_requested\", \"time_requested\", \"requested_dt\")\n",
    "\n",
    "# glue the date and time for completion\n",
    "wr_dt = glue_date_time(wr_dt, \"date_completed\", \"time_completed\", \"completed_dt\")\n",
    "\n",
    "# convert \"date closed\" to date time (this column has no time information)\n",
    "wr_dt[\"date_closed\"] = wr_dt[\"date_closed\"].astype(\"datetime64\")\n",
    "\n",
    "wr_dt[[\"wr_id\", \"requested_dt\", \"completed_dt\", \"date_closed\"]].sample(3)"
   ]
  },
  {
   "cell_type": "markdown",
   "metadata": {},
   "source": [
    "## Data preparation"
   ]
  },
  {
   "cell_type": "markdown",
   "metadata": {},
   "source": [
    "### Include the fiscal year"
   ]
  },
  {
   "cell_type": "code",
   "execution_count": null,
   "metadata": {},
   "outputs": [],
   "source": [
    "wr_fy = entirely_within_fiscal_year(wr_dt)\n",
    "\n",
    "print(wr_fy.shape)\n",
    "wr_fy[\n",
    "    [\n",
    "        \"wr_id\",\n",
    "        \"problem_type\",\n",
    "        \"requested_dt\",\n",
    "        \"date_closed\",\n",
    "        \"fiscal_year\",\n",
    "    ]\n",
    "].sample(6)"
   ]
  },
  {
   "cell_type": "markdown",
   "metadata": {},
   "source": [
    "### Filter to PM only"
   ]
  },
  {
   "cell_type": "code",
   "execution_count": null,
   "metadata": {},
   "outputs": [],
   "source": [
    "PM_list = [\n",
    "    \"HVAC|PM\",\n",
    "    \"BUILDING|PM\",\n",
    "    \"PREVENTIVE MAINT\",\n",
    "    \"FUEL INSPECTION\",\n",
    "    \"BUILDING INTERIOR INSPECTION\",\n",
    "    \"INSPECTION\",\n",
    "    \"FUEL INSPECTION\",\n",
    "]\n",
    "\n",
    "cond_fy = wr_fy[\"fiscal_year\"].isin(range(2016, 2021))\n",
    "cond_pm = wr_fy[\"problem_type\"].isin(PM_list)\n",
    "\n",
    "wr_filtered = wr_fy[cond_fy & cond_pm]\n",
    "\n",
    "print(f\"The work orders dataframe has {wr_filtered.shape[0]:,} rows.\")"
   ]
  },
  {
   "cell_type": "markdown",
   "metadata": {},
   "source": [
    "### Include days to completion"
   ]
  },
  {
   "cell_type": "code",
   "execution_count": null,
   "metadata": {},
   "outputs": [],
   "source": [
    "wr_durations = compute_days_to_completion(wr_filtered)"
   ]
  },
  {
   "cell_type": "code",
   "execution_count": null,
   "metadata": {},
   "outputs": [],
   "source": [
    "wr_durations[\n",
    "    [\"wr_id\", \"problem_type\", \"requested_dt\", \"completed_dt\", \"days_to_completion\"]\n",
    "].sample(6, random_state=444)"
   ]
  },
  {
   "cell_type": "markdown",
   "metadata": {},
   "source": [
    "## Compute the median-based benchmark"
   ]
  },
  {
   "cell_type": "code",
   "execution_count": null,
   "metadata": {},
   "outputs": [],
   "source": [
    "cond_test = wr_durations[\"fiscal_year\"].isin(range(2015, 2019))\n",
    "wr_durations[cond_test][\"fiscal_year\"].unique()"
   ]
  },
  {
   "cell_type": "code",
   "execution_count": null,
   "metadata": {},
   "outputs": [],
   "source": [
    "# on_time_benchmark = 9.51\n",
    "on_time_benchmark = wr_durations[cond_test]['days_to_completion'].median()\n",
    "print(on_time_benchmark)\n",
    "\n",
    "def compute_is_on_time(df, benchmark):\n",
    "    df = df.copy()\n",
    "    df['is_on_time'] = df['days_to_completion'] <= benchmark\n",
    "    return df\n",
    "    \n",
    "wr_on_time = compute_is_on_time(wr_durations, on_time_benchmark)"
   ]
  },
  {
   "cell_type": "code",
   "execution_count": null,
   "metadata": {},
   "outputs": [],
   "source": [
    "wr_on_time[\"is_on_time\"].mean()"
   ]
  },
  {
   "cell_type": "code",
   "execution_count": null,
   "metadata": {},
   "outputs": [],
   "source": [
    "wr_on_time.groupby(\"fiscal_year\").mean()"
   ]
  },
  {
   "cell_type": "code",
   "execution_count": null,
   "metadata": {},
   "outputs": [],
   "source": [
    "import seaborn as sns\n",
    "\n",
    "cond_year = wr_durations['fiscal_year'] == 2020\n",
    "plot_data = wr_durations[cond_year]\n",
    "sns.histplot(data=plot_data, x=\"days_to_completion\")"
   ]
  },
  {
   "cell_type": "code",
   "execution_count": null,
   "metadata": {},
   "outputs": [],
   "source": []
  }
 ],
 "metadata": {
  "kernelspec": {
   "display_name": "Python 3",
   "language": "python",
   "name": "python3"
  },
  "language_info": {
   "codemirror_mode": {
    "name": "ipython",
    "version": 3
   },
   "file_extension": ".py",
   "mimetype": "text/x-python",
   "name": "python",
   "nbconvert_exporter": "python",
   "pygments_lexer": "ipython3",
   "version": "3.6.10"
  },
  "toc": {
   "base_numbering": 1,
   "nav_menu": {},
   "number_sections": true,
   "sideBar": true,
   "skip_h1_title": true,
   "title_cell": "Table of Contents",
   "title_sidebar": "Contents",
   "toc_cell": false,
   "toc_position": {},
   "toc_section_display": true,
   "toc_window_display": true
  }
 },
 "nbformat": 4,
 "nbformat_minor": 4
}
