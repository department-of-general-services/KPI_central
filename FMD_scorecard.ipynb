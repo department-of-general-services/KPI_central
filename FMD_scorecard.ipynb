{
 "cells": [
  {
   "cell_type": "markdown",
   "metadata": {
    "hideCode": false,
    "hidePrompt": false
   },
   "source": [
    "# Facilities KPI Scorecard\n",
    "This notebook serves as a repository of public-facing KPIs for the Department of General Services' Facilities Division. The purpose of this notebook is to have, in a single public place, the entire pipeline for calculating the division's three KPIs that are based in Archibus. Those KPIs are:\n",
    "\n",
    "1. % of Corrective Maintenance Work Requests Completed On Time\n",
    "2. % of Preventive Maintenance Work Requests Completed On Time\n",
    "3. Preventive Maintenace to Corrective Maintenance Ratio\n",
    "\n",
    "Part of the intention of this notebook is to build _transparency_ and _reproducibility_ by capturing the entire end-to-end process used to calculate these metrics in one place."
   ]
  },
  {
   "cell_type": "markdown",
   "metadata": {
    "hideCode": false,
    "hideOutput": false,
    "hidePrompt": false
   },
   "source": [
    "## Setup"
   ]
  },
  {
   "cell_type": "markdown",
   "metadata": {
    "hideCode": false,
    "hideOutput": false,
    "hidePrompt": false
   },
   "source": [
    "### Import packages"
   ]
  },
  {
   "cell_type": "code",
   "execution_count": 1,
   "metadata": {
    "hideCode": false,
    "hideOutput": false,
    "hidePrompt": false,
    "tags": [
     "hide-input"
    ]
   },
   "outputs": [],
   "source": [
    "# workhorse modules\n",
    "import pandas as pd\n",
    "import numpy as np\n",
    "from datetime import timedelta, datetime\n",
    "import re\n",
    "from pathlib import Path\n",
    "import seaborn as sns\n",
    "import datadotworld as dw\n",
    "import matplotlib.pyplot as plt\n",
    "from faker import Faker\n",
    "\n",
    "from matplotlib.dates import DateFormatter\n",
    "import matplotlib.ticker as ticker\n",
    "\n",
    "# local utility functions\n",
    "from utils import (\n",
    "    add_cm_benchmarks,\n",
    "    add_fiscal_year,\n",
    "    set_pd_params,\n",
    "    tidy_up_df,\n",
    "    cast_dtypes,\n",
    "    glue_date_time,\n",
    "    compute_days_to_completion,\n",
    "    compute_days_open,\n",
    "    consolidate_prob_types,\n",
    "    compute_pm_cm,\n",
    "    compute_pm_cm_by_month,\n",
    "    compute_kpi_table,\n",
    "    compute_kpi_table_by_month,\n",
    ")\n",
    "\n",
    "from vis_utils import set_plot_params, pointplot_with_barplot"
   ]
  },
  {
   "cell_type": "markdown",
   "metadata": {
    "hideCode": false,
    "hideOutput": false,
    "hidePrompt": false
   },
   "source": [
    "### Set pandas options\n",
    "This makes Pandas print all rows and columns to the output when requested."
   ]
  },
  {
   "cell_type": "code",
   "execution_count": 2,
   "metadata": {
    "hideCode": false,
    "hidePrompt": false
   },
   "outputs": [],
   "source": [
    "set_pd_params()\n",
    "set_plot_params()\n",
    "pd.options.mode.chained_assignment = None  # default='warn'"
   ]
  },
  {
   "cell_type": "markdown",
   "metadata": {
    "hideCode": false,
    "hidePrompt": false
   },
   "source": [
    "### Import the work order data from Data.World\n",
    "This data is a copy of Archibus's `wrhwr` table stored at DGS's account on Data.World. To see the exact query used to generate the input data, see `/sql/input_for_FMD_KPIs.sql`."
   ]
  },
  {
   "cell_type": "code",
   "execution_count": 3,
   "metadata": {
    "hideCode": false,
    "hidePrompt": false
   },
   "outputs": [
    {
     "name": "stdout",
     "output_type": "stream",
     "text": [
      "<class 'pandas.core.frame.DataFrame'>\n",
      "RangeIndex: 107523 entries, 0 to 107522\n",
      "Data columns (total 19 columns):\n",
      " #   Column                  Non-Null Count   Dtype         \n",
      "---  ------                  --------------   -----         \n",
      " 0   wr_id                   107523 non-null  int64         \n",
      " 1   status                  107523 non-null  object        \n",
      " 2   description             98908 non-null   object        \n",
      " 3   supervisor              84843 non-null   object        \n",
      " 4   date_completed          97550 non-null   datetime64[ns]\n",
      " 5   date_requested          107523 non-null  object        \n",
      " 6   date_closed             97312 non-null   object        \n",
      " 7   fy_request              107523 non-null  int64         \n",
      " 8   role_name               100087 non-null  object        \n",
      " 9   building_name           107172 non-null  object        \n",
      " 10  b_number                107172 non-null  object        \n",
      " 11  primary_type            107523 non-null  object        \n",
      " 12  problem_type            107523 non-null  object        \n",
      " 13  PM_type                 8650 non-null    object        \n",
      " 14  calendar_month_request  107523 non-null  object        \n",
      " 15  calendar_month_close    97312 non-null   object        \n",
      " 16  days_to_completion      97550 non-null   float64       \n",
      " 17  days_open               107523 non-null  int64         \n",
      " 18  benchmark               104119 non-null  float64       \n",
      "dtypes: datetime64[ns](1), float64(2), int64(3), object(13)\n",
      "memory usage: 15.6+ MB\n"
     ]
    }
   ],
   "source": [
    "# kpis_raw = dw.query(\n",
    "#     dataset_key=\"dgsbpio/auditfinding3\", query=\"select * from dash_benchmarks_20210423\"\n",
    "# ).dataframe\n",
    "kpis_path = Path.cwd() / \"data\" / \"dash_benchmarks_20210426.csv\"\n",
    "kpis_raw = pd.read_csv(\n",
    "    kpis_path, parse_dates=[\"date_completed\", \"date_requested\", \"date_closed\"]\n",
    ")\n",
    "kpis_raw.info()"
   ]
  },
  {
   "cell_type": "code",
   "execution_count": 4,
   "metadata": {},
   "outputs": [
    {
     "name": "stdout",
     "output_type": "stream",
     "text": [
      "The work orders dataframe has 107,523 rows.\n"
     ]
    },
    {
     "data": {
      "text/html": [
       "<div>\n",
       "<style scoped>\n",
       "    .dataframe tbody tr th:only-of-type {\n",
       "        vertical-align: middle;\n",
       "    }\n",
       "\n",
       "    .dataframe tbody tr th {\n",
       "        vertical-align: top;\n",
       "    }\n",
       "\n",
       "    .dataframe thead th {\n",
       "        text-align: right;\n",
       "    }\n",
       "</style>\n",
       "<table border=\"1\" class=\"dataframe\">\n",
       "  <thead>\n",
       "    <tr style=\"text-align: right;\">\n",
       "      <th></th>\n",
       "      <th>wr_id</th>\n",
       "      <th>problem_type</th>\n",
       "      <th>date_requested</th>\n",
       "    </tr>\n",
       "  </thead>\n",
       "  <tbody>\n",
       "    <tr>\n",
       "      <th>36918</th>\n",
       "      <td>40102</td>\n",
       "      <td>OTHER</td>\n",
       "      <td>00:00.0</td>\n",
       "    </tr>\n",
       "    <tr>\n",
       "      <th>3794</th>\n",
       "      <td>112376</td>\n",
       "      <td>SERV/CUSTODIAL</td>\n",
       "      <td>00:00.0</td>\n",
       "    </tr>\n",
       "    <tr>\n",
       "      <th>8295</th>\n",
       "      <td>140316</td>\n",
       "      <td>ELEVATOR</td>\n",
       "      <td>00:00.0</td>\n",
       "    </tr>\n",
       "  </tbody>\n",
       "</table>\n",
       "</div>"
      ],
      "text/plain": [
       "        wr_id                      problem_type date_requested\n",
       "36918   40102  OTHER                                   00:00.0\n",
       "3794   112376  SERV/CUSTODIAL                          00:00.0\n",
       "8295   140316  ELEVATOR                                00:00.0"
      ]
     },
     "execution_count": 4,
     "metadata": {},
     "output_type": "execute_result"
    }
   ],
   "source": [
    "print(f\"The work orders dataframe has {kpis_raw.shape[0]:,} rows.\")\n",
    "\n",
    "kpis_raw.sample(3, random_state=444)[[\"wr_id\", \"problem_type\", \"date_requested\"]]"
   ]
  },
  {
   "cell_type": "markdown",
   "metadata": {
    "hideCode": false,
    "hidePrompt": false
   },
   "source": [
    "## Data cleaning\n",
    "For the purposes of this project, DGS is keeping the cleaning stage very simple. We're not attempting to remove duplicates or outliers, both of which involve relatively complex operations. "
   ]
  },
  {
   "cell_type": "markdown",
   "metadata": {
    "hideCode": false,
    "hidePrompt": false
   },
   "source": [
    "### Basic cleaning\n",
    "- removes white spaces in strings to facilitate matching, \n",
    "- drops rows with no problem type, or rows created by a test,\n",
    "- renames a few columns"
   ]
  },
  {
   "cell_type": "code",
   "execution_count": 5,
   "metadata": {},
   "outputs": [
    {
     "data": {
      "text/html": [
       "<div>\n",
       "<style scoped>\n",
       "    .dataframe tbody tr th:only-of-type {\n",
       "        vertical-align: middle;\n",
       "    }\n",
       "\n",
       "    .dataframe tbody tr th {\n",
       "        vertical-align: top;\n",
       "    }\n",
       "\n",
       "    .dataframe thead th {\n",
       "        text-align: right;\n",
       "    }\n",
       "</style>\n",
       "<table border=\"1\" class=\"dataframe\">\n",
       "  <thead>\n",
       "    <tr style=\"text-align: right;\">\n",
       "      <th></th>\n",
       "      <th>wr_id</th>\n",
       "      <th>status</th>\n",
       "      <th>description</th>\n",
       "      <th>supervisor</th>\n",
       "      <th>date_completed</th>\n",
       "      <th>date_requested</th>\n",
       "      <th>date_closed</th>\n",
       "      <th>fy_request</th>\n",
       "      <th>role_name</th>\n",
       "      <th>building_name</th>\n",
       "      <th>b_number</th>\n",
       "      <th>primary_type</th>\n",
       "      <th>problem_type</th>\n",
       "      <th>PM_type</th>\n",
       "      <th>calendar_month_request</th>\n",
       "      <th>calendar_month_close</th>\n",
       "      <th>days_to_completion</th>\n",
       "      <th>days_open</th>\n",
       "      <th>benchmark</th>\n",
       "    </tr>\n",
       "  </thead>\n",
       "  <tbody>\n",
       "    <tr>\n",
       "      <th>0</th>\n",
       "      <td>19800</td>\n",
       "      <td>RMI</td>\n",
       "      <td>Need someone to make the necessary repairs to ...</td>\n",
       "      <td>NaN</td>\n",
       "      <td>NaT</td>\n",
       "      <td>00:00.0</td>\n",
       "      <td>NaN</td>\n",
       "      <td>2015</td>\n",
       "      <td>GATEKEEPER-RESTRICTED - BOC                   ...</td>\n",
       "      <td>6400 Pulaski Highway Front Gate/Guard Office</td>\n",
       "      <td>B00166</td>\n",
       "      <td>HVAC</td>\n",
       "      <td>HVAC</td>\n",
       "      <td>NaN</td>\n",
       "      <td>2015-01</td>\n",
       "      <td>NaN</td>\n",
       "      <td>NaN</td>\n",
       "      <td>1569</td>\n",
       "      <td>30.0</td>\n",
       "    </tr>\n",
       "    <tr>\n",
       "      <th>1</th>\n",
       "      <td>21365</td>\n",
       "      <td>RMI</td>\n",
       "      <td>LABOR AND MATERIALS TO ADJUST OUTSIDE AIR DAMP...</td>\n",
       "      <td>NaN</td>\n",
       "      <td>NaT</td>\n",
       "      <td>00:00.0</td>\n",
       "      <td>NaN</td>\n",
       "      <td>2015</td>\n",
       "      <td>GATEKEEPER - BOC                              ...</td>\n",
       "      <td>Howard Peters Rawlings Conservatory</td>\n",
       "      <td>B06225</td>\n",
       "      <td>HVAC</td>\n",
       "      <td>HVAC</td>\n",
       "      <td>NaN</td>\n",
       "      <td>2015-01</td>\n",
       "      <td>NaN</td>\n",
       "      <td>NaN</td>\n",
       "      <td>1554</td>\n",
       "      <td>30.0</td>\n",
       "    </tr>\n",
       "    <tr>\n",
       "      <th>2</th>\n",
       "      <td>24961</td>\n",
       "      <td>RMI</td>\n",
       "      <td>Please provide labor &amp; materials to replace se...</td>\n",
       "      <td>NaN</td>\n",
       "      <td>NaT</td>\n",
       "      <td>00:00.0</td>\n",
       "      <td>NaN</td>\n",
       "      <td>2015</td>\n",
       "      <td>GATEKEEPER - BOC                              ...</td>\n",
       "      <td>Oliver Senior Center</td>\n",
       "      <td>P00119</td>\n",
       "      <td>ELECTRICAL</td>\n",
       "      <td>ELEC/LIGHT</td>\n",
       "      <td>NaN</td>\n",
       "      <td>2015-03</td>\n",
       "      <td>NaN</td>\n",
       "      <td>NaN</td>\n",
       "      <td>1516</td>\n",
       "      <td>14.0</td>\n",
       "    </tr>\n",
       "    <tr>\n",
       "      <th>3</th>\n",
       "      <td>27301</td>\n",
       "      <td>I</td>\n",
       "      <td>The retaining wall that leads to the upper lot...</td>\n",
       "      <td>TERREL.CHESSON</td>\n",
       "      <td>2021-05-03</td>\n",
       "      <td>00:00.0</td>\n",
       "      <td>NaN</td>\n",
       "      <td>2015</td>\n",
       "      <td>GATEKEEPER - BOC                              ...</td>\n",
       "      <td>Baltimore City Police North Eastern District</td>\n",
       "      <td>B00025</td>\n",
       "      <td>OTHER-EXTERNAL</td>\n",
       "      <td>OTHER</td>\n",
       "      <td>NaN</td>\n",
       "      <td>2015-03</td>\n",
       "      <td>NaN</td>\n",
       "      <td>116.0</td>\n",
       "      <td>1502</td>\n",
       "      <td>14.0</td>\n",
       "    </tr>\n",
       "    <tr>\n",
       "      <th>4</th>\n",
       "      <td>27353</td>\n",
       "      <td>Com</td>\n",
       "      <td>PROVIDE EMERGENCY REPAIR TO THE SPRINKLER SYST...</td>\n",
       "      <td>DARRYL.RAGIN</td>\n",
       "      <td>2021-05-03</td>\n",
       "      <td>00:00.0</td>\n",
       "      <td>NaN</td>\n",
       "      <td>2015</td>\n",
       "      <td>GATEKEEPER - BOC                              ...</td>\n",
       "      <td>Mount Pleasant Ice Arena</td>\n",
       "      <td>B02055</td>\n",
       "      <td>HVAC</td>\n",
       "      <td>HVAC</td>\n",
       "      <td>NaN</td>\n",
       "      <td>2015-03</td>\n",
       "      <td>NaN</td>\n",
       "      <td>643.0</td>\n",
       "      <td>1502</td>\n",
       "      <td>30.0</td>\n",
       "    </tr>\n",
       "  </tbody>\n",
       "</table>\n",
       "</div>"
      ],
      "text/plain": [
       "   wr_id status                                        description  \\\n",
       "0  19800    RMI  Need someone to make the necessary repairs to ...   \n",
       "1  21365    RMI  LABOR AND MATERIALS TO ADJUST OUTSIDE AIR DAMP...   \n",
       "2  24961    RMI  Please provide labor & materials to replace se...   \n",
       "3  27301    I    The retaining wall that leads to the upper lot...   \n",
       "4  27353    Com  PROVIDE EMERGENCY REPAIR TO THE SPRINKLER SYST...   \n",
       "\n",
       "                            supervisor date_completed date_requested  \\\n",
       "0                                  NaN            NaT        00:00.0   \n",
       "1                                  NaN            NaT        00:00.0   \n",
       "2                                  NaN            NaT        00:00.0   \n",
       "3  TERREL.CHESSON                          2021-05-03        00:00.0   \n",
       "4  DARRYL.RAGIN                            2021-05-03        00:00.0   \n",
       "\n",
       "  date_closed  fy_request                                          role_name  \\\n",
       "0         NaN        2015  GATEKEEPER-RESTRICTED - BOC                   ...   \n",
       "1         NaN        2015  GATEKEEPER - BOC                              ...   \n",
       "2         NaN        2015  GATEKEEPER - BOC                              ...   \n",
       "3         NaN        2015  GATEKEEPER - BOC                              ...   \n",
       "4         NaN        2015  GATEKEEPER - BOC                              ...   \n",
       "\n",
       "                                  building_name  b_number    primary_type  \\\n",
       "0  6400 Pulaski Highway Front Gate/Guard Office  B00166              HVAC   \n",
       "1           Howard Peters Rawlings Conservatory  B06225              HVAC   \n",
       "2                          Oliver Senior Center  P00119        ELECTRICAL   \n",
       "3  Baltimore City Police North Eastern District  B00025    OTHER-EXTERNAL   \n",
       "4                      Mount Pleasant Ice Arena  B02055              HVAC   \n",
       "\n",
       "                       problem_type PM_type calendar_month_request  \\\n",
       "0  HVAC                                 NaN                2015-01   \n",
       "1  HVAC                                 NaN                2015-01   \n",
       "2  ELEC/LIGHT                           NaN                2015-03   \n",
       "3  OTHER                                NaN                2015-03   \n",
       "4  HVAC                                 NaN                2015-03   \n",
       "\n",
       "  calendar_month_close  days_to_completion  days_open  benchmark  \n",
       "0                  NaN                 NaN       1569       30.0  \n",
       "1                  NaN                 NaN       1554       30.0  \n",
       "2                  NaN                 NaN       1516       14.0  \n",
       "3                  NaN               116.0       1502       14.0  \n",
       "4                  NaN               643.0       1502       30.0  "
      ]
     },
     "execution_count": 5,
     "metadata": {},
     "output_type": "execute_result"
    }
   ],
   "source": [
    "kpis_raw.head()"
   ]
  },
  {
   "cell_type": "code",
   "execution_count": 6,
   "metadata": {},
   "outputs": [],
   "source": [
    "def cast_dtypes(df):\n",
    "    df = df.copy()\n",
    "    df[\"wr_id\"] = df[\"wr_id\"].astype(int)\n",
    "    df[\"date_completed\"] = df[\"date_completed\"].astype(\"datetime64[ns]\")\n",
    "    return df\n",
    "\n",
    "\n",
    "def tidy_up_df(df):\n",
    "    df = df.copy()\n",
    "    df = df.rename(mapper={\"prob_type\": \"problem_type\"}, axis=1)\n",
    "    df = df.loc[:, ~df.columns.duplicated()]\n",
    "    df = df.dropna(subset=[\"wr_id\", \"problem_type\"])\n",
    "    df = df.applymap(lambda x: x.strip() if isinstance(x, str) else x)\n",
    "    # df = df.applymap(lambda x: np.nan if x == \"NULL\" else x)\n",
    "    # df[\"supervisor\"] = df[\"supervisor\"].apply(lambda x: \"NULL\" if x != x else x)\n",
    "    cond_valid = ~df[\"problem_type\"].str.contains(\"TEST\")\n",
    "    # df = df[cond_valid]\n",
    "    df[\"status\"] = df[\"status\"].replace(\"A\", \"AA\", regex=False)\n",
    "    return df"
   ]
  },
  {
   "cell_type": "code",
   "execution_count": 7,
   "metadata": {
    "hideCode": false,
    "hidePrompt": false
   },
   "outputs": [
    {
     "name": "stdout",
     "output_type": "stream",
     "text": [
      "The tidied work orders dataframe has 107,523 rows.\n",
      "By tidying the data, we have removed 0 rows.\n"
     ]
    }
   ],
   "source": [
    "wr_tidy = tidy_up_df(kpis_raw)\n",
    "wr_tidy[\"year\"] = wr_tidy[\"calendar_month_request\"].str[:4].astype(int)\n",
    "wr_tidy[\"month\"] = wr_tidy[\"calendar_month_request\"].str[-2:].astype(int)\n",
    "wr_tidy[\"month_start\"] = pd.to_datetime(wr_tidy[[\"year\", \"month\"]].assign(DAY=1))\n",
    "\n",
    "\n",
    "print(f\"The tidied work orders dataframe has {len(wr_tidy):,} rows.\")\n",
    "print(f\"By tidying the data, we have removed {len(kpis_raw) - len(wr_tidy):,} rows.\")"
   ]
  },
  {
   "cell_type": "markdown",
   "metadata": {},
   "source": [
    "### Drop canceled and rejected work orders\n",
    "The data comes to us with many canceled work orders. Those shouldn't count against us as not having been completed on time. So we drop them here. "
   ]
  },
  {
   "cell_type": "code",
   "execution_count": 8,
   "metadata": {},
   "outputs": [
    {
     "name": "stdout",
     "output_type": "stream",
     "text": [
      "By dropping canceled work orders, we have removed 4,020 rows.\n"
     ]
    }
   ],
   "source": [
    "# drop rows that were canceled\n",
    "cond_valid = ~wr_tidy[\"status\"].isin([\"Can\", \"Rej\", \"R\"])\n",
    "\n",
    "wr_valid = wr_tidy[cond_valid]\n",
    "\n",
    "print(\n",
    "    f\"By dropping canceled work orders, we have removed {len(wr_tidy) - len(wr_valid):,} rows.\"\n",
    ")"
   ]
  },
  {
   "cell_type": "markdown",
   "metadata": {
    "hideCode": false,
    "hidePrompt": false
   },
   "source": [
    "### Add fiscal year\n",
    "There are different ways to assign a fiscal year to a work request. Currently, we're doing it by the fiscal year in which the work request was closed. Other options would include the fiscal year of the request. \n"
   ]
  },
  {
   "cell_type": "code",
   "execution_count": 9,
   "metadata": {
    "hideCode": false,
    "hidePrompt": false
   },
   "outputs": [],
   "source": [
    "# wr_fy = add_fiscal_year(wr_valid, assign_fy_on=\"closure\")\n",
    "# wr_fy = wr_fy.rename(columns={\"fiscal_year\": \"fy_close\"})\n",
    "\n",
    "# print(f\"{len(wr_valid)}, {len(wr_fy)}\")"
   ]
  },
  {
   "cell_type": "markdown",
   "metadata": {},
   "source": [
    "After assigning the fiscal year, we can drop work requests from FY15 and older. "
   ]
  },
  {
   "cell_type": "code",
   "execution_count": 10,
   "metadata": {
    "hideCode": false,
    "hidePrompt": false
   },
   "outputs": [],
   "source": [
    "wr_fy = wr_valid.copy()\n",
    "cond_fy = wr_fy[\"fy_request\"].isin(range(2016, 2022))\n",
    "wr_fy = wr_fy[cond_fy]"
   ]
  },
  {
   "cell_type": "code",
   "execution_count": 11,
   "metadata": {},
   "outputs": [],
   "source": [
    "def compute_is_on_time(row):\n",
    "    row[\"is_on_time\"] = row[\"days_to_completion\"] <= row[\"benchmark\"]\n",
    "    return row\n",
    "\n",
    "\n",
    "wr_fy = wr_fy.dropna(subset=[\"days_to_completion\", \"benchmark\"]).apply(\n",
    "    compute_is_on_time, axis=1\n",
    ")"
   ]
  },
  {
   "cell_type": "code",
   "execution_count": 12,
   "metadata": {},
   "outputs": [
    {
     "data": {
      "text/plain": [
       "BLDG INSPECTION     1403\n",
       "GENERATOR TEST      1010\n",
       "ELEVATOR TEST        973\n",
       "HVAC INSPECTION      839\n",
       "BASEMENT INSPECT     689\n",
       "FUEL TANK TEST       517\n",
       "HEATING LEVELS       414\n",
       "HEAT CHECK TEST      180\n",
       "UTILITY ROOMS        113\n",
       "FLOOR BUFFING         62\n",
       "HVAC FILTER CHAN      21\n",
       "KITCHEN PM            15\n",
       "EXTERMINATION         10\n",
       "Name: PM_type, dtype: int64"
      ]
     },
     "execution_count": 12,
     "metadata": {},
     "output_type": "execute_result"
    }
   ],
   "source": [
    "wr_fy['PM_type'].value_counts()"
   ]
  },
  {
   "cell_type": "code",
   "execution_count": 13,
   "metadata": {},
   "outputs": [
    {
     "data": {
      "text/html": [
       "<div>\n",
       "<style scoped>\n",
       "    .dataframe tbody tr th:only-of-type {\n",
       "        vertical-align: middle;\n",
       "    }\n",
       "\n",
       "    .dataframe tbody tr th {\n",
       "        vertical-align: top;\n",
       "    }\n",
       "\n",
       "    .dataframe thead th {\n",
       "        text-align: right;\n",
       "    }\n",
       "</style>\n",
       "<table border=\"1\" class=\"dataframe\">\n",
       "  <thead>\n",
       "    <tr style=\"text-align: right;\">\n",
       "      <th></th>\n",
       "      <th>is_on_time</th>\n",
       "      <th>days_to_completion</th>\n",
       "    </tr>\n",
       "  </thead>\n",
       "  <tbody>\n",
       "    <tr>\n",
       "      <th>37728</th>\n",
       "      <td>True</td>\n",
       "      <td>0.0</td>\n",
       "    </tr>\n",
       "    <tr>\n",
       "      <th>49084</th>\n",
       "      <td>True</td>\n",
       "      <td>2.0</td>\n",
       "    </tr>\n",
       "    <tr>\n",
       "      <th>59176</th>\n",
       "      <td>False</td>\n",
       "      <td>57.0</td>\n",
       "    </tr>\n",
       "    <tr>\n",
       "      <th>79575</th>\n",
       "      <td>False</td>\n",
       "      <td>78.0</td>\n",
       "    </tr>\n",
       "    <tr>\n",
       "      <th>49213</th>\n",
       "      <td>True</td>\n",
       "      <td>0.0</td>\n",
       "    </tr>\n",
       "    <tr>\n",
       "      <th>92712</th>\n",
       "      <td>True</td>\n",
       "      <td>1.0</td>\n",
       "    </tr>\n",
       "    <tr>\n",
       "      <th>8446</th>\n",
       "      <td>True</td>\n",
       "      <td>0.0</td>\n",
       "    </tr>\n",
       "    <tr>\n",
       "      <th>53048</th>\n",
       "      <td>True</td>\n",
       "      <td>0.0</td>\n",
       "    </tr>\n",
       "    <tr>\n",
       "      <th>105556</th>\n",
       "      <td>False</td>\n",
       "      <td>66.0</td>\n",
       "    </tr>\n",
       "    <tr>\n",
       "      <th>97243</th>\n",
       "      <td>False</td>\n",
       "      <td>15.0</td>\n",
       "    </tr>\n",
       "    <tr>\n",
       "      <th>45217</th>\n",
       "      <td>True</td>\n",
       "      <td>6.0</td>\n",
       "    </tr>\n",
       "    <tr>\n",
       "      <th>55312</th>\n",
       "      <td>False</td>\n",
       "      <td>252.0</td>\n",
       "    </tr>\n",
       "  </tbody>\n",
       "</table>\n",
       "</div>"
      ],
      "text/plain": [
       "        is_on_time  days_to_completion\n",
       "37728         True                 0.0\n",
       "49084         True                 2.0\n",
       "59176        False                57.0\n",
       "79575        False                78.0\n",
       "49213         True                 0.0\n",
       "92712         True                 1.0\n",
       "8446          True                 0.0\n",
       "53048         True                 0.0\n",
       "105556       False                66.0\n",
       "97243        False                15.0\n",
       "45217         True                 6.0\n",
       "55312        False               252.0"
      ]
     },
     "execution_count": 13,
     "metadata": {},
     "output_type": "execute_result"
    }
   ],
   "source": [
    "wr_fy[[\"is_on_time\", \"days_to_completion\"]].sample(12)"
   ]
  },
  {
   "cell_type": "markdown",
   "metadata": {},
   "source": [
    "### Anonymize names"
   ]
  },
  {
   "cell_type": "code",
   "execution_count": 17,
   "metadata": {},
   "outputs": [],
   "source": [
    "def split_names(row):\n",
    "    if type(row[\"supervisor\"]) == float:\n",
    "        row[\"supervisor\"] = \"NULL\"\n",
    "    if \".\" in row[\"supervisor\"]:\n",
    "        full_name = row[\"supervisor\"].split(\".\")\n",
    "        row[\"supervisor_fname\"] = full_name[0]\n",
    "        row[\"supervisor_lname\"] = full_name[1]\n",
    "    if row[\"supervisor\"] == \"NULL\":\n",
    "        row[\"supervisor_fname\"] = \"NULL\"\n",
    "        row[\"supervisor_lname\"] = \"NULL\"\n",
    "    return row\n",
    "\n",
    "\n",
    "wr_names = wr_fy.apply(split_names, axis=1)"
   ]
  },
  {
   "cell_type": "code",
   "execution_count": 18,
   "metadata": {},
   "outputs": [
    {
     "name": "stdout",
     "output_type": "stream",
     "text": [
      "Length: 70109\n"
     ]
    },
    {
     "data": {
      "text/html": [
       "<div>\n",
       "<style scoped>\n",
       "    .dataframe tbody tr th:only-of-type {\n",
       "        vertical-align: middle;\n",
       "    }\n",
       "\n",
       "    .dataframe tbody tr th {\n",
       "        vertical-align: top;\n",
       "    }\n",
       "\n",
       "    .dataframe thead th {\n",
       "        text-align: right;\n",
       "    }\n",
       "</style>\n",
       "<table border=\"1\" class=\"dataframe\">\n",
       "  <thead>\n",
       "    <tr style=\"text-align: right;\">\n",
       "      <th></th>\n",
       "      <th>supervisor_anon</th>\n",
       "    </tr>\n",
       "  </thead>\n",
       "  <tbody>\n",
       "    <tr>\n",
       "      <th>71</th>\n",
       "      <td>EMILY.MARTINEZ</td>\n",
       "    </tr>\n",
       "    <tr>\n",
       "      <th>72</th>\n",
       "      <td>EMILY.MARTINEZ</td>\n",
       "    </tr>\n",
       "    <tr>\n",
       "      <th>73</th>\n",
       "      <td>EMILY.MARTINEZ</td>\n",
       "    </tr>\n",
       "    <tr>\n",
       "      <th>76</th>\n",
       "      <td>EMILY.MARTINEZ</td>\n",
       "    </tr>\n",
       "    <tr>\n",
       "      <th>77</th>\n",
       "      <td>EMILY.MARTINEZ</td>\n",
       "    </tr>\n",
       "  </tbody>\n",
       "</table>\n",
       "</div>"
      ],
      "text/plain": [
       "   supervisor_anon\n",
       "71  EMILY.MARTINEZ\n",
       "72  EMILY.MARTINEZ\n",
       "73  EMILY.MARTINEZ\n",
       "76  EMILY.MARTINEZ\n",
       "77  EMILY.MARTINEZ"
      ]
     },
     "execution_count": 18,
     "metadata": {},
     "output_type": "execute_result"
    }
   ],
   "source": [
    "def replace_names(df, faker):\n",
    "    # empty string values as nan\n",
    "    df[\"supervisor\"] = df[\"supervisor\"].replace(\"NULL\", np.nan)\n",
    "    # name replacement dictionary\n",
    "    fname_replacements = {\n",
    "        name: faker.first_name().upper().replace(\" \", \"\")\n",
    "        for name in df[\"supervisor_fname\"].unique()\n",
    "        if name is not np.nan\n",
    "    }\n",
    "    lname_replacements = {\n",
    "        name: faker.last_name().upper().replace(\" \", \"\")\n",
    "        for name in df[\"supervisor_lname\"].unique()\n",
    "        if name is not np.nan\n",
    "    }\n",
    "\n",
    "    # apply replacement\n",
    "    df = df.replace(\n",
    "        {\"supervisor_fname\": fname_replacements, \"supervisor_lname\": lname_replacements}\n",
    "    )\n",
    "    df[\"supervisor_anon\"] = df[\"supervisor_fname\"] + \".\" + df[\"supervisor_lname\"]\n",
    "    df = df.drop(columns=[\"supervisor_fname\", \"supervisor_lname\"])\n",
    "    df[\"supervisor_anon\"] = df[\"supervisor_anon\"].replace(np.nan, \"NULL\")\n",
    "    return df\n",
    "\n",
    "\n",
    "fake = Faker()\n",
    "wr_names = replace_names(wr_names, fake)\n",
    "\n",
    "print(f\"Length: {len(wr_names)}\")\n",
    "\n",
    "wr_names[[\"supervisor_anon\"]].head()"
   ]
  },
  {
   "cell_type": "code",
   "execution_count": 19,
   "metadata": {},
   "outputs": [
    {
     "data": {
      "text/plain": [
       "Clo    66031\n",
       "Com     4068\n",
       "I          5\n",
       "HC         2\n",
       "AA         1\n",
       "S          1\n",
       "HMI        1\n",
       "Name: status, dtype: int64"
      ]
     },
     "execution_count": 19,
     "metadata": {},
     "output_type": "execute_result"
    }
   ],
   "source": [
    "wr_names.status.value_counts()"
   ]
  },
  {
   "cell_type": "markdown",
   "metadata": {
    "hideCode": false,
    "hidePrompt": false
   },
   "source": [
    "## KPI: % PMs Completed On Time \n",
    "The goal here is to filter the data down to preventive maintenance only, and then show how many are completed on or before the benchmark (21 days)."
   ]
  },
  {
   "cell_type": "markdown",
   "metadata": {
    "hideCode": false,
    "hidePrompt": false
   },
   "source": [
    "### Filter to valid PM only, and for relevant fiscal years only\n",
    "After noticing that many PMs have the status \"Can\" — meaning they were canceled — we fil"
   ]
  },
  {
   "cell_type": "code",
   "execution_count": 14,
   "metadata": {},
   "outputs": [],
   "source": [
    "wr_primary = wr_fy.copy()"
   ]
  },
  {
   "cell_type": "code",
   "execution_count": 37,
   "metadata": {},
   "outputs": [
    {
     "data": {
      "text/plain": [
       "primary_type        PM_type         \n",
       "PREVENTIVE_HVAC     HVAC INSPECTION      839\n",
       "                    HEATING LEVELS       414\n",
       "                    HEAT CHECK TEST      180\n",
       "                    HVAC FILTER CHAN      21\n",
       "PREVENTIVE_GENERAL  BLDG INSPECTION     1403\n",
       "                    GENERATOR TEST      1010\n",
       "                    ELEVATOR TEST        973\n",
       "                    BASEMENT INSPECT     689\n",
       "                    FUEL TANK TEST       517\n",
       "                    UTILITY ROOMS        113\n",
       "                    FLOOR BUFFING         62\n",
       "                    KITCHEN PM            15\n",
       "                    EXTERMINATION         10\n",
       "Name: wr_id, dtype: int64"
      ]
     },
     "execution_count": 37,
     "metadata": {},
     "output_type": "execute_result"
    }
   ],
   "source": [
    "wr_primary.groupby([\"primary_type\", \"PM_type\"])['wr_id'].count().sort_values().sort_index(level=[0], ascending=False, sort_remaining=False)"
   ]
  },
  {
   "cell_type": "code",
   "execution_count": 16,
   "metadata": {
    "hideCode": false,
    "hidePrompt": false
   },
   "outputs": [
    {
     "name": "stdout",
     "output_type": "stream",
     "text": [
      "The filtered PMs dataframe has 7,359 rows.\n"
     ]
    }
   ],
   "source": [
    "# this defines which problem types are considered PMs\n",
    "pm_list = [\n",
    "    \"PREVENTIVE_GENERAL\",\n",
    "    \"PREVENTIVE_HVAC\",\n",
    "]\n",
    "\n",
    "# filter data to PM types only\n",
    "cond_pm = wr_primary[\"primary_type\"].isin(pm_list)\n",
    "#cond_pm = wr_primary[\"problem_type\"] == \"PREVENTIVE MAINT\"\n",
    "#cond_pm = wr_primary[\"primary_type\"].str.contains(\"PREVENTIVE\")\n",
    "# apply filter conditions\n",
    "wr_pm = wr_primary[cond_pm]\n",
    "\n",
    "print(f\"The filtered PMs dataframe has {wr_pm.shape[0]:,} rows.\")"
   ]
  },
  {
   "cell_type": "code",
   "execution_count": 17,
   "metadata": {},
   "outputs": [
    {
     "data": {
      "text/html": [
       "<div>\n",
       "<style scoped>\n",
       "    .dataframe tbody tr th:only-of-type {\n",
       "        vertical-align: middle;\n",
       "    }\n",
       "\n",
       "    .dataframe tbody tr th {\n",
       "        vertical-align: top;\n",
       "    }\n",
       "\n",
       "    .dataframe thead th {\n",
       "        text-align: right;\n",
       "    }\n",
       "</style>\n",
       "<table border=\"1\" class=\"dataframe\">\n",
       "  <thead>\n",
       "    <tr style=\"text-align: right;\">\n",
       "      <th></th>\n",
       "      <th>primary_type</th>\n",
       "      <th>fy_request</th>\n",
       "      <th>wr_id</th>\n",
       "    </tr>\n",
       "  </thead>\n",
       "  <tbody>\n",
       "    <tr>\n",
       "      <th>0</th>\n",
       "      <td>PREVENTIVE_GENERAL</td>\n",
       "      <td>2016</td>\n",
       "      <td>717</td>\n",
       "    </tr>\n",
       "    <tr>\n",
       "      <th>1</th>\n",
       "      <td>PREVENTIVE_GENERAL</td>\n",
       "      <td>2017</td>\n",
       "      <td>1077</td>\n",
       "    </tr>\n",
       "    <tr>\n",
       "      <th>2</th>\n",
       "      <td>PREVENTIVE_GENERAL</td>\n",
       "      <td>2018</td>\n",
       "      <td>1517</td>\n",
       "    </tr>\n",
       "    <tr>\n",
       "      <th>3</th>\n",
       "      <td>PREVENTIVE_GENERAL</td>\n",
       "      <td>2019</td>\n",
       "      <td>1181</td>\n",
       "    </tr>\n",
       "    <tr>\n",
       "      <th>4</th>\n",
       "      <td>PREVENTIVE_GENERAL</td>\n",
       "      <td>2020</td>\n",
       "      <td>857</td>\n",
       "    </tr>\n",
       "    <tr>\n",
       "      <th>5</th>\n",
       "      <td>PREVENTIVE_HVAC</td>\n",
       "      <td>2016</td>\n",
       "      <td>25</td>\n",
       "    </tr>\n",
       "    <tr>\n",
       "      <th>6</th>\n",
       "      <td>PREVENTIVE_HVAC</td>\n",
       "      <td>2017</td>\n",
       "      <td>256</td>\n",
       "    </tr>\n",
       "    <tr>\n",
       "      <th>7</th>\n",
       "      <td>PREVENTIVE_HVAC</td>\n",
       "      <td>2018</td>\n",
       "      <td>417</td>\n",
       "    </tr>\n",
       "    <tr>\n",
       "      <th>8</th>\n",
       "      <td>PREVENTIVE_HVAC</td>\n",
       "      <td>2019</td>\n",
       "      <td>382</td>\n",
       "    </tr>\n",
       "    <tr>\n",
       "      <th>9</th>\n",
       "      <td>PREVENTIVE_HVAC</td>\n",
       "      <td>2020</td>\n",
       "      <td>462</td>\n",
       "    </tr>\n",
       "  </tbody>\n",
       "</table>\n",
       "</div>"
      ],
      "text/plain": [
       "         primary_type  fy_request  wr_id\n",
       "0  PREVENTIVE_GENERAL        2016    717\n",
       "1  PREVENTIVE_GENERAL        2017   1077\n",
       "2  PREVENTIVE_GENERAL        2018   1517\n",
       "3  PREVENTIVE_GENERAL        2019   1181\n",
       "4  PREVENTIVE_GENERAL        2020    857\n",
       "5     PREVENTIVE_HVAC        2016     25\n",
       "6     PREVENTIVE_HVAC        2017    256\n",
       "7     PREVENTIVE_HVAC        2018    417\n",
       "8     PREVENTIVE_HVAC        2019    382\n",
       "9     PREVENTIVE_HVAC        2020    462"
      ]
     },
     "execution_count": 17,
     "metadata": {},
     "output_type": "execute_result"
    }
   ],
   "source": [
    "cond_fy = wr_pm['fy_request'] < 2021\n",
    "wr_pm_comp = wr_pm[cond_fy]\n",
    "pms_by_FY = wr_pm_comp.groupby([\"primary_type\", \"fy_request\"])['wr_id'].count()\n",
    "pms_by_FY = pd.DataFrame(pms_by_FY)\n",
    "pms_by_FY = pms_by_FY.reset_index()\n",
    "pms_by_FY"
   ]
  },
  {
   "cell_type": "code",
   "execution_count": 18,
   "metadata": {},
   "outputs": [
    {
     "data": {
      "image/png": "[encoded data removed]",
      "text/plain": [
       "<Figure size 1152x432 with 1 Axes>"
      ]
     },
     "metadata": {},
     "output_type": "display_data"
    }
   ],
   "source": [
    "import matplotlib.ticker as ticker\n",
    "\n",
    "ax = sns.lineplot(data=pms_by_FY, x='fy_request', y='wr_id', hue='primary_type')\n",
    "ax.xaxis.set_major_locator(ticker.MultipleLocator(1))\n",
    "\n",
    "_ = ax.set(title = \"Volume of HVAC and Other PMs Over Time\", xlabel=\"Fiscal Year\", ylabel=\"PMs Created\")"
   ]
  },
  {
   "cell_type": "markdown",
   "metadata": {
    "hideCode": false,
    "hidePrompt": false
   },
   "source": [
    "#### Compute the benchmark and add `is_on_time` column\n",
    "Here we tell Python that PMs are on-time if completed in 21 days. \n",
    "\n",
    "Then the function `compute_is_on_time` compares the column `days_to_completion` to the benchmark and writes down whether the work request was completed on time. "
   ]
  },
  {
   "cell_type": "code",
   "execution_count": 19,
   "metadata": {},
   "outputs": [],
   "source": [
    "wr_pm = wr_pm.dropna(subset=[\"days_to_completion\"])"
   ]
  },
  {
   "cell_type": "code",
   "execution_count": 20,
   "metadata": {},
   "outputs": [
    {
     "data": {
      "text/html": [
       "<div>\n",
       "<style scoped>\n",
       "    .dataframe tbody tr th:only-of-type {\n",
       "        vertical-align: middle;\n",
       "    }\n",
       "\n",
       "    .dataframe tbody tr th {\n",
       "        vertical-align: top;\n",
       "    }\n",
       "\n",
       "    .dataframe thead th {\n",
       "        text-align: right;\n",
       "    }\n",
       "</style>\n",
       "<table border=\"1\" class=\"dataframe\">\n",
       "  <thead>\n",
       "    <tr style=\"text-align: right;\">\n",
       "      <th></th>\n",
       "      <th>wr_id</th>\n",
       "      <th>problem_type</th>\n",
       "      <th>primary_type</th>\n",
       "      <th>benchmark</th>\n",
       "      <th>fy_request</th>\n",
       "      <th>calendar_month_request</th>\n",
       "      <th>month_start</th>\n",
       "      <th>days_to_completion</th>\n",
       "      <th>is_on_time</th>\n",
       "      <th>status</th>\n",
       "    </tr>\n",
       "  </thead>\n",
       "  <tbody>\n",
       "    <tr>\n",
       "      <th>71502</th>\n",
       "      <td>93037</td>\n",
       "      <td>PREVENTIVE MAINT</td>\n",
       "      <td>PREVENTIVE_HVAC</td>\n",
       "      <td>21.0</td>\n",
       "      <td>2018</td>\n",
       "      <td>2017-08</td>\n",
       "      <td>2017-08-01</td>\n",
       "      <td>67.0</td>\n",
       "      <td>False</td>\n",
       "      <td>Clo</td>\n",
       "    </tr>\n",
       "    <tr>\n",
       "      <th>64834</th>\n",
       "      <td>85734</td>\n",
       "      <td>PREVENTIVE MAINT</td>\n",
       "      <td>PREVENTIVE_GENERAL</td>\n",
       "      <td>21.0</td>\n",
       "      <td>2017</td>\n",
       "      <td>2017-03</td>\n",
       "      <td>2017-03-01</td>\n",
       "      <td>7.0</td>\n",
       "      <td>True</td>\n",
       "      <td>Clo</td>\n",
       "    </tr>\n",
       "    <tr>\n",
       "      <th>53077</th>\n",
       "      <td>69864</td>\n",
       "      <td>BUILDING INTERIOR INSPECTION</td>\n",
       "      <td>PREVENTIVE_GENERAL</td>\n",
       "      <td>21.0</td>\n",
       "      <td>2017</td>\n",
       "      <td>2016-07</td>\n",
       "      <td>2016-07-01</td>\n",
       "      <td>0.0</td>\n",
       "      <td>True</td>\n",
       "      <td>Clo</td>\n",
       "    </tr>\n",
       "  </tbody>\n",
       "</table>\n",
       "</div>"
      ],
      "text/plain": [
       "       wr_id                  problem_type        primary_type  benchmark  \\\n",
       "71502  93037              PREVENTIVE MAINT     PREVENTIVE_HVAC       21.0   \n",
       "64834  85734              PREVENTIVE MAINT  PREVENTIVE_GENERAL       21.0   \n",
       "53077  69864  BUILDING INTERIOR INSPECTION  PREVENTIVE_GENERAL       21.0   \n",
       "\n",
       "       fy_request calendar_month_request month_start  days_to_completion  \\\n",
       "71502        2018                2017-08  2017-08-01                67.0   \n",
       "64834        2017                2017-03  2017-03-01                 7.0   \n",
       "53077        2017                2016-07  2016-07-01                 0.0   \n",
       "\n",
       "       is_on_time status  \n",
       "71502       False    Clo  \n",
       "64834        True    Clo  \n",
       "53077        True    Clo  "
      ]
     },
     "execution_count": 20,
     "metadata": {},
     "output_type": "execute_result"
    }
   ],
   "source": [
    "wr_pm[\n",
    "    [\n",
    "        \"wr_id\",\n",
    "        \"problem_type\",\n",
    "        \"primary_type\",\n",
    "        \"benchmark\",\n",
    "        \"fy_request\",\n",
    "        \"calendar_month_request\", \n",
    "        \"month_start\",\n",
    "        \"days_to_completion\",\n",
    "        \"is_on_time\",\n",
    "        \"status\",\n",
    "    ]\n",
    "].sample(3, random_state=446)"
   ]
  },
  {
   "cell_type": "code",
   "execution_count": 21,
   "metadata": {},
   "outputs": [
    {
     "data": {
      "text/plain": [
       "PREVENTIVE_GENERAL    5725\n",
       "PREVENTIVE_HVAC       1634\n",
       "Name: primary_type, dtype: int64"
      ]
     },
     "execution_count": 21,
     "metadata": {},
     "output_type": "execute_result"
    }
   ],
   "source": [
    "wr_pm['primary_type'].value_counts()"
   ]
  },
  {
   "cell_type": "markdown",
   "metadata": {
    "hideCode": false,
    "hidePrompt": false
   },
   "source": [
    "#### Group by fiscal year and get % on time\n",
    "Now that we've stored all this information, we can group by the fiscal year to get each year's KPI, together with a count of how many PMs "
   ]
  },
  {
   "cell_type": "code",
   "execution_count": 22,
   "metadata": {},
   "outputs": [],
   "source": [
    "def compute_kpi_table(df, label_for_KPI, label_for_totals):\n",
    "    df = df.copy()\n",
    "    table_df = df.groupby(\"fy_request\")[[\"is_on_time\"]].agg([\"mean\", \"count\"])\n",
    "    table_df.columns = table_df.columns.droplevel(0)\n",
    "    table_df[\"mean\"] = table_df[\"mean\"].apply(lambda x: round(x * 100, 2))\n",
    "    table_df = table_df.rename(\n",
    "        columns={\"mean\": label_for_KPI, \"count\": label_for_totals}\n",
    "    )\n",
    "    return table_df"
   ]
  },
  {
   "cell_type": "code",
   "execution_count": 23,
   "metadata": {
    "hideCode": false,
    "hidePrompt": false
   },
   "outputs": [
    {
     "data": {
      "text/html": [
       "<div>\n",
       "<style scoped>\n",
       "    .dataframe tbody tr th:only-of-type {\n",
       "        vertical-align: middle;\n",
       "    }\n",
       "\n",
       "    .dataframe tbody tr th {\n",
       "        vertical-align: top;\n",
       "    }\n",
       "\n",
       "    .dataframe thead th {\n",
       "        text-align: right;\n",
       "    }\n",
       "</style>\n",
       "<table border=\"1\" class=\"dataframe\">\n",
       "  <thead>\n",
       "    <tr style=\"text-align: right;\">\n",
       "      <th></th>\n",
       "      <th>percent_PMs_on_time</th>\n",
       "      <th>total_PMs</th>\n",
       "    </tr>\n",
       "    <tr>\n",
       "      <th>fy_request</th>\n",
       "      <th></th>\n",
       "      <th></th>\n",
       "    </tr>\n",
       "  </thead>\n",
       "  <tbody>\n",
       "    <tr>\n",
       "      <th>2016</th>\n",
       "      <td>78.84</td>\n",
       "      <td>742</td>\n",
       "    </tr>\n",
       "    <tr>\n",
       "      <th>2017</th>\n",
       "      <td>52.89</td>\n",
       "      <td>1333</td>\n",
       "    </tr>\n",
       "    <tr>\n",
       "      <th>2018</th>\n",
       "      <td>77.20</td>\n",
       "      <td>1934</td>\n",
       "    </tr>\n",
       "    <tr>\n",
       "      <th>2019</th>\n",
       "      <td>51.44</td>\n",
       "      <td>1563</td>\n",
       "    </tr>\n",
       "    <tr>\n",
       "      <th>2020</th>\n",
       "      <td>36.39</td>\n",
       "      <td>1319</td>\n",
       "    </tr>\n",
       "    <tr>\n",
       "      <th>2021</th>\n",
       "      <td>39.74</td>\n",
       "      <td>468</td>\n",
       "    </tr>\n",
       "  </tbody>\n",
       "</table>\n",
       "</div>"
      ],
      "text/plain": [
       "            percent_PMs_on_time  total_PMs\n",
       "fy_request                                \n",
       "2016                      78.84        742\n",
       "2017                      52.89       1333\n",
       "2018                      77.20       1934\n",
       "2019                      51.44       1563\n",
       "2020                      36.39       1319\n",
       "2021                      39.74        468"
      ]
     },
     "execution_count": 23,
     "metadata": {},
     "output_type": "execute_result"
    }
   ],
   "source": [
    "pm_compliance = compute_kpi_table(wr_pm, \"percent_PMs_on_time\", \"total_PMs\")\n",
    "pm_compliance"
   ]
  },
  {
   "cell_type": "code",
   "execution_count": 24,
   "metadata": {},
   "outputs": [
    {
     "data": {
      "image/png": "[encoded data removed]",
      "text/plain": [
       "<Figure size 1008x432 with 2 Axes>"
      ]
     },
     "metadata": {},
     "output_type": "display_data"
    }
   ],
   "source": [
    "pointplot_with_barplot(\n",
    "    pm_compliance,\n",
    "    x=\"fy_request\",\n",
    "    point_y=\"percent_PMs_on_time\",\n",
    "    bar_y=\"total_PMs\",\n",
    "    ymax_bar=2_500,\n",
    "    ylabel_point=\"Percent PMs On Time\",\n",
    "    ylabel_bar=\"Total PMs Requested\",\n",
    "    title=\"Percent of PMs On Time By Fiscal Year\",\n",
    ")"
   ]
  },
  {
   "cell_type": "markdown",
   "metadata": {
    "hideCode": false,
    "hidePrompt": false
   },
   "source": [
    "## KPI: PM:CM Ratio"
   ]
  },
  {
   "cell_type": "markdown",
   "metadata": {
    "hideCode": false,
    "hidePrompt": false
   },
   "source": [
    "The two lists below contain the exact same problem types mentioned in last year's scorecard. So we would expect to be able to replicate last year's results closely."
   ]
  },
  {
   "cell_type": "code",
   "execution_count": 25,
   "metadata": {
    "hideCode": false,
    "hidePrompt": false
   },
   "outputs": [],
   "source": [
    "CM_list = [\n",
    "    \"BOILER\",\n",
    "    \"CHILLERS\",\n",
    "    \"COOLING TOWERS\",\n",
    "    \"HVAC\",\n",
    "    \"HVAC INFRASTRUCTURE\",\n",
    "    \"HVAC|REPAIR\",\n",
    "]\n",
    "\n",
    "PM_list = [\n",
    "    \"PREVENTIVE_HVAC\",\n",
    "]"
   ]
  },
  {
   "cell_type": "markdown",
   "metadata": {
    "hideCode": false,
    "hidePrompt": false
   },
   "source": [
    "### Filter to HVAC rows only"
   ]
  },
  {
   "cell_type": "code",
   "execution_count": 26,
   "metadata": {},
   "outputs": [
    {
     "data": {
      "text/plain": [
       "BLDG INSPECTION     1403\n",
       "GENERATOR TEST      1010\n",
       "ELEVATOR TEST        973\n",
       "HVAC INSPECTION      839\n",
       "BASEMENT INSPECT     689\n",
       "FUEL TANK TEST       517\n",
       "HEATING LEVELS       414\n",
       "HEAT CHECK TEST      180\n",
       "UTILITY ROOMS        113\n",
       "FLOOR BUFFING         62\n",
       "HVAC FILTER CHAN      21\n",
       "KITCHEN PM            15\n",
       "EXTERMINATION         10\n",
       "Name: PM_type, dtype: int64"
      ]
     },
     "execution_count": 26,
     "metadata": {},
     "output_type": "execute_result"
    }
   ],
   "source": []
  },
  {
   "cell_type": "code",
   "execution_count": 27,
   "metadata": {
    "hideCode": false,
    "hidePrompt": false
   },
   "outputs": [
    {
     "name": "stdout",
     "output_type": "stream",
     "text": [
      "Filtering to HVAC request only takes us from 70,948 rows to 12,980 rows.\n"
     ]
    }
   ],
   "source": [
    "cond_cm = wr_primary[\"problem_type\"].isin(CM_list)\n",
    "cond_pm = (wr_primary[\"primary_type\"].isin(PM_list)) | (wr_primary[\"PM_type\"] == 'HVAC INSPECTION')\n",
    "\n",
    "wr_HVAC = wr_primary[cond_cm | cond_pm]\n",
    "wr_HVAC[\"is_pm\"] = wr_HVAC[\"primary_type\"].isin(PM_list)\n",
    "\n",
    "print(\n",
    "    f\"Filtering to HVAC request only takes us from {len(wr_fy):,} rows to {len(wr_HVAC):,} rows.\"\n",
    ")"
   ]
  },
  {
   "cell_type": "code",
   "execution_count": 28,
   "metadata": {},
   "outputs": [
    {
     "data": {
      "text/plain": [
       "HVAC INSPECTION     839\n",
       "HEATING LEVELS      414\n",
       "HEAT CHECK TEST     180\n",
       "HVAC FILTER CHAN     21\n",
       "Name: PM_type, dtype: int64"
      ]
     },
     "execution_count": 28,
     "metadata": {},
     "output_type": "execute_result"
    }
   ],
   "source": [
    "wr_HVAC['PM_type'].value_counts()"
   ]
  },
  {
   "cell_type": "markdown",
   "metadata": {
    "hideCode": false,
    "hidePrompt": false
   },
   "source": [
    "### Compute all PM/CM stats by fiscal year\n",
    "First we deploy a custom function that counts the PMs and CMs in each fiscal year and then calculates the PM:CM ratio."
   ]
  },
  {
   "cell_type": "code",
   "execution_count": 29,
   "metadata": {},
   "outputs": [],
   "source": [
    "def compute_pm_cm(df, PM_list):\n",
    "    df = df.copy().sort_values(\"fy_request\")\n",
    "    df = df.dropna(subset=[\"days_to_completion\"])\n",
    "    results_df = pd.DataFrame(\n",
    "        columns=[\n",
    "            \"fiscal_year\",\n",
    "            # \"percent_pm\",\n",
    "            \"pm_cm_ratio\",\n",
    "            \"count_cm\",\n",
    "            \"count_pm\",\n",
    "            \"count_hvac\",\n",
    "        ]\n",
    "    )\n",
    "    for fiscal_year in df[\"fy_request\"].unique():\n",
    "        results_dict = {}\n",
    "        df_fy = df[df[\"fy_request\"] == fiscal_year]\n",
    "        cond_pm = df_fy[\"is_pm\"] == True\n",
    "        count_pm = len(df_fy[cond_pm])\n",
    "        count_hvac = len(df_fy)\n",
    "        count_cm = count_hvac - count_pm\n",
    "        results_dict[\"fiscal_year\"] = fiscal_year\n",
    "        results_dict[\"pm_cm_ratio\"] = (count_pm / count_cm) * 100\n",
    "        results_dict[\"count_pm\"] = count_pm\n",
    "        results_dict[\"count_cm\"] = count_cm\n",
    "        results_dict[\"count_hvac\"] = count_hvac\n",
    "        results_df = results_df.append(results_dict, ignore_index=True)\n",
    "    results_df[[\"fiscal_year\", \"count_cm\", \"count_pm\", \"count_hvac\"]] = results_df[\n",
    "        [\"fiscal_year\", \"count_cm\", \"count_pm\", \"count_hvac\"]\n",
    "    ].astype(\"Int64\")\n",
    "    return results_df"
   ]
  },
  {
   "cell_type": "code",
   "execution_count": 30,
   "metadata": {
    "hideCode": false,
    "hidePrompt": false
   },
   "outputs": [],
   "source": [
    "pm_cm_results = compute_pm_cm(wr_HVAC, PM_list)"
   ]
  },
  {
   "cell_type": "code",
   "execution_count": 31,
   "metadata": {
    "hideCode": false,
    "hidePrompt": false,
    "scrolled": true
   },
   "outputs": [
    {
     "data": {
      "text/html": [
       "<div>\n",
       "<style scoped>\n",
       "    .dataframe tbody tr th:only-of-type {\n",
       "        vertical-align: middle;\n",
       "    }\n",
       "\n",
       "    .dataframe tbody tr th {\n",
       "        vertical-align: top;\n",
       "    }\n",
       "\n",
       "    .dataframe thead th {\n",
       "        text-align: right;\n",
       "    }\n",
       "</style>\n",
       "<table border=\"1\" class=\"dataframe\">\n",
       "  <thead>\n",
       "    <tr style=\"text-align: right;\">\n",
       "      <th></th>\n",
       "      <th>fiscal_year</th>\n",
       "      <th>pm_cm_ratio</th>\n",
       "      <th>count_cm</th>\n",
       "      <th>count_pm</th>\n",
       "      <th>count_hvac</th>\n",
       "    </tr>\n",
       "  </thead>\n",
       "  <tbody>\n",
       "    <tr>\n",
       "      <th>0</th>\n",
       "      <td>2016</td>\n",
       "      <td>1.301406</td>\n",
       "      <td>1921</td>\n",
       "      <td>25</td>\n",
       "      <td>1946</td>\n",
       "    </tr>\n",
       "    <tr>\n",
       "      <th>1</th>\n",
       "      <td>2017</td>\n",
       "      <td>11.901441</td>\n",
       "      <td>2151</td>\n",
       "      <td>256</td>\n",
       "      <td>2407</td>\n",
       "    </tr>\n",
       "    <tr>\n",
       "      <th>2</th>\n",
       "      <td>2018</td>\n",
       "      <td>17.055215</td>\n",
       "      <td>2445</td>\n",
       "      <td>417</td>\n",
       "      <td>2862</td>\n",
       "    </tr>\n",
       "    <tr>\n",
       "      <th>3</th>\n",
       "      <td>2019</td>\n",
       "      <td>18.277512</td>\n",
       "      <td>2090</td>\n",
       "      <td>382</td>\n",
       "      <td>2472</td>\n",
       "    </tr>\n",
       "    <tr>\n",
       "      <th>4</th>\n",
       "      <td>2020</td>\n",
       "      <td>25.510768</td>\n",
       "      <td>1811</td>\n",
       "      <td>462</td>\n",
       "      <td>2273</td>\n",
       "    </tr>\n",
       "    <tr>\n",
       "      <th>5</th>\n",
       "      <td>2021</td>\n",
       "      <td>9.913793</td>\n",
       "      <td>928</td>\n",
       "      <td>92</td>\n",
       "      <td>1020</td>\n",
       "    </tr>\n",
       "  </tbody>\n",
       "</table>\n",
       "</div>"
      ],
      "text/plain": [
       "   fiscal_year  pm_cm_ratio  count_cm  count_pm  count_hvac\n",
       "0         2016     1.301406      1921        25        1946\n",
       "1         2017    11.901441      2151       256        2407\n",
       "2         2018    17.055215      2445       417        2862\n",
       "3         2019    18.277512      2090       382        2472\n",
       "4         2020    25.510768      1811       462        2273\n",
       "5         2021     9.913793       928        92        1020"
      ]
     },
     "execution_count": 31,
     "metadata": {},
     "output_type": "execute_result"
    }
   ],
   "source": [
    "pm_cm_results"
   ]
  },
  {
   "cell_type": "markdown",
   "metadata": {},
   "source": [
    "### Plot PM:CM ratio by fiscal year"
   ]
  },
  {
   "cell_type": "code",
   "execution_count": 32,
   "metadata": {
    "scrolled": true
   },
   "outputs": [
    {
     "name": "stderr",
     "output_type": "stream",
     "text": [
      "/Users/james/Documents/Bmore/repos/KPI_central/vis_utils.py:77: UserWarning: FixedFormatter should only be used together with FixedLocator\n",
      "  ax2.set_yticklabels(yticklabels)\n"
     ]
    },
    {
     "data": {
      "image/png": "[encoded data removed]",
      "text/plain": [
       "<Figure size 1008x432 with 2 Axes>"
      ]
     },
     "metadata": {},
     "output_type": "display_data"
    }
   ],
   "source": [
    "pointplot_with_barplot(\n",
    "    pm_cm_results,\n",
    "    x=\"fiscal_year\",\n",
    "    point_y=\"pm_cm_ratio\",\n",
    "    bar_y=\"count_hvac\",\n",
    "    ymax_bar=3_000,\n",
    "    ylabel_point=\"PM:CM Ratio\",\n",
    "    ylabel_bar=\"Total HVAC Work Requests\",\n",
    "    title=\"Preventive to Corrective Ratio By Fiscal Year\",\n",
    "    yticklabels=[\"0\", \"0\", \"0.25:1\", \"0.5:1\", \"0.75:1\", \"1:1\"],\n",
    ")"
   ]
  },
  {
   "cell_type": "markdown",
   "metadata": {},
   "source": [
    "### Plot the number of PMs and CMs by fiscal year\n",
    "We can get a little more insight into what's going on with the ratio by checking out the raw counts of preventive and corrective maintenance work requests by fiscal year. "
   ]
  },
  {
   "cell_type": "code",
   "execution_count": 33,
   "metadata": {
    "scrolled": true
   },
   "outputs": [
    {
     "data": {
      "image/png": "[encoded data removed]",
      "text/plain": [
       "<Figure size 1152x432 with 1 Axes>"
      ]
     },
     "metadata": {},
     "output_type": "display_data"
    }
   ],
   "source": [
    "count_plot_data = pd.melt(\n",
    "    pm_cm_results, id_vars=[\"fiscal_year\"], value_vars=[\"count_cm\", \"count_pm\"]\n",
    ")\n",
    "count_plot_data[\"value\"] = count_plot_data[\"value\"].astype(float)\n",
    "\n",
    "ax = sns.lineplot(data=count_plot_data, y=\"value\", x=\"fiscal_year\", hue=\"variable\")\n",
    "new_labels = [\"Corrective\", \"Preventive\"]\n",
    "plt.legend(title=\"Number of Work Orders\", loc=\"upper left\", labels=new_labels)\n",
    "\n",
    "ax.set(\n",
    "    title=\"Volume of HVAC PMs And CMs By Fiscal Year\",\n",
    "    xlabel=\"Fiscal Year\",\n",
    "    ylim=(0, 3000),\n",
    ")\n",
    "sns.despine()"
   ]
  },
  {
   "cell_type": "markdown",
   "metadata": {
    "hideCode": false,
    "hidePrompt": false
   },
   "source": [
    "## KPI: Percent of CM Work Requests Completed On-Time\n",
    "Here are the key facts needed to understand the agency's new method for computing this KPI:\n",
    "\n",
    "- Only CM problem types are considered, so all PM work orders are dropped.\n",
    "- The work orders are first assigned a \"primary\" problem type, which consolidates the number of problem types\n",
    "- Each of these primary problem types has a benchmark, which is then added to the work request's row\n",
    "- Finally, the work order is determined to be on-time based on comparing its time to completion to its benchmark"
   ]
  },
  {
   "cell_type": "markdown",
   "metadata": {},
   "source": [
    "### Filter to get CMs only"
   ]
  },
  {
   "cell_type": "code",
   "execution_count": null,
   "metadata": {},
   "outputs": [],
   "source": [
    "cond_cm = ~wr_primary[\"primary_type\"].str.contains(\"PREVENTIVE\")\n",
    "consolidated_cms = wr_primary[cond_cm]\n",
    "\n",
    "print(\n",
    "    f\"Dropping PMs takes us from {len(wr_primary):,} rows to {len(consolidated_cms):,} rows.\"\n",
    ")"
   ]
  },
  {
   "cell_type": "markdown",
   "metadata": {},
   "source": [
    "### Compute whether requests are on time"
   ]
  },
  {
   "cell_type": "code",
   "execution_count": null,
   "metadata": {
    "hideCode": false,
    "hidePrompt": false
   },
   "outputs": [],
   "source": [
    "cms_on_time = consolidated_cms.dropna(subset=[\"days_to_completion\"])"
   ]
  },
  {
   "cell_type": "markdown",
   "metadata": {},
   "source": [
    "### Group by fiscal year to get KPI"
   ]
  },
  {
   "cell_type": "code",
   "execution_count": null,
   "metadata": {
    "hideCode": false,
    "hidePrompt": false
   },
   "outputs": [],
   "source": [
    "cm_compliance = compute_kpi_table(cms_on_time, \"percent_CMs_on_time\", \"total_CMs\")\n",
    "cm_compliance"
   ]
  },
  {
   "cell_type": "markdown",
   "metadata": {},
   "source": [
    "### Plot % CMs on time by fiscal year"
   ]
  },
  {
   "cell_type": "code",
   "execution_count": null,
   "metadata": {
    "hideCode": false,
    "hidePrompt": false
   },
   "outputs": [],
   "source": [
    "pointplot_with_barplot(\n",
    "    cm_compliance,\n",
    "    x=\"fy_request\",\n",
    "    point_y=\"percent_CMs_on_time\",\n",
    "    bar_y=\"total_CMs\",\n",
    "    ymax_bar=18_000,\n",
    "    ylabel_point=\"Percent CMs On Time\",\n",
    "    ylabel_bar=\"Total CMs\",\n",
    "    title=\"Percent of CMs On Time By Fiscal Year\",\n",
    ")"
   ]
  },
  {
   "cell_type": "markdown",
   "metadata": {},
   "source": [
    "## Monthly figures for current FY\n",
    "First, enter the date of the first day that is outside the range. For example, if we want to show monthly data up to the end of February 2021, set the variable `end_date` to \"03-01-2021.\""
   ]
  },
  {
   "cell_type": "code",
   "execution_count": 38,
   "metadata": {},
   "outputs": [],
   "source": [
    "end_date = \"05-01-2021\""
   ]
  },
  {
   "cell_type": "markdown",
   "metadata": {},
   "source": [
    "### PMs on Time (By Month of close)"
   ]
  },
  {
   "cell_type": "code",
   "execution_count": null,
   "metadata": {},
   "outputs": [],
   "source": [
    "def compute_pm_cm_by_month(df, end_date):\n",
    "    df = df.copy().sort_values(\"date_closed\")\n",
    "    today = datetime.today()\n",
    "    cond_current_fy = df[\"fy_close\"] == today.year\n",
    "    cond_last_month = df[\"date_closed\"] < end_date\n",
    "    df = df[cond_current_fy & cond_last_month]\n",
    "    df[\"year_month\"] = df[\"date_closed\"].dt.strftime(\"%b-%y\")\n",
    "    results_df = pd.DataFrame(\n",
    "        columns=[\n",
    "            \"year_month\",\n",
    "            \"pm_cm_ratio\",\n",
    "            \"count_cm\",\n",
    "            \"count_pm\",\n",
    "            \"count_hvac\",\n",
    "        ]\n",
    "    )\n",
    "    for year_month in df[\"year_month\"].unique():\n",
    "        results_dict = {}\n",
    "        df_ym = df[df[\"year_month\"] == year_month]\n",
    "        cond_pm = df_ym[\"is_pm\"] == True\n",
    "        count_pm = len(df_ym[cond_pm])\n",
    "        count_hvac = len(df_ym)\n",
    "        count_cm = count_hvac - count_pm\n",
    "        results_dict[\"year_month\"] = year_month\n",
    "        results_dict[\"pm_cm_ratio\"] = (count_pm / count_cm) * 100\n",
    "        results_dict[\"count_pm\"] = count_pm\n",
    "        results_dict[\"count_cm\"] = count_cm\n",
    "        results_dict[\"count_hvac\"] = count_hvac\n",
    "        results_df = results_df.append(results_dict, ignore_index=True)\n",
    "    results_df[[\"count_cm\", \"count_pm\", \"count_hvac\"]] = results_df[\n",
    "        [\"count_cm\", \"count_pm\", \"count_hvac\"]\n",
    "    ].astype(int)\n",
    "    return results_df.round(2)\n",
    "\n",
    "\n",
    "def compute_kpi_table_by_month(\n",
    "    df,\n",
    "    label_for_KPI=None,\n",
    "    label_for_totals=None,\n",
    "    current_fy=2021,\n",
    "    end_date=None,\n",
    "    grouping=\"date_closed\",\n",
    "):\n",
    "    df = df.copy()\n",
    "    try:\n",
    "        end_date = pd.to_datetime(end_date)\n",
    "    except Exception:\n",
    "        print(f\"Date string {end_date} cannot be converted to a date.\")\n",
    "    # filter to current fy\n",
    "    cond_current_fy = df[\"fy_close\"] == current_fy\n",
    "    cond_end_date = df[\"date_closed\"] < end_date\n",
    "    df = df[cond_current_fy & cond_end_date]\n",
    "    table_df = (\n",
    "        df[[\"wr_id\", \"date_closed\", \"is_on_time\"]]\n",
    "        .resample(\"M\", on=grouping)\n",
    "        .agg({\"is_on_time\": \"mean\", \"wr_id\": \"count\"})\n",
    "    )\n",
    "    table_df[\"year_month\"] = table_df.index.strftime(\"%b-%y\")\n",
    "    table_df[\"is_on_time\"] = table_df[\"is_on_time\"].apply(lambda x: round(x * 100, 2))\n",
    "    table_df = table_df.rename(\n",
    "        columns={\"is_on_time\": label_for_KPI, \"wr_id\": label_for_totals}\n",
    "    )\n",
    "    return table_df"
   ]
  },
  {
   "cell_type": "code",
   "execution_count": null,
   "metadata": {},
   "outputs": [],
   "source": [
    "pms_on_time_current_fy = compute_kpi_table_by_month(\n",
    "    wr_pm,\n",
    "    \"percent_PMs_on_time\",\n",
    "    \"total_PMs\",\n",
    "    end_date=end_date,\n",
    ")\n",
    "pms_on_time_current_fy"
   ]
  },
  {
   "cell_type": "code",
   "execution_count": null,
   "metadata": {
    "scrolled": true
   },
   "outputs": [],
   "source": [
    "pointplot_with_barplot(\n",
    "    pms_on_time_current_fy,\n",
    "    x=\"year_month\",\n",
    "    point_y=\"percent_PMs_on_time\",\n",
    "    bar_y=\"total_PMs\",\n",
    "    ymax_bar=700,\n",
    "    ylabel_point=\"% PMs Completed On Time (Red Lines)\",\n",
    "    ylabel_bar=\"Total PMs Closed (Grey Bars)\",\n",
    "    title=\"Percent of All PMs Completed On Time By Month (FY21)\",\n",
    ")"
   ]
  },
  {
   "cell_type": "markdown",
   "metadata": {},
   "source": [
    "### PM:CM Ratio"
   ]
  },
  {
   "cell_type": "code",
   "execution_count": 46,
   "metadata": {},
   "outputs": [
    {
     "data": {
      "text/html": [
       "<div>\n",
       "<style scoped>\n",
       "    .dataframe tbody tr th:only-of-type {\n",
       "        vertical-align: middle;\n",
       "    }\n",
       "\n",
       "    .dataframe tbody tr th {\n",
       "        vertical-align: top;\n",
       "    }\n",
       "\n",
       "    .dataframe thead th {\n",
       "        text-align: right;\n",
       "    }\n",
       "</style>\n",
       "<table border=\"1\" class=\"dataframe\">\n",
       "  <thead>\n",
       "    <tr style=\"text-align: right;\">\n",
       "      <th></th>\n",
       "      <th>calendar_month_close</th>\n",
       "    </tr>\n",
       "  </thead>\n",
       "  <tbody>\n",
       "    <tr>\n",
       "      <th>59070</th>\n",
       "      <td>2016-11</td>\n",
       "    </tr>\n",
       "    <tr>\n",
       "      <th>50061</th>\n",
       "      <td>2016-06</td>\n",
       "    </tr>\n",
       "    <tr>\n",
       "      <th>76636</th>\n",
       "      <td>2018-02</td>\n",
       "    </tr>\n",
       "    <tr>\n",
       "      <th>76486</th>\n",
       "      <td>2020-03</td>\n",
       "    </tr>\n",
       "    <tr>\n",
       "      <th>86243</th>\n",
       "      <td>2018-10</td>\n",
       "    </tr>\n",
       "    <tr>\n",
       "      <th>87420</th>\n",
       "      <td>2020-03</td>\n",
       "    </tr>\n",
       "  </tbody>\n",
       "</table>\n",
       "</div>"
      ],
      "text/plain": [
       "      calendar_month_close\n",
       "59070              2016-11\n",
       "50061              2016-06\n",
       "76636              2018-02\n",
       "76486              2020-03\n",
       "86243              2018-10\n",
       "87420              2020-03"
      ]
     },
     "execution_count": 46,
     "metadata": {},
     "output_type": "execute_result"
    }
   ],
   "source": [
    "wr_HVAC[['calendar_month_close']].sample(6)"
   ]
  },
  {
   "cell_type": "code",
   "execution_count": 51,
   "metadata": {
    "scrolled": true
   },
   "outputs": [
    {
     "data": {
      "text/html": [
       "<div>\n",
       "<style scoped>\n",
       "    .dataframe tbody tr th:only-of-type {\n",
       "        vertical-align: middle;\n",
       "    }\n",
       "\n",
       "    .dataframe tbody tr th {\n",
       "        vertical-align: top;\n",
       "    }\n",
       "\n",
       "    .dataframe thead th {\n",
       "        text-align: right;\n",
       "    }\n",
       "</style>\n",
       "<table border=\"1\" class=\"dataframe\">\n",
       "  <thead>\n",
       "    <tr style=\"text-align: right;\">\n",
       "      <th></th>\n",
       "      <th>year_month</th>\n",
       "      <th>pm_cm_ratio</th>\n",
       "      <th>count_cm</th>\n",
       "      <th>count_pm</th>\n",
       "      <th>count_hvac</th>\n",
       "    </tr>\n",
       "  </thead>\n",
       "  <tbody>\n",
       "    <tr>\n",
       "      <th>0</th>\n",
       "      <td>Jul-20</td>\n",
       "      <td>0.00</td>\n",
       "      <td>1</td>\n",
       "      <td>0</td>\n",
       "      <td>1</td>\n",
       "    </tr>\n",
       "    <tr>\n",
       "      <th>1</th>\n",
       "      <td>Aug-20</td>\n",
       "      <td>0.00</td>\n",
       "      <td>7</td>\n",
       "      <td>0</td>\n",
       "      <td>7</td>\n",
       "    </tr>\n",
       "    <tr>\n",
       "      <th>2</th>\n",
       "      <td>Sep-20</td>\n",
       "      <td>0.00</td>\n",
       "      <td>30</td>\n",
       "      <td>0</td>\n",
       "      <td>30</td>\n",
       "    </tr>\n",
       "    <tr>\n",
       "      <th>3</th>\n",
       "      <td>Oct-20</td>\n",
       "      <td>0.00</td>\n",
       "      <td>12</td>\n",
       "      <td>0</td>\n",
       "      <td>12</td>\n",
       "    </tr>\n",
       "    <tr>\n",
       "      <th>4</th>\n",
       "      <td>Nov-20</td>\n",
       "      <td>0.72</td>\n",
       "      <td>138</td>\n",
       "      <td>1</td>\n",
       "      <td>139</td>\n",
       "    </tr>\n",
       "    <tr>\n",
       "      <th>5</th>\n",
       "      <td>Dec-20</td>\n",
       "      <td>25.00</td>\n",
       "      <td>16</td>\n",
       "      <td>4</td>\n",
       "      <td>20</td>\n",
       "    </tr>\n",
       "    <tr>\n",
       "      <th>6</th>\n",
       "      <td>Jan-21</td>\n",
       "      <td>1.59</td>\n",
       "      <td>63</td>\n",
       "      <td>1</td>\n",
       "      <td>64</td>\n",
       "    </tr>\n",
       "    <tr>\n",
       "      <th>7</th>\n",
       "      <td>Feb-21</td>\n",
       "      <td>0.71</td>\n",
       "      <td>140</td>\n",
       "      <td>1</td>\n",
       "      <td>141</td>\n",
       "    </tr>\n",
       "    <tr>\n",
       "      <th>8</th>\n",
       "      <td>Mar-21</td>\n",
       "      <td>7.03</td>\n",
       "      <td>128</td>\n",
       "      <td>9</td>\n",
       "      <td>137</td>\n",
       "    </tr>\n",
       "    <tr>\n",
       "      <th>9</th>\n",
       "      <td>Apr-21</td>\n",
       "      <td>56.45</td>\n",
       "      <td>124</td>\n",
       "      <td>70</td>\n",
       "      <td>194</td>\n",
       "    </tr>\n",
       "  </tbody>\n",
       "</table>\n",
       "</div>"
      ],
      "text/plain": [
       "  year_month  pm_cm_ratio  count_cm  count_pm  count_hvac\n",
       "0     Jul-20         0.00         1         0           1\n",
       "1     Aug-20         0.00         7         0           7\n",
       "2     Sep-20         0.00        30         0          30\n",
       "3     Oct-20         0.00        12         0          12\n",
       "4     Nov-20         0.72       138         1         139\n",
       "5     Dec-20        25.00        16         4          20\n",
       "6     Jan-21         1.59        63         1          64\n",
       "7     Feb-21         0.71       140         1         141\n",
       "8     Mar-21         7.03       128         9         137\n",
       "9     Apr-21        56.45       124        70         194"
      ]
     },
     "execution_count": 51,
     "metadata": {},
     "output_type": "execute_result"
    }
   ],
   "source": [
    "wr_HVAC = wr_HVAC.drop('date_closed', axis=1)\n",
    "wr_HVAC = wr_HVAC.dropna(subset=['calendar_month_close'])\n",
    "wr_HVAC[\"year\"] = wr_HVAC[\"calendar_month_close\"].str[:4].astype(int)\n",
    "wr_HVAC[\"month\"] = wr_HVAC[\"calendar_month_close\"].str[-2:].astype(int)\n",
    "wr_HVAC[\"month_start_close\"] = pd.to_datetime(wr_HVAC[[\"year\", \"month\"]].assign(DAY=1))\n",
    "wr_HVAC = wr_HVAC.rename(columns={\"fy_request\": \"fiscal_year\", \"month_start_close\": 'date_closed'})\n",
    "\n",
    "pm_cm_ratio_current_fy = compute_pm_cm_by_month(wr_HVAC, [\"list\"], end_date=end_date)\n",
    "pm_cm_ratio_current_fy"
   ]
  },
  {
   "cell_type": "code",
   "execution_count": 52,
   "metadata": {
    "scrolled": false
   },
   "outputs": [
    {
     "name": "stderr",
     "output_type": "stream",
     "text": [
      "/Users/james/Documents/Bmore/repos/KPI_central/vis_utils.py:77: UserWarning: FixedFormatter should only be used together with FixedLocator\n",
      "  ax2.set_yticklabels(yticklabels)\n"
     ]
    },
    {
     "data": {
      "image/png": "[encoded data removed]",
      "text/plain": [
       "<Figure size 1008x432 with 2 Axes>"
      ]
     },
     "metadata": {},
     "output_type": "display_data"
    }
   ],
   "source": [
    "pointplot_with_barplot(\n",
    "    pm_cm_ratio_current_fy,\n",
    "    x=\"year_month\",\n",
    "    point_y=\"pm_cm_ratio\",\n",
    "    bar_y=\"count_hvac\",\n",
    "    yaxis_freq=25,\n",
    "    ymax_point=135,\n",
    "    ymax_bar=1_000,\n",
    "    ylabel_point=\"PM:CM Ratio (Red Lines)\",\n",
    "    ylabel_bar=\"Total HVAC Work Requests Closed (Grey Bars)\",\n",
    "    title=\"Preventive to Corrective Ratio (HVAC Only) By Month (FY21)\",\n",
    "    yticklabels=[\n",
    "        \"\",\n",
    "        \"0:1\",\n",
    "        \"0.25:1\",\n",
    "        \"0.5:1\",\n",
    "        \"0.75:1\",\n",
    "        \"1:1\",\n",
    "        \"1.25:1\"\n",
    "    ],\n",
    ")"
   ]
  },
  {
   "cell_type": "code",
   "execution_count": null,
   "metadata": {},
   "outputs": [],
   "source": [
    "pm_cm_ratio_current_fy = pm_cm_ratio_current_fy.rename(\n",
    "    columns={\"count_cm\": \"HVAC CMs\", \"count_pm\": \"HVAC PMs\"}\n",
    ")\n",
    "\n",
    "count_plot_data = pd.melt(\n",
    "    pm_cm_ratio_current_fy, id_vars=[\"year_month\"], value_vars=[\"HVAC CMs\", \"HVAC PMs\"]\n",
    ")\n",
    "count_plot_data = count_plot_data.rename(columns={\"variable\": \"Type of PM\"})\n",
    "\n",
    "ax = sns.pointplot(\n",
    "    data=count_plot_data, y=\"value\", marker=\"o\", x=\"year_month\", hue=\"Type of PM\"\n",
    ")\n",
    "# new_labels = [\"Corrective\", \"Preventive\"]\n",
    "# plt.legend(title=\"Number of Work Orders\", loc=\"upper left\", labels=new_labels)\n",
    "\n",
    "ax.set(\n",
    "    title=\"Volume of HVAC PMs & CMs Closed By Month\",\n",
    "    xlabel=\"Fiscal Year\",\n",
    "    ylabel=\"Number of Work Requests Closed\",\n",
    "    ylim=(0, 800),\n",
    ")\n",
    "sns.despine()"
   ]
  },
  {
   "cell_type": "code",
   "execution_count": null,
   "metadata": {},
   "outputs": [],
   "source": [
    "cms_on_time_current_fy = compute_kpi_table_by_month(\n",
    "    cms_on_time,\n",
    "    \"percent_CMs_on_time\",\n",
    "    \"total_CMs\",\n",
    "    end_date=end_date,\n",
    ")\n",
    "\n",
    "cms_on_time_current_fy"
   ]
  },
  {
   "cell_type": "code",
   "execution_count": null,
   "metadata": {},
   "outputs": [],
   "source": [
    "pointplot_with_barplot(\n",
    "    cms_on_time_current_fy,\n",
    "    x=\"year_month\",\n",
    "    point_y=\"percent_CMs_on_time\",\n",
    "    bar_y=\"total_CMs\",\n",
    "    ymax_bar=4_000,\n",
    "    ylabel_point=\"% CMs Completed On Time (Red Lines)\",\n",
    "    ylabel_bar=\"Total CMs Closed (Grey Bars)\",\n",
    "    title=\"Percent of CMs Completed On Time By Month (FY21)\",\n",
    ")"
   ]
  },
  {
   "cell_type": "code",
   "execution_count": null,
   "metadata": {},
   "outputs": [],
   "source": [
    "def compute_kpi_table_by_month(\n",
    "    df,\n",
    "    label_for_KPI=None,\n",
    "    label_for_totals=None,\n",
    "    current_fy=2021,\n",
    "    end_date=None,\n",
    "    grouping=\"date_closed\",\n",
    "):\n",
    "    df = df.copy()\n",
    "    try:\n",
    "        end_date = pd.to_datetime(end_date)\n",
    "    except Exception:\n",
    "        print(f\"Date string {end_date} cannot be converted to a date.\")\n",
    "    # filter to current fy\n",
    "    cond_current_fy = df[\"fiscal_year\"] == current_fy\n",
    "    cond_end_date = df[\"date_closed\"] < end_date\n",
    "    df = df[cond_current_fy & cond_end_date]\n",
    "    table_df = (\n",
    "        df[[\"wr_id\", \"date_closed\", \"is_on_time\"]]\n",
    "        .resample(\"M\", on=grouping)\n",
    "        .agg({\"is_on_time\": \"mean\", \"wr_id\": \"count\"})\n",
    "    )\n",
    "    table_df[\"year_month\"] = table_df.index.strftime(\"%b-%y\")\n",
    "    table_df[\"is_on_time\"] = table_df[\"is_on_time\"].apply(lambda x: round(x * 100, 2))\n",
    "    table_df = table_df.rename(\n",
    "        columns={\"is_on_time\": label_for_KPI, \"wr_id\": label_for_totals}\n",
    "    )\n",
    "    return table_df"
   ]
  },
  {
   "cell_type": "code",
   "execution_count": null,
   "metadata": {},
   "outputs": [],
   "source": [
    "cms_on_time_by_request = compute_kpi_table_by_month(\n",
    "    cms_on_time,\n",
    "    \"percent_CMs_on_time\",\n",
    "    \"total_CMs\",\n",
    "    end_date=end_date,\n",
    "    grouping=\"calend_mon\",\n",
    ")\n",
    "\n",
    "cms_on_time_by_request"
   ]
  },
  {
   "cell_type": "code",
   "execution_count": null,
   "metadata": {},
   "outputs": [],
   "source": [
    "pointplot_with_barplot(\n",
    "    cms_on_time_by_request,\n",
    "    x=\"year_month\",\n",
    "    point_y=\"percent_CMs_on_time\",\n",
    "    bar_y=\"total_CMs\",\n",
    "    ymax_bar=4_000,\n",
    "    ylabel_point=\"% CMs Completed On Time (Red Lines)\",\n",
    "    ylabel_bar=\"Total CMs Closed (Grey Bars)\",\n",
    "    title=\"Percent of CMs Completed On Time By Month (FY21)\",\n",
    ")"
   ]
  },
  {
   "cell_type": "markdown",
   "metadata": {},
   "source": [
    "### Percent backlog"
   ]
  },
  {
   "cell_type": "code",
   "execution_count": null,
   "metadata": {},
   "outputs": [],
   "source": [
    "wr_fy[\"is_backlog\"] = wr_fy[\"days_to_completion\"] > 90"
   ]
  },
  {
   "cell_type": "code",
   "execution_count": null,
   "metadata": {},
   "outputs": [],
   "source": [
    "def compute_backlog_table_by_month(\n",
    "    df, label_for_KPI=None, label_for_totals=None, current_fy=2021, end_date=None\n",
    "):\n",
    "    df = df.copy()\n",
    "    try:\n",
    "        end_date = pd.to_datetime(end_date)\n",
    "    except Exception:\n",
    "        print(f\"Date string {end_date} cannot be converted to a date.\")\n",
    "    # filter to current fy\n",
    "    cond_current_fy = df[\"fy_close\"] == current_fy\n",
    "    cond_end_date = df[\"date_closed\"] < end_date\n",
    "    df = df[cond_current_fy & cond_end_date]\n",
    "    table_df = (\n",
    "        df[[\"wr_id\", \"date_closed\", \"is_backlog\"]]\n",
    "        .resample(\"M\", on=\"date_closed\")\n",
    "        .agg({\"is_backlog\": \"mean\", \"wr_id\": \"count\"})\n",
    "    )\n",
    "    table_df[\"year_month\"] = table_df.index.strftime(\"%b-%y\")\n",
    "    table_df[\"is_backlog\"] = table_df[\"is_backlog\"].apply(lambda x: round(x * 100, 2))\n",
    "    table_df = table_df.rename(\n",
    "        columns={\"is_backlog\": label_for_KPI, \"wr_id\": label_for_totals}\n",
    "    )\n",
    "    return table_df\n",
    "\n",
    "\n",
    "backlog_plot_data = compute_backlog_table_by_month(\n",
    "    wr_fy,\n",
    "    label_for_KPI=\"percent_backlog\",\n",
    "    label_for_totals=\"total_work_orders\",\n",
    "    end_date=end_date,\n",
    ")"
   ]
  },
  {
   "cell_type": "code",
   "execution_count": null,
   "metadata": {
    "scrolled": true
   },
   "outputs": [],
   "source": [
    "pointplot_with_barplot(\n",
    "    backlog_plot_data,\n",
    "    x=\"year_month\",\n",
    "    point_y=\"percent_backlog\",\n",
    "    bar_y=\"total_work_orders\",\n",
    "    ymax_bar=5_000,\n",
    "    ylabel_point=\"% Backlog (Red Lines)\",\n",
    "    ylabel_bar=\"Total WRs Closed (Grey Bars)\",\n",
    "    xlabel=\"Month\",\n",
    "    title=\"Percent of WRs Closed that Were Older than 90 Days (FY21)\",\n",
    ")"
   ]
  },
  {
   "cell_type": "markdown",
   "metadata": {
    "hideOutput": true,
    "hidePrompt": true
   },
   "source": [
    "## Backlog charts\n",
    "\n",
    "For this we need `wr_durations` because `wr_fy` has assigned the date based on the date of closure."
   ]
  },
  {
   "cell_type": "markdown",
   "metadata": {},
   "source": [
    "### Backlog by problem type"
   ]
  },
  {
   "cell_type": "code",
   "execution_count": null,
   "metadata": {},
   "outputs": [],
   "source": [
    "wr_primary[wr_primary[\"status\"] == \"Com\"][[\"days_to_completion\", \"status\"]].sample(10)"
   ]
  },
  {
   "cell_type": "code",
   "execution_count": null,
   "metadata": {},
   "outputs": [],
   "source": [
    "wr_primary.status.value_counts()"
   ]
  },
  {
   "cell_type": "code",
   "execution_count": null,
   "metadata": {},
   "outputs": [],
   "source": [
    "def group_backlog_by_col(df, col=\"primary\", backlog_length: int = 90, top_n: int = 10):\n",
    "    df = df.copy()\n",
    "    # filter to backlog\n",
    "    cond_backlog = df[\"days_to_completion\"] >= backlog_length\n",
    "\n",
    "    cond_status = df[\"status\"].isin([\"A\", \"AA\", \"Com\", \"I\", \"HC\", \"S\"])\n",
    "    df = df[cond_status & cond_backlog]\n",
    "    counts_df = pd.DataFrame(\n",
    "        df.groupby(col)[\"wr_id\"].count().sort_values(ascending=False)\n",
    "    )\n",
    "    counts_df = counts_df.head(top_n)\n",
    "    return counts_df.reset_index()\n",
    "\n",
    "\n",
    "primary_df = group_backlog_by_col(\n",
    "    wr_fy,\n",
    "    col=\"bl_id\",\n",
    "    backlog_length=10,\n",
    ")\n",
    "\n",
    "primary_df"
   ]
  },
  {
   "cell_type": "code",
   "execution_count": null,
   "metadata": {
    "scrolled": true
   },
   "outputs": [],
   "source": [
    "ax = sns.barplot(data=primary_df, x=\"bl_id\", y=\"wr_id\", color=\"lightgreen\")\n",
    "ax.set_xticklabels(ax.get_xticklabels(), rotation=45, horizontalalignment=\"right\")\n",
    "ax.set(\n",
    "    title=\"Size of Backlog By Building Number (> 90 Days)\",\n",
    "    ylabel=\"Count of work requests\",\n",
    ")\n",
    "sns.despine()"
   ]
  },
  {
   "cell_type": "markdown",
   "metadata": {},
   "source": [
    "### Backlog by supervisor"
   ]
  },
  {
   "cell_type": "code",
   "execution_count": null,
   "metadata": {},
   "outputs": [],
   "source": [
    "supervisor_df = group_backlog_by_col(\n",
    "    backlog_df, col=\"supervisor_anon\", backlog_length=90\n",
    ")"
   ]
  },
  {
   "cell_type": "markdown",
   "metadata": {},
   "source": [
    "```Clo    92499 0 Closed\n",
    "Com     6238 1 Completed\n",
    "Can     3515 0 Canceled\n",
    "AA      2821 1 Assigned to Work Order\n",
    "I        827   Issued and In Process\n",
    "R        515   Rejected\n",
    "HC       301   Unknown\n",
    "S        167   Stopped\n",
    "Rej      105   Rejected\n",
    "HMI       83   Unknown \n",
    "RMI       82\n",
    "HL        33\n",
    "HP        20\n",
    "HI        11\n",
    "HA         8\n",
    "A          3```"
   ]
  },
  {
   "cell_type": "code",
   "execution_count": null,
   "metadata": {
    "scrolled": true
   },
   "outputs": [],
   "source": [
    "ax = sns.barplot(data=supervisor_df, x=\"supervisor\", y=\"wr_id\", color=\"lightgreen\")\n",
    "ax.set_xticklabels(ax.get_xticklabels(), rotation=45, horizontalalignment=\"right\")\n",
    "ax.set(title=\"Size of Backlog By Supervisor\", ylabel=\"Count of work requests\")\n",
    "sns.despine()"
   ]
  },
  {
   "cell_type": "markdown",
   "metadata": {},
   "source": [
    "### Backlog by status"
   ]
  },
  {
   "cell_type": "code",
   "execution_count": null,
   "metadata": {},
   "outputs": [],
   "source": [
    "status_df = group_backlog_by_col(backlog_df, col=\"status\", backlog_length=90)\n",
    "status_df[\"status\"] = status_df[\"status\"].map(\n",
    "    {\n",
    "        \"Com\": \"Complete\",\n",
    "        \"AA\": \"Assigned\",\n",
    "        \"I\": \"Issued/in process\",\n",
    "        \"S\": \"Stopped\",\n",
    "        \"HC\": \"HC\",\n",
    "    }\n",
    ")"
   ]
  },
  {
   "cell_type": "code",
   "execution_count": null,
   "metadata": {},
   "outputs": [],
   "source": [
    "ax = sns.barplot(data=status_df, x=\"status\", y=\"wr_id\", color=\"lightgreen\")\n",
    "ax.set_xticklabels(ax.get_xticklabels(), rotation=45, horizontalalignment=\"right\")\n",
    "ax.set(title=\"Size of Backlog By Status (> 90 Days)\", ylabel=\"Count of work requests\")\n",
    "sns.despine()"
   ]
  },
  {
   "cell_type": "code",
   "execution_count": null,
   "metadata": {},
   "outputs": [],
   "source": [
    "backlog_df.columns"
   ]
  },
  {
   "cell_type": "code",
   "execution_count": null,
   "metadata": {},
   "outputs": [],
   "source": [
    "violin_plot_data = backlog_df[\n",
    "    backlog_df[\"status\"].isin([\"A\", \"AA\", \"Com\", \"I\", \"HC\", \"S\"])\n",
    "]\n",
    "ax = sns.violinplot(x=\"status\", y=\"days_open\", data=violin_plot_data)\n",
    "ax.set(title=\"Backlog WRs with 'Completed' Status Are Older than Others\")\n",
    "sns.despine()"
   ]
  }
 ],
 "metadata": {
  "hide_code_all_hidden": false,
  "kernelspec": {
   "display_name": "Python 3",
   "language": "python",
   "name": "python3"
  },
  "language_info": {
   "codemirror_mode": {
    "name": "ipython",
    "version": 3
   },
   "file_extension": ".py",
   "mimetype": "text/x-python",
   "name": "python",
   "nbconvert_exporter": "python",
   "pygments_lexer": "ipython3",
   "version": "3.7.7"
  },
  "toc": {
   "base_numbering": 1,
   "nav_menu": {},
   "number_sections": true,
   "sideBar": true,
   "skip_h1_title": true,
   "title_cell": "Table of Contents",
   "title_sidebar": "Contents",
   "toc_cell": false,
   "toc_position": {
    "height": "calc(100% - 180px)",
    "left": "10px",
    "top": "150px",
    "width": "315.99px"
   },
   "toc_section_display": true,
   "toc_window_display": true
  }
 },
 "nbformat": 4,
 "nbformat_minor": 4
}
