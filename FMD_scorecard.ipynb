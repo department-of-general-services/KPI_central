{
 "cells": [
  {
   "cell_type": "markdown",
   "metadata": {
    "hideCode": false,
    "hidePrompt": false
   },
   "source": [
    "# Facilities KPI Scorecard\n",
    "This notebook serves as a repository of public-facing KPIs for the Department of General Services' Facilities Division. The purpose of this notebook is to have, in a single public place, the entire pipeline for calculating the division's three KPIs that are based in Archibus. Those KPIs are:\n",
    "\n",
    "1. % of Corrective Maintenance Work Requests Completed On Time\n",
    "2. % of Preventive Maintenance Work Requests Completed On Time\n",
    "3. Preventive Maintenace to Corrective Maintenance Ratio\n",
    "\n",
    "Part of the intention of this notebook is to build _transparency_ and _reproducibility_ by capturing the entire end-to-end process used to calculate these metrics in one place."
   ]
  },
  {
   "cell_type": "markdown",
   "metadata": {
    "hideCode": false,
    "hideOutput": false,
    "hidePrompt": false
   },
   "source": [
    "## Setup"
   ]
  },
  {
   "cell_type": "markdown",
   "metadata": {
    "hideCode": false,
    "hideOutput": false,
    "hidePrompt": false
   },
   "source": [
    "### Import packages"
   ]
  },
  {
   "cell_type": "code",
   "execution_count": 1,
   "metadata": {
    "hideCode": false,
    "hideOutput": false,
    "hidePrompt": false,
    "tags": [
     "hide-input"
    ]
   },
   "outputs": [],
   "source": [
    "# workhorse modules\n",
    "import pandas as pd\n",
    "import numpy as np\n",
    "from datetime import timedelta, datetime\n",
    "import re\n",
    "from pathlib import Path\n",
    "import seaborn as sns\n",
    "import datadotworld as dw\n",
    "import matplotlib.pyplot as plt\n",
    "from faker import Faker\n",
    "\n",
    "# local utility functions\n",
    "from utils import (\n",
    "    add_cm_benchmarks,\n",
    "    add_fiscal_year,\n",
    "    set_pd_params,\n",
    "    tidy_up_df,\n",
    "    cast_dtypes,\n",
    "    glue_date_time,\n",
    "    compute_days_to_completion,\n",
    "    compute_days_open,\n",
    "    consolidate_prob_types,\n",
    "    compute_pm_cm,\n",
    "    compute_pm_cm_by_month,\n",
    "    compute_kpi_table,\n",
    "    compute_kpi_table_by_month,\n",
    ")\n",
    "\n",
    "from vis_utils import set_plot_params, pointplot_with_barplot"
   ]
  },
  {
   "cell_type": "markdown",
   "metadata": {
    "hideCode": false,
    "hideOutput": false,
    "hidePrompt": false
   },
   "source": [
    "### Set pandas options\n",
    "This makes Pandas print all rows and columns to the output when requested."
   ]
  },
  {
   "cell_type": "code",
   "execution_count": 2,
   "metadata": {
    "hideCode": false,
    "hidePrompt": false
   },
   "outputs": [],
   "source": [
    "set_pd_params()\n",
    "set_plot_params()\n",
    "pd.options.mode.chained_assignment = None  # default='warn'"
   ]
  },
  {
   "cell_type": "markdown",
   "metadata": {
    "hideCode": false,
    "hidePrompt": false
   },
   "source": [
    "### Import the work order data from Data.World\n",
    "This data is a copy of Archibus's `wrhwr` table stored at DGS's account on Data.World. To see the exact query used to generate the input data, see `/sql/input_for_FMD_KPIs.sql`."
   ]
  },
  {
   "cell_type": "code",
   "execution_count": 3,
   "metadata": {
    "hideCode": false,
    "hidePrompt": false
   },
   "outputs": [],
   "source": [
    "kpis_raw = dw.query(\n",
    "    dataset_key=\"dgsbpio/auditfinding3\", query=\"select * from wrhwr_20210329\"\n",
    ").dataframe"
   ]
  },
  {
   "cell_type": "code",
   "execution_count": 4,
   "metadata": {},
   "outputs": [
    {
     "name": "stdout",
     "output_type": "stream",
     "text": [
      "The work orders dataframe has 107,236 rows.\n"
     ]
    },
    {
     "data": {
      "text/html": [
       "<div>\n",
       "<style scoped>\n",
       "    .dataframe tbody tr th:only-of-type {\n",
       "        vertical-align: middle;\n",
       "    }\n",
       "\n",
       "    .dataframe tbody tr th {\n",
       "        vertical-align: top;\n",
       "    }\n",
       "\n",
       "    .dataframe thead th {\n",
       "        text-align: right;\n",
       "    }\n",
       "</style>\n",
       "<table border=\"1\" class=\"dataframe\">\n",
       "  <thead>\n",
       "    <tr style=\"text-align: right;\">\n",
       "      <th></th>\n",
       "      <th>wr_id</th>\n",
       "      <th>prob_type</th>\n",
       "      <th>date_requested</th>\n",
       "    </tr>\n",
       "  </thead>\n",
       "  <tbody>\n",
       "    <tr>\n",
       "      <th>60889</th>\n",
       "      <td>90036</td>\n",
       "      <td>HVAC</td>\n",
       "      <td>2017-06-27 00:00:00.000</td>\n",
       "    </tr>\n",
       "    <tr>\n",
       "      <th>63377</th>\n",
       "      <td>92431</td>\n",
       "      <td>ELEC/LIGHT</td>\n",
       "      <td>2017-08-17 00:00:00.000</td>\n",
       "    </tr>\n",
       "    <tr>\n",
       "      <th>67566</th>\n",
       "      <td>96618</td>\n",
       "      <td>NULL</td>\n",
       "      <td>2017-11-27 12:54:42.950</td>\n",
       "    </tr>\n",
       "  </tbody>\n",
       "</table>\n",
       "</div>"
      ],
      "text/plain": [
       "       wr_id                         prob_type          date_requested\n",
       "60889  90036  HVAC                             2017-06-27 00:00:00.000\n",
       "63377  92431  ELEC/LIGHT                       2017-08-17 00:00:00.000\n",
       "67566  96618                              NULL 2017-11-27 12:54:42.950"
      ]
     },
     "execution_count": 4,
     "metadata": {},
     "output_type": "execute_result"
    }
   ],
   "source": [
    "print(f\"The work orders dataframe has {kpis_raw.shape[0]:,} rows.\")\n",
    "\n",
    "kpis_raw.sample(3, random_state=444)[[\"wr_id\", \"prob_type\", \"date_requested\"]]"
   ]
  },
  {
   "cell_type": "code",
   "execution_count": 5,
   "metadata": {},
   "outputs": [
    {
     "data": {
      "text/plain": [
       "Index(['wr_id', 'requestor', 'status', 'bl_id', 'prob_type', 'date_completed',\n",
       "       'time_completed', 'date_assigned', 'time_assigned', 'date_requested',\n",
       "       'time_requested', 'date_closed', 'description', 'work_team_id',\n",
       "       'priority_label', 'cf_notes', 'cost_total', 'invoice_number',\n",
       "       'po_number', 'supervisor'],\n",
       "      dtype='object')"
      ]
     },
     "execution_count": 5,
     "metadata": {},
     "output_type": "execute_result"
    }
   ],
   "source": [
    "kpis_raw.columns"
   ]
  },
  {
   "cell_type": "markdown",
   "metadata": {},
   "source": [
    "### Import the users table\n",
    "The only reason why we need this second table is to figure out which work requests of type \"OTHER\" were requested by FMD staff and which were requested by a Service Request Liaison. \n",
    "\n",
    "OTHERs requested internally will be given the primary problem type \"OTHER-INTERNAL\", while OTHERs requested by SRLs will be given the primary problem type \"OTHER-EXTERNAL\"."
   ]
  },
  {
   "cell_type": "code",
   "execution_count": 6,
   "metadata": {
    "hideCode": false,
    "hidePrompt": false
   },
   "outputs": [],
   "source": [
    "users = dw.query(\n",
    "    dataset_key=\"dgsbpio/auditfinding3\", query=\"select * from archibus_user_roles\"\n",
    ").dataframe\n",
    "\n",
    "users = users.applymap(lambda x: x.strip() if isinstance(x, str) else x)"
   ]
  },
  {
   "cell_type": "markdown",
   "metadata": {
    "hideCode": false,
    "hidePrompt": false
   },
   "source": [
    "## Data cleaning\n",
    "For the purposes of this project, DGS is keeping the cleaning stage very simple. We're not attempting to remove duplicates or outliers, both of which involve relatively complex operations. "
   ]
  },
  {
   "cell_type": "markdown",
   "metadata": {
    "hideCode": false,
    "hidePrompt": false
   },
   "source": [
    "### Basic cleaning\n",
    "- removes white spaces in strings to facilitate matching, \n",
    "- drops rows with no problem type, or rows created by a test,\n",
    "- renames a few columns"
   ]
  },
  {
   "cell_type": "code",
   "execution_count": 7,
   "metadata": {
    "hideCode": false,
    "hidePrompt": false
   },
   "outputs": [
    {
     "name": "stdout",
     "output_type": "stream",
     "text": [
      "The tidied work orders dataframe has 107,109 rows.\n",
      "By tidying the data, we have removed 127 rows.\n"
     ]
    }
   ],
   "source": [
    "# make sure each column is of the correct data type\n",
    "wr_tidy = cast_dtypes(kpis_raw)\n",
    "# basic cleaning\n",
    "wr_tidy = tidy_up_df(wr_tidy)\n",
    "\n",
    "print(f\"The tidied work orders dataframe has {len(wr_tidy):,} rows.\")\n",
    "print(f\"By tidying the data, we have removed {len(kpis_raw) - len(wr_tidy):,} rows.\")"
   ]
  },
  {
   "cell_type": "markdown",
   "metadata": {},
   "source": [
    "### Drop canceled and rejected work orders\n",
    "The data comes to us with many canceled work orders. Those shouldn't count against us as not having been completed on time. So we drop them here. "
   ]
  },
  {
   "cell_type": "code",
   "execution_count": 8,
   "metadata": {},
   "outputs": [
    {
     "name": "stdout",
     "output_type": "stream",
     "text": [
      "By dropping canceled work orders, we have removed 3,567 rows.\n"
     ]
    }
   ],
   "source": [
    "# drop rows that were canceled\n",
    "cond_valid = ~wr_tidy[\"status\"].isin([\"Can\", \"Rej\"])\n",
    "\n",
    "wr_valid = wr_tidy[cond_valid]\n",
    "\n",
    "print(\n",
    "    f\"By dropping canceled work orders, we have removed {len(wr_tidy) - len(wr_valid):,} rows.\"\n",
    ")"
   ]
  },
  {
   "cell_type": "markdown",
   "metadata": {
    "hideCode": false,
    "hidePrompt": false
   },
   "source": [
    "### Combine date and time columns to get timestamps\n",
    "This takes the date from a date column and the time from a time column and combines them into a single timestamp.\n",
    "\n",
    "This transformation allows us to know the time to completion with greater precision. "
   ]
  },
  {
   "cell_type": "code",
   "execution_count": 9,
   "metadata": {
    "hideCode": false,
    "hidePrompt": false
   },
   "outputs": [],
   "source": [
    "# glue the date and time for request\n",
    "wr_dt = glue_date_time(wr_valid, \"date_requested\", \"time_requested\", \"requested_dt\")\n",
    "\n",
    "# glue the date and time for completion\n",
    "wr_dt = glue_date_time(wr_dt, \"date_completed\", \"time_completed\", \"completed_dt\")\n",
    "\n",
    "# convert \"date closed\" to a valid datetime (this column has no time information)\n",
    "wr_dt[\"date_closed\"] = wr_dt[\"date_closed\"].astype(\"datetime64\")"
   ]
  },
  {
   "cell_type": "markdown",
   "metadata": {
    "hideCode": false,
    "hidePrompt": false
   },
   "source": [
    "### Examine the cleaned data\n",
    "The display below gives us a sense of what some key columns in the data now look like. "
   ]
  },
  {
   "cell_type": "code",
   "execution_count": 10,
   "metadata": {
    "hideCode": false,
    "hidePrompt": false
   },
   "outputs": [
    {
     "data": {
      "text/html": [
       "<div>\n",
       "<style scoped>\n",
       "    .dataframe tbody tr th:only-of-type {\n",
       "        vertical-align: middle;\n",
       "    }\n",
       "\n",
       "    .dataframe tbody tr th {\n",
       "        vertical-align: top;\n",
       "    }\n",
       "\n",
       "    .dataframe thead th {\n",
       "        text-align: right;\n",
       "    }\n",
       "</style>\n",
       "<table border=\"1\" class=\"dataframe\">\n",
       "  <thead>\n",
       "    <tr style=\"text-align: right;\">\n",
       "      <th></th>\n",
       "      <th>wr_id</th>\n",
       "      <th>problem_type</th>\n",
       "      <th>requested_dt</th>\n",
       "      <th>completed_dt</th>\n",
       "      <th>date_closed</th>\n",
       "      <th>status</th>\n",
       "    </tr>\n",
       "  </thead>\n",
       "  <tbody>\n",
       "    <tr>\n",
       "      <th>51589</th>\n",
       "      <td>79755</td>\n",
       "      <td>SERV/PEST</td>\n",
       "      <td>2016-12-09 09:55:07</td>\n",
       "      <td>2016-12-22 10:03:25</td>\n",
       "      <td>2017-01-06 15:12:31.043</td>\n",
       "      <td>Clo</td>\n",
       "    </tr>\n",
       "    <tr>\n",
       "      <th>80276</th>\n",
       "      <td>110831</td>\n",
       "      <td>BATHROOM_FIXT</td>\n",
       "      <td>2018-09-13 16:18:51</td>\n",
       "      <td>2018-10-11 08:20:36</td>\n",
       "      <td>2020-01-24 13:56:46.653</td>\n",
       "      <td>Clo</td>\n",
       "    </tr>\n",
       "    <tr>\n",
       "      <th>38977</th>\n",
       "      <td>63674</td>\n",
       "      <td>OTHER</td>\n",
       "      <td>2016-03-22 10:45:32</td>\n",
       "      <td>2016-03-24 13:23:11</td>\n",
       "      <td>2016-04-03 15:57:12.443</td>\n",
       "      <td>Clo</td>\n",
       "    </tr>\n",
       "    <tr>\n",
       "      <th>37906</th>\n",
       "      <td>62592</td>\n",
       "      <td>PREVENTIVE MAINT</td>\n",
       "      <td>2016-03-01 12:30:06</td>\n",
       "      <td>2016-04-06 06:26:30</td>\n",
       "      <td>2016-04-06 06:38:30.340</td>\n",
       "      <td>Clo</td>\n",
       "    </tr>\n",
       "  </tbody>\n",
       "</table>\n",
       "</div>"
      ],
      "text/plain": [
       "        wr_id      problem_type        requested_dt        completed_dt  \\\n",
       "51589   79755         SERV/PEST 2016-12-09 09:55:07 2016-12-22 10:03:25   \n",
       "80276  110831     BATHROOM_FIXT 2018-09-13 16:18:51 2018-10-11 08:20:36   \n",
       "38977   63674             OTHER 2016-03-22 10:45:32 2016-03-24 13:23:11   \n",
       "37906   62592  PREVENTIVE MAINT 2016-03-01 12:30:06 2016-04-06 06:26:30   \n",
       "\n",
       "                  date_closed status  \n",
       "51589 2017-01-06 15:12:31.043    Clo  \n",
       "80276 2020-01-24 13:56:46.653    Clo  \n",
       "38977 2016-04-03 15:57:12.443    Clo  \n",
       "37906 2016-04-06 06:38:30.340    Clo  "
      ]
     },
     "execution_count": 10,
     "metadata": {},
     "output_type": "execute_result"
    }
   ],
   "source": [
    "wr_dt[\n",
    "    [\n",
    "        \"wr_id\",\n",
    "        \"problem_type\",\n",
    "        \"requested_dt\",\n",
    "        \"completed_dt\",\n",
    "        \"date_closed\",\n",
    "        \"status\",\n",
    "    ]\n",
    "].sample(4, random_state=451)"
   ]
  },
  {
   "cell_type": "markdown",
   "metadata": {
    "hideCode": false,
    "hidePrompt": false
   },
   "source": [
    "## Data preparation"
   ]
  },
  {
   "cell_type": "markdown",
   "metadata": {},
   "source": [
    "### Merge work requests and user data\n",
    "Now we bring the data from the users table into the work request table. This lets us figure out the rose of the user who requested each work request. "
   ]
  },
  {
   "cell_type": "code",
   "execution_count": 11,
   "metadata": {
    "hideCode": false,
    "hidePrompt": false
   },
   "outputs": [],
   "source": [
    "wr_joined = wr_dt.merge(\n",
    "    users[[\"user_name\", \"role_name\"]],\n",
    "    how=\"left\",\n",
    "    left_on=\"requestor\",\n",
    "    right_on=\"user_name\",\n",
    ")"
   ]
  },
  {
   "cell_type": "markdown",
   "metadata": {
    "hideCode": false,
    "hidePrompt": false
   },
   "source": [
    "### Add days to completion\n",
    "Next, we compute the duration of time between the request and completion, for each job. We store that number in a column called \"days_to_completion\". "
   ]
  },
  {
   "cell_type": "code",
   "execution_count": 12,
   "metadata": {
    "hideCode": false,
    "hidePrompt": false
   },
   "outputs": [],
   "source": [
    "wr_durations = compute_days_open(wr_joined)\n",
    "wr_durations = compute_days_to_completion(wr_durations)"
   ]
  },
  {
   "cell_type": "markdown",
   "metadata": {},
   "source": [
    "Let's check out three rows of the data, now that we've added some columns. Notice that `days_to_completion` is empty if the work request hasn't been marked completed yet. "
   ]
  },
  {
   "cell_type": "code",
   "execution_count": 13,
   "metadata": {
    "hideCode": false,
    "hidePrompt": false
   },
   "outputs": [
    {
     "data": {
      "text/html": [
       "<div>\n",
       "<style scoped>\n",
       "    .dataframe tbody tr th:only-of-type {\n",
       "        vertical-align: middle;\n",
       "    }\n",
       "\n",
       "    .dataframe tbody tr th {\n",
       "        vertical-align: top;\n",
       "    }\n",
       "\n",
       "    .dataframe thead th {\n",
       "        text-align: right;\n",
       "    }\n",
       "</style>\n",
       "<table border=\"1\" class=\"dataframe\">\n",
       "  <thead>\n",
       "    <tr style=\"text-align: right;\">\n",
       "      <th></th>\n",
       "      <th>wr_id</th>\n",
       "      <th>role_name</th>\n",
       "      <th>problem_type</th>\n",
       "      <th>requested_dt</th>\n",
       "      <th>completed_dt</th>\n",
       "      <th>date_closed</th>\n",
       "      <th>days_to_completion</th>\n",
       "      <th>status</th>\n",
       "    </tr>\n",
       "    <tr>\n",
       "      <th>requested_dt</th>\n",
       "      <th></th>\n",
       "      <th></th>\n",
       "      <th></th>\n",
       "      <th></th>\n",
       "      <th></th>\n",
       "      <th></th>\n",
       "      <th></th>\n",
       "      <th></th>\n",
       "    </tr>\n",
       "  </thead>\n",
       "  <tbody>\n",
       "    <tr>\n",
       "      <th>2015-06-15 09:28:35</th>\n",
       "      <td>37940</td>\n",
       "      <td>SUPERVISOR - BOC</td>\n",
       "      <td>OTHER</td>\n",
       "      <td>2015-06-15 09:28:35</td>\n",
       "      <td>2015-06-16 13:23:11</td>\n",
       "      <td>2015-06-18 00:00:00.000</td>\n",
       "      <td>1.16</td>\n",
       "      <td>Clo</td>\n",
       "    </tr>\n",
       "    <tr>\n",
       "      <th>2016-01-04 15:43:32</th>\n",
       "      <td>58136</td>\n",
       "      <td>GATEKEEPER - BOC</td>\n",
       "      <td>ELEC/LIGHT</td>\n",
       "      <td>2016-01-04 15:43:32</td>\n",
       "      <td>2016-04-11 10:25:58</td>\n",
       "      <td>2016-04-11 10:28:41.910</td>\n",
       "      <td>97.78</td>\n",
       "      <td>Clo</td>\n",
       "    </tr>\n",
       "    <tr>\n",
       "      <th>2018-10-20 11:52:08</th>\n",
       "      <td>112354</td>\n",
       "      <td>SUPERVISOR - BOC</td>\n",
       "      <td>OTHER</td>\n",
       "      <td>2018-10-20 11:52:08</td>\n",
       "      <td>2019-04-29 14:18:30</td>\n",
       "      <td>2020-01-28 13:17:27.393</td>\n",
       "      <td>191.10</td>\n",
       "      <td>Clo</td>\n",
       "    </tr>\n",
       "  </tbody>\n",
       "</table>\n",
       "</div>"
      ],
      "text/plain": [
       "                      wr_id         role_name problem_type  \\\n",
       "requested_dt                                                 \n",
       "2015-06-15 09:28:35   37940  SUPERVISOR - BOC        OTHER   \n",
       "2016-01-04 15:43:32   58136  GATEKEEPER - BOC   ELEC/LIGHT   \n",
       "2018-10-20 11:52:08  112354  SUPERVISOR - BOC        OTHER   \n",
       "\n",
       "                           requested_dt        completed_dt  \\\n",
       "requested_dt                                                  \n",
       "2015-06-15 09:28:35 2015-06-15 09:28:35 2015-06-16 13:23:11   \n",
       "2016-01-04 15:43:32 2016-01-04 15:43:32 2016-04-11 10:25:58   \n",
       "2018-10-20 11:52:08 2018-10-20 11:52:08 2019-04-29 14:18:30   \n",
       "\n",
       "                                date_closed  days_to_completion status  \n",
       "requested_dt                                                            \n",
       "2015-06-15 09:28:35 2015-06-18 00:00:00.000                1.16    Clo  \n",
       "2016-01-04 15:43:32 2016-04-11 10:28:41.910               97.78    Clo  \n",
       "2018-10-20 11:52:08 2020-01-28 13:17:27.393              191.10    Clo  "
      ]
     },
     "execution_count": 13,
     "metadata": {},
     "output_type": "execute_result"
    }
   ],
   "source": [
    "wr_durations[\n",
    "    [\n",
    "        \"wr_id\",\n",
    "        \"role_name\",\n",
    "        \"problem_type\",\n",
    "        \"requested_dt\",\n",
    "        \"completed_dt\",\n",
    "        \"date_closed\",\n",
    "        \"days_to_completion\",\n",
    "        \"status\",\n",
    "    ]\n",
    "].sample(3, random_state=446)"
   ]
  },
  {
   "cell_type": "markdown",
   "metadata": {
    "hideCode": false,
    "hidePrompt": false
   },
   "source": [
    "### Add fiscal year\n",
    "There are different ways to assign a fiscal year to a work request. Currently, we're doing it by the fiscal year in which the work request was closed. Other options would include the fiscal year of the request. \n"
   ]
  },
  {
   "cell_type": "code",
   "execution_count": 14,
   "metadata": {
    "hideCode": false,
    "hidePrompt": false
   },
   "outputs": [],
   "source": [
    "wr_fy = add_fiscal_year(wr_durations, assign_fy_on=\"closure\")"
   ]
  },
  {
   "cell_type": "markdown",
   "metadata": {},
   "source": [
    "After assigning the fiscal year, we can drop work requests from FY15 and older. "
   ]
  },
  {
   "cell_type": "code",
   "execution_count": 15,
   "metadata": {
    "hideCode": false,
    "hidePrompt": false
   },
   "outputs": [
    {
     "name": "stdout",
     "output_type": "stream",
     "text": [
      "66307\n"
     ]
    }
   ],
   "source": [
    "cond_fy = wr_fy[\"fiscal_year\"].isin(range(2016, 2022))\n",
    "wr_fy = wr_fy[cond_fy]\n",
    "\n",
    "print(len(wr_fy))"
   ]
  },
  {
   "cell_type": "markdown",
   "metadata": {},
   "source": [
    "### Anonymize names"
   ]
  },
  {
   "cell_type": "code",
   "execution_count": 16,
   "metadata": {},
   "outputs": [],
   "source": [
    "def split_names(row):\n",
    "    if \".\" in row[\"supervisor\"]:\n",
    "        full_name = row[\"supervisor\"].split(\".\")\n",
    "        row[\"supervisor_fname\"] = full_name[0]\n",
    "        row[\"supervisor_lname\"] = full_name[1]\n",
    "    if row[\"supervisor\"] == \"NULL\":\n",
    "        row[\"supervisor_fname\"] = \"NULL\"\n",
    "        row[\"supervisor_lname\"] = \"NULL\"\n",
    "    return row\n",
    "\n",
    "\n",
    "wr_names = wr_fy.apply(split_names, axis=1)"
   ]
  },
  {
   "cell_type": "code",
   "execution_count": 17,
   "metadata": {},
   "outputs": [
    {
     "name": "stdout",
     "output_type": "stream",
     "text": [
      "Length: 66307\n"
     ]
    },
    {
     "data": {
      "text/html": [
       "<div>\n",
       "<style scoped>\n",
       "    .dataframe tbody tr th:only-of-type {\n",
       "        vertical-align: middle;\n",
       "    }\n",
       "\n",
       "    .dataframe tbody tr th {\n",
       "        vertical-align: top;\n",
       "    }\n",
       "\n",
       "    .dataframe thead th {\n",
       "        text-align: right;\n",
       "    }\n",
       "</style>\n",
       "<table border=\"1\" class=\"dataframe\">\n",
       "  <thead>\n",
       "    <tr style=\"text-align: right;\">\n",
       "      <th></th>\n",
       "      <th>supervisor_anon</th>\n",
       "    </tr>\n",
       "    <tr>\n",
       "      <th>requested_dt</th>\n",
       "      <th></th>\n",
       "    </tr>\n",
       "  </thead>\n",
       "  <tbody>\n",
       "    <tr>\n",
       "      <th>2013-10-23 10:13:32</th>\n",
       "      <td>BRITTANY.WARD</td>\n",
       "    </tr>\n",
       "    <tr>\n",
       "      <th>2013-10-23 13:45:19</th>\n",
       "      <td>ALISON.MILLER</td>\n",
       "    </tr>\n",
       "    <tr>\n",
       "      <th>2013-10-28 14:17:29</th>\n",
       "      <td>ALISON.MILLER</td>\n",
       "    </tr>\n",
       "    <tr>\n",
       "      <th>2013-10-30 08:35:21</th>\n",
       "      <td>KEVIN.SALAZAR</td>\n",
       "    </tr>\n",
       "    <tr>\n",
       "      <th>2013-11-20 13:20:58</th>\n",
       "      <td>ANGELA.JACOBSON</td>\n",
       "    </tr>\n",
       "  </tbody>\n",
       "</table>\n",
       "</div>"
      ],
      "text/plain": [
       "                     supervisor_anon\n",
       "requested_dt                        \n",
       "2013-10-23 10:13:32    BRITTANY.WARD\n",
       "2013-10-23 13:45:19    ALISON.MILLER\n",
       "2013-10-28 14:17:29    ALISON.MILLER\n",
       "2013-10-30 08:35:21    KEVIN.SALAZAR\n",
       "2013-11-20 13:20:58  ANGELA.JACOBSON"
      ]
     },
     "execution_count": 17,
     "metadata": {},
     "output_type": "execute_result"
    }
   ],
   "source": [
    "def replace_names(df, faker):\n",
    "    # empty string values as nan\n",
    "    df[\"supervisor\"] = df[\"supervisor\"].replace(\"NULL\", np.nan)\n",
    "    # name replacement dictionary\n",
    "    fname_replacements = {\n",
    "        name: faker.first_name().upper().replace(\" \", \"\")\n",
    "        for name in df[\"supervisor_fname\"].unique()\n",
    "        if name is not np.nan\n",
    "    }\n",
    "    lname_replacements = {\n",
    "        name: faker.last_name().upper().replace(\" \", \"\")\n",
    "        for name in df[\"supervisor_lname\"].unique()\n",
    "        if name is not np.nan\n",
    "    }\n",
    "\n",
    "    # apply replacement\n",
    "    df = df.replace(\n",
    "        {\"supervisor_fname\": fname_replacements, \"supervisor_lname\": lname_replacements}\n",
    "    )\n",
    "    df[\"supervisor_anon\"] = df[\"supervisor_fname\"] + \".\" + df[\"supervisor_lname\"]\n",
    "    df = df.drop(columns=[\"supervisor_fname\", \"supervisor_lname\"])\n",
    "    df = df.replace(np.nan, \"NULL\")\n",
    "    return df\n",
    "\n",
    "\n",
    "fake = Faker()\n",
    "wr_names = replace_names(wr_names, fake)\n",
    "\n",
    "print(f\"Length: {len(wr_names)}\")\n",
    "\n",
    "wr_names[[\"supervisor_anon\"]].head()"
   ]
  },
  {
   "cell_type": "markdown",
   "metadata": {},
   "source": [
    "### Consolidate many problem types into primary types\n",
    "As shown below, consolidating all the different problem types gets us from a starting place of 110 problem types to only 30. Much more manageable to have 30 benchmarks than 110."
   ]
  },
  {
   "cell_type": "code",
   "execution_count": 18,
   "metadata": {
    "hideCode": false,
    "hidePrompt": false
   },
   "outputs": [],
   "source": [
    "wr_primary = wr_names.copy()\n",
    "\n",
    "wr_primary = wr_primary.apply(consolidate_prob_types, axis=1)"
   ]
  },
  {
   "cell_type": "code",
   "execution_count": 19,
   "metadata": {},
   "outputs": [
    {
     "name": "stdout",
     "output_type": "stream",
     "text": [
      "Consolidation takes us from 110 problem types to only 30.\n"
     ]
    }
   ],
   "source": [
    "print(\n",
    "    f\"Consolidation takes us from {wr_primary['problem_type'].nunique()} problem types to only {wr_primary['primary'].nunique():,}.\"\n",
    ")"
   ]
  },
  {
   "cell_type": "markdown",
   "metadata": {},
   "source": [
    "### Anonymize names"
   ]
  },
  {
   "cell_type": "code",
   "execution_count": 20,
   "metadata": {},
   "outputs": [],
   "source": [
    "def split_names(row):\n",
    "    if \".\" in row[\"supervisor\"]:\n",
    "        full_name = row[\"supervisor\"].split(\".\")\n",
    "        row[\"supervisor_fname\"] = full_name[0]\n",
    "        row[\"supervisor_lname\"] = full_name[1]\n",
    "    if row[\"supervisor\"] == \"NULL\":\n",
    "        row[\"supervisor_fname\"] = \"NULL\"\n",
    "        row[\"supervisor_lname\"] = \"NULL\"\n",
    "    return row\n",
    "\n",
    "\n",
    "wr_names = wr_fy.apply(split_names, axis=1).head(12)"
   ]
  },
  {
   "cell_type": "code",
   "execution_count": 21,
   "metadata": {},
   "outputs": [
    {
     "data": {
      "text/html": [
       "<div>\n",
       "<style scoped>\n",
       "    .dataframe tbody tr th:only-of-type {\n",
       "        vertical-align: middle;\n",
       "    }\n",
       "\n",
       "    .dataframe tbody tr th {\n",
       "        vertical-align: top;\n",
       "    }\n",
       "\n",
       "    .dataframe thead th {\n",
       "        text-align: right;\n",
       "    }\n",
       "</style>\n",
       "<table border=\"1\" class=\"dataframe\">\n",
       "  <thead>\n",
       "    <tr style=\"text-align: right;\">\n",
       "      <th></th>\n",
       "      <th>supervisor_anon</th>\n",
       "    </tr>\n",
       "    <tr>\n",
       "      <th>requested_dt</th>\n",
       "      <th></th>\n",
       "    </tr>\n",
       "  </thead>\n",
       "  <tbody>\n",
       "    <tr>\n",
       "      <th>2013-10-23 10:13:32</th>\n",
       "      <td>NULL</td>\n",
       "    </tr>\n",
       "    <tr>\n",
       "      <th>2013-10-23 13:45:19</th>\n",
       "      <td>SANDRA.LONG</td>\n",
       "    </tr>\n",
       "    <tr>\n",
       "      <th>2013-10-28 14:17:29</th>\n",
       "      <td>SANDRA.LONG</td>\n",
       "    </tr>\n",
       "    <tr>\n",
       "      <th>2013-10-30 08:35:21</th>\n",
       "      <td>BRENDA.LONG</td>\n",
       "    </tr>\n",
       "    <tr>\n",
       "      <th>2013-11-20 13:20:58</th>\n",
       "      <td>DEVON.THOMPSON</td>\n",
       "    </tr>\n",
       "  </tbody>\n",
       "</table>\n",
       "</div>"
      ],
      "text/plain": [
       "                    supervisor_anon\n",
       "requested_dt                       \n",
       "2013-10-23 10:13:32            NULL\n",
       "2013-10-23 13:45:19     SANDRA.LONG\n",
       "2013-10-28 14:17:29     SANDRA.LONG\n",
       "2013-10-30 08:35:21     BRENDA.LONG\n",
       "2013-11-20 13:20:58  DEVON.THOMPSON"
      ]
     },
     "execution_count": 21,
     "metadata": {},
     "output_type": "execute_result"
    }
   ],
   "source": [
    "def replace_names(df, faker):\n",
    "    # empty string values as nan\n",
    "    df[[\"supervisor_fname\", \"supervisor_lname\"]] = df[\n",
    "        [\"supervisor_fname\", \"supervisor_lname\"]\n",
    "    ].replace(\"NULL\", np.nan)\n",
    "    # name replacement dictionary\n",
    "    fname_replacements = {\n",
    "        name: faker.first_name().upper().replace(\" \", \"\")\n",
    "        for name in df[\"supervisor_fname\"].unique()\n",
    "        if name is not np.nan\n",
    "    }\n",
    "    lname_replacements = {\n",
    "        name: faker.last_name().upper().replace(\" \", \"\")\n",
    "        for name in df[\"supervisor_lname\"].unique()\n",
    "        if name is not np.nan\n",
    "    }\n",
    "\n",
    "    # apply replacement\n",
    "    df = df.replace(\n",
    "        {\"supervisor_fname\": fname_replacements, \"supervisor_lname\": lname_replacements}\n",
    "    )\n",
    "    df[\"supervisor_anon\"] = df[\"supervisor_fname\"] + \".\" + df[\"supervisor_lname\"]\n",
    "    df = df.drop(columns=[\"supervisor_fname\", \"supervisor_lname\"])\n",
    "    df[\"supervisor_anon\"] = df[\"supervisor_anon\"].replace(np.nan, \"NULL\")\n",
    "    return df\n",
    "\n",
    "\n",
    "fake = Faker()\n",
    "wr_names = replace_names(wr_names, fake)\n",
    "\n",
    "wr_names[[\"supervisor_anon\"]].head()"
   ]
  },
  {
   "cell_type": "markdown",
   "metadata": {
    "hideCode": false,
    "hidePrompt": false
   },
   "source": [
    "## KPI: % PMs Completed On Time \n",
    "The goal here is to filter the data down to preventive maintenance only, and then show how many are completed on or before the benchmark (21 days)."
   ]
  },
  {
   "cell_type": "markdown",
   "metadata": {
    "hideCode": false,
    "hidePrompt": false
   },
   "source": [
    "### Filter to valid PM only, and for relevant fiscal years only\n",
    "After noticing that many PMs have the status \"Can\" — meaning they were canceled — we fil"
   ]
  },
  {
   "cell_type": "code",
   "execution_count": 22,
   "metadata": {
    "hideCode": false,
    "hidePrompt": false
   },
   "outputs": [
    {
     "name": "stdout",
     "output_type": "stream",
     "text": [
      "The filtered PMs dataframe has 6,980 rows.\n"
     ]
    }
   ],
   "source": [
    "# this defines which problem types are considered PMs\n",
    "pm_list = [\n",
    "    \"BUILDING INTERIOR INSPECTION\",\n",
    "    \"BUILDING PM\",\n",
    "    \"HVAC|PM\",\n",
    "    \"INSEPCTION\",\n",
    "    \"PREVENTIVE MAINT\",\n",
    "]\n",
    "\n",
    "# filter data to PM types only\n",
    "cond_pm = wr_primary[\"problem_type\"].isin(pm_list)\n",
    "\n",
    "# apply filter conditions\n",
    "wr_pm = wr_primary[cond_pm]\n",
    "\n",
    "print(f\"The filtered PMs dataframe has {wr_pm.shape[0]:,} rows.\")"
   ]
  },
  {
   "cell_type": "markdown",
   "metadata": {
    "hideCode": false,
    "hidePrompt": false
   },
   "source": [
    "#### Compute the benchmark and add `is_on_time` column\n",
    "Here we tell Python that PMs are on-time if completed in 21 days. \n",
    "\n",
    "Then the function `compute_is_on_time` compares the column `days_to_completion` to the benchmark and writes down whether the work request was completed on time. "
   ]
  },
  {
   "cell_type": "code",
   "execution_count": 23,
   "metadata": {
    "hideCode": false,
    "hidePrompt": false
   },
   "outputs": [
    {
     "ename": "ValueError",
     "evalue": "invalid literal for int() with base 10: 'NULL'",
     "output_type": "error",
     "traceback": [
      "\u001b[0;31m-------------------------------------------------\u001b[0m",
      "\u001b[0;31mValueError\u001b[0m      Traceback (most recent call last)",
      "\u001b[0;32m<ipython-input-23-c0448b0054bb>\u001b[0m in \u001b[0;36m<module>\u001b[0;34m\u001b[0m\n\u001b[1;32m      8\u001b[0m \u001b[0;34m\u001b[0m\u001b[0m\n\u001b[1;32m      9\u001b[0m \u001b[0;31m# add \"is_on_time\" column with performance data\u001b[0m\u001b[0;34m\u001b[0m\u001b[0;34m\u001b[0m\u001b[0;34m\u001b[0m\u001b[0m\n\u001b[0;32m---> 10\u001b[0;31m \u001b[0mpms_on_time\u001b[0m \u001b[0;34m=\u001b[0m \u001b[0mwr_pm\u001b[0m\u001b[0;34m.\u001b[0m\u001b[0mapply\u001b[0m\u001b[0;34m(\u001b[0m\u001b[0mcompute_is_on_time\u001b[0m\u001b[0;34m,\u001b[0m \u001b[0maxis\u001b[0m\u001b[0;34m=\u001b[0m\u001b[0;36m1\u001b[0m\u001b[0;34m)\u001b[0m\u001b[0;34m\u001b[0m\u001b[0;34m\u001b[0m\u001b[0m\n\u001b[0m",
      "\u001b[0;32m~/Documents/Bmore/repos/KPI_central/env/lib/python3.7/site-packages/pandas/core/frame.py\u001b[0m in \u001b[0;36mapply\u001b[0;34m(self, func, axis, raw, result_type, args, **kwds)\u001b[0m\n\u001b[1;32m   7763\u001b[0m             \u001b[0mkwds\u001b[0m\u001b[0;34m=\u001b[0m\u001b[0mkwds\u001b[0m\u001b[0;34m,\u001b[0m\u001b[0;34m\u001b[0m\u001b[0;34m\u001b[0m\u001b[0m\n\u001b[1;32m   7764\u001b[0m         )\n\u001b[0;32m-> 7765\u001b[0;31m         \u001b[0;32mreturn\u001b[0m \u001b[0mop\u001b[0m\u001b[0;34m.\u001b[0m\u001b[0mget_result\u001b[0m\u001b[0;34m(\u001b[0m\u001b[0;34m)\u001b[0m\u001b[0;34m\u001b[0m\u001b[0;34m\u001b[0m\u001b[0m\n\u001b[0m\u001b[1;32m   7766\u001b[0m \u001b[0;34m\u001b[0m\u001b[0m\n\u001b[1;32m   7767\u001b[0m     \u001b[0;32mdef\u001b[0m \u001b[0mapplymap\u001b[0m\u001b[0;34m(\u001b[0m\u001b[0mself\u001b[0m\u001b[0;34m,\u001b[0m \u001b[0mfunc\u001b[0m\u001b[0;34m,\u001b[0m \u001b[0mna_action\u001b[0m\u001b[0;34m:\u001b[0m \u001b[0mOptional\u001b[0m\u001b[0;34m[\u001b[0m\u001b[0mstr\u001b[0m\u001b[0;34m]\u001b[0m \u001b[0;34m=\u001b[0m \u001b[0;32mNone\u001b[0m\u001b[0;34m)\u001b[0m \u001b[0;34m->\u001b[0m \u001b[0mDataFrame\u001b[0m\u001b[0;34m:\u001b[0m\u001b[0;34m\u001b[0m\u001b[0;34m\u001b[0m\u001b[0m\n",
      "\u001b[0;32m~/Documents/Bmore/repos/KPI_central/env/lib/python3.7/site-packages/pandas/core/apply.py\u001b[0m in \u001b[0;36mget_result\u001b[0;34m(self)\u001b[0m\n\u001b[1;32m    183\u001b[0m             \u001b[0;32mreturn\u001b[0m \u001b[0mself\u001b[0m\u001b[0;34m.\u001b[0m\u001b[0mapply_raw\u001b[0m\u001b[0;34m(\u001b[0m\u001b[0;34m)\u001b[0m\u001b[0;34m\u001b[0m\u001b[0;34m\u001b[0m\u001b[0m\n\u001b[1;32m    184\u001b[0m \u001b[0;34m\u001b[0m\u001b[0m\n\u001b[0;32m--> 185\u001b[0;31m         \u001b[0;32mreturn\u001b[0m \u001b[0mself\u001b[0m\u001b[0;34m.\u001b[0m\u001b[0mapply_standard\u001b[0m\u001b[0;34m(\u001b[0m\u001b[0;34m)\u001b[0m\u001b[0;34m\u001b[0m\u001b[0;34m\u001b[0m\u001b[0m\n\u001b[0m\u001b[1;32m    186\u001b[0m \u001b[0;34m\u001b[0m\u001b[0m\n\u001b[1;32m    187\u001b[0m     \u001b[0;32mdef\u001b[0m \u001b[0mapply_empty_result\u001b[0m\u001b[0;34m(\u001b[0m\u001b[0mself\u001b[0m\u001b[0;34m)\u001b[0m\u001b[0;34m:\u001b[0m\u001b[0;34m\u001b[0m\u001b[0;34m\u001b[0m\u001b[0m\n",
      "\u001b[0;32m~/Documents/Bmore/repos/KPI_central/env/lib/python3.7/site-packages/pandas/core/apply.py\u001b[0m in \u001b[0;36mapply_standard\u001b[0;34m(self)\u001b[0m\n\u001b[1;32m    274\u001b[0m \u001b[0;34m\u001b[0m\u001b[0m\n\u001b[1;32m    275\u001b[0m     \u001b[0;32mdef\u001b[0m \u001b[0mapply_standard\u001b[0m\u001b[0;34m(\u001b[0m\u001b[0mself\u001b[0m\u001b[0;34m)\u001b[0m\u001b[0;34m:\u001b[0m\u001b[0;34m\u001b[0m\u001b[0;34m\u001b[0m\u001b[0m\n\u001b[0;32m--> 276\u001b[0;31m         \u001b[0mresults\u001b[0m\u001b[0;34m,\u001b[0m \u001b[0mres_index\u001b[0m \u001b[0;34m=\u001b[0m \u001b[0mself\u001b[0m\u001b[0;34m.\u001b[0m\u001b[0mapply_series_generator\u001b[0m\u001b[0;34m(\u001b[0m\u001b[0;34m)\u001b[0m\u001b[0;34m\u001b[0m\u001b[0;34m\u001b[0m\u001b[0m\n\u001b[0m\u001b[1;32m    277\u001b[0m \u001b[0;34m\u001b[0m\u001b[0m\n\u001b[1;32m    278\u001b[0m         \u001b[0;31m# wrap results\u001b[0m\u001b[0;34m\u001b[0m\u001b[0;34m\u001b[0m\u001b[0;34m\u001b[0m\u001b[0m\n",
      "\u001b[0;32m~/Documents/Bmore/repos/KPI_central/env/lib/python3.7/site-packages/pandas/core/apply.py\u001b[0m in \u001b[0;36mapply_series_generator\u001b[0;34m(self)\u001b[0m\n\u001b[1;32m    288\u001b[0m             \u001b[0;32mfor\u001b[0m \u001b[0mi\u001b[0m\u001b[0;34m,\u001b[0m \u001b[0mv\u001b[0m \u001b[0;32min\u001b[0m \u001b[0menumerate\u001b[0m\u001b[0;34m(\u001b[0m\u001b[0mseries_gen\u001b[0m\u001b[0;34m)\u001b[0m\u001b[0;34m:\u001b[0m\u001b[0;34m\u001b[0m\u001b[0;34m\u001b[0m\u001b[0m\n\u001b[1;32m    289\u001b[0m                 \u001b[0;31m# ignore SettingWithCopy here in case the user mutates\u001b[0m\u001b[0;34m\u001b[0m\u001b[0;34m\u001b[0m\u001b[0;34m\u001b[0m\u001b[0m\n\u001b[0;32m--> 290\u001b[0;31m                 \u001b[0mresults\u001b[0m\u001b[0;34m[\u001b[0m\u001b[0mi\u001b[0m\u001b[0;34m]\u001b[0m \u001b[0;34m=\u001b[0m \u001b[0mself\u001b[0m\u001b[0;34m.\u001b[0m\u001b[0mf\u001b[0m\u001b[0;34m(\u001b[0m\u001b[0mv\u001b[0m\u001b[0;34m)\u001b[0m\u001b[0;34m\u001b[0m\u001b[0;34m\u001b[0m\u001b[0m\n\u001b[0m\u001b[1;32m    291\u001b[0m                 \u001b[0;32mif\u001b[0m \u001b[0misinstance\u001b[0m\u001b[0;34m(\u001b[0m\u001b[0mresults\u001b[0m\u001b[0;34m[\u001b[0m\u001b[0mi\u001b[0m\u001b[0;34m]\u001b[0m\u001b[0;34m,\u001b[0m \u001b[0mABCSeries\u001b[0m\u001b[0;34m)\u001b[0m\u001b[0;34m:\u001b[0m\u001b[0;34m\u001b[0m\u001b[0;34m\u001b[0m\u001b[0m\n\u001b[1;32m    292\u001b[0m                     \u001b[0;31m# If we have a view on v, we need to make a copy because\u001b[0m\u001b[0;34m\u001b[0m\u001b[0;34m\u001b[0m\u001b[0;34m\u001b[0m\u001b[0m\n",
      "\u001b[0;32m<ipython-input-23-c0448b0054bb>\u001b[0m in \u001b[0;36mcompute_is_on_time\u001b[0;34m(row)\u001b[0m\n\u001b[1;32m      1\u001b[0m \u001b[0;32mdef\u001b[0m \u001b[0mcompute_is_on_time\u001b[0m\u001b[0;34m(\u001b[0m\u001b[0mrow\u001b[0m\u001b[0;34m)\u001b[0m\u001b[0;34m:\u001b[0m\u001b[0;34m\u001b[0m\u001b[0;34m\u001b[0m\u001b[0m\n\u001b[0;32m----> 2\u001b[0;31m     \u001b[0mrow\u001b[0m\u001b[0;34m[\u001b[0m\u001b[0;34m\"is_on_time\"\u001b[0m\u001b[0;34m]\u001b[0m \u001b[0;34m=\u001b[0m \u001b[0mint\u001b[0m\u001b[0;34m(\u001b[0m\u001b[0mrow\u001b[0m\u001b[0;34m[\u001b[0m\u001b[0;34m\"days_to_completion\"\u001b[0m\u001b[0;34m]\u001b[0m\u001b[0;34m)\u001b[0m \u001b[0;34m<=\u001b[0m \u001b[0mint\u001b[0m\u001b[0;34m(\u001b[0m\u001b[0mrow\u001b[0m\u001b[0;34m[\u001b[0m\u001b[0;34m\"benchmark\"\u001b[0m\u001b[0;34m]\u001b[0m\u001b[0;34m)\u001b[0m\u001b[0;34m\u001b[0m\u001b[0;34m\u001b[0m\u001b[0m\n\u001b[0m\u001b[1;32m      3\u001b[0m     \u001b[0;32mreturn\u001b[0m \u001b[0mrow\u001b[0m\u001b[0;34m\u001b[0m\u001b[0;34m\u001b[0m\u001b[0m\n\u001b[1;32m      4\u001b[0m \u001b[0;34m\u001b[0m\u001b[0m\n\u001b[1;32m      5\u001b[0m \u001b[0;34m\u001b[0m\u001b[0m\n",
      "\u001b[0;31mValueError\u001b[0m: invalid literal for int() with base 10: 'NULL'"
     ]
    }
   ],
   "source": [
    "def compute_is_on_time(row):\n",
    "    row[\"is_on_time\"] = int(row[\"days_to_completion\"]) <= int(row[\"benchmark\"])\n",
    "    return row\n",
    "\n",
    "\n",
    "# assign benchmark\n",
    "wr_pm[\"benchmark\"] = 21\n",
    "\n",
    "# add \"is_on_time\" column with performance data\n",
    "pms_on_time = wr_pm.apply(compute_is_on_time, axis=1)"
   ]
  },
  {
   "cell_type": "code",
   "execution_count": null,
   "metadata": {},
   "outputs": [],
   "source": [
    "pms_on_time.columns"
   ]
  },
  {
   "cell_type": "code",
   "execution_count": null,
   "metadata": {},
   "outputs": [],
   "source": [
    "pms_on_time[\n",
    "    [\n",
    "        \"wr_id\",\n",
    "        \"problem_type\",\n",
    "        \"requested_dt\",\n",
    "        \"completed_dt\",\n",
    "        \"days_to_completion\",\n",
    "        \"is_on_time\",\n",
    "        \"status\",\n",
    "    ]\n",
    "].sample(3, random_state=446)"
   ]
  },
  {
   "cell_type": "markdown",
   "metadata": {
    "hideCode": false,
    "hidePrompt": false
   },
   "source": [
    "#### Group by fiscal year and get % on time\n",
    "Now that we've stored all this information, we can group by the fiscal year to get each year's KPI, together with a count of how many PMs "
   ]
  },
  {
   "cell_type": "code",
   "execution_count": null,
   "metadata": {
    "hideCode": false,
    "hidePrompt": false
   },
   "outputs": [],
   "source": [
    "pm_compliance = compute_kpi_table(pms_on_time, \"percent_PMs_on_time\", \"total_PMs\")\n",
    "pm_compliance"
   ]
  },
  {
   "cell_type": "code",
   "execution_count": null,
   "metadata": {},
   "outputs": [],
   "source": [
    "pointplot_with_barplot(\n",
    "    pm_compliance,\n",
    "    x=\"fiscal_year\",\n",
    "    point_y=\"percent_PMs_on_time\",\n",
    "    bar_y=\"total_PMs\",\n",
    "    ymax_bar=2_500,\n",
    "    ylabel_point=\"Percent PMs On Time\",\n",
    "    ylabel_bar=\"Total PMs\",\n",
    "    title=\"Percent of PMs On Time By Fiscal Year\",\n",
    ")"
   ]
  },
  {
   "cell_type": "markdown",
   "metadata": {
    "hideCode": false,
    "hidePrompt": false
   },
   "source": [
    "## KPI: PM:CM Ratio"
   ]
  },
  {
   "cell_type": "markdown",
   "metadata": {
    "hideCode": false,
    "hidePrompt": false
   },
   "source": [
    "The two lists below contain the exact same problem types mentioned in last year's scorecard. So we would expect to be able to replicate last year's results closely."
   ]
  },
  {
   "cell_type": "code",
   "execution_count": null,
   "metadata": {
    "hideCode": false,
    "hidePrompt": false
   },
   "outputs": [],
   "source": [
    "CM_list = [\n",
    "    \"BOILER\",\n",
    "    \"CHILLERS\",\n",
    "    \"COOLING TOWERS\",\n",
    "    \"HVAC\",\n",
    "    \"HVAC INFRASTRUCTURE\",\n",
    "    \"HVAC|REPAIR\",\n",
    "]\n",
    "\n",
    "PM_list = [\n",
    "    \"HVAC|PM\",\n",
    "    \"PREVENTIVE MAINT\",\n",
    "]"
   ]
  },
  {
   "cell_type": "markdown",
   "metadata": {
    "hideCode": false,
    "hidePrompt": false
   },
   "source": [
    "### Filter to HVAC rows only"
   ]
  },
  {
   "cell_type": "code",
   "execution_count": null,
   "metadata": {
    "hideCode": false,
    "hidePrompt": false
   },
   "outputs": [],
   "source": [
    "cond_cm = wr_primary[\"problem_type\"].isin(CM_list)\n",
    "cond_pm = wr_primary[\"problem_type\"].isin(PM_list)\n",
    "\n",
    "wr_HVAC = wr_primary[cond_cm | cond_pm]\n",
    "wr_HVAC[\"is_pm\"] = wr_HVAC[\"problem_type\"].isin(PM_list)\n",
    "\n",
    "print(\n",
    "    f\"Filtering to HVAC request only takes us from {len(wr_fy):,} rows to {len(wr_HVAC):,} rows.\"\n",
    ")"
   ]
  },
  {
   "cell_type": "markdown",
   "metadata": {
    "hideCode": false,
    "hidePrompt": false
   },
   "source": [
    "### Compute all PM/CM stats by fiscal year\n",
    "First we deploy a custom function that counts the PMs and CMs in each fiscal year and then calculates the PM:CM ratio."
   ]
  },
  {
   "cell_type": "code",
   "execution_count": null,
   "metadata": {
    "hideCode": false,
    "hidePrompt": false
   },
   "outputs": [],
   "source": [
    "pm_cm_results = compute_pm_cm(wr_HVAC, PM_list)"
   ]
  },
  {
   "cell_type": "code",
   "execution_count": null,
   "metadata": {
    "hideCode": false,
    "hidePrompt": false,
    "scrolled": true
   },
   "outputs": [],
   "source": [
    "pm_cm_results"
   ]
  },
  {
   "cell_type": "markdown",
   "metadata": {},
   "source": [
    "### Plot PM:CM ratio by fiscal year"
   ]
  },
  {
   "cell_type": "code",
   "execution_count": null,
   "metadata": {},
   "outputs": [],
   "source": [
    "pointplot_with_barplot(\n",
    "    pm_cm_results,\n",
    "    x=\"fiscal_year\",\n",
    "    point_y=\"pm_cm_ratio\",\n",
    "    bar_y=\"count_hvac\",\n",
    "    ymax_bar=5_000,\n",
    "    ylabel_point=\"PM:CM Ratio\",\n",
    "    ylabel_bar=\"Total HVAC Work Requests\",\n",
    "    title=\"Preventive to Corrective Ratio By Fiscal Year\",\n",
    "    yticklabels=[\"0\", \"0\", \"0.25:1\", \"0.5:1\", \"0.75:1\", \"1:1\"],\n",
    ")"
   ]
  },
  {
   "cell_type": "markdown",
   "metadata": {},
   "source": [
    "### Plot the number of PMs and CMs by fiscal year\n",
    "We can get a little more insight into what's going on with the ratio by checking out the raw counts of preventive and corrective maintenance work requests by fiscal year. "
   ]
  },
  {
   "cell_type": "code",
   "execution_count": null,
   "metadata": {},
   "outputs": [],
   "source": [
    "count_plot_data = pd.melt(\n",
    "    pm_cm_results, id_vars=[\"fiscal_year\"], value_vars=[\"count_cm\", \"count_pm\"]\n",
    ")\n",
    "\n",
    "ax = sns.lineplot(data=count_plot_data, y=\"value\", x=\"fiscal_year\", hue=\"variable\")\n",
    "new_labels = [\"Corrective\", \"Preventive\"]\n",
    "plt.legend(title=\"Number of Work Orders\", loc=\"upper left\", labels=new_labels)\n",
    "\n",
    "ax.set(\n",
    "    title=\"Volume of HVAC PMs And CMs By Fiscal Year\",\n",
    "    xlabel=\"Fiscal Year\",\n",
    "    ylim=(0, 3000),\n",
    ")\n",
    "sns.despine()"
   ]
  },
  {
   "cell_type": "markdown",
   "metadata": {
    "hideCode": false,
    "hidePrompt": false
   },
   "source": [
    "## KPI: Percent of CM Work Requests Completed On-Time\n",
    "Here are the key facts needed to understand the agency's new method for computing this KPI:\n",
    "\n",
    "- Only CM problem types are considered, so all PM work orders are dropped.\n",
    "- The work orders are first assigned a \"primary\" problem type, which consolidates the number of problem types\n",
    "- Each of these primary problem types has a benchmark, which is then added to the work request's row\n",
    "- Finally, the work order is determined to be on-time based on comparing its time to completion to its benchmark"
   ]
  },
  {
   "cell_type": "markdown",
   "metadata": {},
   "source": [
    "### Filter to get CMs only"
   ]
  },
  {
   "cell_type": "code",
   "execution_count": null,
   "metadata": {},
   "outputs": [],
   "source": [
    "cond_cm = wr_primary[\"primary\"] != \"PREVENTIVE\"\n",
    "consolidated_cms = wr_primary[cond_cm]\n",
    "\n",
    "print(\n",
    "    f\"Dropping some unbenchmarked small categories takes us from {len(consolidated_wrs):,} rows to {len(consolidated_cms):,} rows.\"\n",
    ")"
   ]
  },
  {
   "cell_type": "markdown",
   "metadata": {},
   "source": [
    "### Apply benchmarks\n",
    "Now we look up the benchmark for each work request and add it in a new column. The function `add_cm_benchmarks()` contains the list of benchmarks and problem types."
   ]
  },
  {
   "cell_type": "code",
   "execution_count": null,
   "metadata": {
    "hideCode": false,
    "hidePrompt": false
   },
   "outputs": [],
   "source": [
    "cms_benchmarked = consolidated_cms.apply(add_cm_benchmarks, axis=1)\n",
    "\n",
    "cms_benchmarked.sample(6, random_state=444)[\n",
    "    [\"problem_type\", \"primary\", \"benchmark\", \"days_to_completion\"]\n",
    "]"
   ]
  },
  {
   "cell_type": "markdown",
   "metadata": {},
   "source": [
    "### Compute whether requests are on time"
   ]
  },
  {
   "cell_type": "code",
   "execution_count": null,
   "metadata": {
    "hideCode": false,
    "hidePrompt": false
   },
   "outputs": [],
   "source": [
    "cms_on_time = cms_benchmarked.apply(compute_is_on_time, axis=1)"
   ]
  },
  {
   "cell_type": "markdown",
   "metadata": {},
   "source": [
    "### Group by fiscal year to get KPI"
   ]
  },
  {
   "cell_type": "code",
   "execution_count": null,
   "metadata": {
    "hideCode": false,
    "hidePrompt": false
   },
   "outputs": [],
   "source": [
    "cm_compliance = compute_kpi_table(cms_on_time, \"percent_CMs_on_time\", \"total_CMs\")\n",
    "cm_compliance"
   ]
  },
  {
   "cell_type": "markdown",
   "metadata": {},
   "source": [
    "### Plot % CMs on time by fiscal year"
   ]
  },
  {
   "cell_type": "code",
   "execution_count": null,
   "metadata": {
    "hideCode": false,
    "hidePrompt": false
   },
   "outputs": [],
   "source": [
    "pointplot_with_barplot(\n",
    "    cm_compliance,\n",
    "    x=\"fiscal_year\",\n",
    "    point_y=\"percent_CMs_on_time\",\n",
    "    bar_y=\"total_CMs\",\n",
    "    ymax_bar=15_000,\n",
    "    ylabel_point=\"Percent CMs On Time\",\n",
    "    ylabel_bar=\"Total CMs\",\n",
    "    title=\"Percent of CMs On Time By Fiscal Year\",\n",
    ")"
   ]
  },
  {
   "cell_type": "markdown",
   "metadata": {},
   "source": [
    "## Monthly figures for current FY\n",
    "First, enter the date of the first day that is outside the range. For example, if we want to show monthly data up to the end of February 2021, set the variable `end_date` to \"03-01-2021.\""
   ]
  },
  {
   "cell_type": "code",
   "execution_count": null,
   "metadata": {},
   "outputs": [],
   "source": [
    "end_date = \"04-01-2021\""
   ]
  },
  {
   "cell_type": "markdown",
   "metadata": {},
   "source": [
    "### PMs on Time"
   ]
  },
  {
   "cell_type": "code",
   "execution_count": null,
   "metadata": {},
   "outputs": [],
   "source": [
    "pms_on_time_current_fy = compute_kpi_table_by_month(\n",
    "    pms_on_time,\n",
    "    \"percent_PMs_on_time\",\n",
    "    \"total_PMs\",\n",
    "    end_date=end_date,\n",
    ")\n",
    "pms_on_time_current_fy"
   ]
  },
  {
   "cell_type": "code",
   "execution_count": null,
   "metadata": {
    "scrolled": true
   },
   "outputs": [],
   "source": [
    "pointplot_with_barplot(\n",
    "    pms_on_time_current_fy,\n",
    "    x=\"year_month\",\n",
    "    point_y=\"percent_PMs_on_time\",\n",
    "    bar_y=\"total_PMs\",\n",
    "    ymax_bar=700,\n",
    "    ylabel_point=\"% PMs Completed On Time (Red Lines)\",\n",
    "    ylabel_bar=\"Total PMs Closed (Grey Bars)\",\n",
    "    title=\"Percent of PMs Completed On Time By Month (FY21)\",\n",
    ")"
   ]
  },
  {
   "cell_type": "markdown",
   "metadata": {},
   "source": [
    "### PM:CM Ratio"
   ]
  },
  {
   "cell_type": "code",
   "execution_count": null,
   "metadata": {
    "scrolled": true
   },
   "outputs": [],
   "source": [
    "pm_cm_ratio_current_fy = compute_pm_cm_by_month(wr_HVAC, PM_list, end_date=end_date)\n",
    "pm_cm_ratio_current_fy"
   ]
  },
  {
   "cell_type": "code",
   "execution_count": null,
   "metadata": {
    "scrolled": false
   },
   "outputs": [],
   "source": [
    "pointplot_with_barplot(\n",
    "    pm_cm_ratio_current_fy,\n",
    "    x=\"year_month\",\n",
    "    point_y=\"pm_cm_ratio\",\n",
    "    bar_y=\"count_hvac\",\n",
    "    yaxis_freq=200,\n",
    "    ymax_point=1_000,\n",
    "    ymax_bar=1_200,\n",
    "    ylabel_point=\"PM:CM Ratio (Red Lines)\",\n",
    "    ylabel_bar=\"Total HVAC Work Requests Closed (Grey Bars)\",\n",
    "    title=\"Preventive to Corrective Ratio By Month (FY21)\",\n",
    "    yticklabels=[\n",
    "        \"0\",\n",
    "        \"0\",\n",
    "        \"2:1\",\n",
    "        \"4:1\",\n",
    "        \"6:1\",\n",
    "        \"8:1\",\n",
    "    ],\n",
    ")"
   ]
  },
  {
   "cell_type": "code",
   "execution_count": null,
   "metadata": {},
   "outputs": [],
   "source": [
    "pm_cm_ratio_current_fy = pm_cm_ratio_current_fy.rename(\n",
    "    columns={\"count_cm\": \"HVAC CMs\", \"count_pm\": \"HVAC PMs\"}\n",
    ")\n",
    "\n",
    "count_plot_data = pd.melt(\n",
    "    pm_cm_ratio_current_fy, id_vars=[\"year_month\"], value_vars=[\"HVAC CMs\", \"HVAC PMs\"]\n",
    ")\n",
    "\n",
    "\n",
    "ax = sns.pointplot(\n",
    "    data=count_plot_data, y=\"value\", marker=\"o\", x=\"year_month\", hue=\"variable\"\n",
    ")\n",
    "# new_labels = [\"Corrective\", \"Preventive\"]\n",
    "# plt.legend(title=\"Number of Work Orders\", loc=\"upper left\", labels=new_labels)\n",
    "\n",
    "ax.set(\n",
    "    title=\"Volume of HVAC PMs And CMs By Month\",\n",
    "    xlabel=\"Fiscal Year\",\n",
    "    ylabel=\"Number of Work Requests Closed\",\n",
    "    ylim=(0, 800),\n",
    ")\n",
    "sns.despine()"
   ]
  },
  {
   "cell_type": "code",
   "execution_count": null,
   "metadata": {},
   "outputs": [],
   "source": [
    "cms_on_time_current_fy = compute_kpi_table_by_month(\n",
    "    cms_on_time,\n",
    "    \"percent_CMs_on_time\",\n",
    "    \"total_CMs\",\n",
    "    end_date=end_date,\n",
    ")\n",
    "\n",
    "cms_on_time_current_fy"
   ]
  },
  {
   "cell_type": "code",
   "execution_count": null,
   "metadata": {},
   "outputs": [],
   "source": [
    "pointplot_with_barplot(\n",
    "    cms_on_time_current_fy,\n",
    "    x=\"year_month\",\n",
    "    point_y=\"percent_CMs_on_time\",\n",
    "    bar_y=\"total_CMs\",\n",
    "    ymax_bar=4_000,\n",
    "    ylabel_point=\"% CMs Completed On Time (Red Lines)\",\n",
    "    ylabel_bar=\"Total CMs Closed (Grey Bars)\",\n",
    "    title=\"Percent of CMs Completed On Time By Month (FY21)\",\n",
    ")"
   ]
  },
  {
   "cell_type": "markdown",
   "metadata": {},
   "source": [
    "### Percent backlog"
   ]
  },
  {
   "cell_type": "code",
   "execution_count": null,
   "metadata": {},
   "outputs": [],
   "source": []
  },
  {
   "cell_type": "code",
   "execution_count": null,
   "metadata": {},
   "outputs": [],
   "source": [
    "wr_fy[\"is_backlog\"] = wr_fy[\"days_open\"] > 90"
   ]
  },
  {
   "cell_type": "code",
   "execution_count": null,
   "metadata": {},
   "outputs": [],
   "source": [
    "def compute_backlog_table_by_month(\n",
    "    df, label_for_KPI=None, label_for_totals=None, current_fy=2021, end_date=None\n",
    "):\n",
    "    df = df.copy()\n",
    "    try:\n",
    "        end_date = pd.to_datetime(end_date)\n",
    "    except Exception:\n",
    "        print(f\"Date string {end_date} cannot be converted to a date.\")\n",
    "    # filter to current fy\n",
    "    cond_current_fy = df[\"fiscal_year\"] == current_fy\n",
    "    cond_end_date = df[\"date_closed\"] < end_date\n",
    "    df = df[cond_current_fy & cond_end_date]\n",
    "    table_df = (\n",
    "        df[[\"wr_id\", \"date_closed\", \"is_backlog\"]]\n",
    "        .resample(\"M\", on=\"date_closed\")\n",
    "        .agg({\"is_backlog\": \"mean\", \"wr_id\": \"count\"})\n",
    "    )\n",
    "    table_df[\"year_month\"] = table_df.index.strftime(\"%b-%y\")\n",
    "    table_df[\"is_backlog\"] = table_df[\"is_backlog\"].apply(lambda x: round(x * 100, 2))\n",
    "    table_df = table_df.rename(\n",
    "        columns={\"is_backlog\": label_for_KPI, \"wr_id\": label_for_totals}\n",
    "    )\n",
    "    return table_df\n",
    "\n",
    "\n",
    "backlog_plot_data = compute_backlog_table_by_month(\n",
    "    wr_fy,\n",
    "    label_for_KPI=\"percent_backlog\",\n",
    "    label_for_totals=\"total_work_orders\",\n",
    "    end_date=end_date,\n",
    ")"
   ]
  },
  {
   "cell_type": "code",
   "execution_count": null,
   "metadata": {
    "scrolled": true
   },
   "outputs": [],
   "source": [
    "pointplot_with_barplot(\n",
    "    backlog_plot_data,\n",
    "    x=\"year_month\",\n",
    "    point_y=\"percent_backlog\",\n",
    "    bar_y=\"total_work_orders\",\n",
    "    ymax_bar=5_000,\n",
    "    ylabel_point=\"% Backlog (Red Lines)\",\n",
    "    ylabel_bar=\"Total WRs Closed (Grey Bars)\",\n",
    "    title=\"Percent of WRs Closed that Were Older than 90 Days (FY21)\",\n",
    ")"
   ]
  },
  {
   "cell_type": "markdown",
   "metadata": {
    "hideOutput": true,
    "hidePrompt": true
   },
   "source": [
    "## Backlog charts\n",
    "\n",
    "For this we need `wr_durations` because `wr_fy` has assigned the date based on the date of closure."
   ]
  },
  {
   "cell_type": "markdown",
   "metadata": {},
   "source": [
    "### Backlog by problem type"
   ]
  },
  {
   "cell_type": "code",
   "execution_count": null,
   "metadata": {},
   "outputs": [],
   "source": [
    "wr_primary[wr_primary[\"status\"] == \"Com\"][[\"days_to_close\", \"status\"]].sample(10)"
   ]
  },
  {
   "cell_type": "code",
   "execution_count": null,
   "metadata": {},
   "outputs": [],
   "source": [
    "def group_backlog_by_col(df, col=\"primary\", backlog_length: int = 90, top_n: int = 10):\n",
    "    df = df.copy()\n",
    "    # filter to backlog\n",
    "    cond_backlog = df[\"days_to_close\"] >= backlog_length\n",
    "\n",
    "    cond_status = df[\"status\"].isin([\"A\", \"AA\", \"Com\", \"I\", \"HC\", \"S\"])\n",
    "    df = df[cond_status & cond_backlog]\n",
    "    counts_df = pd.DataFrame(\n",
    "        df.groupby(col)[\"wr_id\"].count().sort_values(ascending=False)\n",
    "    )\n",
    "    counts_df = counts_df.head(top_n)\n",
    "    return counts_df.reset_index()\n",
    "\n",
    "\n",
    "primary_df = group_backlog_by_col(\n",
    "    backlog_df,\n",
    "    col=\"primary\",\n",
    "    backlog_length=90,\n",
    ")"
   ]
  },
  {
   "cell_type": "code",
   "execution_count": null,
   "metadata": {
    "scrolled": true
   },
   "outputs": [],
   "source": [
    "ax = sns.barplot(data=primary_df, x=\"primary\", y=\"wr_id\", color=\"lightgreen\")\n",
    "ax.set_xticklabels(ax.get_xticklabels(), rotation=45, horizontalalignment=\"right\")\n",
    "ax.set(title=\"Size of Backlog By Primary Problem Type (> 90 Days)\", ylabel=\"Count of work requests\")\n",
    "sns.despine()"
   ]
  },
  {
   "cell_type": "markdown",
   "metadata": {},
   "source": [
    "### Backlog by supervisor"
   ]
  },
  {
   "cell_type": "code",
   "execution_count": null,
   "metadata": {},
   "outputs": [],
   "source": [
    "supervisor_df = group_backlog_by_col(\n",
    "    backlog_df, col=\"supervisor_anon\", backlog_length=90\n",
    ")"
   ]
  },
  {
   "cell_type": "markdown",
   "metadata": {},
   "source": [
    "```Clo    92499 0 Closed\n",
    "Com     6238 1 Completed\n",
    "Can     3515 0 Canceled\n",
    "AA      2821 1 Assigned to Work Order\n",
    "I        827   Issued and In Process\n",
    "R        515   Rejected\n",
    "HC       301   Unknown\n",
    "S        167   Stopped\n",
    "Rej      105   Rejected\n",
    "HMI       83   Unknown \n",
    "RMI       82\n",
    "HL        33\n",
    "HP        20\n",
    "HI        11\n",
    "HA         8\n",
    "A          3```"
   ]
  },
  {
   "cell_type": "code",
   "execution_count": null,
   "metadata": {
    "scrolled": true
   },
   "outputs": [],
   "source": [
    "ax = sns.barplot(data=supervisor_df, x=\"supervisor\", y=\"wr_id\", color=\"lightgreen\")\n",
    "ax.set_xticklabels(ax.get_xticklabels(), rotation=45, horizontalalignment=\"right\")\n",
    "ax.set(title=\"Size of Backlog By Supervisor\", ylabel=\"Count of work requests\")\n",
    "sns.despine()"
   ]
  },
  {
   "cell_type": "markdown",
   "metadata": {},
   "source": [
    "### Backlog by status"
   ]
  },
  {
   "cell_type": "code",
   "execution_count": null,
   "metadata": {},
   "outputs": [],
   "source": [
    "status_df = group_backlog_by_col(backlog_df, col=\"status\", backlog_length=90)\n",
    "status_df[\"status\"] = status_df[\"status\"].map(\n",
    "    {\"Com\": \"Complete\", \"AA\": \"Assigned\", \"I\": \"Issued/in process\", \"S\": \"Stopped\", \"HC\": \"HC\"}\n",
    ")"
   ]
  },
  {
   "cell_type": "code",
   "execution_count": null,
   "metadata": {},
   "outputs": [],
   "source": [
    "ax = sns.barplot(data=status_df, x=\"status\", y=\"wr_id\", color=\"lightgreen\")\n",
    "ax.set_xticklabels(ax.get_xticklabels(), rotation=45, horizontalalignment=\"right\")\n",
    "ax.set(title=\"Size of Backlog By Status (> 90 Days)\", ylabel=\"Count of work requests\")\n",
    "sns.despine()"
   ]
  },
  {
   "cell_type": "code",
   "execution_count": null,
   "metadata": {},
   "outputs": [],
   "source": [
    "backlog_df.columns"
   ]
  },
  {
   "cell_type": "code",
   "execution_count": null,
   "metadata": {},
   "outputs": [],
   "source": [
    "violin_plot_data = backlog_df[backlog_df['status'].isin([\"A\", \"AA\", \"Com\", \"I\", \"HC\", \"S\"])]\n",
    "ax = sns.violinplot(x=\"status\", y=\"days_open\", data=violin_plot_data)\n",
    "ax.set(title=\"Backlog WRs with 'Completed' Status Are Older than Others\")\n",
    "sns.despine()"
   ]
  },
  {
   "cell_type": "code",
   "execution_count": null,
   "metadata": {},
   "outputs": [],
   "source": []
  }
 ],
 "metadata": {
  "hide_code_all_hidden": false,
  "kernelspec": {
   "display_name": "Python 3",
   "language": "python",
   "name": "python3"
  },
  "language_info": {
   "codemirror_mode": {
    "name": "ipython",
    "version": 3
   },
   "file_extension": ".py",
   "mimetype": "text/x-python",
   "name": "python",
   "nbconvert_exporter": "python",
   "pygments_lexer": "ipython3",
   "version": "3.7.7"
  },
  "toc": {
   "base_numbering": 1,
   "nav_menu": {},
   "number_sections": true,
   "sideBar": true,
   "skip_h1_title": true,
   "title_cell": "Table of Contents",
   "title_sidebar": "Contents",
   "toc_cell": false,
   "toc_position": {
    "height": "calc(100% - 180px)",
    "left": "10px",
    "top": "150px",
    "width": "316px"
   },
   "toc_section_display": true,
   "toc_window_display": true
  }
 },
 "nbformat": 4,
 "nbformat_minor": 4
}
