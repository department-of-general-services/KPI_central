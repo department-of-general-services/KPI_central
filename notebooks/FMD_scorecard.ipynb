{
 "cells": [
  {
   "cell_type": "markdown",
   "metadata": {
    "hideCode": false,
    "hidePrompt": false
   },
   "source": [
    "# Facilities KPI Scorecard\n",
    "This notebook serves as a repository of public-facing KPIs for the Department of General Services' Facilities Division. The purpose of this notebook is to make available, in a single public place, the entire pipeline for calculating the division's three KPIs that are based in Archibus. Those KPIs are:\n",
    "\n",
    "1. % of Corrective Maintenance Work Requests Completed On Time\n",
    "2. % of Preventive Maintenance Work Requests Completed On Time\n",
    "3. Preventive Maintenance to Corrective Maintenance Ratio\n",
    "\n",
    "Part of the intention of this notebook is to build _transparency_ and _reproducibility_ by capturing the entire end-to-end process used to calculate these metrics in one place.\n",
    "\n",
    "The actuals for previous year for KPIs 1 and 2 shown here are slightly higher than those reported in the Clear Impact budget book. That is because a coding error caused us to undercount the data. That error has now been fixed and the numbers shown here are more accurate. \n",
    "\n",
    "__Questions__: This notebook was last modified by James Trimarco, DGS Research Analyst, on May 11 2021. Questions and concerns about this work can be directed to james.trimarco@baltimorecity.gov.\n",
    "\n",
    "__Note__: After the implementation of our Archibus dashboards and their incorporation into management workflows, DGS became aware of the need to further improve the third metric (Preventive Maintenance to Corrective Maintenance Ratio). Because this metric is still under construction, it is not shown here. "
   ]
  },
  {
   "cell_type": "markdown",
   "metadata": {
    "hideCode": false,
    "hideOutput": false,
    "hidePrompt": false
   },
   "source": [
    "## Setup"
   ]
  },
  {
   "cell_type": "markdown",
   "metadata": {
    "hideCode": false,
    "hideOutput": false,
    "hidePrompt": false
   },
   "source": [
    "### Import packages\n",
    "This step imports a group of common analysis packages, as well as a few custom functions. "
   ]
  },
  {
   "cell_type": "code",
   "execution_count": 1,
   "metadata": {
    "hideCode": false,
    "hideOutput": false,
    "hidePrompt": false,
    "scrolled": false,
    "tags": [
     "hide-input"
    ]
   },
   "outputs": [],
   "source": [
    "# workhorse modules\n",
    "import pandas as pd\n",
    "from datetime import timedelta, datetime\n",
    "import re\n",
    "from pathlib import Path\n",
    "import seaborn as sns\n",
    "import matplotlib.pyplot as plt\n",
    "\n",
    "# local utility functions\n",
    "from kpicentral.general_utils import (\n",
    "    cast_dtypes,\n",
    "    tidy_up_df, \n",
    "    clean_up_colnames,\n",
    "    set_pd_params,\n",
    "    compute_pm_cm,\n",
    "    compute_kpi_table,\n",
    ")\n",
    "from kpicentral.archibus import Archibus\n",
    "from kpicentral.vis_utils import set_plot_params, pointplot_with_barplot\n",
    "from kpicentral.anonymization import split_names, replace_names"
   ]
  },
  {
   "cell_type": "markdown",
   "metadata": {
    "hideCode": false,
    "hideOutput": false,
    "hidePrompt": false
   },
   "source": [
    "### Set Pandas options\n",
    "This makes the Pandas library print all the rows and columns to the output, instead of truncating output. "
   ]
  },
  {
   "cell_type": "code",
   "execution_count": 2,
   "metadata": {},
   "outputs": [
    {
     "data": {
      "application/javascript": [
       "IPython.OutputArea.prototype._should_scroll = function(lines) {\n",
       "    return false;\n",
       "}\n"
      ],
      "text/plain": [
       "<IPython.core.display.Javascript object>"
      ]
     },
     "metadata": {},
     "output_type": "display_data"
    }
   ],
   "source": [
    "%%javascript\n",
    "IPython.OutputArea.prototype._should_scroll = function(lines) {\n",
    "    return false;\n",
    "}"
   ]
  },
  {
   "cell_type": "code",
   "execution_count": 3,
   "metadata": {
    "hideCode": false,
    "hidePrompt": false,
    "scrolled": false
   },
   "outputs": [],
   "source": [
    "set_pd_params()\n",
    "set_plot_params(width=12, height=7)\n",
    "pd.options.mode.chained_assignment = None  # default='warn'\n",
    "\n"
   ]
  },
  {
   "cell_type": "markdown",
   "metadata": {
    "hideCode": false,
    "hidePrompt": false
   },
   "source": [
    "### Import the work request data from Archibus database\n",
    "The command below pulls every row from Archibus's `dash_benchmarks` table, which enhances the raw operational data by adding several important columns including:\n",
    "\n",
    "- __primary_type__: Consolidates the `problem_type` down from more than 100 raw types into just 30 consolidated and benchmarked problem types.\n",
    "- __days_to_completion__: Number of days between the date a job was requested and the date it was marked completed.\n",
    "- __benchmark__: Number of days that can pass between request and completion before a job is marked late. \n",
    "\n",
    "The resulting data contains the entire work request history. No filtering by date has been applied yet. \n",
    "\n",
    "Readers interested in the steps used to create `dash_benchmarks` from the raw operational data can find [the SQL query used to do this here](https://raw.githubusercontent.com/department-of-general-services/fmd_archibus_dashboard/master/create_views_facilities_dashboard.sql).\n"
   ]
  },
  {
   "cell_type": "code",
   "execution_count": 36,
   "metadata": {},
   "outputs": [],
   "source": [
    "sql_file_path = Path.cwd().parent / 'sql' / 'get_kpis_from_benchmarks.sql'\n",
    "sql_file= open(sql_file_path, 'r')"
   ]
  },
  {
   "cell_type": "code",
   "execution_count": 37,
   "metadata": {
    "scrolled": false
   },
   "outputs": [
    {
     "name": "stdout",
     "output_type": "stream",
     "text": [
      "<class 'pandas.core.frame.DataFrame'>\n",
      "RangeIndex: 112105 entries, 0 to 112104\n",
      "Data columns (total 34 columns):\n",
      " #   Column                      Non-Null Count   Dtype         \n",
      "---  ------                      --------------   -----         \n",
      " 0   wr_id                       112105 non-null  int64         \n",
      " 1   status                      112105 non-null  object        \n",
      " 2   description                 103492 non-null  object        \n",
      " 3   supervisor                  88054 non-null   object        \n",
      " 4   work_team_id                53552 non-null   object        \n",
      " 5   date_requested              112105 non-null  datetime64[ns]\n",
      " 6   date_completed              101192 non-null  datetime64[ns]\n",
      " 7   date_closed                 102207 non-null  datetime64[ns]\n",
      " 8   problem_type                112105 non-null  object        \n",
      " 9   pm_group                    9627 non-null    object        \n",
      " 10  is_vendor_work              112105 non-null  object        \n",
      " 11  primary_type                112105 non-null  object        \n",
      " 12  role_name                   99747 non-null   object        \n",
      " 13  building_name               111795 non-null  object        \n",
      " 14  b_number                    111795 non-null  object        \n",
      " 15  fy_request                  112105 non-null  int64         \n",
      " 16  fy_complete                 101192 non-null  float64       \n",
      " 17  fy_close                    102207 non-null  float64       \n",
      " 18  calendar_month_request      112105 non-null  object        \n",
      " 19  calendar_month_complete     101192 non-null  object        \n",
      " 20  calendar_month_close        102207 non-null  object        \n",
      " 21  days_to_completion          101192 non-null  float64       \n",
      " 22  weekdays_complete_to_close  96804 non-null   float64       \n",
      " 23  days_since_request          112105 non-null  int64         \n",
      " 24  weekdays_since_completion   101192 non-null  float64       \n",
      " 25  completion_benchmark        110385 non-null  float64       \n",
      " 26  closure_benchmark           112105 non-null  int64         \n",
      " 27  not_completed_but_late      112105 non-null  object        \n",
      " 28  not_closed_but_late         112105 non-null  object        \n",
      " 29  is_on_time                  112105 non-null  object        \n",
      " 30  closed_on_time              101192 non-null  object        \n",
      " 31  is_ratio_pm                 112105 non-null  object        \n",
      " 32  is_ratio_cm                 112105 non-null  object        \n",
      " 33  is_any_pm                   112105 non-null  object        \n",
      "dtypes: datetime64[ns](3), float64(6), int64(4), object(21)\n",
      "memory usage: 29.1+ MB\n"
     ]
    }
   ],
   "source": [
    "archibus = Archibus()\n",
    "results = archibus.execute_stmt(query_str=sql_file.read())\n",
    "df_raw = results.dataframe\n",
    "df_raw.info()"
   ]
  },
  {
   "cell_type": "markdown",
   "metadata": {
    "hideCode": false,
    "hidePrompt": false
   },
   "source": [
    "## Data cleaning\n",
    "For the purposes of this project, DGS is keeping the data-cleaning stage simple. We're not attempting to remove duplicates or outliers, both of which involve relatively complex operations. "
   ]
  },
  {
   "cell_type": "code",
   "execution_count": 38,
   "metadata": {},
   "outputs": [
    {
     "name": "stdout",
     "output_type": "stream",
     "text": [
      "The tidied work orders dataframe has 112,105 rows.\n",
      "By tidying the data, we have removed 0 rows.\n"
     ]
    }
   ],
   "source": [
    "df_untyped = tidy_up_df(df_raw)\n",
    "df_untyped = clean_up_colnames(df_untyped)\n",
    "\n",
    "print(f\"The tidied work orders dataframe has {len(df_untyped):,} rows.\")\n",
    "print(f\"By tidying the data, we have removed {len(df_raw) - len(df_untyped):,} rows.\")"
   ]
  },
  {
   "cell_type": "code",
   "execution_count": 39,
   "metadata": {},
   "outputs": [],
   "source": [
    "df_typed = cast_dtypes(df_untyped)"
   ]
  },
  {
   "cell_type": "markdown",
   "metadata": {},
   "source": [
    "Here's a sample of a few rows, showing some of the key columns."
   ]
  },
  {
   "cell_type": "code",
   "execution_count": 40,
   "metadata": {
    "scrolled": false
   },
   "outputs": [
    {
     "data": {
      "text/html": [
       "<div>\n",
       "<style scoped>\n",
       "    .dataframe tbody tr th:only-of-type {\n",
       "        vertical-align: middle;\n",
       "    }\n",
       "\n",
       "    .dataframe tbody tr th {\n",
       "        vertical-align: top;\n",
       "    }\n",
       "\n",
       "    .dataframe thead th {\n",
       "        text-align: right;\n",
       "    }\n",
       "</style>\n",
       "<table border=\"1\" class=\"dataframe\">\n",
       "  <thead>\n",
       "    <tr style=\"text-align: right;\">\n",
       "      <th></th>\n",
       "      <th>wr_id</th>\n",
       "      <th>status</th>\n",
       "      <th>primary_type</th>\n",
       "      <th>status</th>\n",
       "      <th>date_requested</th>\n",
       "      <th>date_completed</th>\n",
       "      <th>days_to_completion</th>\n",
       "      <th>date_closed</th>\n",
       "      <th>is_on_time</th>\n",
       "    </tr>\n",
       "  </thead>\n",
       "  <tbody>\n",
       "    <tr>\n",
       "      <th>73974</th>\n",
       "      <td>98591</td>\n",
       "      <td>Clo</td>\n",
       "      <td>LOCK</td>\n",
       "      <td>Clo</td>\n",
       "      <td>2018-01-09</td>\n",
       "      <td>2018-01-11</td>\n",
       "      <td>2.0</td>\n",
       "      <td>2018-01-11 06:36:37.953</td>\n",
       "      <td>True</td>\n",
       "    </tr>\n",
       "    <tr>\n",
       "      <th>89487</th>\n",
       "      <td>79098</td>\n",
       "      <td>Clo</td>\n",
       "      <td>PREVENTIVE_GENERAL</td>\n",
       "      <td>Clo</td>\n",
       "      <td>2016-11-25</td>\n",
       "      <td>2016-12-29</td>\n",
       "      <td>34.0</td>\n",
       "      <td>2017-01-06 15:12:39.230</td>\n",
       "      <td>False</td>\n",
       "    </tr>\n",
       "    <tr>\n",
       "      <th>73603</th>\n",
       "      <td>147960</td>\n",
       "      <td>Com</td>\n",
       "      <td>PREVENTIVE_HVAC</td>\n",
       "      <td>Com</td>\n",
       "      <td>2021-08-05</td>\n",
       "      <td>2021-09-17</td>\n",
       "      <td>43.0</td>\n",
       "      <td>NaT</td>\n",
       "      <td>False</td>\n",
       "    </tr>\n",
       "  </tbody>\n",
       "</table>\n",
       "</div>"
      ],
      "text/plain": [
       "        wr_id status        primary_type status date_requested date_completed  \\\n",
       "73974   98591    Clo                LOCK    Clo     2018-01-09     2018-01-11   \n",
       "89487   79098    Clo  PREVENTIVE_GENERAL    Clo     2016-11-25     2016-12-29   \n",
       "73603  147960    Com     PREVENTIVE_HVAC    Com     2021-08-05     2021-09-17   \n",
       "\n",
       "       days_to_completion             date_closed  is_on_time  \n",
       "73974                 2.0 2018-01-11 06:36:37.953        True  \n",
       "89487                34.0 2017-01-06 15:12:39.230       False  \n",
       "73603                43.0                     NaT       False  "
      ]
     },
     "execution_count": 40,
     "metadata": {},
     "output_type": "execute_result"
    }
   ],
   "source": [
    "df_typed.sample(3, random_state=445)[\n",
    "    [\n",
    "        \"wr_id\",\n",
    "        \"status\",\n",
    "        \"primary_type\",\n",
    "        \"status\",\n",
    "        \"date_requested\",\n",
    "        \"date_completed\",\n",
    "        \"days_to_completion\",\n",
    "        \"date_closed\",\n",
    "        \"is_on_time\",\n",
    "    ]\n",
    "]"
   ]
  },
  {
   "cell_type": "markdown",
   "metadata": {},
   "source": [
    "### Drop canceled and rejected work orders\n",
    "The data comes to us with many canceled work orders. Those shouldn't count against our KPIs as not having been completed on time. So we drop them here. "
   ]
  },
  {
   "cell_type": "code",
   "execution_count": 41,
   "metadata": {
    "scrolled": false
   },
   "outputs": [
    {
     "name": "stdout",
     "output_type": "stream",
     "text": [
      "By dropping canceled and rejected work orders, we have removed 4,500 rows.\n"
     ]
    }
   ],
   "source": [
    "# drop rows that were canceled or rejected\n",
    "cond_valid = ~df_typed[\"status\"].isin([\"Can\", \"Rej\"])\n",
    "\n",
    "df_valid = df_typed[cond_valid]\n",
    "\n",
    "print(\n",
    "    f\"By dropping canceled and rejected work orders, we have removed {len(df_typed) - len(df_valid):,} rows.\"\n",
    ")"
   ]
  },
  {
   "cell_type": "markdown",
   "metadata": {
    "hideCode": false,
    "hidePrompt": false
   },
   "source": [
    "## Data preparation"
   ]
  },
  {
   "cell_type": "markdown",
   "metadata": {},
   "source": [
    "After assigning the fiscal year, we can drop work requests from FY16 and older. This allows us to focus on recent history. "
   ]
  },
  {
   "cell_type": "code",
   "execution_count": 56,
   "metadata": {
    "hideCode": false,
    "hidePrompt": false,
    "scrolled": false
   },
   "outputs": [
    {
     "name": "stdout",
     "output_type": "stream",
     "text": [
      "Filtering to remove data requested before FY17 leaves us with 77,094 rows. \n",
      "We dropped 28.35% of the data at this stage.\n"
     ]
    }
   ],
   "source": [
    "cond_fy = df_valid[\"fy_complete\"].isin(range(2016, 2023))\n",
    "df_fy = df_valid[cond_fy]\n",
    "\n",
    "print(\n",
    "    f\"Filtering to remove data requested before FY17 leaves us with {len(df_fy):,} rows.\",\n",
    "    f\"\\nWe dropped {round((100 * (len(df_valid) - len(df_fy)))/len(df_valid), 2):}% of the data at this stage.\",\n",
    ")"
   ]
  },
  {
   "cell_type": "markdown",
   "metadata": {},
   "source": [
    "### Save to disk if needed"
   ]
  },
  {
   "cell_type": "code",
   "execution_count": 47,
   "metadata": {},
   "outputs": [],
   "source": [
    "# df_sample = df_fy.sample(n=500)\n",
    "# path_to_save = Path.cwd().parent / 'data' / 'FY17_to_FY21_sample.csv'\n",
    "\n",
    "# df_sample.to_csv(path_to_save)"
   ]
  },
  {
   "cell_type": "markdown",
   "metadata": {
    "hideCode": false,
    "hidePrompt": false
   },
   "source": [
    "## KPI 1: % PMs Completed On Time \n",
    "The goal here is to filter the data to preventive maintenance jobs only, and then show how many are completed on or before the benchmark (21 days)."
   ]
  },
  {
   "cell_type": "markdown",
   "metadata": {
    "hideCode": false,
    "hidePrompt": false
   },
   "source": [
    "### Filter to  preventive maintenance work requests only\n",
    "For this metric, we want to select every single PM that Facilities Management does. We can do this by selecting 5 values for the original, non-consolidated problem type. "
   ]
  },
  {
   "cell_type": "code",
   "execution_count": 11,
   "metadata": {
    "hideCode": false,
    "hidePrompt": false,
    "scrolled": false
   },
   "outputs": [
    {
     "name": "stdout",
     "output_type": "stream",
     "text": [
      "The filtered PMs dataframe has 7,503 rows.\n"
     ]
    }
   ],
   "source": [
    "df_pm = df_fy.copy()\n",
    "\n",
    "# filter data to PM types only\n",
    "cond_pm = df_pm[\"is_any_pm\"] == True\n",
    "\n",
    "# apply filter conditions\n",
    "df_pm = df_pm[cond_pm]\n",
    "\n",
    "print(f\"The filtered PMs dataframe has {len(df_pm):,} rows.\")"
   ]
  },
  {
   "cell_type": "markdown",
   "metadata": {},
   "source": [
    "#### Inspect the relevant rows\n",
    "A look at the data shows that PMs that took longer than 21 days to complete now contain a value of False in the colum `is_on_time`. PMs that were completed in 21 days or fewer contain a True. "
   ]
  },
  {
   "cell_type": "code",
   "execution_count": 12,
   "metadata": {
    "hideCode": false,
    "hidePrompt": false,
    "scrolled": false
   },
   "outputs": [
    {
     "data": {
      "text/html": [
       "<div>\n",
       "<style scoped>\n",
       "    .dataframe tbody tr th:only-of-type {\n",
       "        vertical-align: middle;\n",
       "    }\n",
       "\n",
       "    .dataframe tbody tr th {\n",
       "        vertical-align: top;\n",
       "    }\n",
       "\n",
       "    .dataframe thead th {\n",
       "        text-align: right;\n",
       "    }\n",
       "</style>\n",
       "<table border=\"1\" class=\"dataframe\">\n",
       "  <thead>\n",
       "    <tr style=\"text-align: right;\">\n",
       "      <th></th>\n",
       "      <th>problem_type</th>\n",
       "      <th>pm_group</th>\n",
       "      <th>date_requested</th>\n",
       "      <th>date_completed</th>\n",
       "      <th>days_to_completion</th>\n",
       "      <th>completion_benchmark</th>\n",
       "      <th>is_on_time</th>\n",
       "    </tr>\n",
       "  </thead>\n",
       "  <tbody>\n",
       "    <tr>\n",
       "      <th>26624</th>\n",
       "      <td>BUILDING INTERIOR INSPECTION</td>\n",
       "      <td>None</td>\n",
       "      <td>2018-07-24</td>\n",
       "      <td>2018-07-24</td>\n",
       "      <td>0.0</td>\n",
       "      <td>21</td>\n",
       "      <td>True</td>\n",
       "    </tr>\n",
       "    <tr>\n",
       "      <th>79930</th>\n",
       "      <td>PREVENTIVE MAINT</td>\n",
       "      <td>HEATING LEVELS</td>\n",
       "      <td>2020-12-07</td>\n",
       "      <td>2021-05-11</td>\n",
       "      <td>155.0</td>\n",
       "      <td>21</td>\n",
       "      <td>False</td>\n",
       "    </tr>\n",
       "    <tr>\n",
       "      <th>79052</th>\n",
       "      <td>PREVENTIVE MAINT</td>\n",
       "      <td>HEATING LEVELS</td>\n",
       "      <td>2018-10-22</td>\n",
       "      <td>2019-07-05</td>\n",
       "      <td>256.0</td>\n",
       "      <td>21</td>\n",
       "      <td>False</td>\n",
       "    </tr>\n",
       "  </tbody>\n",
       "</table>\n",
       "</div>"
      ],
      "text/plain": [
       "                       problem_type        pm_group date_requested  \\\n",
       "26624  BUILDING INTERIOR INSPECTION            None     2018-07-24   \n",
       "79930              PREVENTIVE MAINT  HEATING LEVELS     2020-12-07   \n",
       "79052              PREVENTIVE MAINT  HEATING LEVELS     2018-10-22   \n",
       "\n",
       "      date_completed  days_to_completion  completion_benchmark  is_on_time  \n",
       "26624     2018-07-24                 0.0                    21        True  \n",
       "79930     2021-05-11               155.0                    21       False  \n",
       "79052     2019-07-05               256.0                    21       False  "
      ]
     },
     "execution_count": 12,
     "metadata": {},
     "output_type": "execute_result"
    }
   ],
   "source": [
    "df_pm[\n",
    "    [\n",
    "        \"problem_type\",\n",
    "        \"pm_group\",\n",
    "        \"date_requested\",\n",
    "        \"date_completed\",\n",
    "        \"days_to_completion\",\n",
    "        \"completion_benchmark\",\n",
    "        \"is_on_time\",\n",
    "    ]\n",
    "].sample(3, random_state=447)"
   ]
  },
  {
   "cell_type": "markdown",
   "metadata": {
    "hideCode": false,
    "hidePrompt": false
   },
   "source": [
    "#### Group by fiscal year and get % on time\n",
    "Now that we've stored all this information, we can group by the fiscal year to get each year's KPI, together with a count of how many PMs were closed in that fiscal year."
   ]
  },
  {
   "cell_type": "code",
   "execution_count": 13,
   "metadata": {
    "hideCode": false,
    "hidePrompt": false,
    "scrolled": true
   },
   "outputs": [
    {
     "data": {
      "text/html": [
       "<div>\n",
       "<style scoped>\n",
       "    .dataframe tbody tr th:only-of-type {\n",
       "        vertical-align: middle;\n",
       "    }\n",
       "\n",
       "    .dataframe tbody tr th {\n",
       "        vertical-align: top;\n",
       "    }\n",
       "\n",
       "    .dataframe thead th {\n",
       "        text-align: right;\n",
       "    }\n",
       "</style>\n",
       "<table border=\"1\" class=\"dataframe\">\n",
       "  <thead>\n",
       "    <tr style=\"text-align: right;\">\n",
       "      <th></th>\n",
       "      <th>percent_PMs_on_time</th>\n",
       "      <th>total_PMs</th>\n",
       "    </tr>\n",
       "    <tr>\n",
       "      <th>fy_close</th>\n",
       "      <th></th>\n",
       "      <th></th>\n",
       "    </tr>\n",
       "  </thead>\n",
       "  <tbody>\n",
       "    <tr>\n",
       "      <th>2017</th>\n",
       "      <td>52.05</td>\n",
       "      <td>1195</td>\n",
       "    </tr>\n",
       "    <tr>\n",
       "      <th>2018</th>\n",
       "      <td>80.50</td>\n",
       "      <td>1195</td>\n",
       "    </tr>\n",
       "    <tr>\n",
       "      <th>2019</th>\n",
       "      <td>92.42</td>\n",
       "      <td>765</td>\n",
       "    </tr>\n",
       "    <tr>\n",
       "      <th>2020</th>\n",
       "      <td>49.53</td>\n",
       "      <td>1902</td>\n",
       "    </tr>\n",
       "    <tr>\n",
       "      <th>2021</th>\n",
       "      <td>30.29</td>\n",
       "      <td>1951</td>\n",
       "    </tr>\n",
       "    <tr>\n",
       "      <th>2022</th>\n",
       "      <td>58.24</td>\n",
       "      <td>170</td>\n",
       "    </tr>\n",
       "  </tbody>\n",
       "</table>\n",
       "</div>"
      ],
      "text/plain": [
       "          percent_PMs_on_time  total_PMs\n",
       "fy_close                                \n",
       "2017                    52.05       1195\n",
       "2018                    80.50       1195\n",
       "2019                    92.42        765\n",
       "2020                    49.53       1902\n",
       "2021                    30.29       1951\n",
       "2022                    58.24        170"
      ]
     },
     "execution_count": 13,
     "metadata": {},
     "output_type": "execute_result"
    }
   ],
   "source": [
    "pm_compliance = compute_kpi_table(\n",
    "    df_pm, \"percent_PMs_on_time\", \"total_PMs\", grouping_var=\"fy_close\"\n",
    ")\n",
    "pm_compliance"
   ]
  },
  {
   "cell_type": "markdown",
   "metadata": {},
   "source": [
    "### Visualization: % Preventive Work Requests on Time by Fiscal Year Closed\n",
    "Fiscal years 2020 and 2021 were characterized by the closing out of many backlog work requests, which lowered the percentage of work requests that are on time. "
   ]
  },
  {
   "cell_type": "code",
   "execution_count": 14,
   "metadata": {
    "scrolled": false
   },
   "outputs": [
    {
     "data": {
      "image/png": "[encoded data removed]",
      "text/plain": [
       "<Figure size 864x504 with 2 Axes>"
      ]
     },
     "metadata": {},
     "output_type": "display_data"
    }
   ],
   "source": [
    "pointplot_with_barplot(\n",
    "    pm_compliance,\n",
    "    x=pm_compliance.index,\n",
    "    point_y=\"percent_PMs_on_time\",\n",
    "    bar_y=\"total_PMs\",\n",
    "    yaxis_freq_bar=500,\n",
    "    yaxis_freq_point=25,\n",
    "    ymax_bar=2_500,\n",
    "    xlabel=\"Fiscal Year Closed\",\n",
    "    ylabel_point=\"Percent PMs On Time (Red line)\",\n",
    "    ylabel_bar=\"Total PMs (Grey bars)\",\n",
    "    title=\"Percent of PMs Completed On Time By Fiscal Year\",\n",
    ")"
   ]
  },
  {
   "cell_type": "markdown",
   "metadata": {
    "hideCode": false,
    "hidePrompt": false
   },
   "source": [
    "## KPI 2: Percent of Corrective Work Requests Completed On-Time\n",
    "Here are the key facts needed to understand the agency's new method for computing this KPI:\n",
    "\n",
    "- Only corrective problem types are considered, so all preventive work requests are dropped.\n",
    "- The work orders are first assigned a \"primary\" problem type, which reduces the number of problem types from about 110 to 30\n",
    "- Each of these primary problem types has an on-time benchmark \n",
    "- The work order is determined to be on-time based on comparing its time to completion to its benchmark"
   ]
  },
  {
   "cell_type": "markdown",
   "metadata": {},
   "source": [
    "### Filter to get CMs only"
   ]
  },
  {
   "cell_type": "code",
   "execution_count": 15,
   "metadata": {},
   "outputs": [
    {
     "name": "stdout",
     "output_type": "stream",
     "text": [
      "The filtered PMs dataframe has 7,503 rows.\n"
     ]
    }
   ],
   "source": [
    "df_pm = df_fy.copy()\n",
    "\n",
    "# filter data to PM types only\n",
    "cond_pm = df_pm[\"is_any_pm\"] == True\n",
    "\n",
    "# apply filter conditions\n",
    "df_pm = df_pm[cond_pm]\n",
    "\n",
    "print(f\"The filtered PMs dataframe has {len(df_pm):,} rows.\")"
   ]
  },
  {
   "cell_type": "code",
   "execution_count": 16,
   "metadata": {
    "scrolled": false
   },
   "outputs": [
    {
     "name": "stdout",
     "output_type": "stream",
     "text": [
      "The filtered CMs dataframe has 53,265 rows.\n"
     ]
    }
   ],
   "source": [
    "df_cm = df_fy.copy()\n",
    "\n",
    "# filter data to PM types only\n",
    "cond_cm = df_cm[\"is_any_pm\"] == False\n",
    "\n",
    "# apply filter conditions\n",
    "df_cm = df_cm[cond_cm]\n",
    "\n",
    "print(f\"The filtered CMs dataframe has {len(df_cm):,} rows.\")"
   ]
  },
  {
   "cell_type": "code",
   "execution_count": 17,
   "metadata": {
    "hideCode": false,
    "hidePrompt": false,
    "scrolled": false
   },
   "outputs": [
    {
     "data": {
      "text/html": [
       "<div>\n",
       "<style scoped>\n",
       "    .dataframe tbody tr th:only-of-type {\n",
       "        vertical-align: middle;\n",
       "    }\n",
       "\n",
       "    .dataframe tbody tr th {\n",
       "        vertical-align: top;\n",
       "    }\n",
       "\n",
       "    .dataframe thead th {\n",
       "        text-align: right;\n",
       "    }\n",
       "</style>\n",
       "<table border=\"1\" class=\"dataframe\">\n",
       "  <thead>\n",
       "    <tr style=\"text-align: right;\">\n",
       "      <th></th>\n",
       "      <th>problem_type</th>\n",
       "      <th>primary_type</th>\n",
       "      <th>completion_benchmark</th>\n",
       "      <th>days_to_completion</th>\n",
       "    </tr>\n",
       "  </thead>\n",
       "  <tbody>\n",
       "    <tr>\n",
       "      <th>55617</th>\n",
       "      <td>PLUMB/LEAK</td>\n",
       "      <td>PLUMBING</td>\n",
       "      <td>14</td>\n",
       "      <td>0.0</td>\n",
       "    </tr>\n",
       "    <tr>\n",
       "      <th>3957</th>\n",
       "      <td>OTHER</td>\n",
       "      <td>OTHER-INTERNAL</td>\n",
       "      <td>7</td>\n",
       "      <td>0.0</td>\n",
       "    </tr>\n",
       "    <tr>\n",
       "      <th>918</th>\n",
       "      <td>HVAC</td>\n",
       "      <td>HVAC</td>\n",
       "      <td>30</td>\n",
       "      <td>77.0</td>\n",
       "    </tr>\n",
       "    <tr>\n",
       "      <th>61450</th>\n",
       "      <td>CEILTILE</td>\n",
       "      <td>CEILTILE</td>\n",
       "      <td>14</td>\n",
       "      <td>0.0</td>\n",
       "    </tr>\n",
       "    <tr>\n",
       "      <th>105524</th>\n",
       "      <td>PLUMBING-WATER SUPPLY</td>\n",
       "      <td>PLUMBING</td>\n",
       "      <td>14</td>\n",
       "      <td>35.0</td>\n",
       "    </tr>\n",
       "    <tr>\n",
       "      <th>4024</th>\n",
       "      <td>ELEC/LIGHT</td>\n",
       "      <td>ELECTRICAL</td>\n",
       "      <td>14</td>\n",
       "      <td>2.0</td>\n",
       "    </tr>\n",
       "  </tbody>\n",
       "</table>\n",
       "</div>"
      ],
      "text/plain": [
       "                 problem_type    primary_type  completion_benchmark  \\\n",
       "55617              PLUMB/LEAK        PLUMBING                    14   \n",
       "3957                    OTHER  OTHER-INTERNAL                     7   \n",
       "918                      HVAC            HVAC                    30   \n",
       "61450                CEILTILE        CEILTILE                    14   \n",
       "105524  PLUMBING-WATER SUPPLY        PLUMBING                    14   \n",
       "4024               ELEC/LIGHT      ELECTRICAL                    14   \n",
       "\n",
       "        days_to_completion  \n",
       "55617                  0.0  \n",
       "3957                   0.0  \n",
       "918                   77.0  \n",
       "61450                  0.0  \n",
       "105524                35.0  \n",
       "4024                   2.0  "
      ]
     },
     "execution_count": 17,
     "metadata": {},
     "output_type": "execute_result"
    }
   ],
   "source": [
    "df_cm.sample(6, random_state=444)[\n",
    "    [\"problem_type\", \"primary_type\", \"completion_benchmark\", \"days_to_completion\"]\n",
    "]"
   ]
  },
  {
   "cell_type": "markdown",
   "metadata": {},
   "source": [
    "### Group by fiscal year to get % on time per fiscal year"
   ]
  },
  {
   "cell_type": "code",
   "execution_count": 18,
   "metadata": {
    "hideCode": false,
    "hidePrompt": false,
    "scrolled": true
   },
   "outputs": [
    {
     "data": {
      "text/html": [
       "<div>\n",
       "<style scoped>\n",
       "    .dataframe tbody tr th:only-of-type {\n",
       "        vertical-align: middle;\n",
       "    }\n",
       "\n",
       "    .dataframe tbody tr th {\n",
       "        vertical-align: top;\n",
       "    }\n",
       "\n",
       "    .dataframe thead th {\n",
       "        text-align: right;\n",
       "    }\n",
       "</style>\n",
       "<table border=\"1\" class=\"dataframe\">\n",
       "  <thead>\n",
       "    <tr style=\"text-align: right;\">\n",
       "      <th></th>\n",
       "      <th>percent_CMs_on_time</th>\n",
       "      <th>total_CMs</th>\n",
       "    </tr>\n",
       "    <tr>\n",
       "      <th>fy_close</th>\n",
       "      <th></th>\n",
       "      <th></th>\n",
       "    </tr>\n",
       "  </thead>\n",
       "  <tbody>\n",
       "    <tr>\n",
       "      <th>2017</th>\n",
       "      <td>73.38</td>\n",
       "      <td>12410</td>\n",
       "    </tr>\n",
       "    <tr>\n",
       "      <th>2018</th>\n",
       "      <td>70.97</td>\n",
       "      <td>9922</td>\n",
       "    </tr>\n",
       "    <tr>\n",
       "      <th>2019</th>\n",
       "      <td>66.62</td>\n",
       "      <td>5644</td>\n",
       "    </tr>\n",
       "    <tr>\n",
       "      <th>2020</th>\n",
       "      <td>53.22</td>\n",
       "      <td>8839</td>\n",
       "    </tr>\n",
       "    <tr>\n",
       "      <th>2021</th>\n",
       "      <td>37.14</td>\n",
       "      <td>11181</td>\n",
       "    </tr>\n",
       "    <tr>\n",
       "      <th>2022</th>\n",
       "      <td>54.59</td>\n",
       "      <td>1885</td>\n",
       "    </tr>\n",
       "  </tbody>\n",
       "</table>\n",
       "</div>"
      ],
      "text/plain": [
       "          percent_CMs_on_time  total_CMs\n",
       "fy_close                                \n",
       "2017                    73.38      12410\n",
       "2018                    70.97       9922\n",
       "2019                    66.62       5644\n",
       "2020                    53.22       8839\n",
       "2021                    37.14      11181\n",
       "2022                    54.59       1885"
      ]
     },
     "execution_count": 18,
     "metadata": {},
     "output_type": "execute_result"
    }
   ],
   "source": [
    "cm_compliance = compute_kpi_table(\n",
    "    df_cm, \"percent_CMs_on_time\", \"total_CMs\", grouping_var=\"fy_close\"\n",
    ")\n",
    "cm_compliance"
   ]
  },
  {
   "cell_type": "markdown",
   "metadata": {},
   "source": [
    "### Visualization: % Corrective Work Requests on Time by Fiscal Year Closed\n",
    "Efforts to close out the backlog bring the FY21 number down a bit. Facilities Maintenance expects FY22 figures to improve as "
   ]
  },
  {
   "cell_type": "code",
   "execution_count": 19,
   "metadata": {
    "hideCode": false,
    "hidePrompt": false,
    "scrolled": false
   },
   "outputs": [
    {
     "data": {
      "image/png": "[encoded data removed]",
      "text/plain": [
       "<Figure size 864x504 with 2 Axes>"
      ]
     },
     "metadata": {},
     "output_type": "display_data"
    }
   ],
   "source": [
    "pointplot_with_barplot(\n",
    "    cm_compliance,\n",
    "    x=cm_compliance.index,\n",
    "    point_y=\"percent_CMs_on_time\",\n",
    "    bar_y=\"total_CMs\",\n",
    "    yaxis_freq_bar=2500,\n",
    "    yaxis_freq_point=25,\n",
    "    ymax_bar=20_000,\n",
    "    xlabel=\"Fiscal Year Closed\",\n",
    "    ylabel_point=\"Percent CMs On Time (Red line)\",\n",
    "    ylabel_bar=\"Total CMs (Grey bars)\",\n",
    "    title=\"Percent of CMs Closed On Time By Fiscal Year\",\n",
    ")"
   ]
  },
  {
   "cell_type": "markdown",
   "metadata": {},
   "source": [
    "## KPI 3: Percent of All WRs Completed On Time"
   ]
  },
  {
   "cell_type": "markdown",
   "metadata": {},
   "source": [
    "### No filter needed"
   ]
  },
  {
   "cell_type": "code",
   "execution_count": 20,
   "metadata": {},
   "outputs": [
    {
     "name": "stdout",
     "output_type": "stream",
     "text": [
      "The filtered CMs dataframe has 60,768 rows.\n"
     ]
    }
   ],
   "source": [
    "df_all = df_fy.copy()\n",
    "\n",
    "print(f\"The filtered CMs dataframe has {len(df_all):,} rows.\")"
   ]
  },
  {
   "cell_type": "code",
   "execution_count": 21,
   "metadata": {},
   "outputs": [
    {
     "data": {
      "text/html": [
       "<div>\n",
       "<style scoped>\n",
       "    .dataframe tbody tr th:only-of-type {\n",
       "        vertical-align: middle;\n",
       "    }\n",
       "\n",
       "    .dataframe tbody tr th {\n",
       "        vertical-align: top;\n",
       "    }\n",
       "\n",
       "    .dataframe thead th {\n",
       "        text-align: right;\n",
       "    }\n",
       "</style>\n",
       "<table border=\"1\" class=\"dataframe\">\n",
       "  <thead>\n",
       "    <tr style=\"text-align: right;\">\n",
       "      <th></th>\n",
       "      <th>problem_type</th>\n",
       "      <th>primary_type</th>\n",
       "      <th>completion_benchmark</th>\n",
       "      <th>days_to_completion</th>\n",
       "    </tr>\n",
       "  </thead>\n",
       "  <tbody>\n",
       "    <tr>\n",
       "      <th>7933</th>\n",
       "      <td>PLUMB/UNCLOG</td>\n",
       "      <td>PLUMBING</td>\n",
       "      <td>14</td>\n",
       "      <td>33.0</td>\n",
       "    </tr>\n",
       "    <tr>\n",
       "      <th>28867</th>\n",
       "      <td>SERV/CUSTODIAL</td>\n",
       "      <td>SERVICE</td>\n",
       "      <td>14</td>\n",
       "      <td>0.0</td>\n",
       "    </tr>\n",
       "    <tr>\n",
       "      <th>87151</th>\n",
       "      <td>HVAC</td>\n",
       "      <td>HVAC</td>\n",
       "      <td>30</td>\n",
       "      <td>21.0</td>\n",
       "    </tr>\n",
       "    <tr>\n",
       "      <th>91254</th>\n",
       "      <td>PLUMB/OTHER</td>\n",
       "      <td>PLUMBING</td>\n",
       "      <td>14</td>\n",
       "      <td>9.0</td>\n",
       "    </tr>\n",
       "    <tr>\n",
       "      <th>57771</th>\n",
       "      <td>OVERHDDOOR</td>\n",
       "      <td>OVERHDDOOR</td>\n",
       "      <td>45</td>\n",
       "      <td>50.0</td>\n",
       "    </tr>\n",
       "    <tr>\n",
       "      <th>23234</th>\n",
       "      <td>BATHROOM_FIXT</td>\n",
       "      <td>BATHROOM</td>\n",
       "      <td>14</td>\n",
       "      <td>0.0</td>\n",
       "    </tr>\n",
       "  </tbody>\n",
       "</table>\n",
       "</div>"
      ],
      "text/plain": [
       "         problem_type primary_type  completion_benchmark  days_to_completion\n",
       "7933     PLUMB/UNCLOG     PLUMBING                    14                33.0\n",
       "28867  SERV/CUSTODIAL      SERVICE                    14                 0.0\n",
       "87151            HVAC         HVAC                    30                21.0\n",
       "91254     PLUMB/OTHER     PLUMBING                    14                 9.0\n",
       "57771      OVERHDDOOR   OVERHDDOOR                    45                50.0\n",
       "23234   BATHROOM_FIXT     BATHROOM                    14                 0.0"
      ]
     },
     "execution_count": 21,
     "metadata": {},
     "output_type": "execute_result"
    }
   ],
   "source": [
    "df_all.sample(6, random_state=444)[\n",
    "    [\"problem_type\", \"primary_type\", \"completion_benchmark\", \"days_to_completion\"]\n",
    "]"
   ]
  },
  {
   "cell_type": "markdown",
   "metadata": {},
   "source": [
    "### Group by Fiscal Year to get KPI"
   ]
  },
  {
   "cell_type": "code",
   "execution_count": 22,
   "metadata": {},
   "outputs": [
    {
     "data": {
      "text/html": [
       "<div>\n",
       "<style scoped>\n",
       "    .dataframe tbody tr th:only-of-type {\n",
       "        vertical-align: middle;\n",
       "    }\n",
       "\n",
       "    .dataframe tbody tr th {\n",
       "        vertical-align: top;\n",
       "    }\n",
       "\n",
       "    .dataframe thead th {\n",
       "        text-align: right;\n",
       "    }\n",
       "</style>\n",
       "<table border=\"1\" class=\"dataframe\">\n",
       "  <thead>\n",
       "    <tr style=\"text-align: right;\">\n",
       "      <th></th>\n",
       "      <th>percent_WRs_on_time</th>\n",
       "      <th>total_work_requests</th>\n",
       "    </tr>\n",
       "    <tr>\n",
       "      <th>fy_close</th>\n",
       "      <th></th>\n",
       "      <th></th>\n",
       "    </tr>\n",
       "  </thead>\n",
       "  <tbody>\n",
       "    <tr>\n",
       "      <th>2017</th>\n",
       "      <td>71.50</td>\n",
       "      <td>13605</td>\n",
       "    </tr>\n",
       "    <tr>\n",
       "      <th>2018</th>\n",
       "      <td>72.00</td>\n",
       "      <td>11117</td>\n",
       "    </tr>\n",
       "    <tr>\n",
       "      <th>2019</th>\n",
       "      <td>69.70</td>\n",
       "      <td>6409</td>\n",
       "    </tr>\n",
       "    <tr>\n",
       "      <th>2020</th>\n",
       "      <td>52.56</td>\n",
       "      <td>10741</td>\n",
       "    </tr>\n",
       "    <tr>\n",
       "      <th>2021</th>\n",
       "      <td>36.13</td>\n",
       "      <td>13132</td>\n",
       "    </tr>\n",
       "    <tr>\n",
       "      <th>2022</th>\n",
       "      <td>54.89</td>\n",
       "      <td>2055</td>\n",
       "    </tr>\n",
       "  </tbody>\n",
       "</table>\n",
       "</div>"
      ],
      "text/plain": [
       "          percent_WRs_on_time  total_work_requests\n",
       "fy_close                                          \n",
       "2017                    71.50                13605\n",
       "2018                    72.00                11117\n",
       "2019                    69.70                 6409\n",
       "2020                    52.56                10741\n",
       "2021                    36.13                13132\n",
       "2022                    54.89                 2055"
      ]
     },
     "execution_count": 22,
     "metadata": {},
     "output_type": "execute_result"
    }
   ],
   "source": [
    "all_compliance = compute_kpi_table(\n",
    "    df_all, \"percent_WRs_on_time\", \"total_work_requests\", grouping_var=\"fy_close\"\n",
    ")\n",
    "all_compliance"
   ]
  },
  {
   "cell_type": "code",
   "execution_count": 23,
   "metadata": {
    "scrolled": true
   },
   "outputs": [
    {
     "data": {
      "image/png": "[encoded data removed]",
      "text/plain": [
       "<Figure size 864x504 with 2 Axes>"
      ]
     },
     "metadata": {},
     "output_type": "display_data"
    }
   ],
   "source": [
    "pointplot_with_barplot(\n",
    "    all_compliance,\n",
    "    x=all_compliance.index,\n",
    "    point_y=\"percent_WRs_on_time\",\n",
    "    bar_y=\"total_work_requests\",\n",
    "    yaxis_freq_bar=2500,\n",
    "    yaxis_freq_point=25,\n",
    "    ymax_bar=20_000,\n",
    "    xlabel=\"Fiscal Year Closed\",\n",
    "    ylabel_point=\"Percent All WRs On Time (Red line)\",\n",
    "    ylabel_bar=\"Total Work Requests (Grey bars)\",\n",
    "    title=\"Percent of WRs Closed On Time By Fiscal Year\",\n",
    ")"
   ]
  },
  {
   "cell_type": "markdown",
   "metadata": {
    "hideCode": false,
    "hidePrompt": false
   },
   "source": [
    "## KPI 4: PM:CM Ratio"
   ]
  },
  {
   "cell_type": "markdown",
   "metadata": {
    "hideCode": false,
    "hidePrompt": false
   },
   "source": [
    "This KPI remains under contstruction as DGS works to choose categories of related categories of preventive and corrective maintenance that extend beyond just HVAC. Therefore, we've commented out the code for this KPI. "
   ]
  },
  {
   "cell_type": "code",
   "execution_count": 24,
   "metadata": {
    "hideCode": false,
    "hidePrompt": false,
    "scrolled": false
   },
   "outputs": [],
   "source": [
    "CM_list = [\n",
    "    \"BOILER\",\n",
    "    \"CHILLERS\",\n",
    "    \"COOLING TOWERS\",\n",
    "    \"HVAC\",\n",
    "    \"HVAC INFRASTRUCTURE\",\n",
    "    \"HVAC|REPAIR\",\n",
    "]\n",
    "\n",
    "PM_list = [\n",
    "    \"HVAC|PM\",\n",
    "    \"PREVENTIVE MAINT\",\n",
    "]"
   ]
  },
  {
   "cell_type": "markdown",
   "metadata": {
    "hideCode": false,
    "hidePrompt": false
   },
   "source": [
    "### Filter to HVAC rows only"
   ]
  },
  {
   "cell_type": "code",
   "execution_count": 25,
   "metadata": {
    "hideCode": false,
    "hidePrompt": false,
    "scrolled": false
   },
   "outputs": [
    {
     "name": "stdout",
     "output_type": "stream",
     "text": [
      "Filtering to HVAC request only takes us from 60,768 rows to 17,370 rows.\n"
     ]
    }
   ],
   "source": [
    "df_main = df_fy.copy()\n",
    "\n",
    "# filter data to PM types only\n",
    "cond_cm = df_main[\"problem_type\"].isin(CM_list)\n",
    "cond_pm = df_main[\"problem_type\"].isin(PM_list)\n",
    "\n",
    "df_HVAC = df_main[cond_cm | cond_pm]\n",
    "df_HVAC[\"is_pm\"] = df_HVAC[\"problem_type\"].isin(PM_list)\n",
    "\n",
    "print(\n",
    "    f\"Filtering to HVAC request only takes us from {len(df_fy):,} rows to {len(df_HVAC):,} rows.\"\n",
    ")"
   ]
  },
  {
   "cell_type": "markdown",
   "metadata": {
    "hideCode": false,
    "hidePrompt": false
   },
   "source": [
    "### Compute all PM/CM stats by fiscal year\n",
    "First we deploy a custom function that counts the PMs and CMs in each fiscal year and then calculates the PM:CM ratio."
   ]
  },
  {
   "cell_type": "code",
   "execution_count": 32,
   "metadata": {
    "hideCode": false,
    "hidePrompt": false,
    "scrolled": false
   },
   "outputs": [
    {
     "name": "stdout",
     "output_type": "stream",
     "text": [
      "2017\n",
      "2018\n",
      "2019\n",
      "2020\n",
      "2021\n",
      "2022\n"
     ]
    }
   ],
   "source": [
    "pm_cm_results = compute_pm_cm(df_HVAC, grouping_var='fy_complete')"
   ]
  },
  {
   "cell_type": "code",
   "execution_count": 33,
   "metadata": {
    "hideCode": false,
    "hidePrompt": false,
    "scrolled": false
   },
   "outputs": [
    {
     "data": {
      "text/html": [
       "<div>\n",
       "<style scoped>\n",
       "    .dataframe tbody tr th:only-of-type {\n",
       "        vertical-align: middle;\n",
       "    }\n",
       "\n",
       "    .dataframe tbody tr th {\n",
       "        vertical-align: top;\n",
       "    }\n",
       "\n",
       "    .dataframe thead th {\n",
       "        text-align: right;\n",
       "    }\n",
       "</style>\n",
       "<table border=\"1\" class=\"dataframe\">\n",
       "  <thead>\n",
       "    <tr style=\"text-align: right;\">\n",
       "      <th></th>\n",
       "      <th>pm_cm_ratio</th>\n",
       "      <th>percent_pm</th>\n",
       "      <th>count_cm</th>\n",
       "      <th>count_pm</th>\n",
       "      <th>count_hvac</th>\n",
       "      <th>fy_complete</th>\n",
       "    </tr>\n",
       "  </thead>\n",
       "  <tbody>\n",
       "    <tr>\n",
       "      <th>0</th>\n",
       "      <td>0.61:1</td>\n",
       "      <td>60.53</td>\n",
       "      <td>2095</td>\n",
       "      <td>1268</td>\n",
       "      <td>3363</td>\n",
       "      <td>2017</td>\n",
       "    </tr>\n",
       "    <tr>\n",
       "      <th>1</th>\n",
       "      <td>0.65:1</td>\n",
       "      <td>64.89</td>\n",
       "      <td>2615</td>\n",
       "      <td>1697</td>\n",
       "      <td>4312</td>\n",
       "      <td>2018</td>\n",
       "    </tr>\n",
       "    <tr>\n",
       "      <th>2</th>\n",
       "      <td>0.58:1</td>\n",
       "      <td>57.73</td>\n",
       "      <td>1805</td>\n",
       "      <td>1042</td>\n",
       "      <td>2847</td>\n",
       "      <td>2019</td>\n",
       "    </tr>\n",
       "    <tr>\n",
       "      <th>3</th>\n",
       "      <td>0.66:1</td>\n",
       "      <td>66.35</td>\n",
       "      <td>2089</td>\n",
       "      <td>1386</td>\n",
       "      <td>3475</td>\n",
       "      <td>2020</td>\n",
       "    </tr>\n",
       "    <tr>\n",
       "      <th>4</th>\n",
       "      <td>0.71:1</td>\n",
       "      <td>70.60</td>\n",
       "      <td>1527</td>\n",
       "      <td>1078</td>\n",
       "      <td>2605</td>\n",
       "      <td>2021</td>\n",
       "    </tr>\n",
       "    <tr>\n",
       "      <th>5</th>\n",
       "      <td>0.19:1</td>\n",
       "      <td>19.25</td>\n",
       "      <td>644</td>\n",
       "      <td>124</td>\n",
       "      <td>768</td>\n",
       "      <td>2022</td>\n",
       "    </tr>\n",
       "  </tbody>\n",
       "</table>\n",
       "</div>"
      ],
      "text/plain": [
       "  pm_cm_ratio  percent_pm  count_cm  count_pm  count_hvac  fy_complete\n",
       "0      0.61:1       60.53      2095      1268        3363         2017\n",
       "1      0.65:1       64.89      2615      1697        4312         2018\n",
       "2      0.58:1       57.73      1805      1042        2847         2019\n",
       "3      0.66:1       66.35      2089      1386        3475         2020\n",
       "4      0.71:1       70.60      1527      1078        2605         2021\n",
       "5      0.19:1       19.25       644       124         768         2022"
      ]
     },
     "execution_count": 33,
     "metadata": {},
     "output_type": "execute_result"
    }
   ],
   "source": [
    "pm_cm_results"
   ]
  },
  {
   "cell_type": "markdown",
   "metadata": {},
   "source": [
    "### Plot PM:CM ratio by fiscal year"
   ]
  },
  {
   "cell_type": "code",
   "execution_count": 34,
   "metadata": {
    "scrolled": false
   },
   "outputs": [
    {
     "data": {
      "image/png": "[encoded data removed]",
      "text/plain": [
       "<Figure size 864x504 with 2 Axes>"
      ]
     },
     "metadata": {},
     "output_type": "display_data"
    }
   ],
   "source": [
    "pointplot_with_barplot(\n",
    "    pm_cm_results,\n",
    "    x=\"fy_complete\",\n",
    "    point_y=\"percent_pm\",\n",
    "    bar_y=\"count_hvac\",\n",
    "    ymax_bar=5_000,\n",
    "    yaxis_freq_bar=1000,\n",
    "    xlabel=\"Fiscal Year Completed\",\n",
    "    ylabel_point=\"PM:CM Ratio\",\n",
    "    ylabel_bar=\"Total HVAC Work Requests\",\n",
    "    title=\"Preventive to Corrective Ratio By Fiscal Year\",\n",
    "    #yticklabels=[\"0\",\"0.25:1\", \"0.5:1\", \"0.75:1\", \"1:1\"],\n",
    ")"
   ]
  },
  {
   "cell_type": "markdown",
   "metadata": {},
   "source": [
    "### Plot the number of PMs and CMs by fiscal year\n",
    "We can get a little more insight into what's going on with the ratio by checking out the raw counts of preventive and corrective maintenance work requests by fiscal year. "
   ]
  },
  {
   "cell_type": "code",
   "execution_count": null,
   "metadata": {
    "scrolled": false
   },
   "outputs": [],
   "source": [
    "# count_plot_data = pd.melt(\n",
    "#     pm_cm_results, id_vars=[\"fiscal_year\"], value_vars=[\"count_cm\", \"count_pm\"]\n",
    "# )\n",
    "\n",
    "# ax = sns.lineplot(data=count_plot_data, y=\"value\", x=\"fiscal_year\", hue=\"variable\")\n",
    "# new_labels = [\"Corrective\", \"Preventive\"]\n",
    "# plt.legend(title=\"Number of Work Orders\", loc=\"upper left\", labels=new_labels)\n",
    "\n",
    "# ax.set(\n",
    "#     title=\"Volume of HVAC PMs And CMs By Fiscal Year\",\n",
    "#     xlabel=\"Fiscal Year\",\n",
    "#     ylim=(0, 3000),\n",
    "# )\n",
    "# sns.despine()"
   ]
  }
 ],
 "metadata": {
  "hide_code_all_hidden": false,
  "kernelspec": {
   "display_name": "Python 3 (ipykernel)",
   "language": "python",
   "name": "python3"
  },
  "language_info": {
   "codemirror_mode": {
    "name": "ipython",
    "version": 3
   },
   "file_extension": ".py",
   "mimetype": "text/x-python",
   "name": "python",
   "nbconvert_exporter": "python",
   "pygments_lexer": "ipython3",
   "version": "3.8.5"
  },
  "toc": {
   "base_numbering": 1,
   "nav_menu": {},
   "number_sections": true,
   "sideBar": true,
   "skip_h1_title": true,
   "title_cell": "Table of Contents",
   "title_sidebar": "Contents",
   "toc_cell": false,
   "toc_position": {
    "height": "calc(100% - 180px)",
    "left": "10px",
    "top": "150px",
    "width": "316px"
   },
   "toc_section_display": true,
   "toc_window_display": true
  }
 },
 "nbformat": 4,
 "nbformat_minor": 4
}
