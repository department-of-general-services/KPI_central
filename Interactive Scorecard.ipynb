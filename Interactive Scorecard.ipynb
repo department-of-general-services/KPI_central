{
 "cells": [
  {
   "cell_type": "markdown",
   "id": "91e63561",
   "metadata": {},
   "source": [
    "# Interactive Notebook for FMD KPIs"
   ]
  },
  {
   "cell_type": "markdown",
   "id": "744fdb13",
   "metadata": {},
   "source": [
    "## Setup"
   ]
  },
  {
   "cell_type": "code",
   "execution_count": 1,
   "id": "77f0f162",
   "metadata": {},
   "outputs": [],
   "source": [
    "# workhorse modules\n",
    "import pandas as pd\n",
    "from datetime import timedelta, datetime\n",
    "from pathlib import Path\n",
    "import ipywidgets as widgets\n",
    "from ipywidgets import interact, interactive, fixed, interact_manual\n",
    "\n",
    "# local utility functions\n",
    "from utils.general_utils import (\n",
    "    add_fiscal_year,\n",
    "    compute_is_on_time,\n",
    "    set_pd_params,\n",
    "    choose_pms_or_cms,\n",
    "    compute_pm_cm,\n",
    "    compute_pm_cm_by_month,\n",
    "    compute_kpi_table,\n",
    "    compute_kpi_table_by_month,\n",
    ")\n",
    "from utils.vis_utils import set_plot_params, pointplot_with_barplot"
   ]
  },
  {
   "cell_type": "code",
   "execution_count": 2,
   "id": "54c400e6",
   "metadata": {},
   "outputs": [],
   "source": [
    "set_pd_params()\n",
    "set_plot_params(12, 6)\n",
    "pd.options.mode.chained_assignment = None  # default='warn'"
   ]
  },
  {
   "cell_type": "code",
   "execution_count": 3,
   "id": "398a003d",
   "metadata": {},
   "outputs": [],
   "source": [
    "scorecard_path = Path.cwd() / \"data\" / \"scorecard_data.pkl\"\n",
    "wr_tidy = pd.read_pickle(scorecard_path)"
   ]
  },
  {
   "cell_type": "code",
   "execution_count": 4,
   "id": "407a1145",
   "metadata": {},
   "outputs": [
    {
     "name": "stdout",
     "output_type": "stream",
     "text": [
      "By dropping canceled and rejected work orders, we have removed 4,029 rows.\n"
     ]
    }
   ],
   "source": [
    "# drop rows that were canceled\n",
    "cond_valid = ~wr_tidy[\"status\"].isin([\"Can\", \"Rej\", \"R\"])\n",
    "\n",
    "wr_valid = wr_tidy[cond_valid]\n",
    "\n",
    "print(\n",
    "    f\"By dropping canceled and rejected work orders, we have removed {len(wr_tidy) - len(wr_valid):,} rows.\"\n",
    ")"
   ]
  },
  {
   "cell_type": "markdown",
   "id": "b03950d3",
   "metadata": {},
   "source": [
    "## Decisions\n",
    "\n",
    "### Decide on what basis to assign fiscal year\n",
    "Use the dropdown menu to decide on what basis to assign the fiscal year. "
   ]
  },
  {
   "cell_type": "code",
   "execution_count": 29,
   "id": "0ddc64a0",
   "metadata": {},
   "outputs": [
    {
     "data": {
      "application/vnd.jupyter.widget-view+json": {
       "model_id": "94b9d3d155754fd5863f8820a0f0c8d8",
       "version_major": 2,
       "version_minor": 0
      },
      "text/plain": [
       "interactive(children=(Dropdown(description='assign_fy_on', index=2, options=('requested', 'completed', 'closed…"
      ]
     },
     "metadata": {},
     "output_type": "display_data"
    }
   ],
   "source": [
    "wr_fy_widget = interactive(\n",
    "    add_fiscal_year,\n",
    "    assign_fy_on=[\"requested\", \"completed\", \"closed\"],\n",
    "    df=fixed(wr_valid),\n",
    ")\n",
    "wr_fy_widget"
   ]
  },
  {
   "cell_type": "code",
   "execution_count": 30,
   "id": "6485a086",
   "metadata": {},
   "outputs": [],
   "source": [
    "fy_assignment = wr_fy_widget.children[0].value\n",
    "wr_fy = wr_fy_widget.result"
   ]
  },
  {
   "cell_type": "markdown",
   "id": "a0fd162d",
   "metadata": {},
   "source": [
    "### Decide whether to look at PMs or CMs"
   ]
  },
  {
   "cell_type": "code",
   "execution_count": 31,
   "id": "519cd568",
   "metadata": {},
   "outputs": [
    {
     "data": {
      "application/vnd.jupyter.widget-view+json": {
       "model_id": "31c925eba77b4a5cb4aa1b322036a8d9",
       "version_major": 2,
       "version_minor": 0
      },
      "text/plain": [
       "interactive(children=(Dropdown(description='selection', options=('PMs', 'CMs'), value='PMs'), Output()), _dom_…"
      ]
     },
     "metadata": {},
     "output_type": "display_data"
    }
   ],
   "source": [
    "wr_typed_widget = interactive(\n",
    "    choose_pms_or_cms,\n",
    "    selection=[\"PMs\", \"CMs\"],\n",
    "    df=fixed(wr_fy),\n",
    ")\n",
    "\n",
    "wr_typed_widget"
   ]
  },
  {
   "cell_type": "code",
   "execution_count": 32,
   "id": "0bc64ce2",
   "metadata": {},
   "outputs": [
    {
     "name": "stdout",
     "output_type": "stream",
     "text": [
      "The filtered CMs dataframe has 94,452 rows.\n"
     ]
    }
   ],
   "source": [
    "selection = wr_typed_widget.children[0].value\n",
    "wr_typed = wr_typed_widget.result\n",
    "print(f\"The filtered {selection} dataframe has {len(wr_typed):,} rows.\")"
   ]
  },
  {
   "cell_type": "markdown",
   "id": "f56889b1",
   "metadata": {},
   "source": [
    "### Check out the most numerous problem types"
   ]
  },
  {
   "cell_type": "code",
   "execution_count": 33,
   "id": "2f629e5b",
   "metadata": {},
   "outputs": [
    {
     "data": {
      "text/plain": [
       "HVAC              14057\n",
       "OTHER             13944\n",
       "SERV/CUSTODIAL     8189\n",
       "ELEC/LIGHT         5782\n",
       "PLUMB/OTHER        4112\n",
       "_DELIVERY          3981\n",
       "DOOR               3960\n",
       "ELEC/GENERAL       3607\n",
       "LOCK               2997\n",
       "PLUMB/UNCLOG       2912\n",
       "Name: problem_type, dtype: int64"
      ]
     },
     "execution_count": 33,
     "metadata": {},
     "output_type": "execute_result"
    }
   ],
   "source": [
    "wr_typed[\"problem_type\"].value_counts().nlargest(10)"
   ]
  },
  {
   "cell_type": "markdown",
   "id": "03fa70a7",
   "metadata": {},
   "source": [
    "### Add a column for \"Is on time\""
   ]
  },
  {
   "cell_type": "code",
   "execution_count": 34,
   "id": "c43b3bcb",
   "metadata": {},
   "outputs": [],
   "source": [
    "# add \"is_on_time\" column with performance data\n",
    "wrs_on_time = wr_typed.dropna(subset=[\"days_to_completion\", \"benchmark\"])\n",
    "wrs_on_time[\"is_on_time\"] = compute_is_on_time(\n",
    "    wrs_on_time[\"days_to_completion\"], wrs_on_time[\"benchmark\"]\n",
    ")"
   ]
  },
  {
   "cell_type": "markdown",
   "id": "6b11fae9",
   "metadata": {},
   "source": [
    "## Compute the KPI and visualize"
   ]
  },
  {
   "cell_type": "markdown",
   "id": "a6c616c3",
   "metadata": {},
   "source": [
    "### Aggregate by the the fiscal year"
   ]
  },
  {
   "cell_type": "code",
   "execution_count": 35,
   "id": "99f96b3c",
   "metadata": {},
   "outputs": [
    {
     "data": {
      "text/html": [
       "<div>\n",
       "<style scoped>\n",
       "    .dataframe tbody tr th:only-of-type {\n",
       "        vertical-align: middle;\n",
       "    }\n",
       "\n",
       "    .dataframe tbody tr th {\n",
       "        vertical-align: top;\n",
       "    }\n",
       "\n",
       "    .dataframe thead th {\n",
       "        text-align: right;\n",
       "    }\n",
       "</style>\n",
       "<table border=\"1\" class=\"dataframe\">\n",
       "  <thead>\n",
       "    <tr style=\"text-align: right;\">\n",
       "      <th></th>\n",
       "      <th>percent_CMs_on_time</th>\n",
       "      <th>total_CMs</th>\n",
       "    </tr>\n",
       "    <tr>\n",
       "      <th>fiscal_year</th>\n",
       "      <th></th>\n",
       "      <th></th>\n",
       "    </tr>\n",
       "  </thead>\n",
       "  <tbody>\n",
       "    <tr>\n",
       "      <th>2014</th>\n",
       "      <td>75.36</td>\n",
       "      <td>9849</td>\n",
       "    </tr>\n",
       "    <tr>\n",
       "      <th>2015</th>\n",
       "      <td>76.56</td>\n",
       "      <td>13825</td>\n",
       "    </tr>\n",
       "    <tr>\n",
       "      <th>2016</th>\n",
       "      <td>77.98</td>\n",
       "      <td>15312</td>\n",
       "    </tr>\n",
       "    <tr>\n",
       "      <th>2017</th>\n",
       "      <td>69.85</td>\n",
       "      <td>15052</td>\n",
       "    </tr>\n",
       "    <tr>\n",
       "      <th>2018</th>\n",
       "      <td>68.21</td>\n",
       "      <td>12943</td>\n",
       "    </tr>\n",
       "    <tr>\n",
       "      <th>2019</th>\n",
       "      <td>50.27</td>\n",
       "      <td>9012</td>\n",
       "    </tr>\n",
       "    <tr>\n",
       "      <th>2020</th>\n",
       "      <td>47.87</td>\n",
       "      <td>7668</td>\n",
       "    </tr>\n",
       "    <tr>\n",
       "      <th>2021</th>\n",
       "      <td>42.18</td>\n",
       "      <td>4289</td>\n",
       "    </tr>\n",
       "  </tbody>\n",
       "</table>\n",
       "</div>"
      ],
      "text/plain": [
       "             percent_CMs_on_time  total_CMs\n",
       "fiscal_year                                \n",
       "2014                       75.36       9849\n",
       "2015                       76.56      13825\n",
       "2016                       77.98      15312\n",
       "2017                       69.85      15052\n",
       "2018                       68.21      12943\n",
       "2019                       50.27       9012\n",
       "2020                       47.87       7668\n",
       "2021                       42.18       4289"
      ]
     },
     "execution_count": 35,
     "metadata": {},
     "output_type": "execute_result"
    }
   ],
   "source": [
    "pm_compliance = compute_kpi_table(\n",
    "    wrs_on_time,\n",
    "    f\"percent_{selection}_on_time\",\n",
    "    f\"total_{selection}\",\n",
    "    grouping_var=\"fiscal_year\",\n",
    ")\n",
    "pm_compliance"
   ]
  },
  {
   "cell_type": "code",
   "execution_count": 37,
   "id": "4680379c",
   "metadata": {
    "scrolled": true
   },
   "outputs": [
    {
     "data": {
      "image/png": "[encoded data removed]",
      "text/plain": [
       "<Figure size 864x432 with 2 Axes>"
      ]
     },
     "metadata": {},
     "output_type": "display_data"
    }
   ],
   "source": [
    "pointplot_with_barplot(\n",
    "    pm_compliance,\n",
    "    x=pm_compliance.index,\n",
    "    point_y=f\"percent_{selection}_on_time\",\n",
    "    bar_y=f\"total_{selection}\",\n",
    "    ymax_bar=20_000,\n",
    "    xlabel=\"Fiscal Year\",\n",
    "    ylabel_point=f\"Percent {selection} On Time (Red line)\",\n",
    "    ylabel_bar=f\"Total {selection} (Grey bars)\",\n",
    "    title=f\"Percent of {selection} {fy_assignment} On Time By Fiscal Year\",\n",
    ")"
   ]
  },
  {
   "cell_type": "code",
   "execution_count": null,
   "id": "d4df5322",
   "metadata": {},
   "outputs": [],
   "source": []
  },
  {
   "cell_type": "code",
   "execution_count": null,
   "id": "5c0914a6",
   "metadata": {},
   "outputs": [],
   "source": []
  }
 ],
 "metadata": {
  "kernelspec": {
   "display_name": "BPIO",
   "language": "python",
   "name": "bpio"
  },
  "language_info": {
   "codemirror_mode": {
    "name": "ipython",
    "version": 3
   },
   "file_extension": ".py",
   "mimetype": "text/x-python",
   "name": "python",
   "nbconvert_exporter": "python",
   "pygments_lexer": "ipython3",
   "version": "3.8.5"
  },
  "toc": {
   "base_numbering": 1,
   "nav_menu": {},
   "number_sections": true,
   "sideBar": true,
   "skip_h1_title": true,
   "title_cell": "Table of Contents",
   "title_sidebar": "Contents",
   "toc_cell": false,
   "toc_position": {
    "height": "calc(100% - 180px)",
    "left": "10px",
    "top": "150px",
    "width": "300.66px"
   },
   "toc_section_display": true,
   "toc_window_display": true
  }
 },
 "nbformat": 4,
 "nbformat_minor": 5
}
