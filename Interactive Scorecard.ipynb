{
 "cells": [
  {
   "cell_type": "code",
   "execution_count": 5,
   "id": "77f0f162",
   "metadata": {},
   "outputs": [],
   "source": [
    "# workhorse modules\n",
    "import pandas as pd\n",
    "from datetime import timedelta, datetime\n",
    "import re\n",
    "from pathlib import Path\n",
    "import seaborn as sns\n",
    "import matplotlib.pyplot as plt\n",
    "import ipywidgets as widgets\n",
    "\n",
    "# local utility functions\n",
    "from utils.general_utils import (\n",
    "    add_fiscal_year,\n",
    "    compute_is_on_time,\n",
    "    set_pd_params,\n",
    "    tidy_up_df,\n",
    "    cast_dtypes,\n",
    "    compute_pm_cm,\n",
    "    compute_pm_cm_by_month,\n",
    "    compute_kpi_table,\n",
    "    compute_kpi_table_by_month,\n",
    ")\n",
    "from utils.vis_utils import set_plot_params, pointplot_with_barplot\n",
    "from utils.anonymization import split_names, replace_names"
   ]
  },
  {
   "cell_type": "code",
   "execution_count": 2,
   "id": "54c400e6",
   "metadata": {},
   "outputs": [
    {
     "data": {
      "text/plain": [
       "'3.8.5 (default, Apr 15 2021, 10:03:23) \\n[Clang 10.0.1 (clang-1001.0.46.4)]'"
      ]
     },
     "execution_count": 2,
     "metadata": {},
     "output_type": "execute_result"
    }
   ],
   "source": [
    "import sys\n",
    "sys.version"
   ]
  },
  {
   "cell_type": "code",
   "execution_count": 4,
   "id": "398a003d",
   "metadata": {},
   "outputs": [
    {
     "name": "stdout",
     "output_type": "stream",
     "text": [
      "<class 'pandas.core.frame.DataFrame'>\n",
      "Int64Index: 108105 entries, 0 to 108104\n",
      "Data columns (total 18 columns):\n",
      " #   Column                  Non-Null Count   Dtype         \n",
      "---  ------                  --------------   -----         \n",
      " 0   wr_id                   108105 non-null  int64         \n",
      " 1   status                  108105 non-null  object        \n",
      " 2   date_completed          98010 non-null   datetime64[ns]\n",
      " 3   date_requested          108105 non-null  datetime64[ns]\n",
      " 4   date_closed             98966 non-null   datetime64[ns]\n",
      " 5   fy_request              108105 non-null  int64         \n",
      " 6   fy_close                98966 non-null   float64       \n",
      " 7   role_name               100612 non-null  object        \n",
      " 8   building_name           107798 non-null  object        \n",
      " 9   b_number                107798 non-null  object        \n",
      " 10  primary_type            108105 non-null  object        \n",
      " 11  problem_type            108105 non-null  object        \n",
      " 12  pm_group                8718 non-null    object        \n",
      " 13  calendar_month_request  108105 non-null  object        \n",
      " 14  calendar_month_close    98966 non-null   object        \n",
      " 15  days_to_completion      98010 non-null   float64       \n",
      " 16  days_open               108105 non-null  int64         \n",
      " 17  benchmark               106130 non-null  float64       \n",
      "dtypes: datetime64[ns](3), float64(3), int64(3), object(9)\n",
      "memory usage: 15.7+ MB\n"
     ]
    }
   ],
   "source": [
    "scorecard_path = Path.cwd() / 'data' / 'scorecard_data.pkl'\n",
    "data = pd.read_pickle(scorecard_path)\n",
    "data.info()"
   ]
  },
  {
   "cell_type": "code",
   "execution_count": 6,
   "id": "562b1e42",
   "metadata": {},
   "outputs": [
    {
     "data": {
      "application/vnd.jupyter.widget-view+json": {
       "model_id": "e3a1888569a44c31becc1598e80374ce",
       "version_major": 2,
       "version_minor": 0
      },
      "text/plain": [
       "interactive(children=(Dropdown(description='name', options=('Jim', 'Emma', 'Bond'), value='Jim'), Output()), _…"
      ]
     },
     "metadata": {},
     "output_type": "display_data"
    }
   ],
   "source": [
    "def say_my_name(name):\n",
    "    \"\"\"\n",
    "    Print the current widget value in short sentence\n",
    "    \"\"\"\n",
    "    print(f'My name is {name}')\n",
    "     \n",
    "widgets.interact(say_my_name, name=[\"Jim\", \"Emma\", \"Bond\"]);"
   ]
  },
  {
   "cell_type": "code",
   "execution_count": null,
   "id": "d2e9f562",
   "metadata": {},
   "outputs": [],
   "source": []
  }
 ],
 "metadata": {
  "kernelspec": {
   "display_name": "BPIO",
   "language": "python",
   "name": "bpio"
  },
  "language_info": {
   "codemirror_mode": {
    "name": "ipython",
    "version": 3
   },
   "file_extension": ".py",
   "mimetype": "text/x-python",
   "name": "python",
   "nbconvert_exporter": "python",
   "pygments_lexer": "ipython3",
   "version": "3.8.5"
  },
  "toc": {
   "base_numbering": 1,
   "nav_menu": {},
   "number_sections": true,
   "sideBar": true,
   "skip_h1_title": false,
   "title_cell": "Table of Contents",
   "title_sidebar": "Contents",
   "toc_cell": false,
   "toc_position": {},
   "toc_section_display": true,
   "toc_window_display": false
  }
 },
 "nbformat": 4,
 "nbformat_minor": 5
}
