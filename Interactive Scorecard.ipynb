{
 "cells": [
  {
   "cell_type": "markdown",
   "id": "62738886",
   "metadata": {
    "toc": true
   },
   "source": [
    "<h1>Table of Contents<span class=\"tocSkip\"></span></h1>\n",
    "<div class=\"toc\"><ul class=\"toc-item\"><li><span><a href=\"#Setup\" data-toc-modified-id=\"Setup-1\"><span class=\"toc-item-num\">1&nbsp;&nbsp;</span>Setup</a></span><ul class=\"toc-item\"><li><span><a href=\"#Import-libraries-and-functions\" data-toc-modified-id=\"Import-libraries-and-functions-1.1\"><span class=\"toc-item-num\">1.1&nbsp;&nbsp;</span>Import libraries and functions</a></span></li><li><span><a href=\"#Set-some-parameters\" data-toc-modified-id=\"Set-some-parameters-1.2\"><span class=\"toc-item-num\">1.2&nbsp;&nbsp;</span>Set some parameters</a></span></li><li><span><a href=\"#Import-the-data\" data-toc-modified-id=\"Import-the-data-1.3\"><span class=\"toc-item-num\">1.3&nbsp;&nbsp;</span>Import the data</a></span></li><li><span><a href=\"#Drop-the-canceled-and-rejected-jobs\" data-toc-modified-id=\"Drop-the-canceled-and-rejected-jobs-1.4\"><span class=\"toc-item-num\">1.4&nbsp;&nbsp;</span>Drop the canceled and rejected jobs</a></span></li></ul></li><li><span><a href=\"#Decisions\" data-toc-modified-id=\"Decisions-2\"><span class=\"toc-item-num\">2&nbsp;&nbsp;</span>Decisions</a></span><ul class=\"toc-item\"><li><span><a href=\"#Decide-on-what-basis-to-assign-fiscal-year\" data-toc-modified-id=\"Decide-on-what-basis-to-assign-fiscal-year-2.1\"><span class=\"toc-item-num\">2.1&nbsp;&nbsp;</span>Decide on what basis to assign fiscal year</a></span></li><li><span><a href=\"#Decide-whether-to-look-at-PMs-or-CMs\" data-toc-modified-id=\"Decide-whether-to-look-at-PMs-or-CMs-2.2\"><span class=\"toc-item-num\">2.2&nbsp;&nbsp;</span>Decide whether to look at PMs or CMs</a></span></li><li><span><a href=\"#Check-out-the-most-numerous-problem-types\" data-toc-modified-id=\"Check-out-the-most-numerous-problem-types-2.3\"><span class=\"toc-item-num\">2.3&nbsp;&nbsp;</span>Check out the most numerous problem types</a></span></li></ul></li><li><span><a href=\"#Compute-the-KPI-and-visualize\" data-toc-modified-id=\"Compute-the-KPI-and-visualize-3\"><span class=\"toc-item-num\">3&nbsp;&nbsp;</span>Compute the KPI and visualize</a></span><ul class=\"toc-item\"><li><span><a href=\"#Aggregate-by-the-the-fiscal-year\" data-toc-modified-id=\"Aggregate-by-the-the-fiscal-year-3.1\"><span class=\"toc-item-num\">3.1&nbsp;&nbsp;</span>Aggregate by the the fiscal year</a></span></li></ul></li></ul></div>"
   ]
  },
  {
   "cell_type": "markdown",
   "id": "2a79d0b1",
   "metadata": {},
   "source": [
    "# Interactive Notebook for FMD KPIs"
   ]
  },
  {
   "cell_type": "markdown",
   "id": "e5910630",
   "metadata": {},
   "source": [
    "## Setup"
   ]
  },
  {
   "cell_type": "markdown",
   "id": "7184b2a4",
   "metadata": {},
   "source": [
    "### Import libraries and functions\n"
   ]
  },
  {
   "cell_type": "code",
   "execution_count": 1,
   "id": "77f0f162",
   "metadata": {
    "scrolled": true
   },
   "outputs": [],
   "source": [
    "# workhorse modules\n",
    "import pandas as pd\n",
    "from datetime import timedelta, datetime\n",
    "from pathlib import Path\n",
    "import ipywidgets as widgets\n",
    "from ipywidgets import interact, interactive, fixed, interact_manual\n",
    "\n",
    "# local utility functions\n",
    "from utils.general_utils import (\n",
    "    add_fiscal_year,\n",
    "    compute_is_on_time,\n",
    "    set_pd_params,\n",
    "    choose_pms_or_cms,\n",
    "    compute_pm_cm,\n",
    "    compute_pm_cm_by_month,\n",
    "    compute_kpi_table,\n",
    "    compute_kpi_table_by_month,\n",
    ")\n",
    "from utils.vis_utils import set_plot_params, pointplot_with_barplot"
   ]
  },
  {
   "cell_type": "markdown",
   "id": "7f2cb6b6",
   "metadata": {},
   "source": [
    "### Set some parameters"
   ]
  },
  {
   "cell_type": "code",
   "execution_count": 2,
   "id": "54c400e6",
   "metadata": {
    "scrolled": true
   },
   "outputs": [],
   "source": [
    "set_pd_params()\n",
    "set_plot_params(12, 6)\n",
    "pd.options.mode.chained_assignment = None  # default='warn'"
   ]
  },
  {
   "cell_type": "markdown",
   "id": "58cb88ff",
   "metadata": {},
   "source": [
    "### Import the data"
   ]
  },
  {
   "cell_type": "code",
   "execution_count": 3,
   "id": "398a003d",
   "metadata": {
    "scrolled": true
   },
   "outputs": [],
   "source": [
    "scorecard_path = Path.cwd() / \"data\" / \"scorecard_data.pkl\"\n",
    "wr_tidy = pd.read_pickle(scorecard_path)"
   ]
  },
  {
   "cell_type": "markdown",
   "id": "1779fb53",
   "metadata": {},
   "source": [
    "### Drop the canceled and rejected jobs"
   ]
  },
  {
   "cell_type": "code",
   "execution_count": 32,
   "id": "b1735c2d",
   "metadata": {},
   "outputs": [],
   "source": [
    "# drop rows that were canceled\n",
    "cond_valid = ~wr_tidy[\"status\"].isin([\"Can\", \"Rej\", \"R\"])\n",
    "\n",
    "wr_valid = wr_tidy[cond_valid]\n",
    "\n",
    "print(\n",
    "    f\"By dropping canceled and rejected work orders, we have removed {len(wr_tidy) - len(wr_valid):,} rows.\"\n",
    ")"
   ]
  },
  {
   "cell_type": "markdown",
   "id": "b573e4a0",
   "metadata": {},
   "source": [
    "## Decisions\n",
    "\n",
    "### Decide on what basis to assign fiscal year\n",
    "Use the dropdown menu to decide on what basis to assign the fiscal year. "
   ]
  },
  {
   "cell_type": "code",
   "execution_count": 17,
   "id": "cefeabef",
   "metadata": {
    "scrolled": true
   },
   "outputs": [
    {
     "data": {
      "application/vnd.jupyter.widget-view+json": {
       "model_id": "587ff0e84a4c4cd1852257f4468b4124",
       "version_major": 2,
       "version_minor": 0
      },
      "text/plain": [
       "interactive(children=(Dropdown(description='assign_fy_on', index=2, options=('Requested', 'Completed', 'Closed…"
      ]
     },
     "metadata": {},
     "output_type": "display_data"
    }
   ],
   "source": [
    "wr_fy_widget = interactive(\n",
    "    add_fiscal_year,\n",
    "    assign_fy_on=[\"Requested\", \"Completed\", \"Closed\"],\n",
    "    df=fixed(wr_valid),\n",
    ")\n",
    "wr_fy_widget"
   ]
  },
  {
   "cell_type": "code",
   "execution_count": 26,
   "id": "2d26f6d5",
   "metadata": {
    "scrolled": true
   },
   "outputs": [],
   "source": [
    "fy_assignment = wr_fy_widget.children[0].value\n",
    "wr_fy = wr_fy_widget.result"
   ]
  },
  {
   "cell_type": "markdown",
   "id": "ba67c760",
   "metadata": {},
   "source": [
    "### Decide whether to look at PMs or CMs"
   ]
  },
  {
   "cell_type": "code",
   "execution_count": 27,
   "id": "054fc3be",
   "metadata": {
    "scrolled": true
   },
   "outputs": [
    {
     "data": {
      "application/vnd.jupyter.widget-view+json": {
       "model_id": "9d916b71f8f04becae7ec150c08bb054",
       "version_major": 2,
       "version_minor": 0
      },
      "text/plain": [
       "interactive(children=(Dropdown(description='selection', options=('PMs', 'CMs', 'All WRs'), value='PMs'), Outpu…"
      ]
     },
     "metadata": {},
     "output_type": "display_data"
    }
   ],
   "source": [
    "wr_typed_widget = interactive(\n",
    "    choose_pms_or_cms,\n",
    "    selection=[\"PMs\", \"CMs\", \"All WRs\"],\n",
    "    df=fixed(wr_fy),\n",
    ")\n",
    "\n",
    "wr_typed_widget"
   ]
  },
  {
   "cell_type": "code",
   "execution_count": 40,
   "id": "159d90ff",
   "metadata": {
    "scrolled": true
   },
   "outputs": [
    {
     "name": "stdout",
     "output_type": "stream",
     "text": [
      "The dataframe containing CMs has 87,950 rows.\n"
     ]
    }
   ],
   "source": [
    "selection = wr_typed_widget.children[0].value\n",
    "wr_typed = wr_typed_widget.result\n",
    "print(f\"The dataframe containing {selection} has {len(wr_typed):,} rows.\")"
   ]
  },
  {
   "cell_type": "markdown",
   "id": "44aa9bb8",
   "metadata": {},
   "source": [
    "### Check out the most numerous problem types\n",
    "This helps us do a sanity check and understand what data we're looking at."
   ]
  },
  {
   "cell_type": "code",
   "execution_count": 41,
   "id": "522758f8",
   "metadata": {
    "scrolled": true
   },
   "outputs": [
    {
     "data": {
      "text/plain": [
       "HVAC              13555\n",
       "OTHER             13034\n",
       "SERV/CUSTODIAL     7965\n",
       "ELEC/LIGHT         5510\n",
       "_DELIVERY          3962\n",
       "PLUMB/OTHER        3955\n",
       "Name: problem_type, dtype: int64"
      ]
     },
     "execution_count": 41,
     "metadata": {},
     "output_type": "execute_result"
    }
   ],
   "source": [
    "wr_typed[\"problem_type\"].value_counts().nlargest(6)"
   ]
  },
  {
   "cell_type": "markdown",
   "id": "8e092496",
   "metadata": {},
   "source": [
    "## Compute the KPI and visualize"
   ]
  },
  {
   "cell_type": "markdown",
   "id": "9e98b668",
   "metadata": {},
   "source": [
    "### Aggregate by the the fiscal year"
   ]
  },
  {
   "cell_type": "code",
   "execution_count": 42,
   "id": "32b1443b",
   "metadata": {
    "scrolled": true
   },
   "outputs": [
    {
     "data": {
      "text/html": [
       "<div>\n",
       "<style scoped>\n",
       "    .dataframe tbody tr th:only-of-type {\n",
       "        vertical-align: middle;\n",
       "    }\n",
       "\n",
       "    .dataframe tbody tr th {\n",
       "        vertical-align: top;\n",
       "    }\n",
       "\n",
       "    .dataframe thead th {\n",
       "        text-align: right;\n",
       "    }\n",
       "</style>\n",
       "<table border=\"1\" class=\"dataframe\">\n",
       "  <thead>\n",
       "    <tr style=\"text-align: right;\">\n",
       "      <th></th>\n",
       "      <th>percent_CMs_on_time</th>\n",
       "      <th>total_CMs</th>\n",
       "    </tr>\n",
       "    <tr>\n",
       "      <th>fiscal_year</th>\n",
       "      <th></th>\n",
       "      <th></th>\n",
       "    </tr>\n",
       "  </thead>\n",
       "  <tbody>\n",
       "    <tr>\n",
       "      <th>2014</th>\n",
       "      <td>75.36</td>\n",
       "      <td>9849</td>\n",
       "    </tr>\n",
       "    <tr>\n",
       "      <th>2015</th>\n",
       "      <td>76.56</td>\n",
       "      <td>13825</td>\n",
       "    </tr>\n",
       "    <tr>\n",
       "      <th>2016</th>\n",
       "      <td>77.98</td>\n",
       "      <td>15312</td>\n",
       "    </tr>\n",
       "    <tr>\n",
       "      <th>2017</th>\n",
       "      <td>69.85</td>\n",
       "      <td>15052</td>\n",
       "    </tr>\n",
       "    <tr>\n",
       "      <th>2018</th>\n",
       "      <td>68.21</td>\n",
       "      <td>12943</td>\n",
       "    </tr>\n",
       "    <tr>\n",
       "      <th>2019</th>\n",
       "      <td>50.27</td>\n",
       "      <td>9012</td>\n",
       "    </tr>\n",
       "    <tr>\n",
       "      <th>2020</th>\n",
       "      <td>47.87</td>\n",
       "      <td>7668</td>\n",
       "    </tr>\n",
       "    <tr>\n",
       "      <th>2021</th>\n",
       "      <td>42.18</td>\n",
       "      <td>4289</td>\n",
       "    </tr>\n",
       "  </tbody>\n",
       "</table>\n",
       "</div>"
      ],
      "text/plain": [
       "             percent_CMs_on_time  total_CMs\n",
       "fiscal_year                                \n",
       "2014                       75.36       9849\n",
       "2015                       76.56      13825\n",
       "2016                       77.98      15312\n",
       "2017                       69.85      15052\n",
       "2018                       68.21      12943\n",
       "2019                       50.27       9012\n",
       "2020                       47.87       7668\n",
       "2021                       42.18       4289"
      ]
     },
     "execution_count": 42,
     "metadata": {},
     "output_type": "execute_result"
    }
   ],
   "source": [
    "compliance = compute_kpi_table(\n",
    "    wr_typed,\n",
    "    f\"percent_{selection}_on_time\",\n",
    "    f\"total_{selection}\",\n",
    "    grouping_var=\"fiscal_year\",\n",
    ")\n",
    "compliance"
   ]
  },
  {
   "cell_type": "code",
   "execution_count": 43,
   "id": "4611ca75",
   "metadata": {
    "scrolled": false
   },
   "outputs": [
    {
     "data": {
      "image/png": "[encoded data removed]",
      "text/plain": [
       "<Figure size 864x432 with 2 Axes>"
      ]
     },
     "metadata": {},
     "output_type": "display_data"
    }
   ],
   "source": [
    "pointplot_with_barplot(\n",
    "    compliance,\n",
    "    x=compliance.index,\n",
    "    point_y=f\"percent_{selection}_on_time\",\n",
    "    bar_y=f\"total_{selection}\",\n",
    "    xlabel=f\"Fiscal Year {fy_assignment}\",\n",
    "    ylabel_point=f\"Percent {selection} On Time (Red line)\",\n",
    "    ylabel_bar=f\"Total {selection} (Grey bars)\",\n",
    "    title=f\"Percent of {selection} Completed On Time\",\n",
    ")"
   ]
  },
  {
   "cell_type": "code",
   "execution_count": null,
   "id": "1722fd3c",
   "metadata": {},
   "outputs": [],
   "source": []
  }
 ],
 "metadata": {
  "kernelspec": {
   "display_name": "BPIO",
   "language": "python",
   "name": "bpio"
  },
  "language_info": {
   "codemirror_mode": {
    "name": "ipython",
    "version": 3
   },
   "file_extension": ".py",
   "mimetype": "text/x-python",
   "name": "python",
   "nbconvert_exporter": "python",
   "pygments_lexer": "ipython3",
   "version": "3.8.5"
  },
  "toc": {
   "base_numbering": 1,
   "nav_menu": {},
   "number_sections": true,
   "sideBar": true,
   "skip_h1_title": true,
   "title_cell": "Table of Contents",
   "title_sidebar": "Contents",
   "toc_cell": true,
   "toc_position": {
    "height": "calc(100% - 180px)",
    "left": "10px",
    "top": "150px",
    "width": "300.66px"
   },
   "toc_section_display": true,
   "toc_window_display": true
  }
 },
 "nbformat": 4,
 "nbformat_minor": 5
}
