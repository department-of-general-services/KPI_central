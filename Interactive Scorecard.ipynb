{
 "cells": [
  {
   "cell_type": "code",
   "execution_count": null,
   "id": "77e1ce00",
   "metadata": {},
   "outputs": [],
   "source": [
    "# workhorse modules\n",
    "import pandas as pd\n",
    "from datetime import timedelta, datetime\n",
    "import re\n",
    "from pathlib import Path\n",
    "import seaborn as sns\n",
    "import matplotlib.pyplot as plt\n",
    "\n",
    "# local utility functions\n",
    "from utils.general_utils import (\n",
    "    add_fiscal_year,\n",
    "    compute_is_on_time,\n",
    "    set_pd_params,\n",
    "    tidy_up_df,\n",
    "    cast_dtypes,\n",
    "    compute_pm_cm,\n",
    "    compute_pm_cm_by_month,\n",
    "    compute_kpi_table,\n",
    "    compute_kpi_table_by_month,\n",
    ")\n",
    "from utils.sql_utils import mssql_engine, get_data_from_archibus\n",
    "from utils.vis_utils import set_plot_params, pointplot_with_barplot\n",
    "from utils.anonymization import split_names, replace_names"
   ]
  }
 ],
 "metadata": {
  "kernelspec": {
   "display_name": "Python 3",
   "language": "python",
   "name": "python3"
  },
  "language_info": {
   "codemirror_mode": {
    "name": "ipython",
    "version": 3
   },
   "file_extension": ".py",
   "mimetype": "text/x-python",
   "name": "python",
   "nbconvert_exporter": "python",
   "pygments_lexer": "ipython3",
   "version": "3.8.5"
  }
 },
 "nbformat": 4,
 "nbformat_minor": 5
}
