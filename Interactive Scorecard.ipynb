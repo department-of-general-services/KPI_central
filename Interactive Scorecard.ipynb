{
 "cells": [
  {
   "cell_type": "markdown",
   "id": "bfd9c010",
   "metadata": {},
   "source": [
    "# Interactive Notebook for FMD KPIs"
   ]
  },
  {
   "cell_type": "markdown",
   "id": "c3d593ad",
   "metadata": {},
   "source": [
    "## Setup"
   ]
  },
  {
   "cell_type": "code",
   "execution_count": 14,
   "id": "77f0f162",
   "metadata": {},
   "outputs": [],
   "source": [
    "# workhorse modules\n",
    "import pandas as pd\n",
    "from datetime import timedelta, datetime\n",
    "from pathlib import Path\n",
    "import ipywidgets as widgets\n",
    "from ipywidgets import interact, interactive, fixed, interact_manual\n",
    "\n",
    "# local utility functions\n",
    "from utils.general_utils import (\n",
    "    add_fiscal_year,\n",
    "    compute_is_on_time,\n",
    "    set_pd_params,\n",
    "    compute_pm_cm,\n",
    "    compute_pm_cm_by_month,\n",
    "    compute_kpi_table,\n",
    "    compute_kpi_table_by_month,\n",
    ")\n",
    "from utils.vis_utils import set_plot_params, pointplot_with_barplot"
   ]
  },
  {
   "cell_type": "code",
   "execution_count": 60,
   "id": "54c400e6",
   "metadata": {},
   "outputs": [],
   "source": [
    "set_pd_params()\n",
    "set_plot_params(12, 6)"
   ]
  },
  {
   "cell_type": "code",
   "execution_count": 61,
   "id": "398a003d",
   "metadata": {},
   "outputs": [],
   "source": [
    "scorecard_path = Path.cwd() / \"data\" / \"scorecard_data.pkl\"\n",
    "wr_tidy = pd.read_pickle(scorecard_path)"
   ]
  },
  {
   "cell_type": "code",
   "execution_count": 70,
   "id": "0b4218a8",
   "metadata": {},
   "outputs": [
    {
     "name": "stdout",
     "output_type": "stream",
     "text": [
      "By dropping canceled and rejected work orders, we have removed 4,029 rows.\n"
     ]
    }
   ],
   "source": [
    "# drop rows that were canceled\n",
    "cond_valid = ~wr_tidy[\"status\"].isin([\"Can\", \"Rej\", \"R\"])\n",
    "\n",
    "wr_valid = wr_tidy[cond_valid]\n",
    "\n",
    "print(\n",
    "    f\"By dropping canceled and rejected work orders, we have removed {len(wr_tidy) - len(wr_valid):,} rows.\"\n",
    ")"
   ]
  },
  {
   "cell_type": "markdown",
   "id": "9564d101",
   "metadata": {},
   "source": [
    "## Decide on what basis to assign fiscal year"
   ]
  },
  {
   "cell_type": "code",
   "execution_count": 71,
   "id": "4e299342",
   "metadata": {},
   "outputs": [
    {
     "data": {
      "application/vnd.jupyter.widget-view+json": {
       "model_id": "e56913b5767c4cf0a90b624ecac92a75",
       "version_major": 2,
       "version_minor": 0
      },
      "text/plain": [
       "interactive(children=(Dropdown(description='assign_fy_on', index=2, options=('request', 'completion', 'closure…"
      ]
     },
     "metadata": {},
     "output_type": "display_data"
    }
   ],
   "source": [
    "# add 'fiscal_year' column based on date_closed\n",
    "wr_fy = interactive(\n",
    "    add_fiscal_year,\n",
    "    assign_fy_on=[\"request\", \"completion\", \"closure\"],\n",
    "    df=fixed(wr_valid),\n",
    ")\n",
    "wr_fy"
   ]
  },
  {
   "cell_type": "code",
   "execution_count": 82,
   "id": "96733695",
   "metadata": {},
   "outputs": [],
   "source": [
    "result = wr_fy.result"
   ]
  },
  {
   "cell_type": "code",
   "execution_count": 83,
   "id": "642fa32d",
   "metadata": {},
   "outputs": [
    {
     "name": "stdout",
     "output_type": "stream",
     "text": [
      "The filtered PMs dataframe has 9,595 rows.\n"
     ]
    }
   ],
   "source": [
    "wr_pm = result.copy()\n",
    "\n",
    "# this defines which problem types are considered PMs\n",
    "pm_list = [\n",
    "    \"BUILDING INTERIOR INSPECTION\",\n",
    "    \"BUILDING PM\",\n",
    "    \"HVAC|PM\",\n",
    "    \"INSPECTION\",\n",
    "    \"PREVENTIVE MAINT\",\n",
    "]\n",
    "\n",
    "# filter data to PM types only\n",
    "cond_pm = wr_pm[\"problem_type\"].isin(pm_list)\n",
    "\n",
    "# apply filter conditions\n",
    "wr_pm = wr_pm[cond_pm]\n",
    "\n",
    "# the benchmark for all PMs is 21 days\n",
    "wr_pm[\"benchmark\"] = 21\n",
    "\n",
    "print(f\"The filtered PMs dataframe has {wr_pm.shape[0]:,} rows.\")"
   ]
  },
  {
   "cell_type": "code",
   "execution_count": 84,
   "id": "0997551b",
   "metadata": {},
   "outputs": [],
   "source": [
    "# add \"is_on_time\" column with performance data\n",
    "wr_pm = wr_pm.dropna(subset=[\"days_to_completion\", \"benchmark\"])\n",
    "pms_on_time = wr_pm.apply(compute_is_on_time, axis=1)"
   ]
  },
  {
   "cell_type": "code",
   "execution_count": 85,
   "id": "393332fc",
   "metadata": {},
   "outputs": [
    {
     "data": {
      "text/html": [
       "<div>\n",
       "<style scoped>\n",
       "    .dataframe tbody tr th:only-of-type {\n",
       "        vertical-align: middle;\n",
       "    }\n",
       "\n",
       "    .dataframe tbody tr th {\n",
       "        vertical-align: top;\n",
       "    }\n",
       "\n",
       "    .dataframe thead th {\n",
       "        text-align: right;\n",
       "    }\n",
       "</style>\n",
       "<table border=\"1\" class=\"dataframe\">\n",
       "  <thead>\n",
       "    <tr style=\"text-align: right;\">\n",
       "      <th></th>\n",
       "      <th>percent_PMs_on_time</th>\n",
       "      <th>total_PMs</th>\n",
       "    </tr>\n",
       "    <tr>\n",
       "      <th>fiscal_year</th>\n",
       "      <th></th>\n",
       "      <th></th>\n",
       "    </tr>\n",
       "  </thead>\n",
       "  <tbody>\n",
       "    <tr>\n",
       "      <th>2015</th>\n",
       "      <td>35.87</td>\n",
       "      <td>92</td>\n",
       "    </tr>\n",
       "    <tr>\n",
       "      <th>2016</th>\n",
       "      <td>77.46</td>\n",
       "      <td>954</td>\n",
       "    </tr>\n",
       "    <tr>\n",
       "      <th>2017</th>\n",
       "      <td>54.82</td>\n",
       "      <td>1432</td>\n",
       "    </tr>\n",
       "    <tr>\n",
       "      <th>2018</th>\n",
       "      <td>75.47</td>\n",
       "      <td>2087</td>\n",
       "    </tr>\n",
       "    <tr>\n",
       "      <th>2019</th>\n",
       "      <td>51.04</td>\n",
       "      <td>1585</td>\n",
       "    </tr>\n",
       "    <tr>\n",
       "      <th>2020</th>\n",
       "      <td>36.45</td>\n",
       "      <td>1402</td>\n",
       "    </tr>\n",
       "    <tr>\n",
       "      <th>2021</th>\n",
       "      <td>41.84</td>\n",
       "      <td>674</td>\n",
       "    </tr>\n",
       "  </tbody>\n",
       "</table>\n",
       "</div>"
      ],
      "text/plain": [
       "             percent_PMs_on_time  total_PMs\n",
       "fiscal_year                                \n",
       "2015                       35.87         92\n",
       "2016                       77.46        954\n",
       "2017                       54.82       1432\n",
       "2018                       75.47       2087\n",
       "2019                       51.04       1585\n",
       "2020                       36.45       1402\n",
       "2021                       41.84        674"
      ]
     },
     "execution_count": 85,
     "metadata": {},
     "output_type": "execute_result"
    }
   ],
   "source": [
    "pm_compliance = compute_kpi_table(\n",
    "    pms_on_time, \"percent_PMs_on_time\", \"total_PMs\", grouping_var=\"fiscal_year\"\n",
    ")\n",
    "pm_compliance"
   ]
  },
  {
   "cell_type": "code",
   "execution_count": 86,
   "id": "6847e039",
   "metadata": {
    "scrolled": true
   },
   "outputs": [
    {
     "data": {
      "image/png": "[encoded data removed]",
      "text/plain": [
       "<Figure size 864x432 with 2 Axes>"
      ]
     },
     "metadata": {},
     "output_type": "display_data"
    }
   ],
   "source": [
    "pointplot_with_barplot(\n",
    "    pm_compliance,\n",
    "    x=pm_compliance.index,\n",
    "    point_y=\"percent_PMs_on_time\",\n",
    "    bar_y=\"total_PMs\",\n",
    "    ymax_bar=2_500,\n",
    "    xlabel=\"Fiscal Year Closed\",\n",
    "    ylabel_point=\"Percent CMs On Time (Red line)\",\n",
    "    ylabel_bar=\"Total CMs (Grey bars)\",\n",
    "    title=\"Percent of PMs Completed On Time By Fiscal Year\",\n",
    ")"
   ]
  },
  {
   "cell_type": "code",
   "execution_count": null,
   "id": "0131d9e6",
   "metadata": {},
   "outputs": [],
   "source": []
  },
  {
   "cell_type": "code",
   "execution_count": null,
   "id": "d8307646",
   "metadata": {},
   "outputs": [],
   "source": []
  }
 ],
 "metadata": {
  "kernelspec": {
   "display_name": "BPIO",
   "language": "python",
   "name": "bpio"
  },
  "language_info": {
   "codemirror_mode": {
    "name": "ipython",
    "version": 3
   },
   "file_extension": ".py",
   "mimetype": "text/x-python",
   "name": "python",
   "nbconvert_exporter": "python",
   "pygments_lexer": "ipython3",
   "version": "3.8.5"
  },
  "toc": {
   "base_numbering": 1,
   "nav_menu": {},
   "number_sections": true,
   "sideBar": true,
   "skip_h1_title": true,
   "title_cell": "Table of Contents",
   "title_sidebar": "Contents",
   "toc_cell": false,
   "toc_position": {
    "height": "calc(100% - 180px)",
    "left": "10px",
    "top": "150px",
    "width": "300.66px"
   },
   "toc_section_display": true,
   "toc_window_display": true
  }
 },
 "nbformat": 4,
 "nbformat_minor": 5
}
